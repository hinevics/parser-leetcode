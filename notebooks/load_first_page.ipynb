{
 "cells": [
  {
   "cell_type": "code",
   "execution_count": 5,
   "metadata": {
    "tags": []
   },
   "outputs": [],
   "source": [
    "import pandas as pd\n",
    "import requests\n",
    "from bs4 import BeautifulSoup\n",
    "import re\n",
    "from selenium import webdriver\n",
    "from selenium.webdriver.firefox.options import Options as FirefoxOptions\n",
    "from selenium.webdriver.firefox.service import Service\n",
    "from urllib.parse import urlencode, urlsplit, urlunsplit\n",
    "import time\n",
    "import logging"
   ]
  },
  {
   "cell_type": "code",
   "execution_count": 6,
   "metadata": {
    "collapsed": false,
    "jupyter": {
     "outputs_hidden": false
    },
    "tags": []
   },
   "outputs": [],
   "source": [
    "logger = logging.getLogger('my_logger')\n",
    "logger.setLevel(logging.INFO)\n",
    "console_handler = logging.StreamHandler()\n",
    "formatter = logging.Formatter('%(asctime)s - %(name)s - %(levelname)s - %(message)s')\n",
    "console_handler.setFormatter(formatter)\n",
    "logger.addHandler(console_handler)"
   ]
  },
  {
   "cell_type": "code",
   "execution_count": 7,
   "metadata": {
    "collapsed": false,
    "jupyter": {
     "outputs_hidden": false
    },
    "tags": []
   },
   "outputs": [],
   "source": [
    "ALG_URL = r'https://leetcode.com/problemset/algorithms'\n",
    "URL = r'https://leetcode.com'\n",
    "MAX_PAGE = 24\n",
    "MIN_PAGE = 1\n",
    "REG_NUMBER_ALG = r'\\d+(?=\\.)'\n",
    "REG_NAME_ALG = r'[a-zA-Z]+'\n",
    "HTML_CLASS = r'odd:bg-layer-1 even:bg-overlay-1 dark:odd:bg-dark-layer-bg dark:even:bg-dark-fill-4'\n",
    "EXECUTABLE_PATH = r'/home/khinevich/myproject/projects/parsers/leetcode/parser-leetcode/chromedriver/geckodriver'\n",
    "PATH_PAGES = r''"
   ]
  },
  {
   "cell_type": "code",
   "execution_count": 13,
   "metadata": {
    "collapsed": false,
    "jupyter": {
     "outputs_hidden": false
    },
    "tags": []
   },
   "outputs": [],
   "source": [
    "options = FirefoxOptions()\n",
    "options.add_argument('--headless')\n",
    "firefox_service = Service(EXECUTABLE_PATH)\n",
    "driver = webdriver.Firefox(\n",
    "    service=firefox_service,\n",
    "    # options=options\n",
    ")"
   ]
  },
  {
   "cell_type": "code",
   "execution_count": 9,
   "metadata": {
    "collapsed": false,
    "jupyter": {
     "outputs_hidden": false
    },
    "tags": []
   },
   "outputs": [],
   "source": [
    "# d.get(r'https://leetcode.com/problemset/algorithms/?page=2')\n",
    "#\n",
    "# html = d.page_source\n",
    "# s2 = BeautifulSoup(html, 'html.parser')\n",
    "# d2 = s2.find_all(class_=HTML_CLASS)\n",
    "# d2[0].find('a')\n"
   ]
  },
  {
   "cell_type": "code",
   "execution_count": 10,
   "metadata": {
    "collapsed": false,
    "jupyter": {
     "outputs_hidden": false
    },
    "tags": []
   },
   "outputs": [],
   "source": [
    "# url_parts = list(urlsplit(ALG_URL))\n",
    "# query = dict(urlsplit(ALG_URL).query)\n",
    "# query['page'] = '2'\n",
    "# url_parts[3] = urlencode(query)\n",
    "# new_url = urlunsplit(url_parts)\n",
    "# new_url"
   ]
  },
  {
   "cell_type": "code",
   "execution_count": 11,
   "metadata": {
    "tags": []
   },
   "outputs": [],
   "source": [
    "def parser_divs(content, class_):\n",
    "    soup = BeautifulSoup(content, 'html.parser')\n",
    "    divs = soup.find_all(class_=class_)\n",
    "    return divs"
   ]
  },
  {
   "cell_type": "code",
   "execution_count": 12,
   "metadata": {
    "collapsed": false,
    "jupyter": {
     "outputs_hidden": false
    },
    "tags": []
   },
   "outputs": [],
   "source": [
    "def create_url_wit_page(url_: str, page_: int):\n",
    "    url_parts = list(urlsplit(url_))\n",
    "    query = dict(urlsplit(url_).query)\n",
    "    query['page'] = f'{page_}'\n",
    "    url_parts[3] = urlencode(query)\n",
    "    new_url = urlunsplit(url_parts)\n",
    "    return new_url"
   ]
  },
  {
   "cell_type": "markdown",
   "metadata": {},
   "source": [
    "---"
   ]
  },
  {
   "cell_type": "markdown",
   "metadata": {},
   "source": [
    "# Для теста"
   ]
  },
  {
   "cell_type": "code",
   "execution_count": 15,
   "metadata": {
    "tags": []
   },
   "outputs": [
    {
     "name": "stdout",
     "output_type": "stream",
     "text": [
      "https://leetcode.com/problemset/algorithms?page=1\n"
     ]
    }
   ],
   "source": [
    "url = create_url_wit_page(ALG_URL, page_=1)\n",
    "print(url)"
   ]
  },
  {
   "cell_type": "code",
   "execution_count": 16,
   "metadata": {
    "tags": []
   },
   "outputs": [],
   "source": [
    "driver.get(url)"
   ]
  },
  {
   "cell_type": "code",
   "execution_count": 17,
   "metadata": {
    "tags": []
   },
   "outputs": [],
   "source": [
    "content = driver.page_source"
   ]
  },
  {
   "cell_type": "code",
   "execution_count": 23,
   "metadata": {
    "tags": []
   },
   "outputs": [
    {
     "name": "stdout",
     "output_type": "stream",
     "text": [
      "Сколько алгоритмов на одной странице:  51\n"
     ]
    }
   ],
   "source": [
    "divs = parser_divs(content, class_=HTML_CLASS)\n",
    "print('Сколько алгоритмов на одной странице: ', len(divs))"
   ]
  },
  {
   "cell_type": "code",
   "execution_count": 32,
   "metadata": {
    "tags": []
   },
   "outputs": [
    {
     "name": "stdout",
     "output_type": "stream",
     "text": [
      "Ссылка на алгоритм: https://leetcode.com/problems/two-sum/\n"
     ]
    }
   ],
   "source": [
    "alg_url = URL + divs[1].find('a')['href']\n",
    "print(f'Ссылка на алгоритм: {alg_url}')"
   ]
  },
  {
   "cell_type": "code",
   "execution_count": 37,
   "metadata": {
    "tags": []
   },
   "outputs": [
    {
     "name": "stdout",
     "output_type": "stream",
     "text": [
      "Название алгоритма:  Two Sum\n"
     ]
    }
   ],
   "source": [
    "text = divs[1].find('a').text\n",
    "find = re.findall(pattern=REG_NAME_ALG, string=text)\n",
    "alg_name = ' '.join(re.findall(pattern=REG_NAME_ALG, string=text))\n",
    "print('Название алгоритма: ', alg_name)"
   ]
  },
  {
   "cell_type": "code",
   "execution_count": 39,
   "metadata": {
    "tags": []
   },
   "outputs": [
    {
     "name": "stdout",
     "output_type": "stream",
     "text": [
      "Номер алгоритма: 1\n"
     ]
    }
   ],
   "source": [
    "search = re.search(pattern=REG_NUMBER_ALG, string=text)\n",
    "if search:\n",
    "    alg_number = search.group()\n",
    "else:\n",
    "    alg_number = None\n",
    "print(f'Номер алгоритма: {alg_number}')"
   ]
  },
  {
   "cell_type": "code",
   "execution_count": 40,
   "metadata": {
    "tags": []
   },
   "outputs": [],
   "source": [
    "# перехожу на страницу алгорима\n",
    "driver.get(alg_url)"
   ]
  },
  {
   "cell_type": "code",
   "execution_count": 42,
   "metadata": {
    "tags": []
   },
   "outputs": [],
   "source": [
    "# Контент страницы алгорима\n",
    "alg_content = driver.page_source"
   ]
  },
  {
   "cell_type": "code",
   "execution_count": 45,
   "metadata": {
    "tags": []
   },
   "outputs": [
    {
     "name": "stdout",
     "output_type": "stream",
     "text": [
      "Число div с классом _1l1MA: 1\n"
     ]
    }
   ],
   "source": [
    "alg_divs = parser_divs(content=alg_content, class_='_1l1MA')\n",
    "print('Число div с классом _1l1MA:', len(alg_divs))"
   ]
  },
  {
   "cell_type": "code",
   "execution_count": 48,
   "metadata": {
    "tags": []
   },
   "outputs": [
    {
     "name": "stdout",
     "output_type": "stream",
     "text": [
      "Given an array of integers nums and an integer target, return indices of the two numbers such that they add up to target.\n",
      "You may assume that each input would have exactly one solution, and you may not use the same element twice.\n",
      "You can return the answer in any order.\n",
      " \n",
      "Example 1:\n",
      "Input: nums = [2,7,11,15], target = 9\n",
      "Output: [0,1]\n",
      "Explanation: Because nums[0] + nums[1] == 9, we return [0, 1].\n",
      "\n",
      "Example 2:\n",
      "Input: nums = [3,2,4], target = 6\n",
      "Output: [1,2]\n",
      "\n",
      "Example 3:\n",
      "Input: nums = [3,3], target = 6\n",
      "Output: [0,1]\n",
      "\n",
      " \n",
      "Constraints:\n",
      "\n",
      "2 <= nums.length <= 104\n",
      "-109 <= nums[i] <= 109\n",
      "-109 <= target <= 109\n",
      "Only one valid answer exists.\n",
      "\n",
      " \n",
      "Follow-up: Can you come up with an algorithm that is less than O(n2) time complexity?\n"
     ]
    }
   ],
   "source": [
    "desc_alg = alg_divs[0].text\n",
    "print(desc_alg)"
   ]
  },
  {
   "cell_type": "code",
   "execution_count": 50,
   "metadata": {
    "tags": []
   },
   "outputs": [],
   "source": [
    "# раздел с решеним открывается"
   ]
  },
  {
   "cell_type": "code",
   "execution_count": 53,
   "metadata": {
    "tags": []
   },
   "outputs": [
    {
     "data": {
      "text/plain": [
       "'https://leetcode.com/problems/two-sum/solutions/'"
      ]
     },
     "execution_count": 53,
     "metadata": {},
     "output_type": "execute_result"
    }
   ],
   "source": [
    "alg_url + 'solutions/'"
   ]
  },
  {
   "cell_type": "code",
   "execution_count": 54,
   "metadata": {
    "tags": []
   },
   "outputs": [],
   "source": [
    "driver.get(alg_url + 'solutions/')"
   ]
  },
  {
   "cell_type": "code",
   "execution_count": 57,
   "metadata": {
    "tags": []
   },
   "outputs": [],
   "source": [
    "content_sols = driver.page_source"
   ]
  },
  {
   "cell_type": "code",
   "execution_count": 62,
   "metadata": {
    "tags": []
   },
   "outputs": [],
   "source": [
    "class_sol = r'flex min-w-0 max-w-full items-center gap-2'"
   ]
  },
  {
   "cell_type": "code",
   "execution_count": 63,
   "metadata": {
    "tags": []
   },
   "outputs": [
    {
     "name": "stdout",
     "output_type": "stream",
     "text": [
      "15\n"
     ]
    }
   ],
   "source": [
    "divs_sols = parser_divs(content_sols, class_sol)\n",
    "print(len(divs_sols))"
   ]
  },
  {
   "cell_type": "code",
   "execution_count": 74,
   "metadata": {
    "tags": []
   },
   "outputs": [
    {
     "data": {
      "text/plain": [
       "'Python🔥Java🔥 C++🔥|| Simple Solution'"
      ]
     },
     "execution_count": 74,
     "metadata": {},
     "output_type": "execute_result"
    }
   ],
   "source": [
    "divs_sols[0].text"
   ]
  },
  {
   "cell_type": "code",
   "execution_count": 80,
   "metadata": {
    "tags": []
   },
   "outputs": [],
   "source": [
    "divs_sols[0].find('div', {'class': r'flex items-center gap-1'})"
   ]
  },
  {
   "cell_type": "code",
   "execution_count": 85,
   "metadata": {
    "tags": []
   },
   "outputs": [
    {
     "name": "stdout",
     "output_type": "stream",
     "text": [
      "https://leetcode.com/problems/two-sum/solutions/3543160/python-java-c-simple-solution/\n"
     ]
    }
   ],
   "source": [
    "path_sol_1 = 'https://leetcode.com' + divs_sols[0].a['href']\n",
    "print(f'{path_sol_1}')"
   ]
  },
  {
   "cell_type": "code",
   "execution_count": 86,
   "metadata": {
    "tags": []
   },
   "outputs": [],
   "source": [
    "driver.get(path_sol_1)"
   ]
  },
  {
   "cell_type": "code",
   "execution_count": 90,
   "metadata": {
    "tags": []
   },
   "outputs": [
    {
     "data": {
      "text/plain": [
       "1"
      ]
     },
     "execution_count": 90,
     "metadata": {},
     "output_type": "execute_result"
    }
   ],
   "source": [
    "content_page_sol = driver.page_source\n",
    "divs_sol_page = parser_divs(content_page_sol, class_='break-words')\n",
    "len(divs_sol_page)"
   ]
  },
  {
   "cell_type": "code",
   "execution_count": 92,
   "metadata": {
    "tags": []
   },
   "outputs": [
    {
     "name": "stdout",
     "output_type": "stream",
     "text": [
      "Please UPVOTE 👍\n",
      "!! BIG ANNOUNCEMENT !!\n",
      "I am currently Giving away my premium content well-structured assignments and study materials to clear interviews at top companies related to computer science and data science to my current Subscribers this week. This is Only for first 10,000 subscribers. DON'T FORGET to Subscribe\n",
      "Click this link to Subscribe 👉https://www.youtube.com/@techwired8/?sub_confirmation=1\n",
      "Let's connect!\n",
      "Discord 👉 https://discord.gg/gJDCyeGh6X\n",
      "Twitter 👉 https://twitter.com/TechWired8\n",
      "Happy Learning, Cheers Guys 😊\n",
      "\n",
      "Recursion Explained (How to think recursively)\n",
      "\n",
      "PythonJavaC++class Solution:\n",
      "    def twoSum(self, nums: List[int], target: int) -> List[int]:\n",
      "        \n",
      "        d = {}\n",
      "        for i, j in enumerate(nums):\n",
      "            r = target - j\n",
      "            if r in d: return [d[r], i]\n",
      "            d[j] = i\n",
      "\t\t\n",
      "\t\t# An Upvote will be encouraging\n",
      "\n",
      "Please UPVOTE 👍\n"
     ]
    }
   ],
   "source": [
    "print(divs_sol_page[0].text)"
   ]
  },
  {
   "cell_type": "code",
   "execution_count": 95,
   "metadata": {
    "tags": []
   },
   "outputs": [
    {
     "name": "stdout",
     "output_type": "stream",
     "text": [
      "1\n"
     ]
    }
   ],
   "source": [
    "sol_code = parser_divs(content_page_sol, class_='group relative')\n",
    "print(len(sol_code))"
   ]
  },
  {
   "cell_type": "code",
   "execution_count": 97,
   "metadata": {
    "tags": []
   },
   "outputs": [
    {
     "name": "stdout",
     "output_type": "stream",
     "text": [
      "class Solution:\n",
      "    def twoSum(self, nums: List[int], target: int) -> List[int]:\n",
      "        \n",
      "        d = {}\n",
      "        for i, j in enumerate(nums):\n",
      "            r = target - j\n",
      "            if r in d: return [d[r], i]\n",
      "            d[j] = i\n",
      "\t\t\n",
      "\t\t# An Upvote will be encouraging\n"
     ]
    }
   ],
   "source": [
    "print(sol_code[0].text)"
   ]
  },
  {
   "cell_type": "code",
   "execution_count": 108,
   "metadata": {
    "tags": []
   },
   "outputs": [
    {
     "data": {
      "text/plain": [
       "8"
      ]
     },
     "execution_count": 108,
     "metadata": {},
     "output_type": "execute_result"
    }
   ],
   "source": [
    "tags = parser_divs(content=content_page_sol, class_='flex flex-grow flex-nowrap items-center gap-2 overflow-hidden my-1')\n",
    "len(tags[0].find_all('div'))"
   ]
  },
  {
   "cell_type": "code",
   "execution_count": 114,
   "metadata": {
    "tags": []
   },
   "outputs": [
    {
     "data": {
      "text/plain": [
       "{'1+', 'Array', 'C++', 'Java', 'Python3'}"
      ]
     },
     "execution_count": 114,
     "metadata": {},
     "output_type": "execute_result"
    }
   ],
   "source": [
    "# получаю все теги\n",
    "{t.text for t in tags[0].find_all('div')}"
   ]
  },
  {
   "cell_type": "markdown",
   "metadata": {},
   "source": [
    "---"
   ]
  },
  {
   "cell_type": "code",
   "execution_count": 9,
   "metadata": {
    "tags": []
   },
   "outputs": [
    {
     "name": "stderr",
     "output_type": "stream",
     "text": [
      "2023-03-12 01:41:43,351 - my_logger - INFO - \u001b[31m start sleep\u001b[0m\n",
      "2023-03-12 01:41:53,351 - my_logger - INFO - \u001b[32m end sleep\u001b[0m\n",
      "  0%|          | 0/51 [00:00<?, ?it/s]2023-03-12 01:41:53,571 - my_logger - INFO - \u001b[31m start parsing page1\u001b[0m\n",
      "2023-03-12 01:41:53,571 - my_logger - INFO - \u001b[32m end parsing page1\u001b[0m\n",
      "2023-03-12 01:41:57,581 - my_logger - INFO - \u001b[32m end parsing page1\u001b[0m\n",
      "INFO:my_logger:\u001b[32m end parsing page1\u001b[0m\n",
      "  2%|▏         | 1/51 [00:04<03:20,  4.01s/it]2023-03-12 01:41:57,583 - my_logger - INFO - \u001b[31m start parsing page1\u001b[0m\n",
      "INFO:my_logger:\u001b[31m start parsing page1\u001b[0m\n",
      "2023-03-12 01:41:57,585 - my_logger - INFO - \u001b[32m end parsing page1\u001b[0m\n",
      "INFO:my_logger:\u001b[32m end parsing page1\u001b[0m\n",
      "2023-03-12 01:42:01,539 - my_logger - INFO - \u001b[32m end parsing page1\u001b[0m\n",
      "INFO:my_logger:\u001b[32m end parsing page1\u001b[0m\n",
      "  4%|▍         | 2/51 [00:07<03:15,  3.98s/it]2023-03-12 01:42:01,541 - my_logger - INFO - \u001b[31m start parsing page1\u001b[0m\n",
      "INFO:my_logger:\u001b[31m start parsing page1\u001b[0m\n",
      "2023-03-12 01:42:01,543 - my_logger - INFO - \u001b[32m end parsing page1\u001b[0m\n",
      "INFO:my_logger:\u001b[32m end parsing page1\u001b[0m\n",
      "2023-03-12 01:42:05,605 - my_logger - INFO - \u001b[32m end parsing page1\u001b[0m\n",
      "INFO:my_logger:\u001b[32m end parsing page1\u001b[0m\n",
      "  6%|▌         | 3/51 [00:12<03:12,  4.02s/it]2023-03-12 01:42:05,608 - my_logger - INFO - \u001b[31m start parsing page1\u001b[0m\n",
      "INFO:my_logger:\u001b[31m start parsing page1\u001b[0m\n",
      "2023-03-12 01:42:05,610 - my_logger - INFO - \u001b[32m end parsing page1\u001b[0m\n",
      "INFO:my_logger:\u001b[32m end parsing page1\u001b[0m\n",
      "2023-03-12 01:42:09,516 - my_logger - INFO - \u001b[32m end parsing page1\u001b[0m\n",
      "INFO:my_logger:\u001b[32m end parsing page1\u001b[0m\n",
      "  8%|▊         | 4/51 [00:15<03:06,  3.98s/it]2023-03-12 01:42:09,517 - my_logger - INFO - \u001b[31m start parsing page1\u001b[0m\n",
      "INFO:my_logger:\u001b[31m start parsing page1\u001b[0m\n",
      "2023-03-12 01:42:09,517 - my_logger - INFO - \u001b[32m end parsing page1\u001b[0m\n",
      "INFO:my_logger:\u001b[32m end parsing page1\u001b[0m\n",
      "2023-03-12 01:42:13,524 - my_logger - INFO - \u001b[32m end parsing page1\u001b[0m\n",
      "INFO:my_logger:\u001b[32m end parsing page1\u001b[0m\n",
      " 10%|▉         | 5/51 [00:19<03:03,  3.99s/it]2023-03-12 01:42:13,526 - my_logger - INFO - \u001b[31m start parsing page1\u001b[0m\n",
      "INFO:my_logger:\u001b[31m start parsing page1\u001b[0m\n",
      "2023-03-12 01:42:13,527 - my_logger - INFO - \u001b[32m end parsing page1\u001b[0m\n",
      "INFO:my_logger:\u001b[32m end parsing page1\u001b[0m\n",
      "2023-03-12 01:42:17,538 - my_logger - INFO - \u001b[32m end parsing page1\u001b[0m\n",
      "INFO:my_logger:\u001b[32m end parsing page1\u001b[0m\n",
      " 12%|█▏        | 6/51 [00:23<02:59,  4.00s/it]2023-03-12 01:42:17,541 - my_logger - INFO - \u001b[31m start parsing page1\u001b[0m\n",
      "INFO:my_logger:\u001b[31m start parsing page1\u001b[0m\n",
      "2023-03-12 01:42:17,542 - my_logger - INFO - \u001b[32m end parsing page1\u001b[0m\n",
      "INFO:my_logger:\u001b[32m end parsing page1\u001b[0m\n",
      "2023-03-12 01:42:21,476 - my_logger - INFO - \u001b[32m end parsing page1\u001b[0m\n",
      "INFO:my_logger:\u001b[32m end parsing page1\u001b[0m\n",
      " 14%|█▎        | 7/51 [00:27<02:55,  3.98s/it]2023-03-12 01:42:21,477 - my_logger - INFO - \u001b[31m start parsing page1\u001b[0m\n",
      "INFO:my_logger:\u001b[31m start parsing page1\u001b[0m\n",
      "2023-03-12 01:42:21,477 - my_logger - INFO - \u001b[32m end parsing page1\u001b[0m\n",
      "INFO:my_logger:\u001b[32m end parsing page1\u001b[0m\n",
      "2023-03-12 01:42:25,456 - my_logger - INFO - \u001b[32m end parsing page1\u001b[0m\n",
      "INFO:my_logger:\u001b[32m end parsing page1\u001b[0m\n",
      " 16%|█▌        | 8/51 [00:31<02:51,  3.98s/it]2023-03-12 01:42:25,457 - my_logger - INFO - \u001b[31m start parsing page1\u001b[0m\n",
      "INFO:my_logger:\u001b[31m start parsing page1\u001b[0m\n",
      "2023-03-12 01:42:25,458 - my_logger - INFO - \u001b[32m end parsing page1\u001b[0m\n",
      "INFO:my_logger:\u001b[32m end parsing page1\u001b[0m\n",
      "2023-03-12 01:42:29,354 - my_logger - INFO - \u001b[32m end parsing page1\u001b[0m\n",
      "INFO:my_logger:\u001b[32m end parsing page1\u001b[0m\n",
      " 18%|█▊        | 9/51 [00:35<02:46,  3.95s/it]2023-03-12 01:42:29,356 - my_logger - INFO - \u001b[31m start parsing page1\u001b[0m\n",
      "INFO:my_logger:\u001b[31m start parsing page1\u001b[0m\n",
      "2023-03-12 01:42:29,356 - my_logger - INFO - \u001b[32m end parsing page1\u001b[0m\n",
      "INFO:my_logger:\u001b[32m end parsing page1\u001b[0m\n",
      "2023-03-12 01:42:33,380 - my_logger - INFO - \u001b[32m end parsing page1\u001b[0m\n",
      "INFO:my_logger:\u001b[32m end parsing page1\u001b[0m\n",
      " 20%|█▉        | 10/51 [00:39<02:43,  3.98s/it]2023-03-12 01:42:33,382 - my_logger - INFO - \u001b[31m start parsing page1\u001b[0m\n",
      "INFO:my_logger:\u001b[31m start parsing page1\u001b[0m\n",
      "2023-03-12 01:42:33,382 - my_logger - INFO - \u001b[32m end parsing page1\u001b[0m\n",
      "INFO:my_logger:\u001b[32m end parsing page1\u001b[0m\n",
      "2023-03-12 01:42:37,390 - my_logger - INFO - \u001b[32m end parsing page1\u001b[0m\n",
      "INFO:my_logger:\u001b[32m end parsing page1\u001b[0m\n",
      " 22%|██▏       | 11/51 [00:43<02:39,  3.99s/it]2023-03-12 01:42:37,391 - my_logger - INFO - \u001b[31m start parsing page1\u001b[0m\n",
      "INFO:my_logger:\u001b[31m start parsing page1\u001b[0m\n",
      "2023-03-12 01:42:37,392 - my_logger - INFO - \u001b[32m end parsing page1\u001b[0m\n",
      "INFO:my_logger:\u001b[32m end parsing page1\u001b[0m\n",
      "2023-03-12 01:42:41,320 - my_logger - INFO - \u001b[32m end parsing page1\u001b[0m\n",
      "INFO:my_logger:\u001b[32m end parsing page1\u001b[0m\n",
      " 24%|██▎       | 12/51 [00:47<02:34,  3.97s/it]2023-03-12 01:42:41,321 - my_logger - INFO - \u001b[31m start parsing page1\u001b[0m\n",
      "INFO:my_logger:\u001b[31m start parsing page1\u001b[0m\n",
      "2023-03-12 01:42:41,321 - my_logger - INFO - \u001b[32m end parsing page1\u001b[0m\n",
      "INFO:my_logger:\u001b[32m end parsing page1\u001b[0m\n",
      "2023-03-12 01:42:45,248 - my_logger - INFO - \u001b[32m end parsing page1\u001b[0m\n",
      "INFO:my_logger:\u001b[32m end parsing page1\u001b[0m\n",
      " 25%|██▌       | 13/51 [00:51<02:30,  3.96s/it]2023-03-12 01:42:45,250 - my_logger - INFO - \u001b[31m start parsing page1\u001b[0m\n",
      "INFO:my_logger:\u001b[31m start parsing page1\u001b[0m\n",
      "2023-03-12 01:42:45,251 - my_logger - INFO - \u001b[32m end parsing page1\u001b[0m\n",
      "INFO:my_logger:\u001b[32m end parsing page1\u001b[0m\n",
      "2023-03-12 01:42:49,210 - my_logger - INFO - \u001b[32m end parsing page1\u001b[0m\n",
      "INFO:my_logger:\u001b[32m end parsing page1\u001b[0m\n",
      " 27%|██▋       | 14/51 [00:55<02:26,  3.96s/it]2023-03-12 01:42:49,213 - my_logger - INFO - \u001b[31m start parsing page1\u001b[0m\n",
      "INFO:my_logger:\u001b[31m start parsing page1\u001b[0m\n",
      "2023-03-12 01:42:49,215 - my_logger - INFO - \u001b[32m end parsing page1\u001b[0m\n",
      "INFO:my_logger:\u001b[32m end parsing page1\u001b[0m\n",
      "2023-03-12 01:42:53,249 - my_logger - INFO - \u001b[32m end parsing page1\u001b[0m\n",
      "INFO:my_logger:\u001b[32m end parsing page1\u001b[0m\n",
      " 29%|██▉       | 15/51 [00:59<02:23,  3.98s/it]2023-03-12 01:42:53,252 - my_logger - INFO - \u001b[31m start parsing page1\u001b[0m\n",
      "INFO:my_logger:\u001b[31m start parsing page1\u001b[0m\n",
      "2023-03-12 01:42:53,255 - my_logger - INFO - \u001b[32m end parsing page1\u001b[0m\n",
      "INFO:my_logger:\u001b[32m end parsing page1\u001b[0m\n",
      "2023-03-12 01:42:57,179 - my_logger - INFO - \u001b[32m end parsing page1\u001b[0m\n",
      "INFO:my_logger:\u001b[32m end parsing page1\u001b[0m\n",
      " 31%|███▏      | 16/51 [01:03<02:18,  3.97s/it]2023-03-12 01:42:57,181 - my_logger - INFO - \u001b[31m start parsing page1\u001b[0m\n",
      "INFO:my_logger:\u001b[31m start parsing page1\u001b[0m\n",
      "2023-03-12 01:42:57,181 - my_logger - INFO - \u001b[32m end parsing page1\u001b[0m\n",
      "INFO:my_logger:\u001b[32m end parsing page1\u001b[0m\n",
      "2023-03-12 01:43:01,088 - my_logger - INFO - \u001b[32m end parsing page1\u001b[0m\n",
      "INFO:my_logger:\u001b[32m end parsing page1\u001b[0m\n",
      " 33%|███▎      | 17/51 [01:07<02:14,  3.95s/it]2023-03-12 01:43:01,089 - my_logger - INFO - \u001b[31m start parsing page1\u001b[0m\n",
      "INFO:my_logger:\u001b[31m start parsing page1\u001b[0m\n",
      "2023-03-12 01:43:01,090 - my_logger - INFO - \u001b[32m end parsing page1\u001b[0m\n",
      "INFO:my_logger:\u001b[32m end parsing page1\u001b[0m\n",
      "2023-03-12 01:43:05,097 - my_logger - INFO - \u001b[32m end parsing page1\u001b[0m\n",
      "INFO:my_logger:\u001b[32m end parsing page1\u001b[0m\n",
      " 35%|███▌      | 18/51 [01:11<02:10,  3.97s/it]2023-03-12 01:43:05,100 - my_logger - INFO - \u001b[31m start parsing page1\u001b[0m\n",
      "INFO:my_logger:\u001b[31m start parsing page1\u001b[0m\n",
      "2023-03-12 01:43:05,101 - my_logger - INFO - \u001b[32m end parsing page1\u001b[0m\n",
      "INFO:my_logger:\u001b[32m end parsing page1\u001b[0m\n",
      "2023-03-12 01:43:09,093 - my_logger - INFO - \u001b[32m end parsing page1\u001b[0m\n",
      "INFO:my_logger:\u001b[32m end parsing page1\u001b[0m\n",
      " 37%|███▋      | 19/51 [01:15<02:07,  3.98s/it]2023-03-12 01:43:09,094 - my_logger - INFO - \u001b[31m start parsing page1\u001b[0m\n",
      "INFO:my_logger:\u001b[31m start parsing page1\u001b[0m\n",
      "2023-03-12 01:43:09,095 - my_logger - INFO - \u001b[32m end parsing page1\u001b[0m\n",
      "INFO:my_logger:\u001b[32m end parsing page1\u001b[0m\n",
      "2023-03-12 01:43:13,090 - my_logger - INFO - \u001b[32m end parsing page1\u001b[0m\n",
      "INFO:my_logger:\u001b[32m end parsing page1\u001b[0m\n",
      " 39%|███▉      | 20/51 [01:19<02:03,  3.98s/it]2023-03-12 01:43:13,093 - my_logger - INFO - \u001b[31m start parsing page1\u001b[0m\n",
      "INFO:my_logger:\u001b[31m start parsing page1\u001b[0m\n",
      "2023-03-12 01:43:13,095 - my_logger - INFO - \u001b[32m end parsing page1\u001b[0m\n",
      "INFO:my_logger:\u001b[32m end parsing page1\u001b[0m\n",
      "2023-03-12 01:43:17,074 - my_logger - INFO - \u001b[32m end parsing page1\u001b[0m\n",
      "INFO:my_logger:\u001b[32m end parsing page1\u001b[0m\n",
      " 41%|████      | 21/51 [01:23<01:59,  3.98s/it]2023-03-12 01:43:17,075 - my_logger - INFO - \u001b[31m start parsing page1\u001b[0m\n",
      "INFO:my_logger:\u001b[31m start parsing page1\u001b[0m\n",
      "2023-03-12 01:43:17,076 - my_logger - INFO - \u001b[32m end parsing page1\u001b[0m\n",
      "INFO:my_logger:\u001b[32m end parsing page1\u001b[0m\n",
      "2023-03-12 01:43:21,066 - my_logger - INFO - \u001b[32m end parsing page1\u001b[0m\n",
      "INFO:my_logger:\u001b[32m end parsing page1\u001b[0m\n",
      " 43%|████▎     | 22/51 [01:27<01:55,  3.99s/it]2023-03-12 01:43:21,069 - my_logger - INFO - \u001b[31m start parsing page1\u001b[0m\n",
      "INFO:my_logger:\u001b[31m start parsing page1\u001b[0m\n",
      "2023-03-12 01:43:21,071 - my_logger - INFO - \u001b[32m end parsing page1\u001b[0m\n",
      "INFO:my_logger:\u001b[32m end parsing page1\u001b[0m\n",
      "2023-03-12 01:43:25,039 - my_logger - INFO - \u001b[32m end parsing page1\u001b[0m\n",
      "INFO:my_logger:\u001b[32m end parsing page1\u001b[0m\n",
      " 45%|████▌     | 23/51 [01:31<01:51,  3.98s/it]2023-03-12 01:43:25,040 - my_logger - INFO - \u001b[31m start parsing page1\u001b[0m\n",
      "INFO:my_logger:\u001b[31m start parsing page1\u001b[0m\n",
      "2023-03-12 01:43:25,041 - my_logger - INFO - \u001b[32m end parsing page1\u001b[0m\n",
      "INFO:my_logger:\u001b[32m end parsing page1\u001b[0m\n",
      "2023-03-12 01:43:28,949 - my_logger - INFO - \u001b[32m end parsing page1\u001b[0m\n",
      "INFO:my_logger:\u001b[32m end parsing page1\u001b[0m\n",
      " 47%|████▋     | 24/51 [01:35<01:46,  3.96s/it]2023-03-12 01:43:28,951 - my_logger - INFO - \u001b[31m start parsing page1\u001b[0m\n",
      "INFO:my_logger:\u001b[31m start parsing page1\u001b[0m\n",
      "2023-03-12 01:43:28,953 - my_logger - INFO - \u001b[32m end parsing page1\u001b[0m\n",
      "INFO:my_logger:\u001b[32m end parsing page1\u001b[0m\n",
      "2023-03-12 01:43:32,903 - my_logger - INFO - \u001b[32m end parsing page1\u001b[0m\n",
      "INFO:my_logger:\u001b[32m end parsing page1\u001b[0m\n",
      " 49%|████▉     | 25/51 [01:39<01:42,  3.96s/it]2023-03-12 01:43:32,904 - my_logger - INFO - \u001b[31m start parsing page1\u001b[0m\n",
      "INFO:my_logger:\u001b[31m start parsing page1\u001b[0m\n",
      "2023-03-12 01:43:32,905 - my_logger - INFO - \u001b[32m end parsing page1\u001b[0m\n",
      "INFO:my_logger:\u001b[32m end parsing page1\u001b[0m\n",
      "2023-03-12 01:43:37,014 - my_logger - INFO - \u001b[32m end parsing page1\u001b[0m\n",
      "INFO:my_logger:\u001b[32m end parsing page1\u001b[0m\n",
      " 51%|█████     | 26/51 [01:43<01:40,  4.00s/it]2023-03-12 01:43:37,016 - my_logger - INFO - \u001b[31m start parsing page1\u001b[0m\n",
      "INFO:my_logger:\u001b[31m start parsing page1\u001b[0m\n",
      "2023-03-12 01:43:37,017 - my_logger - INFO - \u001b[32m end parsing page1\u001b[0m\n",
      "INFO:my_logger:\u001b[32m end parsing page1\u001b[0m\n",
      "2023-03-12 01:43:41,000 - my_logger - INFO - \u001b[32m end parsing page1\u001b[0m\n",
      "INFO:my_logger:\u001b[32m end parsing page1\u001b[0m\n",
      " 53%|█████▎    | 27/51 [01:47<01:35,  4.00s/it]2023-03-12 01:43:41,001 - my_logger - INFO - \u001b[31m start parsing page1\u001b[0m\n",
      "INFO:my_logger:\u001b[31m start parsing page1\u001b[0m\n",
      "2023-03-12 01:43:41,001 - my_logger - INFO - \u001b[32m end parsing page1\u001b[0m\n",
      "INFO:my_logger:\u001b[32m end parsing page1\u001b[0m\n",
      "2023-03-12 01:43:44,951 - my_logger - INFO - \u001b[32m end parsing page1\u001b[0m\n",
      "INFO:my_logger:\u001b[32m end parsing page1\u001b[0m\n",
      " 55%|█████▍    | 28/51 [01:51<01:31,  3.98s/it]2023-03-12 01:43:44,954 - my_logger - INFO - \u001b[31m start parsing page1\u001b[0m\n",
      "INFO:my_logger:\u001b[31m start parsing page1\u001b[0m\n",
      "2023-03-12 01:43:44,957 - my_logger - INFO - \u001b[32m end parsing page1\u001b[0m\n",
      "INFO:my_logger:\u001b[32m end parsing page1\u001b[0m\n",
      "2023-03-12 01:43:48,965 - my_logger - INFO - \u001b[32m end parsing page1\u001b[0m\n",
      "INFO:my_logger:\u001b[32m end parsing page1\u001b[0m\n",
      " 57%|█████▋    | 29/51 [01:55<01:27,  3.99s/it]2023-03-12 01:43:48,967 - my_logger - INFO - \u001b[31m start parsing page1\u001b[0m\n",
      "INFO:my_logger:\u001b[31m start parsing page1\u001b[0m\n",
      "2023-03-12 01:43:48,969 - my_logger - INFO - \u001b[32m end parsing page1\u001b[0m\n",
      "INFO:my_logger:\u001b[32m end parsing page1\u001b[0m\n",
      "2023-03-12 01:43:52,864 - my_logger - INFO - \u001b[32m end parsing page1\u001b[0m\n",
      "INFO:my_logger:\u001b[32m end parsing page1\u001b[0m\n",
      " 59%|█████▉    | 30/51 [01:59<01:23,  3.96s/it]2023-03-12 01:43:52,866 - my_logger - INFO - \u001b[31m start parsing page1\u001b[0m\n",
      "INFO:my_logger:\u001b[31m start parsing page1\u001b[0m\n",
      "2023-03-12 01:43:52,867 - my_logger - INFO - \u001b[32m end parsing page1\u001b[0m\n",
      "INFO:my_logger:\u001b[32m end parsing page1\u001b[0m\n",
      "2023-03-12 01:43:56,799 - my_logger - INFO - \u001b[32m end parsing page1\u001b[0m\n",
      "INFO:my_logger:\u001b[32m end parsing page1\u001b[0m\n",
      " 61%|██████    | 31/51 [02:03<01:19,  3.96s/it]2023-03-12 01:43:56,800 - my_logger - INFO - \u001b[31m start parsing page1\u001b[0m\n",
      "INFO:my_logger:\u001b[31m start parsing page1\u001b[0m\n",
      "2023-03-12 01:43:56,800 - my_logger - INFO - \u001b[32m end parsing page1\u001b[0m\n",
      "INFO:my_logger:\u001b[32m end parsing page1\u001b[0m\n",
      "2023-03-12 01:44:00,792 - my_logger - INFO - \u001b[32m end parsing page1\u001b[0m\n",
      "INFO:my_logger:\u001b[32m end parsing page1\u001b[0m\n",
      " 63%|██████▎   | 32/51 [02:07<01:15,  3.97s/it]2023-03-12 01:44:00,794 - my_logger - INFO - \u001b[31m start parsing page1\u001b[0m\n",
      "INFO:my_logger:\u001b[31m start parsing page1\u001b[0m\n",
      "2023-03-12 01:44:00,794 - my_logger - INFO - \u001b[32m end parsing page1\u001b[0m\n",
      "INFO:my_logger:\u001b[32m end parsing page1\u001b[0m\n",
      "2023-03-12 01:44:04,714 - my_logger - INFO - \u001b[32m end parsing page1\u001b[0m\n",
      "INFO:my_logger:\u001b[32m end parsing page1\u001b[0m\n",
      " 65%|██████▍   | 33/51 [02:11<01:11,  3.95s/it]2023-03-12 01:44:04,716 - my_logger - INFO - \u001b[31m start parsing page1\u001b[0m\n",
      "INFO:my_logger:\u001b[31m start parsing page1\u001b[0m\n",
      "2023-03-12 01:44:04,717 - my_logger - INFO - \u001b[32m end parsing page1\u001b[0m\n",
      "INFO:my_logger:\u001b[32m end parsing page1\u001b[0m\n",
      "2023-03-12 01:44:08,593 - my_logger - INFO - \u001b[32m end parsing page1\u001b[0m\n",
      "INFO:my_logger:\u001b[32m end parsing page1\u001b[0m\n",
      " 67%|██████▋   | 34/51 [02:15<01:06,  3.93s/it]2023-03-12 01:44:08,595 - my_logger - INFO - \u001b[31m start parsing page1\u001b[0m\n",
      "INFO:my_logger:\u001b[31m start parsing page1\u001b[0m\n",
      "2023-03-12 01:44:08,595 - my_logger - INFO - \u001b[32m end parsing page1\u001b[0m\n",
      "INFO:my_logger:\u001b[32m end parsing page1\u001b[0m\n",
      "2023-03-12 01:44:12,652 - my_logger - INFO - \u001b[32m end parsing page1\u001b[0m\n",
      "INFO:my_logger:\u001b[32m end parsing page1\u001b[0m\n",
      " 69%|██████▊   | 35/51 [02:19<01:03,  3.97s/it]2023-03-12 01:44:12,652 - my_logger - INFO - \u001b[31m start parsing page1\u001b[0m\n",
      "INFO:my_logger:\u001b[31m start parsing page1\u001b[0m\n",
      "2023-03-12 01:44:12,653 - my_logger - INFO - \u001b[32m end parsing page1\u001b[0m\n",
      "INFO:my_logger:\u001b[32m end parsing page1\u001b[0m\n",
      "2023-03-12 01:44:16,568 - my_logger - INFO - \u001b[32m end parsing page1\u001b[0m\n",
      "INFO:my_logger:\u001b[32m end parsing page1\u001b[0m\n",
      " 71%|███████   | 36/51 [02:22<00:59,  3.95s/it]2023-03-12 01:44:16,570 - my_logger - INFO - \u001b[31m start parsing page1\u001b[0m\n",
      "INFO:my_logger:\u001b[31m start parsing page1\u001b[0m\n",
      "2023-03-12 01:44:16,570 - my_logger - INFO - \u001b[32m end parsing page1\u001b[0m\n",
      "INFO:my_logger:\u001b[32m end parsing page1\u001b[0m\n",
      "2023-03-12 01:44:20,489 - my_logger - INFO - \u001b[32m end parsing page1\u001b[0m\n",
      "INFO:my_logger:\u001b[32m end parsing page1\u001b[0m\n",
      " 73%|███████▎  | 37/51 [02:26<00:55,  3.94s/it]2023-03-12 01:44:20,491 - my_logger - INFO - \u001b[31m start parsing page1\u001b[0m\n",
      "INFO:my_logger:\u001b[31m start parsing page1\u001b[0m\n",
      "2023-03-12 01:44:20,491 - my_logger - INFO - \u001b[32m end parsing page1\u001b[0m\n",
      "INFO:my_logger:\u001b[32m end parsing page1\u001b[0m\n",
      "2023-03-12 01:44:24,485 - my_logger - INFO - \u001b[32m end parsing page1\u001b[0m\n",
      "INFO:my_logger:\u001b[32m end parsing page1\u001b[0m\n",
      " 75%|███████▍  | 38/51 [02:30<00:51,  3.96s/it]2023-03-12 01:44:24,488 - my_logger - INFO - \u001b[31m start parsing page1\u001b[0m\n",
      "INFO:my_logger:\u001b[31m start parsing page1\u001b[0m\n",
      "2023-03-12 01:44:24,489 - my_logger - INFO - \u001b[32m end parsing page1\u001b[0m\n",
      "INFO:my_logger:\u001b[32m end parsing page1\u001b[0m\n",
      "2023-03-12 01:44:28,419 - my_logger - INFO - \u001b[32m end parsing page1\u001b[0m\n",
      "INFO:my_logger:\u001b[32m end parsing page1\u001b[0m\n",
      " 76%|███████▋  | 39/51 [02:34<00:47,  3.95s/it]2023-03-12 01:44:28,421 - my_logger - INFO - \u001b[31m start parsing page1\u001b[0m\n",
      "INFO:my_logger:\u001b[31m start parsing page1\u001b[0m\n",
      "2023-03-12 01:44:28,422 - my_logger - INFO - \u001b[32m end parsing page1\u001b[0m\n",
      "INFO:my_logger:\u001b[32m end parsing page1\u001b[0m\n",
      "2023-03-12 01:44:32,372 - my_logger - INFO - \u001b[32m end parsing page1\u001b[0m\n",
      "INFO:my_logger:\u001b[32m end parsing page1\u001b[0m\n",
      " 78%|███████▊  | 40/51 [02:38<00:43,  3.95s/it]2023-03-12 01:44:32,373 - my_logger - INFO - \u001b[31m start parsing page1\u001b[0m\n",
      "INFO:my_logger:\u001b[31m start parsing page1\u001b[0m\n",
      "2023-03-12 01:44:32,374 - my_logger - INFO - \u001b[32m end parsing page1\u001b[0m\n",
      "INFO:my_logger:\u001b[32m end parsing page1\u001b[0m\n",
      "2023-03-12 01:44:36,243 - my_logger - INFO - \u001b[32m end parsing page1\u001b[0m\n",
      "INFO:my_logger:\u001b[32m end parsing page1\u001b[0m\n",
      " 80%|████████  | 41/51 [02:42<00:39,  3.93s/it]2023-03-12 01:44:36,246 - my_logger - INFO - \u001b[31m start parsing page1\u001b[0m\n",
      "INFO:my_logger:\u001b[31m start parsing page1\u001b[0m\n",
      "2023-03-12 01:44:36,247 - my_logger - INFO - \u001b[32m end parsing page1\u001b[0m\n",
      "INFO:my_logger:\u001b[32m end parsing page1\u001b[0m\n",
      "2023-03-12 01:44:40,187 - my_logger - INFO - \u001b[32m end parsing page1\u001b[0m\n",
      "INFO:my_logger:\u001b[32m end parsing page1\u001b[0m\n",
      " 82%|████████▏ | 42/51 [02:46<00:35,  3.93s/it]2023-03-12 01:44:40,189 - my_logger - INFO - \u001b[31m start parsing page1\u001b[0m\n",
      "INFO:my_logger:\u001b[31m start parsing page1\u001b[0m\n",
      "2023-03-12 01:44:40,189 - my_logger - INFO - \u001b[32m end parsing page1\u001b[0m\n",
      "INFO:my_logger:\u001b[32m end parsing page1\u001b[0m\n",
      "2023-03-12 01:44:44,190 - my_logger - INFO - \u001b[32m end parsing page1\u001b[0m\n",
      "INFO:my_logger:\u001b[32m end parsing page1\u001b[0m\n",
      " 84%|████████▍ | 43/51 [02:50<00:31,  3.95s/it]2023-03-12 01:44:44,192 - my_logger - INFO - \u001b[31m start parsing page1\u001b[0m\n",
      "INFO:my_logger:\u001b[31m start parsing page1\u001b[0m\n",
      "2023-03-12 01:44:44,195 - my_logger - INFO - \u001b[32m end parsing page1\u001b[0m\n",
      "INFO:my_logger:\u001b[32m end parsing page1\u001b[0m\n",
      "2023-03-12 01:44:48,183 - my_logger - INFO - \u001b[32m end parsing page1\u001b[0m\n",
      "INFO:my_logger:\u001b[32m end parsing page1\u001b[0m\n",
      " 86%|████████▋ | 44/51 [02:54<00:27,  3.97s/it]2023-03-12 01:44:48,184 - my_logger - INFO - \u001b[31m start parsing page1\u001b[0m\n",
      "INFO:my_logger:\u001b[31m start parsing page1\u001b[0m\n",
      "2023-03-12 01:44:48,185 - my_logger - INFO - \u001b[32m end parsing page1\u001b[0m\n",
      "INFO:my_logger:\u001b[32m end parsing page1\u001b[0m\n",
      "2023-03-12 01:44:52,130 - my_logger - INFO - \u001b[32m end parsing page1\u001b[0m\n",
      "INFO:my_logger:\u001b[32m end parsing page1\u001b[0m\n",
      " 88%|████████▊ | 45/51 [02:58<00:23,  3.96s/it]2023-03-12 01:44:52,131 - my_logger - INFO - \u001b[31m start parsing page1\u001b[0m\n",
      "INFO:my_logger:\u001b[31m start parsing page1\u001b[0m\n",
      "2023-03-12 01:44:52,132 - my_logger - INFO - \u001b[32m end parsing page1\u001b[0m\n",
      "INFO:my_logger:\u001b[32m end parsing page1\u001b[0m\n",
      "2023-03-12 01:44:56,114 - my_logger - INFO - \u001b[32m end parsing page1\u001b[0m\n",
      "INFO:my_logger:\u001b[32m end parsing page1\u001b[0m\n",
      " 90%|█████████ | 46/51 [03:02<00:19,  3.97s/it]2023-03-12 01:44:56,116 - my_logger - INFO - \u001b[31m start parsing page1\u001b[0m\n",
      "INFO:my_logger:\u001b[31m start parsing page1\u001b[0m\n",
      "2023-03-12 01:44:56,117 - my_logger - INFO - \u001b[32m end parsing page1\u001b[0m\n",
      "INFO:my_logger:\u001b[32m end parsing page1\u001b[0m\n",
      "2023-03-12 01:45:00,022 - my_logger - INFO - \u001b[32m end parsing page1\u001b[0m\n",
      "INFO:my_logger:\u001b[32m end parsing page1\u001b[0m\n",
      " 92%|█████████▏| 47/51 [03:06<00:15,  3.95s/it]2023-03-12 01:45:00,023 - my_logger - INFO - \u001b[31m start parsing page1\u001b[0m\n",
      "INFO:my_logger:\u001b[31m start parsing page1\u001b[0m\n",
      "2023-03-12 01:45:00,023 - my_logger - INFO - \u001b[32m end parsing page1\u001b[0m\n",
      "INFO:my_logger:\u001b[32m end parsing page1\u001b[0m\n",
      "2023-03-12 01:45:03,932 - my_logger - INFO - \u001b[32m end parsing page1\u001b[0m\n",
      "INFO:my_logger:\u001b[32m end parsing page1\u001b[0m\n",
      " 94%|█████████▍| 48/51 [03:10<00:11,  3.94s/it]2023-03-12 01:45:03,934 - my_logger - INFO - \u001b[31m start parsing page1\u001b[0m\n",
      "INFO:my_logger:\u001b[31m start parsing page1\u001b[0m\n",
      "2023-03-12 01:45:03,934 - my_logger - INFO - \u001b[32m end parsing page1\u001b[0m\n",
      "INFO:my_logger:\u001b[32m end parsing page1\u001b[0m\n",
      "2023-03-12 01:45:07,993 - my_logger - INFO - \u001b[32m end parsing page1\u001b[0m\n",
      "INFO:my_logger:\u001b[32m end parsing page1\u001b[0m\n",
      " 96%|█████████▌| 49/51 [03:14<00:07,  3.97s/it]2023-03-12 01:45:07,995 - my_logger - INFO - \u001b[31m start parsing page1\u001b[0m\n",
      "INFO:my_logger:\u001b[31m start parsing page1\u001b[0m\n",
      "2023-03-12 01:45:07,995 - my_logger - INFO - \u001b[32m end parsing page1\u001b[0m\n",
      "INFO:my_logger:\u001b[32m end parsing page1\u001b[0m\n",
      "2023-03-12 01:45:12,032 - my_logger - INFO - \u001b[32m end parsing page1\u001b[0m\n",
      "INFO:my_logger:\u001b[32m end parsing page1\u001b[0m\n",
      " 98%|█████████▊| 50/51 [03:18<00:03,  3.99s/it]2023-03-12 01:45:12,034 - my_logger - INFO - \u001b[31m start parsing page1\u001b[0m\n",
      "INFO:my_logger:\u001b[31m start parsing page1\u001b[0m\n",
      "2023-03-12 01:45:12,035 - my_logger - INFO - \u001b[32m end parsing page1\u001b[0m\n",
      "INFO:my_logger:\u001b[32m end parsing page1\u001b[0m\n",
      "2023-03-12 01:45:15,958 - my_logger - INFO - \u001b[32m end parsing page1\u001b[0m\n",
      "INFO:my_logger:\u001b[32m end parsing page1\u001b[0m\n",
      "100%|██████████| 51/51 [03:22<00:00,  3.97s/it]\n"
     ]
    }
   ],
   "source": [
    "from tqdm import tqdm\n",
    "\n",
    "res_data = dict(url=[], page=[], alg_name=[], alg_number=[], html_page=[])\n",
    "for page in range(MIN_PAGE, 4 + 1):\n",
    "    if page > 1:\n",
    "        break\n",
    "    url = create_url_wit_page(ALG_URL, page)\n",
    "    driver.get(url)\n",
    "    logger.info('\\033[31m start sleep\\033[0m')\n",
    "    time.sleep(10)\n",
    "    logger.info('\\033[32m end sleep\\033[0m')\n",
    "    content = driver.page_source\n",
    "    for div in tqdm(parser_divs(content, class_=HTML_CLASS)):\n",
    "        logger.info(f'\\033[31m start parsing page{page}\\033[0m')\n",
    "        res_data['page'].append(page)\n",
    "\n",
    "        # alg_url\n",
    "        alg_url = URL + div.find('a')['href']\n",
    "        res_data['url'].append(alg_url)\n",
    "\n",
    "        # alg_name\n",
    "        text = div.find('a').text\n",
    "        find = re.findall(pattern=REG_NAME_ALG, string=text)\n",
    "        alg_name = ' '.join(re.findall(pattern=REG_NAME_ALG, string=text))\n",
    "        res_data['alg_name'].append(alg_name)\n",
    "\n",
    "        # alg_number\n",
    "        search = re.search(pattern=REG_NUMBER_ALG, string=text)\n",
    "        if search:\n",
    "            alg_number = search.group()\n",
    "        else:\n",
    "            alg_number = None\n",
    "        res_data['alg_number'].append(alg_number)\n",
    "        logger.info(f'\\033[32m end parsing page{page}\\033[0m')\n",
    "\n",
    "        logger.info('\\033[31m start load page\\033[0m')\n",
    "        driver.get(alg_url)\n",
    "        time.sleep(3)\n",
    "        alg_content = driver.page_source\n",
    "        res_data['html_page'].append(alg_content)\n",
    "        logger.info(f'\\033[32m end parsing page{page}\\033[0m')\n",
    "df = pd.DataFrame(res_data)\n",
    "df.to_parquet(PATH_PAGES)"
   ]
  },
  {
   "cell_type": "code",
   "execution_count": 10,
   "metadata": {
    "tags": []
   },
   "outputs": [],
   "source": []
  },
  {
   "cell_type": "code",
   "execution_count": 11,
   "metadata": {
    "collapsed": false,
    "jupyter": {
     "outputs_hidden": false
    }
   },
   "outputs": [
    {
     "data": {
      "text/html": [
       "<div>\n",
       "<style scoped>\n",
       "    .dataframe tbody tr th:only-of-type {\n",
       "        vertical-align: middle;\n",
       "    }\n",
       "\n",
       "    .dataframe tbody tr th {\n",
       "        vertical-align: top;\n",
       "    }\n",
       "\n",
       "    .dataframe thead th {\n",
       "        text-align: right;\n",
       "    }\n",
       "</style>\n",
       "<table border=\"1\" class=\"dataframe\">\n",
       "  <thead>\n",
       "    <tr style=\"text-align: right;\">\n",
       "      <th></th>\n",
       "      <th>url</th>\n",
       "      <th>page</th>\n",
       "      <th>alg_name</th>\n",
       "      <th>alg_number</th>\n",
       "      <th>html_page</th>\n",
       "    </tr>\n",
       "  </thead>\n",
       "  <tbody>\n",
       "    <tr>\n",
       "      <th>0</th>\n",
       "      <td>https://leetcode.com/problems/convert-sorted-l...</td>\n",
       "      <td>1</td>\n",
       "      <td></td>\n",
       "      <td>None</td>\n",
       "      <td>&lt;html style=\"color-scheme: light;\" data-theme=...</td>\n",
       "    </tr>\n",
       "    <tr>\n",
       "      <th>1</th>\n",
       "      <td>https://leetcode.com/problems/two-sum/</td>\n",
       "      <td>1</td>\n",
       "      <td>Two Sum</td>\n",
       "      <td>1</td>\n",
       "      <td>&lt;html style=\"color-scheme: light;\" data-theme=...</td>\n",
       "    </tr>\n",
       "    <tr>\n",
       "      <th>2</th>\n",
       "      <td>https://leetcode.com/problems/add-two-numbers/</td>\n",
       "      <td>1</td>\n",
       "      <td>Add Two Numbers</td>\n",
       "      <td>2</td>\n",
       "      <td>&lt;html style=\"color-scheme: light;\" data-theme=...</td>\n",
       "    </tr>\n",
       "    <tr>\n",
       "      <th>3</th>\n",
       "      <td>https://leetcode.com/problems/longest-substrin...</td>\n",
       "      <td>1</td>\n",
       "      <td>Longest Substring Without Repeating Characters</td>\n",
       "      <td>3</td>\n",
       "      <td>&lt;html style=\"color-scheme: light;\" data-theme=...</td>\n",
       "    </tr>\n",
       "    <tr>\n",
       "      <th>4</th>\n",
       "      <td>https://leetcode.com/problems/median-of-two-so...</td>\n",
       "      <td>1</td>\n",
       "      <td>Median of Two Sorted Arrays</td>\n",
       "      <td>4</td>\n",
       "      <td>&lt;html style=\"color-scheme: light;\" data-theme=...</td>\n",
       "    </tr>\n",
       "    <tr>\n",
       "      <th>5</th>\n",
       "      <td>https://leetcode.com/problems/longest-palindro...</td>\n",
       "      <td>1</td>\n",
       "      <td>Longest Palindromic Substring</td>\n",
       "      <td>5</td>\n",
       "      <td>&lt;html style=\"color-scheme: light;\" data-theme=...</td>\n",
       "    </tr>\n",
       "    <tr>\n",
       "      <th>6</th>\n",
       "      <td>https://leetcode.com/problems/zigzag-conversion/</td>\n",
       "      <td>1</td>\n",
       "      <td>Zigzag Conversion</td>\n",
       "      <td>6</td>\n",
       "      <td>&lt;html style=\"color-scheme: light;\" data-theme=...</td>\n",
       "    </tr>\n",
       "    <tr>\n",
       "      <th>7</th>\n",
       "      <td>https://leetcode.com/problems/reverse-integer/</td>\n",
       "      <td>1</td>\n",
       "      <td>Reverse Integer</td>\n",
       "      <td>7</td>\n",
       "      <td>&lt;html style=\"color-scheme: light;\" data-theme=...</td>\n",
       "    </tr>\n",
       "    <tr>\n",
       "      <th>8</th>\n",
       "      <td>https://leetcode.com/problems/string-to-intege...</td>\n",
       "      <td>1</td>\n",
       "      <td>String to Integer atoi</td>\n",
       "      <td>8</td>\n",
       "      <td>&lt;html style=\"color-scheme: light;\" data-theme=...</td>\n",
       "    </tr>\n",
       "    <tr>\n",
       "      <th>9</th>\n",
       "      <td>https://leetcode.com/problems/palindrome-number/</td>\n",
       "      <td>1</td>\n",
       "      <td>Palindrome Number</td>\n",
       "      <td>9</td>\n",
       "      <td>&lt;html style=\"color-scheme: light;\" data-theme=...</td>\n",
       "    </tr>\n",
       "    <tr>\n",
       "      <th>10</th>\n",
       "      <td>https://leetcode.com/problems/regular-expressi...</td>\n",
       "      <td>1</td>\n",
       "      <td>Regular Expression Matching</td>\n",
       "      <td>10</td>\n",
       "      <td>&lt;html style=\"color-scheme: light;\" data-theme=...</td>\n",
       "    </tr>\n",
       "    <tr>\n",
       "      <th>11</th>\n",
       "      <td>https://leetcode.com/problems/container-with-m...</td>\n",
       "      <td>1</td>\n",
       "      <td>Container With Most Water</td>\n",
       "      <td>11</td>\n",
       "      <td>&lt;html style=\"color-scheme: light;\" data-theme=...</td>\n",
       "    </tr>\n",
       "    <tr>\n",
       "      <th>12</th>\n",
       "      <td>https://leetcode.com/problems/integer-to-roman/</td>\n",
       "      <td>1</td>\n",
       "      <td>Integer to Roman</td>\n",
       "      <td>12</td>\n",
       "      <td>&lt;html style=\"color-scheme: light;\" data-theme=...</td>\n",
       "    </tr>\n",
       "    <tr>\n",
       "      <th>13</th>\n",
       "      <td>https://leetcode.com/problems/roman-to-integer/</td>\n",
       "      <td>1</td>\n",
       "      <td>Roman to Integer</td>\n",
       "      <td>13</td>\n",
       "      <td>&lt;html style=\"color-scheme: light;\" data-theme=...</td>\n",
       "    </tr>\n",
       "    <tr>\n",
       "      <th>14</th>\n",
       "      <td>https://leetcode.com/problems/longest-common-p...</td>\n",
       "      <td>1</td>\n",
       "      <td>Longest Common Prefix</td>\n",
       "      <td>14</td>\n",
       "      <td>&lt;html style=\"color-scheme: light;\" data-theme=...</td>\n",
       "    </tr>\n",
       "    <tr>\n",
       "      <th>15</th>\n",
       "      <td>https://leetcode.com/problems/3sum/</td>\n",
       "      <td>1</td>\n",
       "      <td>Sum</td>\n",
       "      <td>15</td>\n",
       "      <td>&lt;html style=\"color-scheme: light;\" data-theme=...</td>\n",
       "    </tr>\n",
       "    <tr>\n",
       "      <th>16</th>\n",
       "      <td>https://leetcode.com/problems/3sum-closest/</td>\n",
       "      <td>1</td>\n",
       "      <td>Sum Closest</td>\n",
       "      <td>16</td>\n",
       "      <td>&lt;html style=\"color-scheme: light;\" data-theme=...</td>\n",
       "    </tr>\n",
       "    <tr>\n",
       "      <th>17</th>\n",
       "      <td>https://leetcode.com/problems/letter-combinati...</td>\n",
       "      <td>1</td>\n",
       "      <td>Letter Combinations of a Phone Number</td>\n",
       "      <td>17</td>\n",
       "      <td>&lt;html style=\"color-scheme: light;\" data-theme=...</td>\n",
       "    </tr>\n",
       "    <tr>\n",
       "      <th>18</th>\n",
       "      <td>https://leetcode.com/problems/4sum/</td>\n",
       "      <td>1</td>\n",
       "      <td>Sum</td>\n",
       "      <td>18</td>\n",
       "      <td>&lt;html style=\"color-scheme: light;\" data-theme=...</td>\n",
       "    </tr>\n",
       "    <tr>\n",
       "      <th>19</th>\n",
       "      <td>https://leetcode.com/problems/remove-nth-node-...</td>\n",
       "      <td>1</td>\n",
       "      <td>Remove Nth Node From End of List</td>\n",
       "      <td>19</td>\n",
       "      <td>&lt;html style=\"color-scheme: light;\" data-theme=...</td>\n",
       "    </tr>\n",
       "    <tr>\n",
       "      <th>20</th>\n",
       "      <td>https://leetcode.com/problems/valid-parentheses/</td>\n",
       "      <td>1</td>\n",
       "      <td>Valid Parentheses</td>\n",
       "      <td>20</td>\n",
       "      <td>&lt;html style=\"color-scheme: light;\" data-theme=...</td>\n",
       "    </tr>\n",
       "    <tr>\n",
       "      <th>21</th>\n",
       "      <td>https://leetcode.com/problems/merge-two-sorted...</td>\n",
       "      <td>1</td>\n",
       "      <td>Merge Two Sorted Lists</td>\n",
       "      <td>21</td>\n",
       "      <td>&lt;html style=\"color-scheme: light;\" data-theme=...</td>\n",
       "    </tr>\n",
       "    <tr>\n",
       "      <th>22</th>\n",
       "      <td>https://leetcode.com/problems/generate-parenth...</td>\n",
       "      <td>1</td>\n",
       "      <td>Generate Parentheses</td>\n",
       "      <td>22</td>\n",
       "      <td>&lt;html style=\"color-scheme: light;\" data-theme=...</td>\n",
       "    </tr>\n",
       "    <tr>\n",
       "      <th>23</th>\n",
       "      <td>https://leetcode.com/problems/merge-k-sorted-l...</td>\n",
       "      <td>1</td>\n",
       "      <td>Merge k Sorted Lists</td>\n",
       "      <td>23</td>\n",
       "      <td>&lt;html style=\"color-scheme: light;\" data-theme=...</td>\n",
       "    </tr>\n",
       "    <tr>\n",
       "      <th>24</th>\n",
       "      <td>https://leetcode.com/problems/swap-nodes-in-pa...</td>\n",
       "      <td>1</td>\n",
       "      <td>Swap Nodes in Pairs</td>\n",
       "      <td>24</td>\n",
       "      <td>&lt;html style=\"color-scheme: light;\" data-theme=...</td>\n",
       "    </tr>\n",
       "    <tr>\n",
       "      <th>25</th>\n",
       "      <td>https://leetcode.com/problems/reverse-nodes-in...</td>\n",
       "      <td>1</td>\n",
       "      <td>Reverse Nodes in k Group</td>\n",
       "      <td>25</td>\n",
       "      <td>&lt;html style=\"color-scheme: light;\" data-theme=...</td>\n",
       "    </tr>\n",
       "    <tr>\n",
       "      <th>26</th>\n",
       "      <td>https://leetcode.com/problems/remove-duplicate...</td>\n",
       "      <td>1</td>\n",
       "      <td>Remove Duplicates from Sorted Array</td>\n",
       "      <td>26</td>\n",
       "      <td>&lt;html style=\"color-scheme: light;\" data-theme=...</td>\n",
       "    </tr>\n",
       "    <tr>\n",
       "      <th>27</th>\n",
       "      <td>https://leetcode.com/problems/remove-element/</td>\n",
       "      <td>1</td>\n",
       "      <td>Remove Element</td>\n",
       "      <td>27</td>\n",
       "      <td>&lt;html style=\"color-scheme: light;\" data-theme=...</td>\n",
       "    </tr>\n",
       "    <tr>\n",
       "      <th>28</th>\n",
       "      <td>https://leetcode.com/problems/find-the-index-o...</td>\n",
       "      <td>1</td>\n",
       "      <td>Find the Index of the First Occurrence in a St...</td>\n",
       "      <td>28</td>\n",
       "      <td>&lt;html style=\"color-scheme: light;\" data-theme=...</td>\n",
       "    </tr>\n",
       "    <tr>\n",
       "      <th>29</th>\n",
       "      <td>https://leetcode.com/problems/divide-two-integ...</td>\n",
       "      <td>1</td>\n",
       "      <td>Divide Two Integers</td>\n",
       "      <td>29</td>\n",
       "      <td>&lt;html style=\"color-scheme: light;\" data-theme=...</td>\n",
       "    </tr>\n",
       "    <tr>\n",
       "      <th>30</th>\n",
       "      <td>https://leetcode.com/problems/substring-with-c...</td>\n",
       "      <td>1</td>\n",
       "      <td>Substring with Concatenation of All Words</td>\n",
       "      <td>30</td>\n",
       "      <td>&lt;html style=\"color-scheme: light;\" data-theme=...</td>\n",
       "    </tr>\n",
       "    <tr>\n",
       "      <th>31</th>\n",
       "      <td>https://leetcode.com/problems/next-permutation/</td>\n",
       "      <td>1</td>\n",
       "      <td>Next Permutation</td>\n",
       "      <td>31</td>\n",
       "      <td>&lt;html style=\"color-scheme: light;\" data-theme=...</td>\n",
       "    </tr>\n",
       "    <tr>\n",
       "      <th>32</th>\n",
       "      <td>https://leetcode.com/problems/longest-valid-pa...</td>\n",
       "      <td>1</td>\n",
       "      <td>Longest Valid Parentheses</td>\n",
       "      <td>32</td>\n",
       "      <td>&lt;html style=\"color-scheme: light;\" data-theme=...</td>\n",
       "    </tr>\n",
       "    <tr>\n",
       "      <th>33</th>\n",
       "      <td>https://leetcode.com/problems/search-in-rotate...</td>\n",
       "      <td>1</td>\n",
       "      <td>Search in Rotated Sorted Array</td>\n",
       "      <td>33</td>\n",
       "      <td>&lt;html style=\"color-scheme: light;\" data-theme=...</td>\n",
       "    </tr>\n",
       "    <tr>\n",
       "      <th>34</th>\n",
       "      <td>https://leetcode.com/problems/find-first-and-l...</td>\n",
       "      <td>1</td>\n",
       "      <td>Find First and Last Position of Element in Sor...</td>\n",
       "      <td>34</td>\n",
       "      <td>&lt;html style=\"color-scheme: light;\" data-theme=...</td>\n",
       "    </tr>\n",
       "    <tr>\n",
       "      <th>35</th>\n",
       "      <td>https://leetcode.com/problems/search-insert-po...</td>\n",
       "      <td>1</td>\n",
       "      <td>Search Insert Position</td>\n",
       "      <td>35</td>\n",
       "      <td>&lt;html style=\"color-scheme: light;\" data-theme=...</td>\n",
       "    </tr>\n",
       "    <tr>\n",
       "      <th>36</th>\n",
       "      <td>https://leetcode.com/problems/valid-sudoku/</td>\n",
       "      <td>1</td>\n",
       "      <td>Valid Sudoku</td>\n",
       "      <td>36</td>\n",
       "      <td>&lt;html style=\"color-scheme: light;\" data-theme=...</td>\n",
       "    </tr>\n",
       "    <tr>\n",
       "      <th>37</th>\n",
       "      <td>https://leetcode.com/problems/sudoku-solver/</td>\n",
       "      <td>1</td>\n",
       "      <td>Sudoku Solver</td>\n",
       "      <td>37</td>\n",
       "      <td>&lt;html style=\"color-scheme: light;\" data-theme=...</td>\n",
       "    </tr>\n",
       "    <tr>\n",
       "      <th>38</th>\n",
       "      <td>https://leetcode.com/problems/count-and-say/</td>\n",
       "      <td>1</td>\n",
       "      <td>Count and Say</td>\n",
       "      <td>38</td>\n",
       "      <td>&lt;html style=\"color-scheme: light;\" data-theme=...</td>\n",
       "    </tr>\n",
       "    <tr>\n",
       "      <th>39</th>\n",
       "      <td>https://leetcode.com/problems/combination-sum/</td>\n",
       "      <td>1</td>\n",
       "      <td>Combination Sum</td>\n",
       "      <td>39</td>\n",
       "      <td>&lt;html style=\"color-scheme: light;\" data-theme=...</td>\n",
       "    </tr>\n",
       "    <tr>\n",
       "      <th>40</th>\n",
       "      <td>https://leetcode.com/problems/combination-sum-ii/</td>\n",
       "      <td>1</td>\n",
       "      <td>Combination Sum II</td>\n",
       "      <td>40</td>\n",
       "      <td>&lt;html style=\"color-scheme: light;\" data-theme=...</td>\n",
       "    </tr>\n",
       "    <tr>\n",
       "      <th>41</th>\n",
       "      <td>https://leetcode.com/problems/first-missing-po...</td>\n",
       "      <td>1</td>\n",
       "      <td>First Missing Positive</td>\n",
       "      <td>41</td>\n",
       "      <td>&lt;html style=\"color-scheme: light;\" data-theme=...</td>\n",
       "    </tr>\n",
       "    <tr>\n",
       "      <th>42</th>\n",
       "      <td>https://leetcode.com/problems/trapping-rain-wa...</td>\n",
       "      <td>1</td>\n",
       "      <td>Trapping Rain Water</td>\n",
       "      <td>42</td>\n",
       "      <td>&lt;html style=\"color-scheme: light;\" data-theme=...</td>\n",
       "    </tr>\n",
       "    <tr>\n",
       "      <th>43</th>\n",
       "      <td>https://leetcode.com/problems/multiply-strings/</td>\n",
       "      <td>1</td>\n",
       "      <td>Multiply Strings</td>\n",
       "      <td>43</td>\n",
       "      <td>&lt;html style=\"color-scheme: light;\" data-theme=...</td>\n",
       "    </tr>\n",
       "    <tr>\n",
       "      <th>44</th>\n",
       "      <td>https://leetcode.com/problems/wildcard-matching/</td>\n",
       "      <td>1</td>\n",
       "      <td>Wildcard Matching</td>\n",
       "      <td>44</td>\n",
       "      <td>&lt;html style=\"color-scheme: light;\" data-theme=...</td>\n",
       "    </tr>\n",
       "    <tr>\n",
       "      <th>45</th>\n",
       "      <td>https://leetcode.com/problems/jump-game-ii/</td>\n",
       "      <td>1</td>\n",
       "      <td>Jump Game II</td>\n",
       "      <td>45</td>\n",
       "      <td>&lt;html style=\"color-scheme: light;\" data-theme=...</td>\n",
       "    </tr>\n",
       "    <tr>\n",
       "      <th>46</th>\n",
       "      <td>https://leetcode.com/problems/permutations/</td>\n",
       "      <td>1</td>\n",
       "      <td>Permutations</td>\n",
       "      <td>46</td>\n",
       "      <td>&lt;html style=\"color-scheme: light;\" data-theme=...</td>\n",
       "    </tr>\n",
       "    <tr>\n",
       "      <th>47</th>\n",
       "      <td>https://leetcode.com/problems/permutations-ii/</td>\n",
       "      <td>1</td>\n",
       "      <td>Permutations II</td>\n",
       "      <td>47</td>\n",
       "      <td>&lt;html style=\"color-scheme: light;\" data-theme=...</td>\n",
       "    </tr>\n",
       "    <tr>\n",
       "      <th>48</th>\n",
       "      <td>https://leetcode.com/problems/rotate-image/</td>\n",
       "      <td>1</td>\n",
       "      <td>Rotate Image</td>\n",
       "      <td>48</td>\n",
       "      <td>&lt;html style=\"color-scheme: light;\" data-theme=...</td>\n",
       "    </tr>\n",
       "    <tr>\n",
       "      <th>49</th>\n",
       "      <td>https://leetcode.com/problems/group-anagrams/</td>\n",
       "      <td>1</td>\n",
       "      <td>Group Anagrams</td>\n",
       "      <td>49</td>\n",
       "      <td>&lt;html style=\"color-scheme: light;\" data-theme=...</td>\n",
       "    </tr>\n",
       "    <tr>\n",
       "      <th>50</th>\n",
       "      <td>https://leetcode.com/problems/powx-n/</td>\n",
       "      <td>1</td>\n",
       "      <td>Pow x n</td>\n",
       "      <td>50</td>\n",
       "      <td>&lt;html style=\"color-scheme: light;\" data-theme=...</td>\n",
       "    </tr>\n",
       "  </tbody>\n",
       "</table>\n",
       "</div>"
      ],
      "text/plain": [
       "                                                  url  page  \\\n",
       "0   https://leetcode.com/problems/convert-sorted-l...     1   \n",
       "1              https://leetcode.com/problems/two-sum/     1   \n",
       "2      https://leetcode.com/problems/add-two-numbers/     1   \n",
       "3   https://leetcode.com/problems/longest-substrin...     1   \n",
       "4   https://leetcode.com/problems/median-of-two-so...     1   \n",
       "5   https://leetcode.com/problems/longest-palindro...     1   \n",
       "6    https://leetcode.com/problems/zigzag-conversion/     1   \n",
       "7      https://leetcode.com/problems/reverse-integer/     1   \n",
       "8   https://leetcode.com/problems/string-to-intege...     1   \n",
       "9    https://leetcode.com/problems/palindrome-number/     1   \n",
       "10  https://leetcode.com/problems/regular-expressi...     1   \n",
       "11  https://leetcode.com/problems/container-with-m...     1   \n",
       "12    https://leetcode.com/problems/integer-to-roman/     1   \n",
       "13    https://leetcode.com/problems/roman-to-integer/     1   \n",
       "14  https://leetcode.com/problems/longest-common-p...     1   \n",
       "15                https://leetcode.com/problems/3sum/     1   \n",
       "16        https://leetcode.com/problems/3sum-closest/     1   \n",
       "17  https://leetcode.com/problems/letter-combinati...     1   \n",
       "18                https://leetcode.com/problems/4sum/     1   \n",
       "19  https://leetcode.com/problems/remove-nth-node-...     1   \n",
       "20   https://leetcode.com/problems/valid-parentheses/     1   \n",
       "21  https://leetcode.com/problems/merge-two-sorted...     1   \n",
       "22  https://leetcode.com/problems/generate-parenth...     1   \n",
       "23  https://leetcode.com/problems/merge-k-sorted-l...     1   \n",
       "24  https://leetcode.com/problems/swap-nodes-in-pa...     1   \n",
       "25  https://leetcode.com/problems/reverse-nodes-in...     1   \n",
       "26  https://leetcode.com/problems/remove-duplicate...     1   \n",
       "27      https://leetcode.com/problems/remove-element/     1   \n",
       "28  https://leetcode.com/problems/find-the-index-o...     1   \n",
       "29  https://leetcode.com/problems/divide-two-integ...     1   \n",
       "30  https://leetcode.com/problems/substring-with-c...     1   \n",
       "31    https://leetcode.com/problems/next-permutation/     1   \n",
       "32  https://leetcode.com/problems/longest-valid-pa...     1   \n",
       "33  https://leetcode.com/problems/search-in-rotate...     1   \n",
       "34  https://leetcode.com/problems/find-first-and-l...     1   \n",
       "35  https://leetcode.com/problems/search-insert-po...     1   \n",
       "36        https://leetcode.com/problems/valid-sudoku/     1   \n",
       "37       https://leetcode.com/problems/sudoku-solver/     1   \n",
       "38       https://leetcode.com/problems/count-and-say/     1   \n",
       "39     https://leetcode.com/problems/combination-sum/     1   \n",
       "40  https://leetcode.com/problems/combination-sum-ii/     1   \n",
       "41  https://leetcode.com/problems/first-missing-po...     1   \n",
       "42  https://leetcode.com/problems/trapping-rain-wa...     1   \n",
       "43    https://leetcode.com/problems/multiply-strings/     1   \n",
       "44   https://leetcode.com/problems/wildcard-matching/     1   \n",
       "45        https://leetcode.com/problems/jump-game-ii/     1   \n",
       "46        https://leetcode.com/problems/permutations/     1   \n",
       "47     https://leetcode.com/problems/permutations-ii/     1   \n",
       "48        https://leetcode.com/problems/rotate-image/     1   \n",
       "49      https://leetcode.com/problems/group-anagrams/     1   \n",
       "50              https://leetcode.com/problems/powx-n/     1   \n",
       "\n",
       "                                             alg_name alg_number  \\\n",
       "0                                                           None   \n",
       "1                                             Two Sum          1   \n",
       "2                                     Add Two Numbers          2   \n",
       "3      Longest Substring Without Repeating Characters          3   \n",
       "4                         Median of Two Sorted Arrays          4   \n",
       "5                       Longest Palindromic Substring          5   \n",
       "6                                   Zigzag Conversion          6   \n",
       "7                                     Reverse Integer          7   \n",
       "8                              String to Integer atoi          8   \n",
       "9                                   Palindrome Number          9   \n",
       "10                        Regular Expression Matching         10   \n",
       "11                          Container With Most Water         11   \n",
       "12                                   Integer to Roman         12   \n",
       "13                                   Roman to Integer         13   \n",
       "14                              Longest Common Prefix         14   \n",
       "15                                                Sum         15   \n",
       "16                                        Sum Closest         16   \n",
       "17              Letter Combinations of a Phone Number         17   \n",
       "18                                                Sum         18   \n",
       "19                   Remove Nth Node From End of List         19   \n",
       "20                                  Valid Parentheses         20   \n",
       "21                             Merge Two Sorted Lists         21   \n",
       "22                               Generate Parentheses         22   \n",
       "23                               Merge k Sorted Lists         23   \n",
       "24                                Swap Nodes in Pairs         24   \n",
       "25                           Reverse Nodes in k Group         25   \n",
       "26                Remove Duplicates from Sorted Array         26   \n",
       "27                                     Remove Element         27   \n",
       "28  Find the Index of the First Occurrence in a St...         28   \n",
       "29                                Divide Two Integers         29   \n",
       "30          Substring with Concatenation of All Words         30   \n",
       "31                                   Next Permutation         31   \n",
       "32                          Longest Valid Parentheses         32   \n",
       "33                     Search in Rotated Sorted Array         33   \n",
       "34  Find First and Last Position of Element in Sor...         34   \n",
       "35                             Search Insert Position         35   \n",
       "36                                       Valid Sudoku         36   \n",
       "37                                      Sudoku Solver         37   \n",
       "38                                      Count and Say         38   \n",
       "39                                    Combination Sum         39   \n",
       "40                                 Combination Sum II         40   \n",
       "41                             First Missing Positive         41   \n",
       "42                                Trapping Rain Water         42   \n",
       "43                                   Multiply Strings         43   \n",
       "44                                  Wildcard Matching         44   \n",
       "45                                       Jump Game II         45   \n",
       "46                                       Permutations         46   \n",
       "47                                    Permutations II         47   \n",
       "48                                       Rotate Image         48   \n",
       "49                                     Group Anagrams         49   \n",
       "50                                            Pow x n         50   \n",
       "\n",
       "                                            html_page  \n",
       "0   <html style=\"color-scheme: light;\" data-theme=...  \n",
       "1   <html style=\"color-scheme: light;\" data-theme=...  \n",
       "2   <html style=\"color-scheme: light;\" data-theme=...  \n",
       "3   <html style=\"color-scheme: light;\" data-theme=...  \n",
       "4   <html style=\"color-scheme: light;\" data-theme=...  \n",
       "5   <html style=\"color-scheme: light;\" data-theme=...  \n",
       "6   <html style=\"color-scheme: light;\" data-theme=...  \n",
       "7   <html style=\"color-scheme: light;\" data-theme=...  \n",
       "8   <html style=\"color-scheme: light;\" data-theme=...  \n",
       "9   <html style=\"color-scheme: light;\" data-theme=...  \n",
       "10  <html style=\"color-scheme: light;\" data-theme=...  \n",
       "11  <html style=\"color-scheme: light;\" data-theme=...  \n",
       "12  <html style=\"color-scheme: light;\" data-theme=...  \n",
       "13  <html style=\"color-scheme: light;\" data-theme=...  \n",
       "14  <html style=\"color-scheme: light;\" data-theme=...  \n",
       "15  <html style=\"color-scheme: light;\" data-theme=...  \n",
       "16  <html style=\"color-scheme: light;\" data-theme=...  \n",
       "17  <html style=\"color-scheme: light;\" data-theme=...  \n",
       "18  <html style=\"color-scheme: light;\" data-theme=...  \n",
       "19  <html style=\"color-scheme: light;\" data-theme=...  \n",
       "20  <html style=\"color-scheme: light;\" data-theme=...  \n",
       "21  <html style=\"color-scheme: light;\" data-theme=...  \n",
       "22  <html style=\"color-scheme: light;\" data-theme=...  \n",
       "23  <html style=\"color-scheme: light;\" data-theme=...  \n",
       "24  <html style=\"color-scheme: light;\" data-theme=...  \n",
       "25  <html style=\"color-scheme: light;\" data-theme=...  \n",
       "26  <html style=\"color-scheme: light;\" data-theme=...  \n",
       "27  <html style=\"color-scheme: light;\" data-theme=...  \n",
       "28  <html style=\"color-scheme: light;\" data-theme=...  \n",
       "29  <html style=\"color-scheme: light;\" data-theme=...  \n",
       "30  <html style=\"color-scheme: light;\" data-theme=...  \n",
       "31  <html style=\"color-scheme: light;\" data-theme=...  \n",
       "32  <html style=\"color-scheme: light;\" data-theme=...  \n",
       "33  <html style=\"color-scheme: light;\" data-theme=...  \n",
       "34  <html style=\"color-scheme: light;\" data-theme=...  \n",
       "35  <html style=\"color-scheme: light;\" data-theme=...  \n",
       "36  <html style=\"color-scheme: light;\" data-theme=...  \n",
       "37  <html style=\"color-scheme: light;\" data-theme=...  \n",
       "38  <html style=\"color-scheme: light;\" data-theme=...  \n",
       "39  <html style=\"color-scheme: light;\" data-theme=...  \n",
       "40  <html style=\"color-scheme: light;\" data-theme=...  \n",
       "41  <html style=\"color-scheme: light;\" data-theme=...  \n",
       "42  <html style=\"color-scheme: light;\" data-theme=...  \n",
       "43  <html style=\"color-scheme: light;\" data-theme=...  \n",
       "44  <html style=\"color-scheme: light;\" data-theme=...  \n",
       "45  <html style=\"color-scheme: light;\" data-theme=...  \n",
       "46  <html style=\"color-scheme: light;\" data-theme=...  \n",
       "47  <html style=\"color-scheme: light;\" data-theme=...  \n",
       "48  <html style=\"color-scheme: light;\" data-theme=...  \n",
       "49  <html style=\"color-scheme: light;\" data-theme=...  \n",
       "50  <html style=\"color-scheme: light;\" data-theme=...  "
      ]
     },
     "execution_count": 11,
     "metadata": {},
     "output_type": "execute_result"
    }
   ],
   "source": [
    "df"
   ]
  },
  {
   "cell_type": "code",
   "execution_count": 16,
   "metadata": {
    "collapsed": false,
    "jupyter": {
     "outputs_hidden": false
    }
   },
   "outputs": [
    {
     "data": {
      "text/html": [
       "<div>\n",
       "<style scoped>\n",
       "    .dataframe tbody tr th:only-of-type {\n",
       "        vertical-align: middle;\n",
       "    }\n",
       "\n",
       "    .dataframe tbody tr th {\n",
       "        vertical-align: top;\n",
       "    }\n",
       "\n",
       "    .dataframe thead th {\n",
       "        text-align: right;\n",
       "    }\n",
       "</style>\n",
       "<table border=\"1\" class=\"dataframe\">\n",
       "  <thead>\n",
       "    <tr style=\"text-align: right;\">\n",
       "      <th></th>\n",
       "      <th>url</th>\n",
       "      <th>page</th>\n",
       "      <th>alg_name</th>\n",
       "      <th>alg_number</th>\n",
       "    </tr>\n",
       "  </thead>\n",
       "  <tbody>\n",
       "    <tr>\n",
       "      <th>0</th>\n",
       "      <td>https://leetcode.com/problems/convert-sorted-l...</td>\n",
       "      <td>1</td>\n",
       "      <td></td>\n",
       "      <td>None</td>\n",
       "    </tr>\n",
       "    <tr>\n",
       "      <th>109</th>\n",
       "      <td>https://leetcode.com/problems/convert-sorted-l...</td>\n",
       "      <td>3</td>\n",
       "      <td>Convert Sorted List to Binary Search Tree</td>\n",
       "      <td>109</td>\n",
       "    </tr>\n",
       "  </tbody>\n",
       "</table>\n",
       "</div>"
      ],
      "text/plain": [
       "                                                   url  page  \\\n",
       "0    https://leetcode.com/problems/convert-sorted-l...     1   \n",
       "109  https://leetcode.com/problems/convert-sorted-l...     3   \n",
       "\n",
       "                                      alg_name alg_number  \n",
       "0                                                    None  \n",
       "109  Convert Sorted List to Binary Search Tree        109  "
      ]
     },
     "execution_count": 16,
     "metadata": {},
     "output_type": "execute_result"
    }
   ],
   "source": [
    "df[df.url == 'https://leetcode.com/problems/convert-sorted-list-to-binary-search-tree/']"
   ]
  },
  {
   "cell_type": "code",
   "execution_count": 14,
   "metadata": {
    "collapsed": false,
    "jupyter": {
     "outputs_hidden": false
    }
   },
   "outputs": [
    {
     "data": {
      "text/html": [
       "<div>\n",
       "<style scoped>\n",
       "    .dataframe tbody tr th:only-of-type {\n",
       "        vertical-align: middle;\n",
       "    }\n",
       "\n",
       "    .dataframe tbody tr th {\n",
       "        vertical-align: top;\n",
       "    }\n",
       "\n",
       "    .dataframe thead th {\n",
       "        text-align: right;\n",
       "    }\n",
       "</style>\n",
       "<table border=\"1\" class=\"dataframe\">\n",
       "  <thead>\n",
       "    <tr style=\"text-align: right;\">\n",
       "      <th></th>\n",
       "      <th>url</th>\n",
       "      <th>page</th>\n",
       "      <th>alg_name</th>\n",
       "      <th>alg_number</th>\n",
       "    </tr>\n",
       "  </thead>\n",
       "  <tbody>\n",
       "    <tr>\n",
       "      <th>0</th>\n",
       "      <td>https://leetcode.com/problems/convert-sorted-l...</td>\n",
       "      <td>1</td>\n",
       "      <td></td>\n",
       "      <td>None</td>\n",
       "    </tr>\n",
       "  </tbody>\n",
       "</table>\n",
       "</div>"
      ],
      "text/plain": [
       "                                                 url  page alg_name alg_number\n",
       "0  https://leetcode.com/problems/convert-sorted-l...     1                None"
      ]
     },
     "execution_count": 14,
     "metadata": {},
     "output_type": "execute_result"
    }
   ],
   "source": [
    "df[df.alg_name == '']"
   ]
  },
  {
   "cell_type": "code",
   "execution_count": 17,
   "metadata": {
    "collapsed": false,
    "jupyter": {
     "outputs_hidden": false
    }
   },
   "outputs": [
    {
     "data": {
      "text/plain": [
       "https://leetcode.com/problems/convert-sorted-list-to-binary-search-tree/    2\n",
       "https://leetcode.com/problems/binary-tree-inorder-traversal/                1\n",
       "https://leetcode.com/problems/unique-binary-search-trees/                   1\n",
       "https://leetcode.com/problems/interleaving-string/                          1\n",
       "https://leetcode.com/problems/validate-binary-search-tree/                  1\n",
       "                                                                           ..\n",
       "https://leetcode.com/problems/powx-n/                                       1\n",
       "https://leetcode.com/problems/n-queens/                                     1\n",
       "https://leetcode.com/problems/n-queens-ii/                                  1\n",
       "https://leetcode.com/problems/maximum-subarray/                             1\n",
       "https://leetcode.com/problems/evaluate-reverse-polish-notation/             1\n",
       "Name: url, Length: 150, dtype: int64"
      ]
     },
     "execution_count": 17,
     "metadata": {},
     "output_type": "execute_result"
    }
   ],
   "source": [
    "df.url.value_counts()"
   ]
  },
  {
   "cell_type": "code",
   "execution_count": 11,
   "metadata": {
    "collapsed": false,
    "jupyter": {
     "outputs_hidden": false
    }
   },
   "outputs": [
    {
     "data": {
      "text/plain": [
       "Sum                                 2\n",
       "                                    1\n",
       "Maximum Depth of Binary Tree        1\n",
       "Validate Binary Search Tree         1\n",
       "Recover Binary Search Tree          1\n",
       "                                   ..\n",
       "N Queens II                         1\n",
       "Maximum Subarray                    1\n",
       "Spiral Matrix                       1\n",
       "Jump Game                           1\n",
       "Evaluate Reverse Polish Notation    1\n",
       "Name: alg_name, Length: 150, dtype: int64"
      ]
     },
     "execution_count": 11,
     "metadata": {},
     "output_type": "execute_result"
    }
   ],
   "source": [
    "df.alg_name.value_counts()"
   ]
  },
  {
   "cell_type": "code",
   "execution_count": 18,
   "metadata": {
    "tags": []
   },
   "outputs": [
    {
     "data": {
      "text/html": [
       "<div>\n",
       "<style scoped>\n",
       "    .dataframe tbody tr th:only-of-type {\n",
       "        vertical-align: middle;\n",
       "    }\n",
       "\n",
       "    .dataframe tbody tr th {\n",
       "        vertical-align: top;\n",
       "    }\n",
       "\n",
       "    .dataframe thead th {\n",
       "        text-align: right;\n",
       "    }\n",
       "</style>\n",
       "<table border=\"1\" class=\"dataframe\">\n",
       "  <thead>\n",
       "    <tr style=\"text-align: right;\">\n",
       "      <th></th>\n",
       "      <th>url</th>\n",
       "      <th>page</th>\n",
       "      <th>alg_name</th>\n",
       "      <th>alg_number</th>\n",
       "    </tr>\n",
       "  </thead>\n",
       "  <tbody>\n",
       "    <tr>\n",
       "      <th>0</th>\n",
       "      <td>https://leetcode.com/problems/convert-sorted-l...</td>\n",
       "      <td>1</td>\n",
       "      <td></td>\n",
       "      <td>None</td>\n",
       "    </tr>\n",
       "    <tr>\n",
       "      <th>1</th>\n",
       "      <td>https://leetcode.com/problems/two-sum/</td>\n",
       "      <td>1</td>\n",
       "      <td>Two Sum</td>\n",
       "      <td>1</td>\n",
       "    </tr>\n",
       "    <tr>\n",
       "      <th>2</th>\n",
       "      <td>https://leetcode.com/problems/add-two-numbers/</td>\n",
       "      <td>1</td>\n",
       "      <td>Add Two Numbers</td>\n",
       "      <td>2</td>\n",
       "    </tr>\n",
       "    <tr>\n",
       "      <th>3</th>\n",
       "      <td>https://leetcode.com/problems/longest-substrin...</td>\n",
       "      <td>1</td>\n",
       "      <td>Longest Substring Without Repeating Characters</td>\n",
       "      <td>3</td>\n",
       "    </tr>\n",
       "    <tr>\n",
       "      <th>4</th>\n",
       "      <td>https://leetcode.com/problems/median-of-two-so...</td>\n",
       "      <td>1</td>\n",
       "      <td>Median of Two Sorted Arrays</td>\n",
       "      <td>4</td>\n",
       "    </tr>\n",
       "    <tr>\n",
       "      <th>...</th>\n",
       "      <td>...</td>\n",
       "      <td>...</td>\n",
       "      <td>...</td>\n",
       "      <td>...</td>\n",
       "    </tr>\n",
       "    <tr>\n",
       "      <th>146</th>\n",
       "      <td>https://leetcode.com/problems/lru-cache/</td>\n",
       "      <td>3</td>\n",
       "      <td>LRU Cache</td>\n",
       "      <td>146</td>\n",
       "    </tr>\n",
       "    <tr>\n",
       "      <th>147</th>\n",
       "      <td>https://leetcode.com/problems/insertion-sort-l...</td>\n",
       "      <td>3</td>\n",
       "      <td>Insertion Sort List</td>\n",
       "      <td>147</td>\n",
       "    </tr>\n",
       "    <tr>\n",
       "      <th>148</th>\n",
       "      <td>https://leetcode.com/problems/sort-list/</td>\n",
       "      <td>3</td>\n",
       "      <td>Sort List</td>\n",
       "      <td>148</td>\n",
       "    </tr>\n",
       "    <tr>\n",
       "      <th>149</th>\n",
       "      <td>https://leetcode.com/problems/max-points-on-a-...</td>\n",
       "      <td>3</td>\n",
       "      <td>Max Points on a Line</td>\n",
       "      <td>149</td>\n",
       "    </tr>\n",
       "    <tr>\n",
       "      <th>150</th>\n",
       "      <td>https://leetcode.com/problems/evaluate-reverse...</td>\n",
       "      <td>3</td>\n",
       "      <td>Evaluate Reverse Polish Notation</td>\n",
       "      <td>150</td>\n",
       "    </tr>\n",
       "  </tbody>\n",
       "</table>\n",
       "<p>151 rows × 4 columns</p>\n",
       "</div>"
      ],
      "text/plain": [
       "                                                   url  page  \\\n",
       "0    https://leetcode.com/problems/convert-sorted-l...     1   \n",
       "1               https://leetcode.com/problems/two-sum/     1   \n",
       "2       https://leetcode.com/problems/add-two-numbers/     1   \n",
       "3    https://leetcode.com/problems/longest-substrin...     1   \n",
       "4    https://leetcode.com/problems/median-of-two-so...     1   \n",
       "..                                                 ...   ...   \n",
       "146           https://leetcode.com/problems/lru-cache/     3   \n",
       "147  https://leetcode.com/problems/insertion-sort-l...     3   \n",
       "148           https://leetcode.com/problems/sort-list/     3   \n",
       "149  https://leetcode.com/problems/max-points-on-a-...     3   \n",
       "150  https://leetcode.com/problems/evaluate-reverse...     3   \n",
       "\n",
       "                                           alg_name alg_number  \n",
       "0                                                         None  \n",
       "1                                           Two Sum          1  \n",
       "2                                   Add Two Numbers          2  \n",
       "3    Longest Substring Without Repeating Characters          3  \n",
       "4                       Median of Two Sorted Arrays          4  \n",
       "..                                              ...        ...  \n",
       "146                                       LRU Cache        146  \n",
       "147                             Insertion Sort List        147  \n",
       "148                                       Sort List        148  \n",
       "149                            Max Points on a Line        149  \n",
       "150                Evaluate Reverse Polish Notation        150  \n",
       "\n",
       "[151 rows x 4 columns]"
      ]
     },
     "execution_count": 18,
     "metadata": {},
     "output_type": "execute_result"
    }
   ],
   "source": [
    "df.to_parquet(PATH_SAVE_)"
   ]
  },
  {
   "cell_type": "code",
   "execution_count": 11,
   "metadata": {
    "tags": []
   },
   "outputs": [
    {
     "data": {
      "text/plain": [
       "'https://leetcode.com/problems/two-sum/'"
      ]
     },
     "execution_count": 11,
     "metadata": {},
     "output_type": "execute_result"
    }
   ],
   "source": [
    "df.url.loc[0]"
   ]
  },
  {
   "cell_type": "code",
   "execution_count": null,
   "metadata": {},
   "outputs": [],
   "source": [
    "https: // leetcode.com / problems / two - sum /"
   ]
  },
  {
   "cell_type": "code",
   "execution_count": 63,
   "metadata": {
    "tags": []
   },
   "outputs": [
    {
     "data": {
      "text/plain": [
       "<div class=\"odd:bg-layer-1 even:bg-overlay-1 dark:odd:bg-dark-layer-bg dark:even:bg-dark-fill-4\" role=\"row\" style=\"display:flex;flex:1 0 auto;min-width:0px\"><div class=\"mx-2 py-[11px]\" role=\"cell\" style=\"box-sizing:border-box;flex:52 0 auto;min-width:0px;width:52px\"></div><div class=\"mx-2 py-[11px]\" role=\"cell\" style=\"box-sizing:border-box;flex:260 0 auto;min-width:0px;width:260px\"><div class=\"max-w-[302px] flex items-center\"><div class=\"overflow-hidden\"><div class=\"flex items-center\"><div class=\"truncate\"><a class=\"h-5 hover:text-blue-s dark:hover:text-dark-blue-s\" href=\"/problems/two-sum/\">1<!-- -->. <!-- -->Two Sum</a></div></div></div></div></div><div class=\"mx-2 py-[11px]\" role=\"cell\" style=\"box-sizing:border-box;flex:84 0 auto;min-width:0px;width:84px\"></div><div class=\"mx-2 py-[11px]\" role=\"cell\" style=\"box-sizing:border-box;flex:54 0 auto;min-width:0px;width:54px\"><a aria-label=\"solution\" class=\"truncate\" href=\"/problems/two-sum/solution\"><svg class=\"h-5 w-5 text-purple dark:text-dark-purple\" fill=\"currentColor\" height=\"1em\" viewbox=\"0 0 24 24\" width=\"1em\" xmlns=\"http://www.w3.org/2000/svg\"><path d=\"M10 15.464v-3.927a.8.8 0 011.259-.656l2.805 1.964a.8.8 0 010 1.31l-2.805 1.964A.8.8 0 0110 15.464z\"></path><path d=\"M7 4a1 1 0 00-1 1v14a1 1 0 001 1h10a1 1 0 001-1V9h-3a2 2 0 01-2-2V4H7zm8 .6V7h1.92L15 4.6zM4 5a3 3 0 013-3h7.039a3 3 0 012.342 1.126l2.962 3.701A3 3 0 0120 8.702V19a3 3 0 01-3 3H7a3 3 0 01-3-3V5z\"></path></svg></a></div><div class=\"mx-2 py-[11px]\" role=\"cell\" style=\"box-sizing:border-box;flex:100 0 auto;min-width:0px;width:100px\"><span>49.6%</span></div><div class=\"mx-2 py-[11px]\" role=\"cell\" style=\"box-sizing:border-box;flex:84 0 auto;min-width:0px;width:84px\"><span class=\"text-olive dark:text-dark-olive\">Easy</span></div><div class=\"mx-2 py-[11px]\" role=\"cell\" style=\"box-sizing:border-box;flex:84 0 auto;min-width:0px;width:84px\"><div class=\"w-fill flex h-full flex-row items-center\"><span class=\"h-2 flex-1 rounded-l-lg bg-fill-3 dark:bg-dark-fill-3\"></span><svg class=\"flex-0 -mt-1.5 h-5 w-5 text-gray-5 dark:text-gray-7\" fill=\"currentColor\" height=\"1em\" viewbox=\"0 0 24 24\" width=\"1em\" xmlns=\"http://www.w3.org/2000/svg\"><path clip-rule=\"evenodd\" d=\"M7 8v2H6a3 3 0 00-3 3v6a3 3 0 003 3h12a3 3 0 003-3v-6a3 3 0 00-3-3h-1V8A5 5 0 007 8zm8 0v2H9V8a3 3 0 116 0zm-3 6a2 2 0 100 4 2 2 0 000-4z\" fill-rule=\"evenodd\"></path></svg><span class=\"h-2 flex-1 rounded-r-lg bg-fill-3 dark:bg-dark-fill-3\"></span></div></div></div>"
      ]
     },
     "execution_count": 63,
     "metadata": {},
     "output_type": "execute_result"
    }
   ],
   "source": [
    "links = soup.find_all(class_=\"odd:bg-layer-1 even:bg-overlay-1 dark:odd:bg-dark-layer-bg dark:even:bg-dark-fill-4\")\n",
    "links[0]  # .find_all('a')[0]"
   ]
  },
  {
   "cell_type": "code",
   "execution_count": 97,
   "metadata": {
    "tags": []
   },
   "outputs": [
    {
     "data": {
      "text/plain": [
       "'Two Sum'"
      ]
     },
     "execution_count": 97,
     "metadata": {},
     "output_type": "execute_result"
    }
   ],
   "source": []
  },
  {
   "cell_type": "code",
   "execution_count": 74,
   "metadata": {
    "tags": []
   },
   "outputs": [
    {
     "data": {
      "text/plain": [
       "'1. Two Sum'"
      ]
     },
     "execution_count": 74,
     "metadata": {},
     "output_type": "execute_result"
    }
   ],
   "source": [
    "links[0].find('a').text"
   ]
  },
  {
   "cell_type": "code",
   "execution_count": 71,
   "metadata": {
    "tags": []
   },
   "outputs": [
    {
     "data": {
      "text/plain": [
       "'/problems/two-sum/'"
      ]
     },
     "execution_count": 71,
     "metadata": {},
     "output_type": "execute_result"
    }
   ],
   "source": [
    "links[0].find('a')['href']"
   ]
  },
  {
   "cell_type": "code",
   "execution_count": null,
   "metadata": {},
   "outputs": [],
   "source": [
    "re2 = re"
   ]
  },
  {
   "cell_type": "code",
   "execution_count": 86,
   "metadata": {
    "tags": []
   },
   "outputs": [
    {
     "ename": "KeyError",
     "evalue": "0",
     "output_type": "error",
     "traceback": [
      "\u001b[0;31m---------------------------------------------------------------------------\u001b[0m",
      "\u001b[0;31mKeyError\u001b[0m                                  Traceback (most recent call last)",
      "Cell \u001b[0;32mIn[86], line 1\u001b[0m\n\u001b[0;32m----> 1\u001b[0m s2 \u001b[38;5;241m=\u001b[39m BeautifulSoup(\u001b[43mres_data\u001b[49m\u001b[43m[\u001b[49m\u001b[38;5;241;43m0\u001b[39;49m\u001b[43m]\u001b[49m[\u001b[38;5;124m'\u001b[39m\u001b[38;5;124mdata\u001b[39m\u001b[38;5;124m'\u001b[39m], \u001b[38;5;124m'\u001b[39m\u001b[38;5;124mhtml.parser\u001b[39m\u001b[38;5;124m'\u001b[39m)\n",
      "\u001b[0;31mKeyError\u001b[0m: 0"
     ]
    }
   ],
   "source": [
    "s2 = BeautifulSoup(res_data[0]['data'], 'html.parser')"
   ]
  },
  {
   "cell_type": "code",
   "execution_count": null,
   "metadata": {
    "collapsed": false,
    "jupyter": {
     "outputs_hidden": false
    }
   },
   "outputs": [],
   "source": []
  },
  {
   "cell_type": "code",
   "execution_count": 25,
   "metadata": {
    "collapsed": false,
    "jupyter": {
     "outputs_hidden": false
    }
   },
   "outputs": [],
   "source": [
    "headers = {'Content-type': 'application/json'}"
   ]
  },
  {
   "cell_type": "code",
   "execution_count": 39,
   "metadata": {
    "collapsed": false,
    "jupyter": {
     "outputs_hidden": false
    }
   },
   "outputs": [],
   "source": [
    "data = {\n",
    "    \"query\": \"\\n    query problemsetQuestionList($categorySlug: String, $limit: Int, $skip: Int, $filters: QuestionListFilterInput) {\\n  problemsetQuestionList: questionList(\\n    categorySlug: $categorySlug\\n    limit: $limit\\n    skip: $skip\\n    filters: $filters\\n  ) {\\n    total: totalNum\\n    questions: data {\\n      acRate\\n      difficulty\\n      freqBar\\n      frontendQuestionId: questionFrontendId\\n      isFavor\\n      paidOnly: isPaidOnly\\n      status\\n      title\\n      titleSlug\\n      topicTags {\\n        name\\n        id\\n        slug\\n      }\\n      hasSolution\\n      hasVideoSolution\\n    }\\n  }\\n}\\n    \",\n",
    "    \"variables\": {\"categorySlug\": \"algorithms\", \"skip\": 100, \"limit\": 50, \"filters\": {}}}"
   ]
  },
  {
   "cell_type": "code",
   "execution_count": null,
   "metadata": {
    "collapsed": false,
    "jupyter": {
     "outputs_hidden": false
    }
   },
   "outputs": [],
   "source": []
  },
  {
   "cell_type": "code",
   "execution_count": 44,
   "metadata": {
    "collapsed": false,
    "jupyter": {
     "outputs_hidden": false
    }
   },
   "outputs": [],
   "source": [
    "data = {\n",
    "    \"query\": \"\\n    query problemsetQuestionList($categorySlug: String, $limit: Int, $skip: Int, $filters: QuestionListFilterInput) {\\n  problemsetQuestionList: questionList(\\n    categorySlug: $categorySlug\\n    limit: $limit\\n    skip: $skip\\n    filters: $filters\\n  ) {\\n    total: totalNum\\n    questions: data {\\n      acRate\\n      difficulty\\n      freqBar\\n      frontendQuestionId: questionFrontendId\\n      isFavor\\n      paidOnly: isPaidOnly\\n      status\\n      title\\n      titleSlug\\n      topicTags {\\n        name\\n        id\\n        slug\\n      }\\n      hasSolution\\n      hasVideoSolution\\n    }\\n  }\\n}\\n    \",\n",
    "    \"variables\": {\"categorySlug\": \"algorithms\", \"skip\": 100, \"limit\": 50, \"filters\": {}}}"
   ]
  },
  {
   "cell_type": "code",
   "execution_count": null,
   "metadata": {
    "collapsed": false,
    "jupyter": {
     "outputs_hidden": false
    }
   },
   "outputs": [],
   "source": [
    "curl\n",
    "'https://leetcode.com/graphql/' - X\n",
    "POST - H\n",
    "'User-Agent: Mozilla/5.0 (X11; Linux x86_64; rv:109.0) Gecko/20100101 Firefox/110.0' - H\n",
    "'Accept: */*' - H\n",
    "'Accept-Language: ru-RU,ru;q=0.8,en-US;q=0.5,en;q=0.3' - H\n",
    "'Accept-Encoding: gzip, deflate, br' - H\n",
    "'content-type: application/json' - H\n",
    "'x-csrftoken: oIWeoNp1QCTPT34xynW8LL0N5l7TQBo6cyAvwrlNHR4M0nN5SDqUd5V4IyQxfx7v' - H\n",
    "'authorization: ' - H\n",
    "'random-uuid: 80a7f59f-fb95-796f-3c20-d277197decfb' - H\n",
    "'Origin: https://leetcode.com' - H\n",
    "'Connection: keep-alive' - H\n",
    "'Referer: https://leetcode.com/problemset/algorithms/?page=3' - H\n",
    "'Cookie: csrftoken=oIWeoNp1QCTPT34xynW8LL0N5l7TQBo6cyAvwrlNHR4M0nN5SDqUd5V4IyQxfx7v; _ga=GA1.2.92759548.1677411722; gr_user_id=132656f6-f5a5-451d-8fff-e75b8e7bf9ef; LEETCODE_SESSION=eyJ0eXAiOiJKV1QiLCJhbGciOiJIUzI1NiJ9.eyJhY2NvdW50X3ZlcmlmaWVkX2VtYWlsIjpudWxsLCJfYXV0aF91c2VyX2lkIjoiODg3OTcwNSIsIl9hdXRoX3VzZXJfYmFja2VuZCI6ImFsbGF1dGguYWNjb3VudC5hdXRoX2JhY2tlbmRzLkF1dGhlbnRpY2F0aW9uQmFja2VuZCIsIl9hdXRoX3VzZXJfaGFzaCI6IjdjMzYzNDI2MTlmMjUwM2ViMjk4YWIxYTIzYmI4ZjA1N2Q4OTk3YjEiLCJpZCI6ODg3OTcwNSwiZW1haWwiOiJoaW5ldmljc0BnbWFpbC5jb20iLCJ1c2VybmFtZSI6ImhpbmV2aWNzIiwidXNlcl9zbHVnIjoiaGluZXZpY3MiLCJhdmF0YXIiOiJodHRwczovL3MzLXVzLXdlc3QtMS5hbWF6b25hd3MuY29tL3MzLWxjLXVwbG9hZC9hc3NldHMvZGVmYXVsdF9hdmF0YXIuanBnIiwicmVmcmVzaGVkX2F0IjoxNjc4NDM5Mjk0LCJpcCI6IjE5NS4yMjIuNjguMTM5IiwiaWRlbnRpdHkiOiJhNWZiNzRhYTk1NzIzNTAzOGU4YjBhNjAzNTdmN2VkZCIsInNlc3Npb25faWQiOjM1Nzk3MjY1fQ.McVPRODr7kZ4Z-w9S2C0CSu91WyBe7cyNh0pf4bf6v0; 87b5a3c3f1a55520_gr_last_sent_cs1=hinevics; __stripe_mid=86b2097f-edaf-4a24-9f7c-09b2bba91af485f8d8; _ga_CDRWKZTDEX=GS1.1.1678547839.6.1.1678547843.0.0.0; _gid=GA1.2.1318280938.1678439299; messages=\"e6b98ce6a64f3ffdf2134b87c383145155eeb804$[[\\\"__json_message\\\"\\0540\\05425\\054\\\"Successfully signed in as hinevics.\\\"]]\"; NEW_PROBLEMLIST_PAGE=1; 87b5a3c3f1a55520_gr_session_id_e0c42f71-eea9-4768-8cc8-e9e02e9293eb=true; 87b5a3c3f1a55520_gr_session_id=e0c42f71-eea9-4768-8cc8-e9e02e9293eb; 87b5a3c3f1a55520_gr_last_sent_sid_with_cs1=e0c42f71-eea9-4768-8cc8-e9e02e9293eb; 87b5a3c3f1a55520_gr_cs1=hinevics; _gat=1; __stripe_sid=c06f4df5-d623-47df-9a3c-a89a7f39217de55da6' - H\n",
    "'Sec-Fetch-Dest: empty' - H\n",
    "'Sec-Fetch-Mode: cors' - H\n",
    "'Sec-Fetch-Site: same-origin' - H\n",
    "'TE: trailers' - -data - raw\n",
    "'{\"query\":\"\\n    query problemsetQuestionList($categorySlug: String, $limit: Int, $skip: Int, $filters: QuestionListFilterInput) {\\n  problemsetQuestionList: questionList(\\n    categorySlug: $categorySlug\\n    limit: $limit\\n    skip: $skip\\n    filters: $filters\\n  ) {\\n    total: totalNum\\n    questions: data {\\n      acRate\\n      difficulty\\n      freqBar\\n      frontendQuestionId: questionFrontendId\\n      isFavor\\n      paidOnly: isPaidOnly\\n      status\\n      title\\n      titleSlug\\n      topicTags {\\n        name\\n        id\\n        slug\\n      }\\n      hasSolution\\n      hasVideoSolution\\n    }\\n  }\\n}\\n    \",\"variables\":{\"categorySlug\":\"algorithms\",\"skip\":100,\"limit\":50,\"filters\":{}}}'"
   ]
  },
  {
   "cell_type": "code",
   "execution_count": 60,
   "metadata": {},
   "outputs": [],
   "source": [
    "re = requests.post(\"https://leetcode.com/graphql/\", data=data)"
   ]
  },
  {
   "cell_type": "code",
   "execution_count": 61,
   "metadata": {
    "collapsed": false,
    "jupyter": {
     "outputs_hidden": false
    }
   },
   "outputs": [
    {
     "data": {
      "text/plain": [
       "'\\n<!DOCTYPE html>\\n<html lang=\"en\">\\n<head>\\n  <meta http-equiv=\"content-type\" content=\"text/html; charset=utf-8\"><script type=\"text/javascript\">(window.NREUM||(NREUM={})).init={ajax:{deny_list:[\"bam.nr-data.net\"]}};(window.NREUM||(NREUM={})).loader_config={xpid:\"UAQDVFVRGwEAXVlbBAg=\",licenseKey:\"8d5fb92f6e\",applicationID:\"2098939\"};;(()=>{var e,t,r={9071:(e,t,r)=>{\"use strict\";r.d(t,{I:()=>n});var n=0,i=navigator.userAgent.match(/Firefox[\\\\/\\\\s](\\\\d+\\\\.\\\\d+)/);i&&(n=+i[1])},6562:(e,t,r)=>{\"use strict\";r.d(t,{P_:()=>p,Mt:()=>v,C5:()=>d,DL:()=>y,OP:()=>k,lF:()=>H,Yu:()=>E,Dg:()=>g,CX:()=>f,GE:()=>w,sU:()=>L});var n={};r.r(n),r.d(n,{agent:()=>x,match:()=>_,version:()=>O});var i=r(6797),o=r(909),a=r(8610);class s{constructor(e,t){try{if(!e||\"object\"!=typeof e)return(0,a.Z)(\"New setting a Configurable requires an object as input\");if(!t||\"object\"!=typeof t)return(0,a.Z)(\"Setting a Configurable requires a model to set its initial properties\");Object.assign(this,t),Object.entries(e).forEach((e=>{let[t,r]=e;const n=(0,o.q)(t);n.length&&r&&\"object\"==typeof r&&n.forEach((e=>{e in r&&((0,a.Z)(\\'\"\\'.concat(e,\\'\" is a protected attribute and can not be changed in feature \\').concat(t,\".  It will have no effect.\")),delete r[e])})),this[t]=r}))}catch(e){(0,a.Z)(\"An error occured while setting a Configurable\",e)}}}const c={beacon:i.ce.beacon,errorBeacon:i.ce.errorBeacon,licenseKey:void 0,applicationID:void 0,sa:void 0,queueTime:void 0,applicationTime:void 0,ttGuid:void 0,user:void 0,account:void 0,product:void 0,extra:void 0,jsAttributes:{},userAttributes:void 0,atts:void 0,transactionName:void 0,tNamePlain:void 0},u={};function d(e){if(!e)throw new Error(\"All info objects require an agent identifier!\");if(!u[e])throw new Error(\"Info for \".concat(e,\" was never set\"));return u[e]}function f(e,t){if(!e)throw new Error(\"All info objects require an agent identifier!\");u[e]=new s(t,c),(0,i.Qy)(e,u[e],\"info\")}const l={allow_bfcache:!0,privacy:{cookies_enabled:!0},ajax:{deny_list:void 0,enabled:!0,harvestTimeSeconds:10},distributed_tracing:{enabled:void 0,exclude_newrelic_header:void 0,cors_use_newrelic_header:void 0,cors_use_tracecontext_headers:void 0,allowed_origins:void 0},ssl:void 0,obfuscate:void 0,jserrors:{enabled:!0,harvestTimeSeconds:10},metrics:{enabled:!0,harvestTimeSeconds:10},page_action:{enabled:!0,harvestTimeSeconds:30},page_view_event:{enabled:!0},page_view_timing:{enabled:!0,harvestTimeSeconds:30},session_trace:{enabled:!0,harvestTimeSeconds:10},spa:{enabled:!0,harvestTimeSeconds:10}},h={};function p(e){if(!e)throw new Error(\"All configuration objects require an agent identifier!\");if(!h[e])throw new Error(\"Configuration for \".concat(e,\" was never set\"));return h[e]}function g(e,t){if(!e)throw new Error(\"All configuration objects require an agent identifier!\");h[e]=new s(t,l),(0,i.Qy)(e,h[e],\"config\")}function v(e,t){if(!e)throw new Error(\"All configuration objects require an agent identifier!\");var r=p(e);if(r){for(var n=t.split(\".\"),i=0;i<n.length-1;i++)if(\"object\"!=typeof(r=r[n[i]]))return;r=r[n[n.length-1]]}return r}const m={accountID:void 0,trustKey:void 0,agentID:void 0,licenseKey:void 0,applicationID:void 0,xpid:void 0},b={};function y(e){if(!e)throw new Error(\"All loader-config objects require an agent identifier!\");if(!b[e])throw new Error(\"LoaderConfig for \".concat(e,\" was never set\"));return b[e]}function w(e,t){if(!e)throw new Error(\"All loader-config objects require an agent identifier!\");b[e]=new s(t,m),(0,i.Qy)(e,b[e],\"loader_config\")}const E=(0,i.mF)().o;var A=r(2053),x=null,O=null;if(navigator.userAgent){var T=navigator.userAgent,S=T.match(/Version\\\\/(\\\\S+)\\\\s+Safari/);S&&-1===T.indexOf(\"Chrome\")&&-1===T.indexOf(\"Chromium\")&&(x=\"Safari\",O=S[1])}function _(e,t){if(!x)return!1;if(e!==x)return!1;if(!t)return!0;if(!O)return!1;for(var r=O.split(\".\"),n=t.split(\".\"),i=0;i<n.length;i++)if(n[i]!==r[i])return!1;return!0}var I=r(5526),P=r(2374);const j=\"NRBA_SESSION_ID\";function R(){if(!P.il)return null;try{let e;return null===(e=window.sessionStorage.getItem(j))&&(e=(0,I.ky)(16),window.sessionStorage.setItem(j,e)),e}catch(e){return null}}var D=r(8226);const C=e=>({customTransaction:void 0,disabled:!1,isolatedBacklog:!1,loaderType:void 0,maxBytes:3e4,offset:(0,A.yf)(),onerror:void 0,origin:\"\"+P._A.location,ptid:void 0,releaseIds:{},sessionId:1==v(e,\"privacy.cookies_enabled\")?R():null,xhrWrappable:\"function\"==typeof P._A.XMLHttpRequest?.prototype?.addEventListener,userAgent:n,version:D.q}),N={};function k(e){if(!e)throw new Error(\"All runtime objects require an agent identifier!\");if(!N[e])throw new Error(\"Runtime for \".concat(e,\" was never set\"));return N[e]}function L(e,t){if(!e)throw new Error(\"All runtime objects require an agent identifier!\");N[e]=new s(t,C(e)),(0,i.Qy)(e,N[e],\"runtime\")}function H(e){return function(e){try{const t=d(e);return!!t.licenseKey&&!!t.errorBeacon&&!!t.applicationID}catch(e){return!1}}(e)}},8226:(e,t,r)=>{\"use strict\";r.d(t,{q:()=>n});const n=\"1226.PROD\"},9557:(e,t,r)=>{\"use strict\";r.d(t,{w:()=>o});var n=r(8610);const i={agentIdentifier:\"\"};class o{constructor(e){try{if(\"object\"!=typeof e)return(0,n.Z)(\"shared context requires an object as input\");this.sharedContext={},Object.assign(this.sharedContext,i),Object.entries(e).forEach((e=>{let[t,r]=e;Object.keys(i).includes(t)&&(this.sharedContext[t]=r)}))}catch(e){(0,n.Z)(\"An error occured while setting SharedContext\",e)}}}},4329:(e,t,r)=>{\"use strict\";r.d(t,{L:()=>d,R:()=>c});var n=r(3752),i=r(7022),o=r(4045),a=r(2325);const s={};function c(e,t){const r={staged:!1,priority:a.p[t]||0};u(e),s[e].get(t)||s[e].set(t,r)}function u(e){e&&(s[e]||(s[e]=new Map))}function d(){let e=arguments.length>0&&void 0!==arguments[0]?arguments[0]:\"\",t=arguments.length>1&&void 0!==arguments[1]?arguments[1]:\"feature\";if(u(e),!e||!s[e].get(t))return a(t);s[e].get(t).staged=!0;const r=Array.from(s[e]);function a(t){const r=e?n.ee.get(e):n.ee,a=o.X.handlers;if(r.backlog&&a){var s=r.backlog[t],c=a[t];if(c){for(var u=0;s&&u<s.length;++u)f(s[u],c);(0,i.D)(c,(function(e,t){(0,i.D)(t,(function(t,r){r[0].on(e,r[1])}))}))}delete a[t],r.backlog[t]=null,r.emit(\"drain-\"+t,[])}}r.every((e=>{let[t,r]=e;return r.staged}))&&(r.sort(((e,t)=>e[1].priority-t[1].priority)),r.forEach((e=>{let[t]=e;a(t)})))}function f(e,t){var r=e[1];(0,i.D)(t[r],(function(t,r){var n=e[0];if(r[0]===n){var i=r[1],o=e[3],a=e[2];i.apply(o,a)}}))}},3752:(e,t,r)=>{\"use strict\";r.d(t,{c:()=>f,ee:()=>u});var n=r(6797),i=r(3916),o=r(7022),a=r(6562),s=\"nr@context\";let c=(0,n.fP)();var u;function d(){}function f(e){return(0,i.X)(e,s,l)}function l(){return new d}function h(){(u.backlog.api||u.backlog.feature)&&(u.aborted=!0,u.backlog={})}c.ee?u=c.ee:(u=function e(t,r){var n={},c={},f={},p=!1;try{p=16===r.length&&(0,a.OP)(r).isolatedBacklog}catch(e){}var g={on:b,addEventListener:b,removeEventListener:y,emit:m,get:E,listeners:w,context:v,buffer:A,abort:h,aborted:!1,isBuffering:x,debugId:r,backlog:p?{}:t&&\"object\"==typeof t.backlog?t.backlog:{}};return g;function v(e){return e&&e instanceof d?e:e?(0,i.X)(e,s,l):l()}function m(e,r,n,i,o){if(!1!==o&&(o=!0),!u.aborted||i){t&&o&&t.emit(e,r,n);for(var a=v(n),s=w(e),d=s.length,f=0;f<d;f++)s[f].apply(a,r);var l=O()[c[e]];return l&&l.push([g,e,r,a]),a}}function b(e,t){n[e]=w(e).concat(t)}function y(e,t){var r=n[e];if(r)for(var i=0;i<r.length;i++)r[i]===t&&r.splice(i,1)}function w(e){return n[e]||[]}function E(t){return f[t]=f[t]||e(g,t)}function A(e,t){var r=O();g.aborted||(0,o.D)(e,(function(e,n){t=t||\"feature\",c[n]=t,t in r||(r[t]=[])}))}function x(e){return!!O()[c[e]]}function O(){return g.backlog}}(void 0,\"globalEE\"),c.ee=u)},9252:(e,t,r)=>{\"use strict\";r.d(t,{E:()=>n,p:()=>i});var n=r(3752).ee.get(\"handle\");function i(e,t,r,i,o){o?(o.buffer([e],i),o.emit(e,t,r)):(n.buffer([e],i),n.emit(e,t,r))}},4045:(e,t,r)=>{\"use strict\";r.d(t,{X:()=>o});var n=r(9252);o.on=a;var i=o.handlers={};function o(e,t,r,o){a(o||n.E,i,e,t,r)}function a(e,t,r,i,o){o||(o=\"feature\"),e||(e=n.E);var a=t[o]=t[o]||{};(a[r]=a[r]||[]).push([e,i])}},8544:(e,t,r)=>{\"use strict\";r.d(t,{bP:()=>s,iz:()=>c,m$:()=>a});var n=r(2374);let i=!1,o=!1;try{const e={get passive(){return i=!0,!1},get signal(){return o=!0,!1}};n._A.addEventListener(\"test\",null,e),n._A.removeEventListener(\"test\",null,e)}catch(e){}function a(e,t){return i||o?{capture:!!e,passive:i,signal:t}:!!e}function s(e,t){let r=arguments.length>2&&void 0!==arguments[2]&&arguments[2];window.addEventListener(e,t,a(r))}function c(e,t){let r=arguments.length>2&&void 0!==arguments[2]&&arguments[2];document.addEventListener(e,t,a(r))}},5526:(e,t,r)=>{\"use strict\";r.d(t,{Ht:()=>a,M:()=>o,Rl:()=>i,ky:()=>s});var n=r(2374);function i(){var e=null,t=0,r=n._A?.crypto||n._A?.msCrypto;function i(){return e?15&e[t++]:16*Math.random()|0}r&&r.getRandomValues&&(e=r.getRandomValues(new Uint8Array(31)));for(var o,a=\"xxxxxxxx-xxxx-4xxx-yxxx-xxxxxxxxxxxx\",s=\"\",c=0;c<a.length;c++)s+=\"x\"===(o=a[c])?i().toString(16):\"y\"===o?(o=3&i()|8).toString(16):o;return s}function o(){return s(16)}function a(){return s(32)}function s(e){var t=null,r=0,n=self.crypto||self.msCrypto;n&&n.getRandomValues&&Uint8Array&&(t=n.getRandomValues(new Uint8Array(31)));for(var i=[],o=0;o<e;o++)i.push(a().toString(16));return i.join(\"\");function a(){return t?15&t[r++]:16*Math.random()|0}}},2053:(e,t,r)=>{\"use strict\";r.d(t,{nb:()=>c,os:()=>u,yf:()=>s,zO:()=>a});var n=r(7145),i=(new Date).getTime(),o=i;function a(){return n.G&&performance.now?Math.round(performance.now()):(i=Math.max((new Date).getTime(),i))-o}function s(){return i}function c(e){o=e}function u(){return o}},7145:(e,t,r)=>{\"use strict\";r.d(t,{G:()=>n});const n=void 0!==r(2374)._A?.performance?.timing?.navigationStart},6625:(e,t,r)=>{\"use strict\";r.d(t,{s:()=>c,v:()=>u});var n=r(8283),i=r(9071),o=r(2053),a=r(7145),s=r(2374);let c=!0;function u(e){var t=function(){if(i.I&&i.I<9)return;if(a.G)return c=!1,s._A?.performance?.timing?.navigationStart}();t&&((0,n.B)(e,\"starttime\",t),(0,o.nb)(t))}},8283:(e,t,r)=>{\"use strict\";r.d(t,{B:()=>o,L:()=>a});var n=r(2053),i={};function o(e,t,r){void 0===r&&(r=(0,n.zO)()+(0,n.os)()),i[e]=i[e]||{},i[e][t]=r}function a(e,t,r,n){const o=e.sharedContext.agentIdentifier;var a=i[o]?.[r],s=i[o]?.[n];void 0!==a&&void 0!==s&&e.store(\"measures\",t,{value:s-a})}},6368:(e,t,r)=>{\"use strict\";r.d(t,{e:()=>o});var n=r(2374),i={};function o(e){if(e in i)return i[e];if(0===(e||\"\").indexOf(\"data:\"))return{protocol:\"data\"};let t;var r=n._A?.location,o={};if(n.il)t=document.createElement(\"a\"),t.href=e;else try{t=new URL(e,r.href)}catch(e){return o}o.port=t.port;var a=t.href.split(\"://\");!o.port&&a[1]&&(o.port=a[1].split(\"/\")[0].split(\"@\").pop().split(\":\")[1]),o.port&&\"0\"!==o.port||(o.port=\"https\"===a[0]?\"443\":\"80\"),o.hostname=t.hostname||r.hostname,o.pathname=t.pathname,o.protocol=a[0],\"/\"!==o.pathname.charAt(0)&&(o.pathname=\"/\"+o.pathname);var s=!t.protocol||\":\"===t.protocol||t.protocol===r.protocol,c=t.hostname===r.hostname&&t.port===r.port;return o.sameOrigin=s&&(!t.hostname||c),\"/\"===o.pathname&&(i[e]=o),o}},9548:(e,t,r)=>{\"use strict\";r.d(t,{T:()=>i});var n=r(2374);const i={isFileProtocol:function(){let e=Boolean(\"file:\"===(0,n.lW)()?.location?.protocol);e&&(i.supportabilityMetricSent=!0);return e},supportabilityMetricSent:!1}},8610:(e,t,r)=>{\"use strict\";function n(e,t){console&&console.warn&&\"function\"==typeof console.warn&&(console.warn(\"New Relic: \".concat(e)),t&&console.warn(t))}r.d(t,{Z:()=>n})},3916:(e,t,r)=>{\"use strict\";r.d(t,{X:()=>i});var n=Object.prototype.hasOwnProperty;function i(e,t,r){if(n.call(e,t))return e[t];var i=r();if(Object.defineProperty&&Object.keys)try{return Object.defineProperty(e,t,{value:i,writable:!0,enumerable:!1}),i}catch(e){}return e[t]=i,i}},2374:(e,t,r)=>{\"use strict\";r.d(t,{_A:()=>o,il:()=>n,lW:()=>a,v6:()=>i});const n=Boolean(\"undefined\"!=typeof window&&window.document),i=Boolean(\"undefined\"!=typeof WorkerGlobalScope&&self.navigator instanceof WorkerNavigator);let o=(()=>{if(n)return window;if(i){if(\"undefined\"!=typeof globalThis&&globalThis instanceof WorkerGlobalScope)return globalThis;if(self instanceof WorkerGlobalScope)return self}throw new Error(\\'New Relic browser agent shutting down due to error: Unable to locate global scope. This is possibly due to code redefining browser global variables like \"self\" and \"window\".\\')})();function a(){return o}},7022:(e,t,r)=>{\"use strict\";r.d(t,{D:()=>i});var n=Object.prototype.hasOwnProperty;function i(e,t){var r=[],i=\"\",o=0;for(i in e)n.call(e,i)&&(r[o]=t(i,e[i]),o+=1);return r}},9226:(e,t,r)=>{\"use strict\";r.d(t,{$c:()=>u,Ng:()=>d,RR:()=>c});var n=r(6562),i=r(9557),o=r(9548),a=r(8610),s={regex:/^file:\\\\/\\\\/(.*)/,replacement:\"file://OBFUSCATED\"};class c extends i.w{constructor(e){super(e)}shouldObfuscate(){return u(this.sharedContext.agentIdentifier).length>0}obfuscateString(e){if(!e||\"string\"!=typeof e)return e;for(var t=u(this.sharedContext.agentIdentifier),r=e,n=0;n<t.length;n++){var i=t[n].regex,o=t[n].replacement||\"*\";r=r.replace(i,o)}return r}}function u(e){var t=[],r=(0,n.Mt)(e,\"obfuscate\")||[];return t=t.concat(r),o.T.isFileProtocol()&&t.push(s),t}function d(e){for(var t=!1,r=!1,n=0;n<e.length;n++){\"regex\"in e[n]?\"string\"!=typeof e[n].regex&&e[n].regex.constructor!==RegExp&&((0,a.Z)(\\'An obfuscation replacement rule contains a \"regex\" value with an invalid type (must be a string or RegExp)\\'),r=!0):((0,a.Z)(\\'An obfuscation replacement rule was detected missing a \"regex\" value.\\'),r=!0);var i=e[n].replacement;i&&\"string\"!=typeof i&&((0,a.Z)(\\'An obfuscation replacement rule contains a \"replacement\" value with an invalid type (must be a string)\\'),t=!0)}return!t&&!r}},2650:(e,t,r)=>{\"use strict\";r.d(t,{K:()=>a,b:()=>o});var n=r(8544);function i(){return\"undefined\"==typeof document||\"complete\"===document.readyState}function o(e,t){if(i())return e();(0,n.bP)(\"load\",e,t)}function a(e){if(i())return e();(0,n.iz)(\"DOMContentLoaded\",e)}},6797:(e,t,r)=>{\"use strict\";r.d(t,{EZ:()=>u,Qy:()=>c,ce:()=>o,fP:()=>a,gG:()=>d,mF:()=>s});var n=r(2053),i=r(2374);const o={beacon:\"bam.nr-data.net\",errorBeacon:\"bam.nr-data.net\"};function a(){return i._A.NREUM||(i._A.NREUM={}),void 0===i._A.newrelic&&(i._A.newrelic=i._A.NREUM),i._A.NREUM}function s(){let e=a();return e.o||(e.o={ST:i._A.setTimeout,SI:i._A.setImmediate,CT:i._A.clearTimeout,XHR:i._A.XMLHttpRequest,REQ:i._A.Request,EV:i._A.Event,PR:i._A.Promise,MO:i._A.MutationObserver,FETCH:i._A.fetch}),e}function c(e,t,r){let i=a();const o=i.initializedAgents||{},s=o[e]||{};return Object.keys(s).length||(s.initializedAt={ms:(0,n.zO)(),date:new Date}),i.initializedAgents={...o,[e]:{...s,[r]:t}},i}function u(e,t){a()[e]=t}function d(){return function(){let e=a();const t=e.info||{};e.info={beacon:o.beacon,errorBeacon:o.errorBeacon,...t}}(),function(){let e=a();const t=e.init||{};e.init={...t}}(),s(),function(){let e=a();const t=e.loader_config||{};e.loader_config={...t}}(),a()}},6998:(e,t,r)=>{\"use strict\";r.d(t,{N:()=>i,e:()=>o});var n=r(8544);function i(e){let t=arguments.length>1&&void 0!==arguments[1]&&arguments[1];return void(0,n.iz)(\"visibilitychange\",(function(){if(t){if(\"hidden\"!=document.visibilityState)return;e()}e(document.visibilityState)}))}function o(){return\"hidden\"===document.visibilityState?-1:1/0}},6408:(e,t,r)=>{\"use strict\";r.d(t,{W:()=>i});var n=r(2374);function i(){return\"function\"==typeof n._A?.PerformanceObserver}},7264:(e,t,r)=>{\"use strict\";r.d(t,{hF:()=>pe,Fp:()=>O,lx:()=>G,ow:()=>Y,ao:()=>te,G8:()=>oe,XV:()=>z,Zw:()=>N,ig:()=>we,em:()=>le,u5:()=>x,QU:()=>V,_L:()=>$,Gm:()=>ee,Lg:()=>ie,gy:()=>M,BV:()=>C,Kf:()=>ye});var n=r(3752),i=r(8683),o=r.n(i),a=r(2374);const s=\"nr@original\";var c=Object.prototype.hasOwnProperty,u=!1;function d(e,t){return e||(e=n.ee),r.inPlace=function(e,t,n,i,o){n||(n=\"\");var a,s,c,u=\"-\"===n.charAt(0);for(c=0;c<t.length;c++)h(a=e[s=t[c]])||(e[s]=r(a,u?s+n:n,i,s,o))},r.flag=s,r;function r(t,r,n,a,c){return h(t)?t:(r||(r=\"\"),nrWrapper[s]=t,l(t,nrWrapper,e),nrWrapper);function nrWrapper(){var s,u,d,l;try{u=this,s=o()(arguments),d=\"function\"==typeof n?n(s,u):n||{}}catch(t){f([t,\"\",[s,u,a],d],e)}i(r+\"start\",[s,u,a],d,c);try{return l=t.apply(u,s)}catch(e){throw i(r+\"err\",[s,u,e],d,c),e}finally{i(r+\"end\",[s,u,l],d,c)}}}function i(r,n,i,o){if(!u||t){var a=u;u=!0;try{e.emit(r,n,i,t,o)}catch(t){f([t,r,n,i],e)}u=a}}}function f(e,t){t||(t=n.ee);try{t.emit(\"internal-error\",e)}catch(e){}}function l(e,t,r){if(Object.defineProperty&&Object.keys)try{return Object.keys(e).forEach((function(r){Object.defineProperty(t,r,{get:function(){return e[r]},set:function(t){return e[r]=t,t}})})),t}catch(e){f([e],r)}for(var n in e)c.call(e,n)&&(t[n]=e[n]);return t}function h(e){return!(e&&e instanceof Function&&e.apply&&!e[s])}function p(e,t){e?.[t]?.[s]&&(e[t]=e[t][s])}var g=\"fetch-\",v=g+\"body-\",m=[\"arrayBuffer\",\"blob\",\"json\",\"text\",\"formData\"],b=a._A.Request,y=a._A.Response,w=\"prototype\",E=\"nr@context\";const A={};function x(e){const t=T(e);if(!(b&&y&&a._A.fetch))return t;if(A[t.debugId]++)return t;function r(e,r,n){var i=e[r];\"function\"==typeof i&&(e[r]=function(){var e,r=o()(arguments),s={};t.emit(n+\"before-start\",[r],s),s[E]&&s[E].dt&&(e=s[E].dt);var c=i.apply(this,r);return t.emit(n+\"start\",[r,e],c),a._A.Promise.resolve(c).then((function(e){return t.emit(n+\"end\",[null,e],c),e}),(function(e){throw t.emit(n+\"end\",[e],c),e}))},e[r][s]=i)}return A[t.debugId]=1,m.forEach((e=>{r(b[w],e,v),r(y[w],e,v)})),r(a._A,\"fetch\",g),t.on(g+\"end\",(function(e,r){var n=this;if(r){var i=r.headers.get(\"content-length\");null!==i&&(n.rxSize=i),t.emit(g+\"done\",[null,r],n)}else t.emit(g+\"done\",[e],n)})),t}function O(e){const t=T(e);1==A[t.debugId]?(m.forEach((e=>{p(b[w],e),p(y[w],e)})),p(a._A,\"fetch\"),A[t.debugId]=1/0):A[t.debugId]--}function T(e){return(e||n.ee).get(\"fetch\")}const S={},_=\"setTimeout\",I=\"setInterval\",P=\"clearTimeout\",j=\"-start\",R=\"-\",D=[_,\"setImmediate\",I,P,\"clearImmediate\"];function C(e){const t=k(e);if(S[t.debugId]++)return t;S[t.debugId]=1;var r=d(t);return r.inPlace(a._A,D.slice(0,2),_+R),r.inPlace(a._A,D.slice(2,3),I+R),r.inPlace(a._A,D.slice(3),P+R),t.on(I+j,(function(e,t,n){e[0]=r(e[0],\"fn-\",null,n)})),t.on(_+j,(function(e,t,n){this.method=n,this.timerDuration=isNaN(e[1])?0:+e[1],e[0]=r(e[0],\"fn-\",this,n)})),t}function N(e){const t=k(e);1==S[t.debugId]?(D.forEach((e=>p(a._A,e))),S[t.debugId]=1/0):S[t.debugId]--}function k(e){return(e||n.ee).get(\"timer\")}const L={},H=\"requestAnimationFrame\";function M(e){const t=B(e);if(!a.il||L[t.debugId]++)return t;L[t.debugId]=1;var r=d(t);return r.inPlace(window,[H],\"raf-\"),t.on(\"raf-start\",(function(e){e[0]=r(e[0],\"fn-\")})),t}function z(e){const t=B(e);1==L[t.debugId]?(p(window,H),L[t.debugId]=1/0):L[t.debugId]--}function B(e){return(e||n.ee).get(\"raf\")}const U={},F=[\"pushState\",\"replaceState\"];function V(e){const t=q(e);return!a.il||U[t.debugId]++||(U[t.debugId]=1,d(t).inPlace(window.history,F,\"-\")),t}function G(e){const t=q(e);1==U[t.debugId]?(F.forEach((e=>p(window.history,e))),U[t.debugId]=1/0):U[t.debugId]--}function q(e){return(e||n.ee).get(\"history\")}var W=r(8544);const X={},Z=[\"appendChild\",\"insertBefore\",\"replaceChild\"];function $(e){const t=Q(e);if(!a.il||X[t.debugId])return t;X[t.debugId]=!0;var r=d(t),n=/[?&](?:callback|cb)=([^&#]+)/,i=/(.*)\\\\.([^.]+)/,o=/^(\\\\w+)(\\\\.|$)(.*)$/;function s(e,t){var r=e.match(o),n=r[1],i=r[3];return i?s(i,t[n]):t[n]}return r.inPlace(Node.prototype,Z,\"dom-\"),t.on(\"dom-start\",(function(e){!function(e){if(!e||\"string\"!=typeof e.nodeName||\"script\"!==e.nodeName.toLowerCase())return;if(\"function\"!=typeof e.addEventListener)return;var o=(a=e.src,c=a.match(n),c?c[1]:null);var a,c;if(!o)return;var u=function(e){var t=e.match(i);if(t&&t.length>=3)return{key:t[2],parent:s(t[1],window)};return{key:e,parent:window}}(o);if(\"function\"!=typeof u.parent[u.key])return;var d={};function f(){t.emit(\"jsonp-end\",[],d),e.removeEventListener(\"load\",f,(0,W.m$)(!1)),e.removeEventListener(\"error\",l,(0,W.m$)(!1))}function l(){t.emit(\"jsonp-error\",[],d),t.emit(\"jsonp-end\",[],d),e.removeEventListener(\"load\",f,(0,W.m$)(!1)),e.removeEventListener(\"error\",l,(0,W.m$)(!1))}r.inPlace(u.parent,[u.key],\"cb-\",d),e.addEventListener(\"load\",f,(0,W.m$)(!1)),e.addEventListener(\"error\",l,(0,W.m$)(!1)),t.emit(\"new-jsonp\",[e.src],d)}(e[0])})),t}function Y(e){const t=Q(e);!0===X[t.debugId]&&(Z.forEach((e=>p(Node.prototype,e))),X[t.debugId]=\"unwrapped\")}function Q(e){return(e||n.ee).get(\"jsonp\")}var K=r(6562);const J={};function ee(e){const t=re(e);if(!a.il||J[t.debugId])return t;J[t.debugId]=!0;var r=d(t),n=K.Yu.MO;return n&&(window.MutationObserver=function(e){return this instanceof n?new n(r(e,\"fn-\")):n.apply(this,arguments)},MutationObserver.prototype=n.prototype),t}function te(e){const t=re(e);!0===J[t.debugId]&&(window.MutationObserver=K.Yu.MO,J[t.debugId]=\"unwrapped\")}function re(e){return(e||n.ee).get(\"mutation\")}const ne={};function ie(e){const t=ae(e);if(ne[t.debugId])return t;ne[t.debugId]=!0;var r=n.c,i=d(t),o=K.Yu.PR;return o&&function(){function e(r){var n=t.context(),a=i(r,\"executor-\",n,null,!1);const s=Reflect.construct(o,[a],e);return t.context(s).getCtx=function(){return n},s}a._A.Promise=e,Object.defineProperty(e,\"name\",{value:\"Promise\"}),e.toString=function(){return o.toString()},Object.setPrototypeOf(e,o),[\"all\",\"race\"].forEach((function(r){const n=o[r];e[r]=function(e){let i=!1;e?.forEach((e=>{this.resolve(e).then(a(\"all\"===r),a(!1))}));const o=n.apply(this,arguments);return o;function a(e){return function(){t.emit(\"propagate\",[null,!i],o,!1,!1),i=i||!e}}}})),[\"resolve\",\"reject\"].forEach((function(r){const n=o[r];e[r]=function(e){const r=n.apply(this,arguments);return e!==r&&t.emit(\"propagate\",[e,!0],r,!1,!1),r}})),e.prototype=Object.create(o.prototype),e.prototype.constructor=e,e.prototype.then=function(){var e=this,n=r(e);n.promise=e;for(var a=arguments.length,s=new Array(a),c=0;c<a;c++)s[c]=arguments[c];s[0]=i(s[0],\"cb-\",n,null,!1),s[1]=i(s[1],\"cb-\",n,null,!1);const u=o.prototype.then.apply(this,s);return n.nextPromise=u,t.emit(\"propagate\",[e,!0],u,!1,!1),u},t.on(\"executor-start\",(function(e){e[0]=i(e[0],\"resolve-\",this,null,!1),e[1]=i(e[1],\"resolve-\",this,null,!1)})),t.on(\"executor-err\",(function(e,t,r){e[1](r)})),t.on(\"cb-end\",(function(e,r,n){t.emit(\"propagate\",[n,!0],this.nextPromise,!1,!1)})),t.on(\"propagate\",(function(e,r,n){this.getCtx&&!r||(this.getCtx=function(){if(e instanceof Promise)var r=t.context(e);return r&&r.getCtx?r.getCtx():this})}))}(),t}function oe(e){const t=ae(e);!0===ne[t.debugId]&&(a._A.Promise=K.Yu.PR,ne[t.debugId]=\"unwrapped\")}function ae(e){return(e||n.ee).get(\"promise\")}var se=r(3916);const ce={},ue=XMLHttpRequest,de=\"addEventListener\",fe=\"removeEventListener\";function le(e){var t=ge(e);if(ce[t.debugId]++)return t;ce[t.debugId]=1;var r=d(t,!0);function n(e){r.inPlace(e,[de,fe],\"-\",i)}function i(e,t){return e[1]}return\"getPrototypeOf\"in Object&&(a.il&&he(document,n),he(a._A,n),he(ue.prototype,n)),t.on(de+\"-start\",(function(e,t){var n=e[1];if(null!==n&&(\"function\"==typeof n||\"object\"==typeof n)){var i=(0,se.X)(n,\"nr@wrapped\",(function(){var e={object:function(){if(\"function\"!=typeof n.handleEvent)return;return n.handleEvent.apply(n,arguments)},function:n}[typeof n];return e?r(e,\"fn-\",null,e.name||\"anonymous\"):n}));this.wrapped=e[1]=i}})),t.on(fe+\"-start\",(function(e){e[1]=this.wrapped||e[1]})),t}function he(e,t){let r=e;for(;\"object\"==typeof r&&!Object.prototype.hasOwnProperty.call(r,de);)r=Object.getPrototypeOf(r);for(var n=arguments.length,i=new Array(n>2?n-2:0),o=2;o<n;o++)i[o-2]=arguments[o];r&&t(r,...i)}function pe(e){const t=ge(e);1==ce[t.debugId]?([de,fe].forEach((e=>{\"object\"==typeof document&&he(document,p,e),he(a._A,p,e),he(ue.prototype,p,e)})),ce[t.debugId]=1/0):ce[t.debugId]--}function ge(e){return(e||n.ee).get(\"events\")}var ve=r(8610);const me={},be=[\"open\",\"send\"];function ye(e){var t=e||n.ee;const r=Ee(t);if(me[r.debugId]++)return r;me[r.debugId]=1,le(t);var i=d(r),o=K.Yu.XHR,s=K.Yu.MO,c=K.Yu.PR,u=K.Yu.SI,f=\"readystatechange\",l=[\"onload\",\"onerror\",\"onabort\",\"onloadstart\",\"onloadend\",\"onprogress\",\"ontimeout\"],h=[],p=a._A.XMLHttpRequest.listeners,g=a._A.XMLHttpRequest=function(e){var t=new o(e);function n(){try{r.emit(\"new-xhr\",[t],t),t.addEventListener(f,m,(0,W.m$)(!1))}catch(e){(0,ve.Z)(\"An error occured while intercepting XHR\",e);try{r.emit(\"internal-error\",[e])}catch(e){}}}return this.listeners=p?[...p,n]:[n],this.listeners.forEach((e=>e())),t};function v(e,t){i.inPlace(t,[\"onreadystatechange\"],\"fn-\",A)}function m(){var e=this,t=r.context(e);e.readyState>3&&!t.resolved&&(t.resolved=!0,r.emit(\"xhr-resolved\",[],e)),i.inPlace(e,l,\"fn-\",A)}if(function(e,t){for(var r in e)t[r]=e[r]}(o,g),g.prototype=o.prototype,i.inPlace(g.prototype,be,\"-xhr-\",A),r.on(\"send-xhr-start\",(function(e,t){v(e,t),function(e){h.push(e),s&&(b?b.then(E):u?u(E):(y=-y,w.data=y))}(t)})),r.on(\"open-xhr-start\",v),s){var b=c&&c.resolve();if(!u&&!c){var y=1,w=document.createTextNode(y);new s(E).observe(w,{characterData:!0})}}else t.on(\"fn-end\",(function(e){e[0]&&e[0].type===f||E()}));function E(){for(var e=0;e<h.length;e++)v(0,h[e]);h.length&&(h=[])}function A(e,t){return t}return r}function we(e){const t=Ee(e);1==me[t.debugId]?(pe(t),a._A.XMLHttpRequest=K.Yu.XHR,be.forEach((e=>{p(a._A.XMLHttpRequest.prototype,e)})),me[t.debugId]=1/0):me[t.debugId]--}function Ee(e){return(e||n.ee).get(\"xhr\")}},8675:(e,t,r)=>{\"use strict\";r.d(t,{t:()=>n});const n=r(2325).D.ajax},948:(e,t,r)=>{\"use strict\";r.r(t),r.d(t,{Instrument:()=>j});var n=r(6562),i=r(9252),o=r(3916),a=r(2374),s=1,c=\"nr@id\";function u(e){var t=typeof e;return!e||\"object\"!==t&&\"function\"!==t?-1:e===a._A?0:(0,o.X)(e,c,(function(){return s++}))}var d=r(9071);function f(e){if(\"string\"==typeof e&&e.length)return e.length;if(\"object\"==typeof e){if(\"undefined\"!=typeof ArrayBuffer&&e instanceof ArrayBuffer&&e.byteLength)return e.byteLength;if(\"undefined\"!=typeof Blob&&e instanceof Blob&&e.size)return e.size;if(!(\"undefined\"!=typeof FormData&&e instanceof FormData))try{return JSON.stringify(e).length}catch(e){return}}}var l=r(8544),h=r(2053),p=r(7264),g=r(6368),v=r(5526);class m{constructor(e){this.agentIdentifier=e,this.generateTracePayload=this.generateTracePayload.bind(this),this.shouldGenerateTrace=this.shouldGenerateTrace.bind(this)}generateTracePayload(e){if(!this.shouldGenerateTrace(e))return null;var t=(0,n.DL)(this.agentIdentifier);if(!t)return null;var r=(t.accountID||\"\").toString()||null,i=(t.agentID||\"\").toString()||null,o=(t.trustKey||\"\").toString()||null;if(!r||!i)return null;var a=(0,v.M)(),s=(0,v.Ht)(),c=Date.now(),u={spanId:a,traceId:s,timestamp:c};return(e.sameOrigin||this.isAllowedOrigin(e)&&this.useTraceContextHeadersForCors())&&(u.traceContextParentHeader=this.generateTraceContextParentHeader(a,s),u.traceContextStateHeader=this.generateTraceContextStateHeader(a,c,r,i,o)),(e.sameOrigin&&!this.excludeNewrelicHeader()||!e.sameOrigin&&this.isAllowedOrigin(e)&&this.useNewrelicHeaderForCors())&&(u.newrelicHeader=this.generateTraceHeader(a,s,c,r,i,o)),u}generateTraceContextParentHeader(e,t){return\"00-\"+t+\"-\"+e+\"-01\"}generateTraceContextStateHeader(e,t,r,n,i){return i+\"@nr=0-1-\"+r+\"-\"+n+\"-\"+e+\"----\"+t}generateTraceHeader(e,t,r,n,i,o){if(!(\"function\"==typeof a._A?.btoa))return null;var s={v:[0,1],d:{ty:\"Browser\",ac:n,ap:i,id:e,tr:t,ti:r}};return o&&n!==o&&(s.d.tk=o),btoa(JSON.stringify(s))}shouldGenerateTrace(e){return this.isDtEnabled()&&this.isAllowedOrigin(e)}isAllowedOrigin(e){var t=!1,r={};if((0,n.Mt)(this.agentIdentifier,\"distributed_tracing\")&&(r=(0,n.P_)(this.agentIdentifier).distributed_tracing),e.sameOrigin)t=!0;else if(r.allowed_origins instanceof Array)for(var i=0;i<r.allowed_origins.length;i++){var o=(0,g.e)(r.allowed_origins[i]);if(e.hostname===o.hostname&&e.protocol===o.protocol&&e.port===o.port){t=!0;break}}return t}isDtEnabled(){var e=(0,n.Mt)(this.agentIdentifier,\"distributed_tracing\");return!!e&&!!e.enabled}excludeNewrelicHeader(){var e=(0,n.Mt)(this.agentIdentifier,\"distributed_tracing\");return!!e&&!!e.exclude_newrelic_header}useNewrelicHeaderForCors(){var e=(0,n.Mt)(this.agentIdentifier,\"distributed_tracing\");return!!e&&!1!==e.cors_use_newrelic_header}useTraceContextHeadersForCors(){var e=(0,n.Mt)(this.agentIdentifier,\"distributed_tracing\");return!!e&&!!e.cors_use_tracecontext_headers}}var b=r(6114),y=r(8675),w=r(2325);function E(e,t){!function(e,t){if(t.has(e))throw new TypeError(\"Cannot initialize the same private elements twice on an object\")}(e,t),t.add(e)}var A,x,O,T=[\"load\",\"error\",\"abort\",\"timeout\"],S=T.length,_=n.Yu.REQ,I=a._A.XMLHttpRequest,P=new WeakSet;class j extends b.S{constructor(e,t){let r=!(arguments.length>2&&void 0!==arguments[2])||arguments[2];super(e,t,y.t,r),E(this,P),(0,n.OP)(e).xhrWrappable&&(this.dt=new m(e),this.handler=(e,t,r,n)=>(0,i.p)(e,t,r,n,this.ee),(0,p.u5)(this.ee),(0,p.Kf)(this.ee),function(e,t,r,i){function o(e){var t=this;t.totalCbs=0,t.called=0,t.cbTime=0,t.end=D,t.ended=!1,t.xhrGuids={},t.lastSize=null,t.loadCaptureCalled=!1,t.params=this.params||{},t.metrics=this.metrics||{},e.addEventListener(\"load\",(function(r){N(t,e)}),(0,l.m$)(!1)),d.I||e.addEventListener(\"progress\",(function(e){t.lastSize=e.loaded}),(0,l.m$)(!1))}function s(e){this.params={method:e[0]},C(this,e[1]),this.metrics={}}function c(t,r){var o=(0,n.DL)(e);\"xpid\"in o&&this.sameOrigin&&r.setRequestHeader(\"X-NewRelic-ID\",o.xpid);var a=i.generateTracePayload(this.parsedOrigin);if(a){var s=!1;a.newrelicHeader&&(r.setRequestHeader(\"newrelic\",a.newrelicHeader),s=!0),a.traceContextParentHeader&&(r.setRequestHeader(\"traceparent\",a.traceContextParentHeader),a.traceContextStateHeader&&r.setRequestHeader(\"tracestate\",a.traceContextStateHeader),s=!0),s&&(this.dt=a)}}function p(e,r){var n=this.metrics,i=e[0],o=this;if(n&&i){var a=f(i);a&&(n.txSize=a)}this.startTime=(0,h.zO)(),this.listener=function(e){try{\"abort\"!==e.type||o.loadCaptureCalled||(o.params.aborted=!0),(\"load\"!==e.type||o.called===o.totalCbs&&(o.onloadCalled||\"function\"!=typeof r.onload)&&\"function\"==typeof o.end)&&o.end(r)}catch(e){try{t.emit(\"internal-error\",[e])}catch(e){}}};for(var s=0;s<S;s++)r.addEventListener(T[s],this.listener,(0,l.m$)(!1))}function v(e,t,r){this.cbTime+=e,t?this.onloadCalled=!0:this.called+=1,this.called!==this.totalCbs||!this.onloadCalled&&\"function\"==typeof r.onload||\"function\"!=typeof this.end||this.end(r)}function m(e,t){var r=\"\"+u(e)+!!t;this.xhrGuids&&!this.xhrGuids[r]&&(this.xhrGuids[r]=!0,this.totalCbs+=1)}function b(e,t){var r=\"\"+u(e)+!!t;this.xhrGuids&&this.xhrGuids[r]&&(delete this.xhrGuids[r],this.totalCbs-=1)}function y(){this.endTime=(0,h.zO)()}function E(e,r){r instanceof I&&\"load\"===e[0]&&t.emit(\"xhr-load-added\",[e[1],e[2]],r)}function A(e,r){r instanceof I&&\"load\"===e[0]&&t.emit(\"xhr-load-removed\",[e[1],e[2]],r)}function x(e,t,r){t instanceof I&&(\"onload\"===r&&(this.onload=!0),(\"load\"===(e[0]&&e[0].type)||this.onload)&&(this.xhrCbStart=(0,h.zO)()))}function O(e,r){this.xhrCbStart&&t.emit(\"xhr-cb-time\",[(0,h.zO)()-this.xhrCbStart,this.onload,r],r)}function P(e){var t,r=e[1]||{};\"string\"==typeof e[0]?t=e[0]:e[0]&&e[0].url?t=e[0].url:a._A?.URL&&e[0]&&e[0]instanceof URL&&(t=e[0].href),t&&(this.parsedOrigin=(0,g.e)(t),this.sameOrigin=this.parsedOrigin.sameOrigin);var n=i.generateTracePayload(this.parsedOrigin);if(n&&(n.newrelicHeader||n.traceContextParentHeader))if(\"string\"==typeof e[0]||a._A?.URL&&e[0]&&e[0]instanceof URL){var o={};for(var s in r)o[s]=r[s];o.headers=new Headers(r.headers||{}),c(o.headers,n)&&(this.dt=n),e.length>1?e[1]=o:e.push(o)}else e[0]&&e[0].headers&&c(e[0].headers,n)&&(this.dt=n);function c(e,t){var r=!1;return t.newrelicHeader&&(e.set(\"newrelic\",t.newrelicHeader),r=!0),t.traceContextParentHeader&&(e.set(\"traceparent\",t.traceContextParentHeader),t.traceContextStateHeader&&e.set(\"tracestate\",t.traceContextStateHeader),r=!0),r}}function j(e,t){this.params={},this.metrics={},this.startTime=(0,h.zO)(),this.dt=t,e.length>=1&&(this.target=e[0]),e.length>=2&&(this.opts=e[1]);var r,n=this.opts||{},i=this.target;\"string\"==typeof i?r=i:\"object\"==typeof i&&i instanceof _?r=i.url:a._A?.URL&&\"object\"==typeof i&&i instanceof URL&&(r=i.href),C(this,r);var o=(\"\"+(i&&i instanceof _&&i.method||n.method||\"GET\")).toUpperCase();this.params.method=o,this.txSize=f(n.body)||0}function R(e,t){var n;this.endTime=(0,h.zO)(),this.params||(this.params={}),this.params.status=t?t.status:0,\"string\"==typeof this.rxSize&&this.rxSize.length>0&&(n=+this.rxSize);var i={txSize:this.txSize,rxSize:n,duration:(0,h.zO)()-this.startTime};r(\"xhr\",[this.params,i,this.startTime,this.endTime,\"fetch\"],this,w.D.ajax)}function D(e){var t=this.params,n=this.metrics;if(!this.ended){this.ended=!0;for(var i=0;i<S;i++)e.removeEventListener(T[i],this.listener,!1);t.aborted||(n.duration=(0,h.zO)()-this.startTime,this.loadCaptureCalled||4!==e.readyState?null==t.status&&(t.status=0):N(this,e),n.cbTime=this.cbTime,r(\"xhr\",[t,n,this.startTime,this.endTime,\"xhr\"],this,w.D.ajax))}}function C(e,t){var r=(0,g.e)(t),n=e.params;n.hostname=r.hostname,n.port=r.port,n.protocol=r.protocol,n.host=r.hostname+\":\"+r.port,n.pathname=r.pathname,e.parsedOrigin=r,e.sameOrigin=r.sameOrigin}function N(e,t){e.params.status=t.status;var r=function(e,t){var r=e.responseType;return\"json\"===r&&null!==t?t:\"arraybuffer\"===r||\"blob\"===r||\"json\"===r?f(e.response):\"text\"===r||\"\"===r||void 0===r?f(e.responseText):void 0}(t,e.lastSize);if(r&&(e.metrics.rxSize=r),e.sameOrigin){var n=t.getResponseHeader(\"X-NewRelic-App-Data\");n&&(e.params.cat=n.split(\", \").pop())}e.loadCaptureCalled=!0}t.on(\"new-xhr\",o),t.on(\"open-xhr-start\",s),t.on(\"open-xhr-end\",c),t.on(\"send-xhr-start\",p),t.on(\"xhr-cb-time\",v),t.on(\"xhr-load-added\",m),t.on(\"xhr-load-removed\",b),t.on(\"xhr-resolved\",y),t.on(\"addEventListener-end\",E),t.on(\"removeEventListener-end\",A),t.on(\"fn-end\",O),t.on(\"fetch-before-start\",P),t.on(\"fetch-start\",j),t.on(\"fn-start\",x),t.on(\"fetch-done\",R)}(e,this.ee,this.handler,this.dt),this.abortHandler=function(e,t,r){if(!t.has(e))throw new TypeError(\"attempted to get private field on non-instance\");return r}(this,P,R),this.importAggregator())}}function R(){(0,p.Fp)(this.ee),(0,p.ig)(this.ee),this.abortHandler=void 0}A=j,x=\"featureName\",O=y.t,(x=function(e){var t=function(e,t){if(\"object\"!=typeof e||null===e)return e;var r=e[Symbol.toPrimitive];if(void 0!==r){var n=r.call(e,t||\"default\");if(\"object\"!=typeof n)return n;throw new TypeError(\"@@toPrimitive must return a primitive value.\")}return(\"string\"===t?String:Number)(e)}(e,\"string\");return\"symbol\"==typeof t?t:String(t)}(x))in A?Object.defineProperty(A,x,{value:O,enumerable:!0,configurable:!0,writable:!0}):A[x]=O},8322:(e,t,r)=>{\"use strict\";r.d(t,{A:()=>i,t:()=>n});const n=r(2325).D.jserrors,i=\"nr@seenError\"},9715:(e,t,r)=>{\"use strict\";r.r(t),r.d(t,{Instrument:()=>T});var n,i=r(9252),o=r(2053),a=r(3916),s=r(7264),c=r(8683),u=r.n(c),d=r(3752),f=r(7022),l={};try{n=localStorage.getItem(\"__nr_flags\").split(\",\"),console&&\"function\"==typeof console.log&&(l.console=!0,-1!==n.indexOf(\"dev\")&&(l.dev=!0),-1!==n.indexOf(\"nr_dev\")&&(l.nrDev=!0))}catch(e){}function h(e){try{l.console&&h(e)}catch(e){}}l.nrDev&&d.ee.on(\"internal-error\",(function(e){h(e.stack)})),l.dev&&d.ee.on(\"fn-err\",(function(e,t,r){h(r.stack)})),l.dev&&(h(\"NR AGENT IN DEVELOPMENT MODE\"),h(\"flags: \"+(0,f.D)(l,(function(e,t){return e})).join(\", \")));var p=r(6114),g=r(8322),v=r(2325),m=r(2374),b=r(8544),y=r(6562);function w(e,t){!function(e,t){if(t.has(e))throw new TypeError(\"Cannot initialize the same private elements twice on an object\")}(e,t),t.add(e)}var E,A,x,O=new WeakSet;class T extends p.S{constructor(e,t){var r;let n=!(arguments.length>2&&void 0!==arguments[2])||arguments[2];super(e,t,g.t,n),r=this,w(this,O),this.skipNext=0,this.origOnerror=m._A.onerror;try{this.removeOnAbort=new AbortController}catch(e){}const c=this;c.ee.on(\"fn-start\",(function(e,t,r){c.abortHandler&&(c.skipNext+=1)})),c.ee.on(\"fn-err\",(function(e,t,r){c.abortHandler&&!r[g.A]&&((0,a.X)(r,g.A,(function(){return!0})),this.thrown=!0,I(r,void 0,c.ee))})),c.ee.on(\"fn-end\",(function(){c.abortHandler&&!this.thrown&&c.skipNext>0&&(c.skipNext-=1)})),c.ee.on(\"internal-error\",(function(e){(0,i.p)(\"ierr\",[e,(0,o.zO)(),!0],void 0,v.D.jserrors,c.ee)})),m._A.onerror=function(){return r.origOnerror&&r.origOnerror(...arguments),r.onerrorHandler(...arguments),!1},m._A.addEventListener(\"unhandledrejection\",(e=>{const t=function(e){let t=\"Unhandled Promise Rejection: \";if(e instanceof Error)try{return e.message=t+e.message,e}catch(t){return e}if(void 0===e)return new Error(t);try{return new Error(t+JSON.stringify(e))}catch(e){return new Error(t)}}(e.reason);(0,i.p)(\"err\",[t,(0,o.zO)(),!1,{unhandledPromiseRejection:1}],void 0,v.D.jserrors,this.ee)}),(0,b.m$)(!1,this.removeOnAbort?.signal)),(0,s.gy)(this.ee),(0,s.BV)(this.ee),(0,s.em)(this.ee),(0,y.OP)(e).xhrWrappable&&(0,s.Kf)(this.ee),this.abortHandler=function(e,t,r){if(!t.has(e))throw new TypeError(\"attempted to get private field on non-instance\");return r}(this,O,S),this.importAggregator()}onerrorHandler(e,t,r,n,a){try{this.skipNext?this.skipNext-=1:I(a||new _(e,t,r),!0,this.ee)}catch(e){try{(0,i.p)(\"ierr\",[e,(0,o.zO)(),!0],void 0,v.D.jserrors,this.ee)}catch(e){}}return\"function\"==typeof this.origOnerror&&this.origOnerror.apply(this,u()(arguments))}}function S(){m._A.onerror=this.origOnerror,this.removeOnAbort?.abort(),(0,s.XV)(this.ee),(0,s.Zw)(this.ee),(0,s.hF)(this.ee),(0,y.OP)(this.agentIdentifier).xhrWrappable&&(0,s.ig)(this.ee),this.abortHandler=void 0}function _(e,t,r){this.message=e||\"Uncaught error with no additional information\",this.sourceURL=t,this.line=r}function I(e,t,r){var n=t?null:(0,o.zO)();(0,i.p)(\"err\",[e,n],void 0,v.D.jserrors,r)}E=T,A=\"featureName\",x=g.t,(A=function(e){var t=function(e,t){if(\"object\"!=typeof e||null===e)return e;var r=e[Symbol.toPrimitive];if(void 0!==r){var n=r.call(e,t||\"default\");if(\"object\"!=typeof n)return n;throw new TypeError(\"@@toPrimitive must return a primitive value.\")}return(\"string\"===t?String:Number)(e)}(e,\"string\");return\"symbol\"==typeof t?t:String(t)}(A))in E?Object.defineProperty(E,A,{value:x,enumerable:!0,configurable:!0,writable:!0}):E[A]=x},6034:(e,t,r)=>{\"use strict\";r.d(t,{t:()=>n});const n=r(2325).D.metrics},600:(e,t,r)=>{\"use strict\";r.r(t),r.d(t,{Instrument:()=>O,constants:()=>T});var n=r(9252),i=r(4045),o=r(6114),a=r(2374),s={REACT:\"React\",ANGULAR:\"Angular\",ANGULARJS:\"AngularJS\",BACKBONE:\"Backbone\",EMBER:\"Ember\",VUE:\"Vue\",METEOR:\"Meteor\",ZEPTO:\"Zepto\",JQUERY:\"Jquery\"};function c(){if(!a.il)return[];var e=[];try{(function(){try{if(window.React||window.ReactDOM||window.ReactRedux)return!0;if(document.querySelector(\"[data-reactroot], [data-reactid]\"))return!0;for(var e=document.querySelectorAll(\"body > div\"),t=0;t<e.length;t++)if(Object.keys(e[t]).indexOf(\"_reactRootContainer\")>=0)return!0;return!1}catch(e){return!1}})()&&e.push(s.REACT),function(){try{return!!window.angular||(!!document.querySelector(\".ng-binding, [ng-app], [data-ng-app], [ng-controller], [data-ng-controller], [ng-repeat], [data-ng-repeat]\")||!!document.querySelector(\\'script[src*=\"angular.js\"], script[src*=\"angular.min.js\"]\\'))}catch(e){return!1}}()&&e.push(s.ANGULARJS),function(){try{return!!(window.hasOwnProperty(\"ng\")&&window.ng.hasOwnProperty(\"coreTokens\")&&window.ng.coreTokens.hasOwnProperty(\"NgZone\"))||!!document.querySelectorAll(\"[ng-version]\").length}catch(e){return!1}}()&&e.push(s.ANGULAR),window.Backbone&&e.push(s.BACKBONE),window.Ember&&e.push(s.EMBER),window.Vue&&e.push(s.VUE),window.Meteor&&e.push(s.METEOR),window.Zepto&&e.push(s.ZEPTO),window.jQuery&&e.push(s.JQUERY)}catch(e){}return e}var u=r(9548),d=r(9226),f=r(8226),l=r(2650),h=r(8544),p=r(6562),g=r(8610);const v={dedicated:Boolean(a._A?.Worker),shared:Boolean(a._A?.SharedWorker),service:Boolean(a._A?.navigator?.serviceWorker)};let m,b,y;var w=r(6034);var E,A,x;class O extends o.S{constructor(e,t){var r;let n=!(arguments.length>2&&void 0!==arguments[2])||arguments[2];super(e,t,w.t,n),r=this,this.singleChecks(),this.eachSessionChecks(),(0,i.X)(\"record-supportability\",(function(){return r.recordSupportability(...arguments)}),this.featureName,this.ee),(0,i.X)(\"record-custom\",(function(){return r.recordCustom(...arguments)}),this.featureName,this.ee),this.importAggregator()}recordSupportability(e,t){var r=[\"sm\",e,{name:e},t];return(0,n.p)(\"storeMetric\",r,null,this.featureName,this.ee),r}recordCustom(e,t){var r=[\"cm\",e,{name:e},t];return(0,n.p)(\"storeEventMetrics\",r,null,this.featureName,this.ee),r}singleChecks(){this.recordSupportability(\"Generic/Version/\".concat(f.q,\"/Detected\"));const{loaderType:e}=(0,p.OP)(this.agentIdentifier);e&&this.recordSupportability(\"Generic/LoaderType/\".concat(e,\"/Detected\")),a.il&&(0,l.K)((()=>{c().forEach((e=>{this.recordSupportability(\"Framework/\"+e+\"/Detected\")}))})),u.T.isFileProtocol()&&(this.recordSupportability(\"Generic/FileProtocol/Detected\"),u.T.supportabilityMetricSent=!0);const t=(0,d.$c)(this.agentIdentifier);t.length>0&&this.recordSupportability(\"Generic/Obfuscate/Detected\"),t.length>0&&!(0,d.Ng)(t)&&this.recordSupportability(\"Generic/Obfuscate/Invalid\"),function(e){if(!m){if(v.dedicated){m=Worker;try{a._A.Worker=r(m,\"Dedicated\")}catch(e){o(e,\"Dedicated\")}if(v.shared){b=SharedWorker;try{a._A.SharedWorker=r(b,\"Shared\")}catch(e){o(e,\"Shared\")}}else n(\"Shared\");if(v.service){y=navigator.serviceWorker.register;try{a._A.navigator.serviceWorker.register=(t=y,function(){for(var e=arguments.length,r=new Array(e),n=0;n<e;n++)r[n]=arguments[n];return i(\"Service\",r[1]?.type),t.apply(navigator.serviceWorker,r)})}catch(e){o(e,\"Service\")}}else n(\"Service\");var t;return}n(\"All\")}function r(e,t){return\"undefined\"==typeof Proxy?e:new Proxy(e,{construct:(e,r)=>(i(t,r[1]?.type),new e(...r))})}function n(t){a.v6||e(\"Workers/\".concat(t,\"/Unavailable\"))}function i(t,r){e(\"Workers/\".concat(t,\"module\"===r?\"/Module\":\"/Classic\"))}function o(t,r){e(\"Workers/\".concat(r,\"/SM/Unsupported\")),(0,g.Z)(\"NR Agent: Unable to capture \".concat(r,\" workers.\"),t)}}(this.recordSupportability.bind(this))}eachSessionChecks(){a.il&&(0,h.bP)(\"pageshow\",(e=>{e.persisted&&this.recordSupportability(\"Generic/BFCache/PageRestored\")}))}}E=O,A=\"featureName\",x=w.t,(A=function(e){var t=function(e,t){if(\"object\"!=typeof e||null===e)return e;var r=e[Symbol.toPrimitive];if(void 0!==r){var n=r.call(e,t||\"default\");if(\"object\"!=typeof n)return n;throw new TypeError(\"@@toPrimitive must return a primitive value.\")}return(\"string\"===t?String:Number)(e)}(e,\"string\");return\"symbol\"==typeof t?t:String(t)}(A))in E?Object.defineProperty(E,A,{value:x,enumerable:!0,configurable:!0,writable:!0}):E[A]=x;var T={SUPPORTABILITY_METRIC:\"sm\",CUSTOM_METRIC:\"cm\"}},6486:(e,t,r)=>{\"use strict\";r.d(t,{t:()=>n});const n=r(2325).D.pageAction},488:(e,t,r)=>{\"use strict\";r.r(t),r.d(t,{Instrument:()=>c});var n,i,o,a=r(6114),s=r(6486);class c extends a.S{constructor(e,t){let r=!(arguments.length>2&&void 0!==arguments[2])||arguments[2];super(e,t,s.t,r),this.importAggregator()}}n=c,i=\"featureName\",o=s.t,(i=function(e){var t=function(e,t){if(\"object\"!=typeof e||null===e)return e;var r=e[Symbol.toPrimitive];if(void 0!==r){var n=r.call(e,t||\"default\");if(\"object\"!=typeof n)return n;throw new TypeError(\"@@toPrimitive must return a primitive value.\")}return(\"string\"===t?String:Number)(e)}(e,\"string\");return\"symbol\"==typeof t?t:String(t)}(i))in n?Object.defineProperty(n,i,{value:o,enumerable:!0,configurable:!0,writable:!0}):n[i]=o},2484:(e,t,r)=>{\"use strict\";r.d(t,{t:()=>n});const n=r(2325).D.pageViewEvent},5637:(e,t,r)=>{\"use strict\";r.r(t),r.d(t,{Instrument:()=>g});var n,i,o,a=r(9252),s=r(2053),c=r(8283),u=r(6625),d=r(6114),f=r(2650),l=r(2484),h=r(2325),p=r(2374);class g extends d.S{constructor(e,t){let r=!(arguments.length>2&&void 0!==arguments[2])||arguments[2];super(e,t,l.t,r),p.il&&((0,u.v)(e),(0,c.B)(e,\"firstbyte\",(0,s.yf)()),(0,f.K)((()=>this.measureDomContentLoaded())),(0,f.b)((()=>this.measureWindowLoaded()),!0),this.importAggregator())}measureWindowLoaded(){var e=(0,s.zO)();(0,c.B)(this.agentIdentifier,\"onload\",e+(0,s.os)()),(0,a.p)(\"timing\",[\"load\",e],void 0,h.D.pageViewTiming,this.ee)}measureDomContentLoaded(){(0,c.B)(this.agentIdentifier,\"domContent\",(0,s.zO)()+(0,s.os)())}}n=g,i=\"featureName\",o=l.t,(i=function(e){var t=function(e,t){if(\"object\"!=typeof e||null===e)return e;var r=e[Symbol.toPrimitive];if(void 0!==r){var n=r.call(e,t||\"default\");if(\"object\"!=typeof n)return n;throw new TypeError(\"@@toPrimitive must return a primitive value.\")}return(\"string\"===t?String:Number)(e)}(e,\"string\");return\"symbol\"==typeof t?t:String(t)}(i))in n?Object.defineProperty(n,i,{value:o,enumerable:!0,configurable:!0,writable:!0}):n[i]=o},6382:(e,t,r)=>{\"use strict\";r.d(t,{t:()=>n});const n=r(2325).D.pageViewTiming},7817:(e,t,r)=>{\"use strict\";r.r(t),r.d(t,{Instrument:()=>g});var n,i,o,a=r(9252),s=r(6998),c=r(8544),u=r(2053),d=r(6562),f=r(6114),l=r(6382),h=r(2325),p=r(2374);class g extends f.S{constructor(e,t){var r;let n=!(arguments.length>2&&void 0!==arguments[2])||arguments[2];if(super(e,t,l.t,n),r=this,p.il){if(this.pageHiddenTime=(0,s.e)(),this.performanceObserver,this.lcpPerformanceObserver,this.clsPerformanceObserver,this.fiRecorded=!1,\"PerformanceObserver\"in window&&\"function\"==typeof window.PerformanceObserver){this.performanceObserver=new PerformanceObserver((function(){return r.perfObserver(...arguments)}));try{this.performanceObserver.observe({entryTypes:[\"paint\"]})}catch(e){}this.lcpPerformanceObserver=new PerformanceObserver((function(){return r.lcpObserver(...arguments)}));try{this.lcpPerformanceObserver.observe({entryTypes:[\"largest-contentful-paint\"]})}catch(e){}this.clsPerformanceObserver=new PerformanceObserver((function(){return r.clsObserver(...arguments)}));try{this.clsPerformanceObserver.observe({type:\"layout-shift\",buffered:!0})}catch(e){}}this.fiRecorded=!1;[\"click\",\"keydown\",\"mousedown\",\"pointerdown\",\"touchstart\"].forEach((e=>{(0,c.iz)(e,(function(){return r.captureInteraction(...arguments)}))})),(0,s.N)((()=>{this.pageHiddenTime=(0,u.zO)(),(0,a.p)(\"docHidden\",[this.pageHiddenTime],void 0,h.D.pageViewTiming,this.ee)}),!0),(0,c.bP)(\"pagehide\",(()=>(0,a.p)(\"winPagehide\",[(0,u.zO)()],void 0,h.D.pageViewTiming,this.ee))),this.importAggregator()}}perfObserver(e,t){e.getEntries().forEach((e=>{\"first-paint\"===e.name?(0,a.p)(\"timing\",[\"fp\",Math.floor(e.startTime)],void 0,h.D.pageViewTiming,this.ee):\"first-contentful-paint\"===e.name&&(0,a.p)(\"timing\",[\"fcp\",Math.floor(e.startTime)],void 0,h.D.pageViewTiming,this.ee)}))}lcpObserver(e,t){var r=e.getEntries();if(r.length>0){var n=r[r.length-1];if(this.pageHiddenTime<n.startTime)return;var i=[n],o=this.addConnectionAttributes({});o&&i.push(o),(0,a.p)(\"lcp\",i,void 0,h.D.pageViewTiming,this.ee)}}clsObserver(e){e.getEntries().forEach((e=>{e.hadRecentInput||(0,a.p)(\"cls\",[e],void 0,h.D.pageViewTiming,this.ee)}))}addConnectionAttributes(e){var t=navigator.connection||navigator.mozConnection||navigator.webkitConnection;if(t)return t.type&&(e[\"net-type\"]=t.type),t.effectiveType&&(e[\"net-etype\"]=t.effectiveType),t.rtt&&(e[\"net-rtt\"]=t.rtt),t.downlink&&(e[\"net-dlink\"]=t.downlink),e}captureInteraction(e){if(e instanceof d.Yu.EV&&!this.fiRecorded){var t=Math.round(e.timeStamp),r={type:e.type};this.addConnectionAttributes(r),t<=(0,u.zO)()?r.fid=(0,u.zO)()-t:t>(0,u.os)()&&t<=Date.now()?(t-=(0,u.os)(),r.fid=(0,u.zO)()-t):t=(0,u.zO)(),this.fiRecorded=!0,(0,a.p)(\"timing\",[\"fi\",t,r],void 0,h.D.pageViewTiming,this.ee)}}}n=g,i=\"featureName\",o=l.t,(i=function(e){var t=function(e,t){if(\"object\"!=typeof e||null===e)return e;var r=e[Symbol.toPrimitive];if(void 0!==r){var n=r.call(e,t||\"default\");if(\"object\"!=typeof n)return n;throw new TypeError(\"@@toPrimitive must return a primitive value.\")}return(\"string\"===t?String:Number)(e)}(e,\"string\");return\"symbol\"==typeof t?t:String(t)}(i))in n?Object.defineProperty(n,i,{value:o,enumerable:!0,configurable:!0,writable:!0}):n[i]=o},2628:(e,t,r)=>{\"use strict\";r.r(t),r.d(t,{ADD_EVENT_LISTENER:()=>g,BST_RESOURCE:()=>a,BST_TIMER:()=>l,END:()=>u,FEATURE_NAME:()=>i,FN_END:()=>f,FN_START:()=>d,ORIG_EVENT:()=>p,PUSH_STATE:()=>h,RESOURCE:()=>s,RESOURCE_TIMING_BUFFER_FULL:()=>o,START:()=>c});var n=r(6562);const i=r(2325).D.sessionTrace,o=\"resourcetimingbufferfull\",a=\"bstResource\",s=\"resource\",c=\"-start\",u=\"-end\",d=\"fn\"+c,f=\"fn\"+u,l=\"bstTimer\",h=\"pushState\",p=n.Yu.EV,g=\"addEventListener\"},6649:(e,t,r)=>{\"use strict\";r.r(t),r.d(t,{Instrument:()=>j});var n=r(9252),i=r(7264),o=r(6408),a=r(8544),s=r(2053),c=r(6114),u=r(2628),d=r(2325),f=r(2374);function l(e,t){!function(e,t){if(t.has(e))throw new TypeError(\"Cannot initialize the same private elements twice on an object\")}(e,t),t.add(e)}const{BST_RESOURCE:h,BST_TIMER:p,END:g,FEATURE_NAME:v,FN_END:m,FN_START:b,ADD_EVENT_LISTENER:y,PUSH_STATE:w,RESOURCE:E,RESOURCE_TIMING_BUFFER_FULL:A,START:x,ORIG_EVENT:O}=u,T=\"clearResourceTimings\";var S,_,I,P=new WeakSet;class j extends c.S{constructor(e,t){if(super(e,t,v,!(arguments.length>2&&void 0!==arguments[2])||arguments[2]),l(this,P),!f.il)return;const r=this.ee;this.timerEE=(0,i.BV)(r),this.rafEE=(0,i.gy)(r),(0,i.QU)(r),(0,i.em)(r),r.on(b,(function(e,t){e[0]instanceof O&&(this.bstStart=(0,s.zO)())})),r.on(m,(function(e,t){var i=e[0];i instanceof O&&(0,n.p)(\"bst\",[i,t,this.bstStart,(0,s.zO)()],void 0,d.D.sessionTrace,r)})),this.timerEE.on(b,(function(e,t,r){this.bstStart=(0,s.zO)(),this.bstType=r})),this.timerEE.on(m,(function(e,t){(0,n.p)(p,[t,this.bstStart,(0,s.zO)(),this.bstType],void 0,d.D.sessionTrace,r)})),this.rafEE.on(b,(function(){this.bstStart=(0,s.zO)()})),this.rafEE.on(m,(function(e,t){(0,n.p)(p,[t,this.bstStart,(0,s.zO)(),\"requestAnimationFrame\"],void 0,d.D.sessionTrace,r)})),r.on(w+x,(function(e){this.time=(0,s.zO)(),this.startPath=location.pathname+location.hash})),r.on(w+g,(function(e){(0,n.p)(\"bstHist\",[location.pathname+location.hash,this.startPath,this.time],void 0,d.D.sessionTrace,r)})),(0,o.W)()?((0,n.p)(h,[window.performance.getEntriesByType(\"resource\")],void 0,d.D.sessionTrace,r),function(){var e=new PerformanceObserver(((e,t)=>{var i=e.getEntries();(0,n.p)(h,[i],void 0,d.D.sessionTrace,r)}));try{e.observe({entryTypes:[\"resource\"]})}catch(e){}}()):window.performance[T]&&window.performance[y]&&window.performance.addEventListener(A,this.onResourceTimingBufferFull,(0,a.m$)(!1)),document.addEventListener(\"scroll\",this.noOp,(0,a.m$)(!1)),document.addEventListener(\"keypress\",this.noOp,(0,a.m$)(!1)),document.addEventListener(\"click\",this.noOp,(0,a.m$)(!1)),this.abortHandler=function(e,t,r){if(!t.has(e))throw new TypeError(\"attempted to get private field on non-instance\");return r}(this,P,R),this.importAggregator()}noOp(e){}onResourceTimingBufferFull(e){if((0,n.p)(h,[window.performance.getEntriesByType(E)],void 0,d.D.sessionTrace,this.ee),window.performance[T])try{window.performance.removeEventListener(A,this.onResourceTimingBufferFull,!1)}catch(e){}}}function R(){window.performance.removeEventListener(A,this.onResourceTimingBufferFull,!1),(0,i.Zw)(this.ee),(0,i.XV)(this.ee),(0,i.lx)(this.ee),(0,i.hF)(this.ee),this.abortHandler=void 0}S=j,I=v,(_=function(e){var t=function(e,t){if(\"object\"!=typeof e||null===e)return e;var r=e[Symbol.toPrimitive];if(void 0!==r){var n=r.call(e,t||\"default\");if(\"object\"!=typeof n)return n;throw new TypeError(\"@@toPrimitive must return a primitive value.\")}return(\"string\"===t?String:Number)(e)}(e,\"string\");return\"symbol\"==typeof t?t:String(t)}(_=\"featureName\"))in S?Object.defineProperty(S,_,{value:I,enumerable:!0,configurable:!0,writable:!0}):S[_]=I},1509:(e,t,r)=>{\"use strict\";r.d(t,{W:()=>s});var n=r(6562),i=r(3752),o=r(2384),a=r(6797);class s{constructor(e,t,r){this.agentIdentifier=e,this.aggregator=t,this.ee=i.ee.get(e,(0,n.OP)(this.agentIdentifier).isolatedBacklog),this.featureName=r,this.blocked=!1,this.checkConfiguration()}checkConfiguration(){if(!(0,n.lF)(this.agentIdentifier)){let e={...(0,a.gG)().info?.jsAttributes};try{e={...e,...(0,n.C5)(this.agentIdentifier)?.jsAttributes}}catch(e){}(0,o.j)(this.agentIdentifier,{...(0,a.gG)(),info:{...(0,a.gG)().info,jsAttributes:e}})}}}},6114:(e,t,r)=>{\"use strict\";r.d(t,{S:()=>c});var n=r(4329),i=r(1509),o=r(2650),a=r(2374),s=r(8610);class c extends i.W{constructor(e,t,r){let i=!(arguments.length>3&&void 0!==arguments[3])||arguments[3];super(e,t,r),this.hasAggregator=!1,this.auto=i,this.abortHandler,i&&(0,n.R)(e,r)}importAggregator(){if(this.hasAggregator||!this.auto)return;this.hasAggregator=!0;const e=async()=>{try{const{lazyLoader:e}=await r.e(729).then(r.bind(r,8110)),{Aggregate:t}=await e(this.featureName,\"aggregate\");new t(this.agentIdentifier,this.aggregator)}catch(e){(0,s.Z)(\"Downloading \".concat(this.featureName,\" failed...\")),this.abortHandler?.()}};a.v6?e():(0,o.b)((()=>e()),!0)}}},2384:(e,t,r)=>{\"use strict\";r.d(t,{j:()=>y});var n=r(8683),i=r.n(n),o=r(2325),a=r(6562),s=r(9252),c=r(7022),u=r(3752),d=r(2053),f=r(4329),l=r(2650),h=r(2374),p=r(8610);function g(e){[\"setErrorHandler\",\"finished\",\"addToTrace\",\"inlineHit\",\"addRelease\",\"addPageAction\",\"setCurrentRouteName\",\"setPageViewName\",\"setCustomAttribute\",\"interaction\",\"noticeError\"].forEach((t=>{e[t]=function(){for(var r=arguments.length,n=new Array(r),i=0;i<r;i++)n[i]=arguments[i];return function(t){for(var r=arguments.length,n=new Array(r>1?r-1:0),i=1;i<r;i++)n[i-1]=arguments[i];Object.values(e.initializedAgents).forEach((e=>{e.exposed&&e.api[t]&&e.api[t](...n)}))}(t,...n)}}))}var v=r(6797);const m={stn:[o.D.sessionTrace],err:[o.D.jserrors,o.D.metrics],ins:[o.D.pageAction],spa:[o.D.spa]};const b={};function y(e){let t=arguments.length>1&&void 0!==arguments[1]?arguments[1]:{},n=arguments.length>2?arguments[2]:void 0,y=arguments.length>3?arguments[3]:void 0,{init:w,info:E,loader_config:A,runtime:x={loaderType:n},exposed:O=!0}=t;const T=(0,v.gG)();let S={};return E||(w=T.init,E=T.info,A=T.loader_config,S=T),h.v6&&(E.jsAttributes={...E.jsAttributes,isWorker:!0}),(0,a.CX)(e,E),(0,a.Dg)(e,w||{}),(0,a.GE)(e,A||{}),(0,a.sU)(e,x),function(e,t,n){n||(0,f.R)(e,\"api\"),g(t);var v=u.ee.get(e),m=v.get(\"tracer\"),b=\"api-\",y=b+\"ixn-\";function w(){}(0,c.D)([\"setErrorHandler\",\"finished\",\"addToTrace\",\"inlineHit\",\"addRelease\"],(function(e,r){t[r]=A(b,r,!0,\"api\")})),t.addPageAction=A(b,\"addPageAction\",!0,o.D.pageAction),t.setCurrentRouteName=A(b,\"routeName\",!0,o.D.spa),t.setPageViewName=function(t,r){if(\"string\"==typeof t)return\"/\"!==t.charAt(0)&&(t=\"/\"+t),(0,a.OP)(e).customTransaction=(r||\"http://custom.transaction\")+t,A(b,\"setPageViewName\",!0,\"api\")()},t.setCustomAttribute=function(t,r){const n=(0,a.C5)(e);return(0,a.CX)(e,{...n,jsAttributes:{...n.jsAttributes,[t]:r}}),A(b,\"setCustomAttribute\",!0,\"api\")()},t.interaction=function(){return(new w).get()};var E=w.prototype={createTracer:function(e,t){var r={},n=this,i=\"function\"==typeof t;return(0,s.p)(y+\"tracer\",[(0,d.zO)(),e,r],n,o.D.spa,v),function(){if(m.emit((i?\"\":\"no-\")+\"fn-start\",[(0,d.zO)(),n,i],r),i)try{return t.apply(this,arguments)}catch(e){throw m.emit(\"fn-err\",[arguments,this,\"string\"==typeof e?new Error(e):e],r),e}finally{m.emit(\"fn-end\",[(0,d.zO)()],r)}}}};function A(e,t,r,n){return function(){return(0,s.p)(\"record-supportability\",[\"API/\"+t+\"/called\"],void 0,o.D.metrics,v),(0,s.p)(e+t,[(0,d.zO)()].concat(i()(arguments)),r?null:this,n,v),r?void 0:this}}function x(){r.e(439).then(r.bind(r,5692)).then((t=>{let{setAPI:r}=t;r(e),(0,f.L)(e,\"api\")})).catch((()=>(0,p.Z)(\"Downloading runtime APIs failed...\")))}(0,c.D)(\"actionText,setName,setAttribute,save,ignore,onEnd,getContext,end,get\".split(\",\"),(function(e,t){E[t]=A(y,t,void 0,o.D.spa)})),t.noticeError=function(e,t){\"string\"==typeof e&&(e=new Error(e)),(0,s.p)(\"record-supportability\",[\"API/noticeError/called\"],void 0,o.D.metrics,v),(0,s.p)(\"err\",[e,(0,d.zO)(),!1,t],void 0,o.D.jserrors,v)},h.v6?x():(0,l.b)((()=>x()),!0)}(e,S,y),(0,v.Qy)(e,T,\"api\"),(0,v.Qy)(e,O,\"exposed\"),h.v6||((0,v.EZ)(\"activatedFeatures\",b),(0,v.EZ)(\"setToken\",(t=>function(e,t){var r=u.ee.get(t);e&&\"object\"==typeof e&&((0,c.D)(e,(function(e,t){if(!t)return(m[e]||[]).forEach((t=>{(0,s.p)(\"block-\"+e,[],void 0,t,r)}));b[e]||((0,s.p)(\"feat-\"+e,[],void 0,m[e],r),b[e]=!0)})),(0,f.L)(t,o.D.pageViewEvent))}(t,e)))),S}},909:(e,t,r)=>{\"use strict\";r.d(t,{Z:()=>i,q:()=>o});var n=r(2325);function i(e){switch(e){case n.D.ajax:return[n.D.jserrors];case n.D.sessionTrace:return[n.D.ajax,n.D.pageViewEvent];case n.D.pageViewTiming:return[n.D.pageViewEvent];default:return[]}}function o(e){return e===n.D.jserrors?[]:[\"auto\"]}},2325:(e,t,r)=>{\"use strict\";r.d(t,{D:()=>n,p:()=>i});const n={ajax:\"ajax\",jserrors:\"jserrors\",metrics:\"metrics\",pageAction:\"page_action\",pageViewEvent:\"page_view_event\",pageViewTiming:\"page_view_timing\",sessionTrace:\"session_trace\",spa:\"spa\"},i={[n.pageViewEvent]:1,[n.pageViewTiming]:2,[n.metrics]:3,[n.jserrors]:4,[n.ajax]:5,[n.sessionTrace]:6,[n.pageAction]:7,[n.spa]:8}},8683:e=>{e.exports=function(e,t,r){t||(t=0),void 0===r&&(r=e?e.length:0);for(var n=-1,i=r-t||0,o=Array(i<0?0:i);++n<i;)o[n]=e[t+n];return o}}},n={};function i(e){var t=n[e];if(void 0!==t)return t.exports;var o=n[e]={exports:{}};return r[e](o,o.exports,i),o.exports}i.m=r,i.n=e=>{var t=e&&e.__esModule?()=>e.default:()=>e;return i.d(t,{a:t}),t},i.d=(e,t)=>{for(var r in t)i.o(t,r)&&!i.o(e,r)&&Object.defineProperty(e,r,{enumerable:!0,get:t[r]})},i.f={},i.e=e=>Promise.all(Object.keys(i.f).reduce(((t,r)=>(i.f[r](e,t),t)),[])),i.u=e=>(({78:\"page_action-aggregate\",147:\"metrics-aggregate\",193:\"session_trace-aggregate\",225:\"ajax-instrument\",317:\"jserrors-aggregate\",348:\"page_view_timing-aggregate\",439:\"async-api\",578:\"jserrors-instrument\",729:\"lazy-loader\",757:\"session_trace-instrument\",786:\"page_view_event-aggregate\",873:\"spa-aggregate\",876:\"spa-instrument\",898:\"ajax-aggregate\",908:\"page_action-instrument\"}[e]||e)+\".\"+{78:\"92657d87\",118:\"34a59fa6\",147:\"7dcaee1b\",193:\"401d5d17\",225:\"25fe7245\",264:\"bcaf68fc\",317:\"d078b949\",348:\"6b3fec7f\",439:\"6bb277af\",578:\"c8f23c89\",729:\"48127245\",757:\"98d3280d\",786:\"29613e65\",873:\"58d1fc78\",876:\"364406a9\",898:\"178bdaa3\",908:\"64360627\"}[e]+\"-1226.min.js\"),i.o=(e,t)=>Object.prototype.hasOwnProperty.call(e,t),e={},t=\"NRBA:\",i.l=(r,n,o,a)=>{if(e[r])e[r].push(n);else{var s,c;if(void 0!==o)for(var u=document.getElementsByTagName(\"script\"),d=0;d<u.length;d++){var f=u[d];if(f.getAttribute(\"src\")==r||f.getAttribute(\"data-webpack\")==t+o){s=f;break}}s||(c=!0,(s=document.createElement(\"script\")).charset=\"utf-8\",s.timeout=120,i.nc&&s.setAttribute(\"nonce\",i.nc),s.setAttribute(\"data-webpack\",t+o),s.src=r),e[r]=[n];var l=(t,n)=>{s.onerror=s.onload=null,clearTimeout(h);var i=e[r];if(delete e[r],s.parentNode&&s.parentNode.removeChild(s),i&&i.forEach((e=>e(n))),t)return t(n)},h=setTimeout(l.bind(null,void 0,{type:\"timeout\",target:s}),12e4);s.onerror=l.bind(null,s.onerror),s.onload=l.bind(null,s.onload),c&&document.head.appendChild(s)}},i.r=e=>{\"undefined\"!=typeof Symbol&&Symbol.toStringTag&&Object.defineProperty(e,Symbol.toStringTag,{value:\"Module\"}),Object.defineProperty(e,\"__esModule\",{value:!0})},i.p=\"https://js-agent.newrelic.com/\",(()=>{var e={993:0,680:0,225:0,578:0,908:0,757:0,264:0};i.f.j=(t,r)=>{var n=i.o(e,t)?e[t]:void 0;if(0!==n)if(n)r.push(n[2]);else{var o=new Promise(((r,i)=>n=e[t]=[r,i]));r.push(n[2]=o);var a=i.p+i.u(t),s=new Error;i.l(a,(r=>{if(i.o(e,t)&&(0!==(n=e[t])&&(e[t]=void 0),n)){var o=r&&(\"load\"===r.type?\"missing\":r.type),a=r&&r.target&&r.target.src;s.message=\"Loading chunk \"+t+\" failed.\\\\n(\"+o+\": \"+a+\")\",s.name=\"ChunkLoadError\",s.type=o,s.request=a,n[1](s)}}),\"chunk-\"+t,t)}};var t=(t,r)=>{var n,o,[a,s,c]=r,u=0;if(a.some((t=>0!==e[t]))){for(n in s)i.o(s,n)&&(i.m[n]=s[n]);if(c)c(i)}for(t&&t(r);u<a.length;u++)o=a[u],i.o(e,o)&&e[o]&&e[o][0](),e[o]=0},r=window.webpackChunkNRBA=window.webpackChunkNRBA||[];r.forEach(t.bind(null,0)),r.push=t.bind(null,r.push.bind(r))})();var o={};(()=>{\"use strict\";i.r(o);var e=i(2325),t=i(6562);const r=Object.values(e.D);function n(e){const n={};return r.forEach((r=>{n[r]=function(e,r){return!1!==(0,t.Mt)(r,\"\".concat(e,\".enabled\"))}(r,e)})),n}var a=i(2384),s=i(909),c=i(9557),u=i(7022);class d extends c.w{constructor(e){super(e),this.aggregatedData={}}store(e,t,r,n,i){var o=this.getBucket(e,t,r,i);return o.metrics=function(e,t){t||(t={count:0});return t.count+=1,(0,u.D)(e,(function(e,r){t[e]=f(r,t[e])})),t}(n,o.metrics),o}merge(e,t,r,n,i){var o=this.getBucket(e,t,n,i);if(o.metrics){var a=o.metrics;a.count+=r.count,(0,u.D)(r,(function(e,t){if(\"count\"!==e){var n=a[e],i=r[e];i&&!i.c?a[e]=f(i.t,n):a[e]=function(e,t){if(!t)return e;t.c||(t=l(t.t));return t.min=Math.min(e.min,t.min),t.max=Math.max(e.max,t.max),t.t+=e.t,t.sos+=e.sos,t.c+=e.c,t}(i,a[e])}}))}else o.metrics=r}storeMetric(e,t,r,n){var i=this.getBucket(e,t,r);return i.stats=f(n,i.stats),i}getBucket(e,t,r,n){this.aggregatedData[e]||(this.aggregatedData[e]={});var i=this.aggregatedData[e][t];return i||(i=this.aggregatedData[e][t]={params:r||{}},n&&(i.custom=n)),i}get(e,t){return t?this.aggregatedData[e]&&this.aggregatedData[e][t]:this.aggregatedData[e]}take(e){for(var t={},r=\"\",n=!1,i=0;i<e.length;i++)t[r=e[i]]=h(this.aggregatedData[r]),t[r].length&&(n=!0),delete this.aggregatedData[r];return n?t:null}}function f(e,t){return null==e?function(e){e?e.c++:e={c:1};return e}(t):t?(t.c||(t=l(t.t)),t.c+=1,t.t+=e,t.sos+=e*e,e>t.max&&(t.max=e),e<t.min&&(t.min=e),t):{t:e}}function l(e){return{t:e,min:e,max:e,sos:e*e,c:1}}function h(e){return\"object\"!=typeof e?[]:(0,u.D)(e,p)}function p(e,t){return t}var g=i(6797),v=i(5526),m=i(8610);var b=i(5637),y=i(7817),w=i(600),E=i(9715),A=i(948),x=i(6649),O=i(488);new class{constructor(t){let r=arguments.length>1&&void 0!==arguments[1]?arguments[1]:(0,v.ky)(16);this.agentIdentifier=r,this.sharedAggregator=new d({agentIdentifier:this.agentIdentifier}),this.features={},this.desiredFeatures=t.features||[],this.desiredFeatures.sort(((t,r)=>e.p[t.featureName]-e.p[r.featureName])),Object.assign(this,(0,a.j)(this.agentIdentifier,t,t.loaderType||\"agent\")),this.start()}get config(){return{info:(0,t.C5)(this.agentIdentifier),init:(0,t.P_)(this.agentIdentifier),loader_config:(0,t.DL)(this.agentIdentifier),runtime:(0,t.OP)(this.agentIdentifier)}}start(){const e=\"features\";try{const t=n(this.agentIdentifier);this.desiredFeatures.forEach((e=>{if(t[e.featureName]){const r=(0,s.Z)(e.featureName);r.every((e=>t[e]))||(0,m.Z)(\"\".concat(e.featureName,\" is enabled but one or more dependent features has been disabled (\").concat(JSON.stringify(r),\"). This may cause unintended consequences or missing data...\")),this.features[e.featureName]=new e(this.agentIdentifier,this.sharedAggregator)}})),(0,g.Qy)(this.agentIdentifier,this.features,e)}catch(t){(0,m.Z)(\"Failed to initialize all enabled instrument classes (agent aborted) -\",t);for(const e in this.features)this.features[e].abortHandler?.();const r=(0,g.fP)();return delete r.initializedAgents[this.agentIdentifier]?.api,delete r.initializedAgents[this.agentIdentifier]?.[e],delete this.sharedAggregator,delete r.ee?.get(this.agentIdentifier),!1}}}({features:[b.Instrument,y.Instrument,x.Instrument,A.Instrument,w.Instrument,O.Instrument,E.Instrument],loaderType:\"pro\"})})(),window.NRBA=o})();</script><script type=\"text/javascript\">window.NREUM||(NREUM={});NREUM.info={\"beacon\":\"bam.nr-data.net\",\"errorBeacon\":\"bam.nr-data.net\",\"licenseKey\":\"8d5fb92f6e\",\"applicationID\":\"2098939\",\"transactionName\":\"ZwMAYEdSCktRWxZRXV5JJEFbUBBRX1ZNXFhRCAVbG1ALSlUWCllcVAoHRkYdE0tXUVhvYXcvKlVbVwhdQhYRXVxEFBtrRVIQW1hdBmdFQwELa11SClxcXRA=\",\"queueTime\":0,\"applicationTime\":7,\"agent\":\"\"}</script>\\n  <meta name=\"robots\" content=\"NONE,NOARCHIVE\">\\n  <title>403 Forbidden</title>\\n  <style type=\"text/css\">\\n    html * { padding:0; margin:0; }\\n    body * { padding:10px 20px; }\\n    body * * { padding:0; }\\n    body { font:small sans-serif; background:#eee; color:#000; }\\n    body>div { border-bottom:1px solid #ddd; }\\n    h1 { font-weight:normal; margin-bottom:.4em; }\\n    h1 span { font-size:60%; color:#666; font-weight:normal; }\\n    #info { background:#f6f6f6; }\\n    #info ul { margin: 0.5em 4em; }\\n    #info p, #summary p { padding-top:10px; }\\n    #summary { background: #ffc; }\\n    #explanation { background:#eee; border-bottom: 0px none; }\\n  </style>\\n</head>\\n<body>\\n<div id=\"summary\">\\n  <h1>Forbidden <span>(403)</span></h1>\\n  <p>CSRF verification failed. Request aborted.</p>\\n\\n  <p>You are seeing this message because this HTTPS site requires a “Referer header” to be sent by your Web browser, but none was sent. This header is required for security reasons, to ensure that your browser is not being hijacked by third parties.</p>\\n  <p>If you have configured your browser to disable “Referer” headers, please re-enable them, at least for this site, or for HTTPS connections, or for “same-origin” requests.</p>\\n  <p>If you are using the &lt;meta name=&quot;referrer&quot; content=&quot;no-referrer&quot;&gt; tag or including the “Referrer-Policy: no-referrer” header, please remove them. The CSRF protection requires the “Referer” header to do strict referer checking. If you’re concerned about privacy, use alternatives like &lt;a rel=&quot;noreferrer&quot; …&gt; for links to third-party sites.</p>\\n\\n\\n</div>\\n\\n<div id=\"explanation\">\\n  <p><small>More information is available with DEBUG=True.</small></p>\\n</div>\\n\\n</body>\\n</html>\\n'"
      ]
     },
     "execution_count": 61,
     "metadata": {},
     "output_type": "execute_result"
    }
   ],
   "source": [
    "re.text"
   ]
  },
  {
   "cell_type": "code",
   "execution_count": 56,
   "metadata": {
    "collapsed": false,
    "jupyter": {
     "outputs_hidden": false
    }
   },
   "outputs": [],
   "source": [
    "data = {\n",
    "    \"variables\": {\n",
    "        \"categorySlug\": \"algorithms\",\n",
    "        \"filters\": {},\n",
    "        \"limit\": 50,\n",
    "        \"skip\": 0\n",
    "    }\n",
    "}"
   ]
  },
  {
   "cell_type": "code",
   "execution_count": 51,
   "metadata": {
    "collapsed": false,
    "jupyter": {
     "outputs_hidden": false
    }
   },
   "outputs": [],
   "source": [
    "headers = {\n",
    "    \"Accept\": \"text/html,application/xhtml+xml,application/xml;q=0.9,image/avif,image/webp,*/*;q=0.8\",\n",
    "    \"Accept-Encoding\": \"gzip, deflate, br\",\n",
    "    \"Accept-Language\": \"ru-RU,ru;q=0.8,en-US;q=0.5,en;q=0.3\",\n",
    "    \"Connection\": \"keep-alive\",\n",
    "    \"Content-Length\": \"704\",\n",
    "    \"Content-Type\": \"application/json\",\n",
    "    \"Host\": \"leetcode.com\",\n",
    "    \"Origin\": \"null\",\n",
    "    \"Sec-Fetch-Dest\": \"document\",\n",
    "    \"Sec-Fetch-Mode\": \"navigate\",\n",
    "    \"Sec-Fetch-Site\": \"none\",\n",
    "    \"Sec-Fetch-User\": \"?1\",\n",
    "    \"Upgrade-Insecure-Requests\": \"1\",\n",
    "    \"User-Agent\": \"Mozilla/5.0 (X11; Linux x86_64; rv:109.0) Gecko/20100101 Firefox/110.0\"\n",
    "}"
   ]
  },
  {
   "cell_type": "code",
   "execution_count": null,
   "metadata": {
    "collapsed": false,
    "jupyter": {
     "outputs_hidden": false
    }
   },
   "outputs": [
    {
     "data": {
      "text/plain": [
       "'\\n<!DOCTYPE html>\\n<html lang=\"en\">\\n<head>\\n  <meta http-equiv=\"content-type\" content=\"text/html; charset=utf-8\"><script type=\"text/javascript\">(window.NREUM||(NREUM={})).init={ajax:{deny_list:[\"bam.nr-data.net\"]}};(window.NREUM||(NREUM={})).loader_config={xpid:\"UAQDVFVRGwEAXVlbBAg=\",licenseKey:\"8d5fb92f6e\",applicationID:\"2098939\"};;(()=>{var e,t,r={9071:(e,t,r)=>{\"use strict\";r.d(t,{I:()=>n});var n=0,i=navigator.userAgent.match(/Firefox[\\\\/\\\\s](\\\\d+\\\\.\\\\d+)/);i&&(n=+i[1])},6562:(e,t,r)=>{\"use strict\";r.d(t,{P_:()=>p,Mt:()=>v,C5:()=>d,DL:()=>y,OP:()=>k,lF:()=>H,Yu:()=>E,Dg:()=>g,CX:()=>f,GE:()=>w,sU:()=>L});var n={};r.r(n),r.d(n,{agent:()=>x,match:()=>_,version:()=>O});var i=r(6797),o=r(909),a=r(8610);class s{constructor(e,t){try{if(!e||\"object\"!=typeof e)return(0,a.Z)(\"New setting a Configurable requires an object as input\");if(!t||\"object\"!=typeof t)return(0,a.Z)(\"Setting a Configurable requires a model to set its initial properties\");Object.assign(this,t),Object.entries(e).forEach((e=>{let[t,r]=e;const n=(0,o.q)(t);n.length&&r&&\"object\"==typeof r&&n.forEach((e=>{e in r&&((0,a.Z)(\\'\"\\'.concat(e,\\'\" is a protected attribute and can not be changed in feature \\').concat(t,\".  It will have no effect.\")),delete r[e])})),this[t]=r}))}catch(e){(0,a.Z)(\"An error occured while setting a Configurable\",e)}}}const c={beacon:i.ce.beacon,errorBeacon:i.ce.errorBeacon,licenseKey:void 0,applicationID:void 0,sa:void 0,queueTime:void 0,applicationTime:void 0,ttGuid:void 0,user:void 0,account:void 0,product:void 0,extra:void 0,jsAttributes:{},userAttributes:void 0,atts:void 0,transactionName:void 0,tNamePlain:void 0},u={};function d(e){if(!e)throw new Error(\"All info objects require an agent identifier!\");if(!u[e])throw new Error(\"Info for \".concat(e,\" was never set\"));return u[e]}function f(e,t){if(!e)throw new Error(\"All info objects require an agent identifier!\");u[e]=new s(t,c),(0,i.Qy)(e,u[e],\"info\")}const l={allow_bfcache:!0,privacy:{cookies_enabled:!0},ajax:{deny_list:void 0,enabled:!0,harvestTimeSeconds:10},distributed_tracing:{enabled:void 0,exclude_newrelic_header:void 0,cors_use_newrelic_header:void 0,cors_use_tracecontext_headers:void 0,allowed_origins:void 0},ssl:void 0,obfuscate:void 0,jserrors:{enabled:!0,harvestTimeSeconds:10},metrics:{enabled:!0,harvestTimeSeconds:10},page_action:{enabled:!0,harvestTimeSeconds:30},page_view_event:{enabled:!0},page_view_timing:{enabled:!0,harvestTimeSeconds:30},session_trace:{enabled:!0,harvestTimeSeconds:10},spa:{enabled:!0,harvestTimeSeconds:10}},h={};function p(e){if(!e)throw new Error(\"All configuration objects require an agent identifier!\");if(!h[e])throw new Error(\"Configuration for \".concat(e,\" was never set\"));return h[e]}function g(e,t){if(!e)throw new Error(\"All configuration objects require an agent identifier!\");h[e]=new s(t,l),(0,i.Qy)(e,h[e],\"config\")}function v(e,t){if(!e)throw new Error(\"All configuration objects require an agent identifier!\");var r=p(e);if(r){for(var n=t.split(\".\"),i=0;i<n.length-1;i++)if(\"object\"!=typeof(r=r[n[i]]))return;r=r[n[n.length-1]]}return r}const m={accountID:void 0,trustKey:void 0,agentID:void 0,licenseKey:void 0,applicationID:void 0,xpid:void 0},b={};function y(e){if(!e)throw new Error(\"All loader-config objects require an agent identifier!\");if(!b[e])throw new Error(\"LoaderConfig for \".concat(e,\" was never set\"));return b[e]}function w(e,t){if(!e)throw new Error(\"All loader-config objects require an agent identifier!\");b[e]=new s(t,m),(0,i.Qy)(e,b[e],\"loader_config\")}const E=(0,i.mF)().o;var A=r(2053),x=null,O=null;if(navigator.userAgent){var T=navigator.userAgent,S=T.match(/Version\\\\/(\\\\S+)\\\\s+Safari/);S&&-1===T.indexOf(\"Chrome\")&&-1===T.indexOf(\"Chromium\")&&(x=\"Safari\",O=S[1])}function _(e,t){if(!x)return!1;if(e!==x)return!1;if(!t)return!0;if(!O)return!1;for(var r=O.split(\".\"),n=t.split(\".\"),i=0;i<n.length;i++)if(n[i]!==r[i])return!1;return!0}var I=r(5526),P=r(2374);const j=\"NRBA_SESSION_ID\";function R(){if(!P.il)return null;try{let e;return null===(e=window.sessionStorage.getItem(j))&&(e=(0,I.ky)(16),window.sessionStorage.setItem(j,e)),e}catch(e){return null}}var D=r(8226);const C=e=>({customTransaction:void 0,disabled:!1,isolatedBacklog:!1,loaderType:void 0,maxBytes:3e4,offset:(0,A.yf)(),onerror:void 0,origin:\"\"+P._A.location,ptid:void 0,releaseIds:{},sessionId:1==v(e,\"privacy.cookies_enabled\")?R():null,xhrWrappable:\"function\"==typeof P._A.XMLHttpRequest?.prototype?.addEventListener,userAgent:n,version:D.q}),N={};function k(e){if(!e)throw new Error(\"All runtime objects require an agent identifier!\");if(!N[e])throw new Error(\"Runtime for \".concat(e,\" was never set\"));return N[e]}function L(e,t){if(!e)throw new Error(\"All runtime objects require an agent identifier!\");N[e]=new s(t,C(e)),(0,i.Qy)(e,N[e],\"runtime\")}function H(e){return function(e){try{const t=d(e);return!!t.licenseKey&&!!t.errorBeacon&&!!t.applicationID}catch(e){return!1}}(e)}},8226:(e,t,r)=>{\"use strict\";r.d(t,{q:()=>n});const n=\"1226.PROD\"},9557:(e,t,r)=>{\"use strict\";r.d(t,{w:()=>o});var n=r(8610);const i={agentIdentifier:\"\"};class o{constructor(e){try{if(\"object\"!=typeof e)return(0,n.Z)(\"shared context requires an object as input\");this.sharedContext={},Object.assign(this.sharedContext,i),Object.entries(e).forEach((e=>{let[t,r]=e;Object.keys(i).includes(t)&&(this.sharedContext[t]=r)}))}catch(e){(0,n.Z)(\"An error occured while setting SharedContext\",e)}}}},4329:(e,t,r)=>{\"use strict\";r.d(t,{L:()=>d,R:()=>c});var n=r(3752),i=r(7022),o=r(4045),a=r(2325);const s={};function c(e,t){const r={staged:!1,priority:a.p[t]||0};u(e),s[e].get(t)||s[e].set(t,r)}function u(e){e&&(s[e]||(s[e]=new Map))}function d(){let e=arguments.length>0&&void 0!==arguments[0]?arguments[0]:\"\",t=arguments.length>1&&void 0!==arguments[1]?arguments[1]:\"feature\";if(u(e),!e||!s[e].get(t))return a(t);s[e].get(t).staged=!0;const r=Array.from(s[e]);function a(t){const r=e?n.ee.get(e):n.ee,a=o.X.handlers;if(r.backlog&&a){var s=r.backlog[t],c=a[t];if(c){for(var u=0;s&&u<s.length;++u)f(s[u],c);(0,i.D)(c,(function(e,t){(0,i.D)(t,(function(t,r){r[0].on(e,r[1])}))}))}delete a[t],r.backlog[t]=null,r.emit(\"drain-\"+t,[])}}r.every((e=>{let[t,r]=e;return r.staged}))&&(r.sort(((e,t)=>e[1].priority-t[1].priority)),r.forEach((e=>{let[t]=e;a(t)})))}function f(e,t){var r=e[1];(0,i.D)(t[r],(function(t,r){var n=e[0];if(r[0]===n){var i=r[1],o=e[3],a=e[2];i.apply(o,a)}}))}},3752:(e,t,r)=>{\"use strict\";r.d(t,{c:()=>f,ee:()=>u});var n=r(6797),i=r(3916),o=r(7022),a=r(6562),s=\"nr@context\";let c=(0,n.fP)();var u;function d(){}function f(e){return(0,i.X)(e,s,l)}function l(){return new d}function h(){(u.backlog.api||u.backlog.feature)&&(u.aborted=!0,u.backlog={})}c.ee?u=c.ee:(u=function e(t,r){var n={},c={},f={},p=!1;try{p=16===r.length&&(0,a.OP)(r).isolatedBacklog}catch(e){}var g={on:b,addEventListener:b,removeEventListener:y,emit:m,get:E,listeners:w,context:v,buffer:A,abort:h,aborted:!1,isBuffering:x,debugId:r,backlog:p?{}:t&&\"object\"==typeof t.backlog?t.backlog:{}};return g;function v(e){return e&&e instanceof d?e:e?(0,i.X)(e,s,l):l()}function m(e,r,n,i,o){if(!1!==o&&(o=!0),!u.aborted||i){t&&o&&t.emit(e,r,n);for(var a=v(n),s=w(e),d=s.length,f=0;f<d;f++)s[f].apply(a,r);var l=O()[c[e]];return l&&l.push([g,e,r,a]),a}}function b(e,t){n[e]=w(e).concat(t)}function y(e,t){var r=n[e];if(r)for(var i=0;i<r.length;i++)r[i]===t&&r.splice(i,1)}function w(e){return n[e]||[]}function E(t){return f[t]=f[t]||e(g,t)}function A(e,t){var r=O();g.aborted||(0,o.D)(e,(function(e,n){t=t||\"feature\",c[n]=t,t in r||(r[t]=[])}))}function x(e){return!!O()[c[e]]}function O(){return g.backlog}}(void 0,\"globalEE\"),c.ee=u)},9252:(e,t,r)=>{\"use strict\";r.d(t,{E:()=>n,p:()=>i});var n=r(3752).ee.get(\"handle\");function i(e,t,r,i,o){o?(o.buffer([e],i),o.emit(e,t,r)):(n.buffer([e],i),n.emit(e,t,r))}},4045:(e,t,r)=>{\"use strict\";r.d(t,{X:()=>o});var n=r(9252);o.on=a;var i=o.handlers={};function o(e,t,r,o){a(o||n.E,i,e,t,r)}function a(e,t,r,i,o){o||(o=\"feature\"),e||(e=n.E);var a=t[o]=t[o]||{};(a[r]=a[r]||[]).push([e,i])}},8544:(e,t,r)=>{\"use strict\";r.d(t,{bP:()=>s,iz:()=>c,m$:()=>a});var n=r(2374);let i=!1,o=!1;try{const e={get passive(){return i=!0,!1},get signal(){return o=!0,!1}};n._A.addEventListener(\"test\",null,e),n._A.removeEventListener(\"test\",null,e)}catch(e){}function a(e,t){return i||o?{capture:!!e,passive:i,signal:t}:!!e}function s(e,t){let r=arguments.length>2&&void 0!==arguments[2]&&arguments[2];window.addEventListener(e,t,a(r))}function c(e,t){let r=arguments.length>2&&void 0!==arguments[2]&&arguments[2];document.addEventListener(e,t,a(r))}},5526:(e,t,r)=>{\"use strict\";r.d(t,{Ht:()=>a,M:()=>o,Rl:()=>i,ky:()=>s});var n=r(2374);function i(){var e=null,t=0,r=n._A?.crypto||n._A?.msCrypto;function i(){return e?15&e[t++]:16*Math.random()|0}r&&r.getRandomValues&&(e=r.getRandomValues(new Uint8Array(31)));for(var o,a=\"xxxxxxxx-xxxx-4xxx-yxxx-xxxxxxxxxxxx\",s=\"\",c=0;c<a.length;c++)s+=\"x\"===(o=a[c])?i().toString(16):\"y\"===o?(o=3&i()|8).toString(16):o;return s}function o(){return s(16)}function a(){return s(32)}function s(e){var t=null,r=0,n=self.crypto||self.msCrypto;n&&n.getRandomValues&&Uint8Array&&(t=n.getRandomValues(new Uint8Array(31)));for(var i=[],o=0;o<e;o++)i.push(a().toString(16));return i.join(\"\");function a(){return t?15&t[r++]:16*Math.random()|0}}},2053:(e,t,r)=>{\"use strict\";r.d(t,{nb:()=>c,os:()=>u,yf:()=>s,zO:()=>a});var n=r(7145),i=(new Date).getTime(),o=i;function a(){return n.G&&performance.now?Math.round(performance.now()):(i=Math.max((new Date).getTime(),i))-o}function s(){return i}function c(e){o=e}function u(){return o}},7145:(e,t,r)=>{\"use strict\";r.d(t,{G:()=>n});const n=void 0!==r(2374)._A?.performance?.timing?.navigationStart},6625:(e,t,r)=>{\"use strict\";r.d(t,{s:()=>c,v:()=>u});var n=r(8283),i=r(9071),o=r(2053),a=r(7145),s=r(2374);let c=!0;function u(e){var t=function(){if(i.I&&i.I<9)return;if(a.G)return c=!1,s._A?.performance?.timing?.navigationStart}();t&&((0,n.B)(e,\"starttime\",t),(0,o.nb)(t))}},8283:(e,t,r)=>{\"use strict\";r.d(t,{B:()=>o,L:()=>a});var n=r(2053),i={};function o(e,t,r){void 0===r&&(r=(0,n.zO)()+(0,n.os)()),i[e]=i[e]||{},i[e][t]=r}function a(e,t,r,n){const o=e.sharedContext.agentIdentifier;var a=i[o]?.[r],s=i[o]?.[n];void 0!==a&&void 0!==s&&e.store(\"measures\",t,{value:s-a})}},6368:(e,t,r)=>{\"use strict\";r.d(t,{e:()=>o});var n=r(2374),i={};function o(e){if(e in i)return i[e];if(0===(e||\"\").indexOf(\"data:\"))return{protocol:\"data\"};let t;var r=n._A?.location,o={};if(n.il)t=document.createElement(\"a\"),t.href=e;else try{t=new URL(e,r.href)}catch(e){return o}o.port=t.port;var a=t.href.split(\"://\");!o.port&&a[1]&&(o.port=a[1].split(\"/\")[0].split(\"@\").pop().split(\":\")[1]),o.port&&\"0\"!==o.port||(o.port=\"https\"===a[0]?\"443\":\"80\"),o.hostname=t.hostname||r.hostname,o.pathname=t.pathname,o.protocol=a[0],\"/\"!==o.pathname.charAt(0)&&(o.pathname=\"/\"+o.pathname);var s=!t.protocol||\":\"===t.protocol||t.protocol===r.protocol,c=t.hostname===r.hostname&&t.port===r.port;return o.sameOrigin=s&&(!t.hostname||c),\"/\"===o.pathname&&(i[e]=o),o}},9548:(e,t,r)=>{\"use strict\";r.d(t,{T:()=>i});var n=r(2374);const i={isFileProtocol:function(){let e=Boolean(\"file:\"===(0,n.lW)()?.location?.protocol);e&&(i.supportabilityMetricSent=!0);return e},supportabilityMetricSent:!1}},8610:(e,t,r)=>{\"use strict\";function n(e,t){console&&console.warn&&\"function\"==typeof console.warn&&(console.warn(\"New Relic: \".concat(e)),t&&console.warn(t))}r.d(t,{Z:()=>n})},3916:(e,t,r)=>{\"use strict\";r.d(t,{X:()=>i});var n=Object.prototype.hasOwnProperty;function i(e,t,r){if(n.call(e,t))return e[t];var i=r();if(Object.defineProperty&&Object.keys)try{return Object.defineProperty(e,t,{value:i,writable:!0,enumerable:!1}),i}catch(e){}return e[t]=i,i}},2374:(e,t,r)=>{\"use strict\";r.d(t,{_A:()=>o,il:()=>n,lW:()=>a,v6:()=>i});const n=Boolean(\"undefined\"!=typeof window&&window.document),i=Boolean(\"undefined\"!=typeof WorkerGlobalScope&&self.navigator instanceof WorkerNavigator);let o=(()=>{if(n)return window;if(i){if(\"undefined\"!=typeof globalThis&&globalThis instanceof WorkerGlobalScope)return globalThis;if(self instanceof WorkerGlobalScope)return self}throw new Error(\\'New Relic browser agent shutting down due to error: Unable to locate global scope. This is possibly due to code redefining browser global variables like \"self\" and \"window\".\\')})();function a(){return o}},7022:(e,t,r)=>{\"use strict\";r.d(t,{D:()=>i});var n=Object.prototype.hasOwnProperty;function i(e,t){var r=[],i=\"\",o=0;for(i in e)n.call(e,i)&&(r[o]=t(i,e[i]),o+=1);return r}},9226:(e,t,r)=>{\"use strict\";r.d(t,{$c:()=>u,Ng:()=>d,RR:()=>c});var n=r(6562),i=r(9557),o=r(9548),a=r(8610),s={regex:/^file:\\\\/\\\\/(.*)/,replacement:\"file://OBFUSCATED\"};class c extends i.w{constructor(e){super(e)}shouldObfuscate(){return u(this.sharedContext.agentIdentifier).length>0}obfuscateString(e){if(!e||\"string\"!=typeof e)return e;for(var t=u(this.sharedContext.agentIdentifier),r=e,n=0;n<t.length;n++){var i=t[n].regex,o=t[n].replacement||\"*\";r=r.replace(i,o)}return r}}function u(e){var t=[],r=(0,n.Mt)(e,\"obfuscate\")||[];return t=t.concat(r),o.T.isFileProtocol()&&t.push(s),t}function d(e){for(var t=!1,r=!1,n=0;n<e.length;n++){\"regex\"in e[n]?\"string\"!=typeof e[n].regex&&e[n].regex.constructor!==RegExp&&((0,a.Z)(\\'An obfuscation replacement rule contains a \"regex\" value with an invalid type (must be a string or RegExp)\\'),r=!0):((0,a.Z)(\\'An obfuscation replacement rule was detected missing a \"regex\" value.\\'),r=!0);var i=e[n].replacement;i&&\"string\"!=typeof i&&((0,a.Z)(\\'An obfuscation replacement rule contains a \"replacement\" value with an invalid type (must be a string)\\'),t=!0)}return!t&&!r}},2650:(e,t,r)=>{\"use strict\";r.d(t,{K:()=>a,b:()=>o});var n=r(8544);function i(){return\"undefined\"==typeof document||\"complete\"===document.readyState}function o(e,t){if(i())return e();(0,n.bP)(\"load\",e,t)}function a(e){if(i())return e();(0,n.iz)(\"DOMContentLoaded\",e)}},6797:(e,t,r)=>{\"use strict\";r.d(t,{EZ:()=>u,Qy:()=>c,ce:()=>o,fP:()=>a,gG:()=>d,mF:()=>s});var n=r(2053),i=r(2374);const o={beacon:\"bam.nr-data.net\",errorBeacon:\"bam.nr-data.net\"};function a(){return i._A.NREUM||(i._A.NREUM={}),void 0===i._A.newrelic&&(i._A.newrelic=i._A.NREUM),i._A.NREUM}function s(){let e=a();return e.o||(e.o={ST:i._A.setTimeout,SI:i._A.setImmediate,CT:i._A.clearTimeout,XHR:i._A.XMLHttpRequest,REQ:i._A.Request,EV:i._A.Event,PR:i._A.Promise,MO:i._A.MutationObserver,FETCH:i._A.fetch}),e}function c(e,t,r){let i=a();const o=i.initializedAgents||{},s=o[e]||{};return Object.keys(s).length||(s.initializedAt={ms:(0,n.zO)(),date:new Date}),i.initializedAgents={...o,[e]:{...s,[r]:t}},i}function u(e,t){a()[e]=t}function d(){return function(){let e=a();const t=e.info||{};e.info={beacon:o.beacon,errorBeacon:o.errorBeacon,...t}}(),function(){let e=a();const t=e.init||{};e.init={...t}}(),s(),function(){let e=a();const t=e.loader_config||{};e.loader_config={...t}}(),a()}},6998:(e,t,r)=>{\"use strict\";r.d(t,{N:()=>i,e:()=>o});var n=r(8544);function i(e){let t=arguments.length>1&&void 0!==arguments[1]&&arguments[1];return void(0,n.iz)(\"visibilitychange\",(function(){if(t){if(\"hidden\"!=document.visibilityState)return;e()}e(document.visibilityState)}))}function o(){return\"hidden\"===document.visibilityState?-1:1/0}},6408:(e,t,r)=>{\"use strict\";r.d(t,{W:()=>i});var n=r(2374);function i(){return\"function\"==typeof n._A?.PerformanceObserver}},7264:(e,t,r)=>{\"use strict\";r.d(t,{hF:()=>pe,Fp:()=>O,lx:()=>G,ow:()=>Y,ao:()=>te,G8:()=>oe,XV:()=>z,Zw:()=>N,ig:()=>we,em:()=>le,u5:()=>x,QU:()=>V,_L:()=>$,Gm:()=>ee,Lg:()=>ie,gy:()=>M,BV:()=>C,Kf:()=>ye});var n=r(3752),i=r(8683),o=r.n(i),a=r(2374);const s=\"nr@original\";var c=Object.prototype.hasOwnProperty,u=!1;function d(e,t){return e||(e=n.ee),r.inPlace=function(e,t,n,i,o){n||(n=\"\");var a,s,c,u=\"-\"===n.charAt(0);for(c=0;c<t.length;c++)h(a=e[s=t[c]])||(e[s]=r(a,u?s+n:n,i,s,o))},r.flag=s,r;function r(t,r,n,a,c){return h(t)?t:(r||(r=\"\"),nrWrapper[s]=t,l(t,nrWrapper,e),nrWrapper);function nrWrapper(){var s,u,d,l;try{u=this,s=o()(arguments),d=\"function\"==typeof n?n(s,u):n||{}}catch(t){f([t,\"\",[s,u,a],d],e)}i(r+\"start\",[s,u,a],d,c);try{return l=t.apply(u,s)}catch(e){throw i(r+\"err\",[s,u,e],d,c),e}finally{i(r+\"end\",[s,u,l],d,c)}}}function i(r,n,i,o){if(!u||t){var a=u;u=!0;try{e.emit(r,n,i,t,o)}catch(t){f([t,r,n,i],e)}u=a}}}function f(e,t){t||(t=n.ee);try{t.emit(\"internal-error\",e)}catch(e){}}function l(e,t,r){if(Object.defineProperty&&Object.keys)try{return Object.keys(e).forEach((function(r){Object.defineProperty(t,r,{get:function(){return e[r]},set:function(t){return e[r]=t,t}})})),t}catch(e){f([e],r)}for(var n in e)c.call(e,n)&&(t[n]=e[n]);return t}function h(e){return!(e&&e instanceof Function&&e.apply&&!e[s])}function p(e,t){e?.[t]?.[s]&&(e[t]=e[t][s])}var g=\"fetch-\",v=g+\"body-\",m=[\"arrayBuffer\",\"blob\",\"json\",\"text\",\"formData\"],b=a._A.Request,y=a._A.Response,w=\"prototype\",E=\"nr@context\";const A={};function x(e){const t=T(e);if(!(b&&y&&a._A.fetch))return t;if(A[t.debugId]++)return t;function r(e,r,n){var i=e[r];\"function\"==typeof i&&(e[r]=function(){var e,r=o()(arguments),s={};t.emit(n+\"before-start\",[r],s),s[E]&&s[E].dt&&(e=s[E].dt);var c=i.apply(this,r);return t.emit(n+\"start\",[r,e],c),a._A.Promise.resolve(c).then((function(e){return t.emit(n+\"end\",[null,e],c),e}),(function(e){throw t.emit(n+\"end\",[e],c),e}))},e[r][s]=i)}return A[t.debugId]=1,m.forEach((e=>{r(b[w],e,v),r(y[w],e,v)})),r(a._A,\"fetch\",g),t.on(g+\"end\",(function(e,r){var n=this;if(r){var i=r.headers.get(\"content-length\");null!==i&&(n.rxSize=i),t.emit(g+\"done\",[null,r],n)}else t.emit(g+\"done\",[e],n)})),t}function O(e){const t=T(e);1==A[t.debugId]?(m.forEach((e=>{p(b[w],e),p(y[w],e)})),p(a._A,\"fetch\"),A[t.debugId]=1/0):A[t.debugId]--}function T(e){return(e||n.ee).get(\"fetch\")}const S={},_=\"setTimeout\",I=\"setInterval\",P=\"clearTimeout\",j=\"-start\",R=\"-\",D=[_,\"setImmediate\",I,P,\"clearImmediate\"];function C(e){const t=k(e);if(S[t.debugId]++)return t;S[t.debugId]=1;var r=d(t);return r.inPlace(a._A,D.slice(0,2),_+R),r.inPlace(a._A,D.slice(2,3),I+R),r.inPlace(a._A,D.slice(3),P+R),t.on(I+j,(function(e,t,n){e[0]=r(e[0],\"fn-\",null,n)})),t.on(_+j,(function(e,t,n){this.method=n,this.timerDuration=isNaN(e[1])?0:+e[1],e[0]=r(e[0],\"fn-\",this,n)})),t}function N(e){const t=k(e);1==S[t.debugId]?(D.forEach((e=>p(a._A,e))),S[t.debugId]=1/0):S[t.debugId]--}function k(e){return(e||n.ee).get(\"timer\")}const L={},H=\"requestAnimationFrame\";function M(e){const t=B(e);if(!a.il||L[t.debugId]++)return t;L[t.debugId]=1;var r=d(t);return r.inPlace(window,[H],\"raf-\"),t.on(\"raf-start\",(function(e){e[0]=r(e[0],\"fn-\")})),t}function z(e){const t=B(e);1==L[t.debugId]?(p(window,H),L[t.debugId]=1/0):L[t.debugId]--}function B(e){return(e||n.ee).get(\"raf\")}const U={},F=[\"pushState\",\"replaceState\"];function V(e){const t=q(e);return!a.il||U[t.debugId]++||(U[t.debugId]=1,d(t).inPlace(window.history,F,\"-\")),t}function G(e){const t=q(e);1==U[t.debugId]?(F.forEach((e=>p(window.history,e))),U[t.debugId]=1/0):U[t.debugId]--}function q(e){return(e||n.ee).get(\"history\")}var W=r(8544);const X={},Z=[\"appendChild\",\"insertBefore\",\"replaceChild\"];function $(e){const t=Q(e);if(!a.il||X[t.debugId])return t;X[t.debugId]=!0;var r=d(t),n=/[?&](?:callback|cb)=([^&#]+)/,i=/(.*)\\\\.([^.]+)/,o=/^(\\\\w+)(\\\\.|$)(.*)$/;function s(e,t){var r=e.match(o),n=r[1],i=r[3];return i?s(i,t[n]):t[n]}return r.inPlace(Node.prototype,Z,\"dom-\"),t.on(\"dom-start\",(function(e){!function(e){if(!e||\"string\"!=typeof e.nodeName||\"script\"!==e.nodeName.toLowerCase())return;if(\"function\"!=typeof e.addEventListener)return;var o=(a=e.src,c=a.match(n),c?c[1]:null);var a,c;if(!o)return;var u=function(e){var t=e.match(i);if(t&&t.length>=3)return{key:t[2],parent:s(t[1],window)};return{key:e,parent:window}}(o);if(\"function\"!=typeof u.parent[u.key])return;var d={};function f(){t.emit(\"jsonp-end\",[],d),e.removeEventListener(\"load\",f,(0,W.m$)(!1)),e.removeEventListener(\"error\",l,(0,W.m$)(!1))}function l(){t.emit(\"jsonp-error\",[],d),t.emit(\"jsonp-end\",[],d),e.removeEventListener(\"load\",f,(0,W.m$)(!1)),e.removeEventListener(\"error\",l,(0,W.m$)(!1))}r.inPlace(u.parent,[u.key],\"cb-\",d),e.addEventListener(\"load\",f,(0,W.m$)(!1)),e.addEventListener(\"error\",l,(0,W.m$)(!1)),t.emit(\"new-jsonp\",[e.src],d)}(e[0])})),t}function Y(e){const t=Q(e);!0===X[t.debugId]&&(Z.forEach((e=>p(Node.prototype,e))),X[t.debugId]=\"unwrapped\")}function Q(e){return(e||n.ee).get(\"jsonp\")}var K=r(6562);const J={};function ee(e){const t=re(e);if(!a.il||J[t.debugId])return t;J[t.debugId]=!0;var r=d(t),n=K.Yu.MO;return n&&(window.MutationObserver=function(e){return this instanceof n?new n(r(e,\"fn-\")):n.apply(this,arguments)},MutationObserver.prototype=n.prototype),t}function te(e){const t=re(e);!0===J[t.debugId]&&(window.MutationObserver=K.Yu.MO,J[t.debugId]=\"unwrapped\")}function re(e){return(e||n.ee).get(\"mutation\")}const ne={};function ie(e){const t=ae(e);if(ne[t.debugId])return t;ne[t.debugId]=!0;var r=n.c,i=d(t),o=K.Yu.PR;return o&&function(){function e(r){var n=t.context(),a=i(r,\"executor-\",n,null,!1);const s=Reflect.construct(o,[a],e);return t.context(s).getCtx=function(){return n},s}a._A.Promise=e,Object.defineProperty(e,\"name\",{value:\"Promise\"}),e.toString=function(){return o.toString()},Object.setPrototypeOf(e,o),[\"all\",\"race\"].forEach((function(r){const n=o[r];e[r]=function(e){let i=!1;e?.forEach((e=>{this.resolve(e).then(a(\"all\"===r),a(!1))}));const o=n.apply(this,arguments);return o;function a(e){return function(){t.emit(\"propagate\",[null,!i],o,!1,!1),i=i||!e}}}})),[\"resolve\",\"reject\"].forEach((function(r){const n=o[r];e[r]=function(e){const r=n.apply(this,arguments);return e!==r&&t.emit(\"propagate\",[e,!0],r,!1,!1),r}})),e.prototype=Object.create(o.prototype),e.prototype.constructor=e,e.prototype.then=function(){var e=this,n=r(e);n.promise=e;for(var a=arguments.length,s=new Array(a),c=0;c<a;c++)s[c]=arguments[c];s[0]=i(s[0],\"cb-\",n,null,!1),s[1]=i(s[1],\"cb-\",n,null,!1);const u=o.prototype.then.apply(this,s);return n.nextPromise=u,t.emit(\"propagate\",[e,!0],u,!1,!1),u},t.on(\"executor-start\",(function(e){e[0]=i(e[0],\"resolve-\",this,null,!1),e[1]=i(e[1],\"resolve-\",this,null,!1)})),t.on(\"executor-err\",(function(e,t,r){e[1](r)})),t.on(\"cb-end\",(function(e,r,n){t.emit(\"propagate\",[n,!0],this.nextPromise,!1,!1)})),t.on(\"propagate\",(function(e,r,n){this.getCtx&&!r||(this.getCtx=function(){if(e instanceof Promise)var r=t.context(e);return r&&r.getCtx?r.getCtx():this})}))}(),t}function oe(e){const t=ae(e);!0===ne[t.debugId]&&(a._A.Promise=K.Yu.PR,ne[t.debugId]=\"unwrapped\")}function ae(e){return(e||n.ee).get(\"promise\")}var se=r(3916);const ce={},ue=XMLHttpRequest,de=\"addEventListener\",fe=\"removeEventListener\";function le(e){var t=ge(e);if(ce[t.debugId]++)return t;ce[t.debugId]=1;var r=d(t,!0);function n(e){r.inPlace(e,[de,fe],\"-\",i)}function i(e,t){return e[1]}return\"getPrototypeOf\"in Object&&(a.il&&he(document,n),he(a._A,n),he(ue.prototype,n)),t.on(de+\"-start\",(function(e,t){var n=e[1];if(null!==n&&(\"function\"==typeof n||\"object\"==typeof n)){var i=(0,se.X)(n,\"nr@wrapped\",(function(){var e={object:function(){if(\"function\"!=typeof n.handleEvent)return;return n.handleEvent.apply(n,arguments)},function:n}[typeof n];return e?r(e,\"fn-\",null,e.name||\"anonymous\"):n}));this.wrapped=e[1]=i}})),t.on(fe+\"-start\",(function(e){e[1]=this.wrapped||e[1]})),t}function he(e,t){let r=e;for(;\"object\"==typeof r&&!Object.prototype.hasOwnProperty.call(r,de);)r=Object.getPrototypeOf(r);for(var n=arguments.length,i=new Array(n>2?n-2:0),o=2;o<n;o++)i[o-2]=arguments[o];r&&t(r,...i)}function pe(e){const t=ge(e);1==ce[t.debugId]?([de,fe].forEach((e=>{\"object\"==typeof document&&he(document,p,e),he(a._A,p,e),he(ue.prototype,p,e)})),ce[t.debugId]=1/0):ce[t.debugId]--}function ge(e){return(e||n.ee).get(\"events\")}var ve=r(8610);const me={},be=[\"open\",\"send\"];function ye(e){var t=e||n.ee;const r=Ee(t);if(me[r.debugId]++)return r;me[r.debugId]=1,le(t);var i=d(r),o=K.Yu.XHR,s=K.Yu.MO,c=K.Yu.PR,u=K.Yu.SI,f=\"readystatechange\",l=[\"onload\",\"onerror\",\"onabort\",\"onloadstart\",\"onloadend\",\"onprogress\",\"ontimeout\"],h=[],p=a._A.XMLHttpRequest.listeners,g=a._A.XMLHttpRequest=function(e){var t=new o(e);function n(){try{r.emit(\"new-xhr\",[t],t),t.addEventListener(f,m,(0,W.m$)(!1))}catch(e){(0,ve.Z)(\"An error occured while intercepting XHR\",e);try{r.emit(\"internal-error\",[e])}catch(e){}}}return this.listeners=p?[...p,n]:[n],this.listeners.forEach((e=>e())),t};function v(e,t){i.inPlace(t,[\"onreadystatechange\"],\"fn-\",A)}function m(){var e=this,t=r.context(e);e.readyState>3&&!t.resolved&&(t.resolved=!0,r.emit(\"xhr-resolved\",[],e)),i.inPlace(e,l,\"fn-\",A)}if(function(e,t){for(var r in e)t[r]=e[r]}(o,g),g.prototype=o.prototype,i.inPlace(g.prototype,be,\"-xhr-\",A),r.on(\"send-xhr-start\",(function(e,t){v(e,t),function(e){h.push(e),s&&(b?b.then(E):u?u(E):(y=-y,w.data=y))}(t)})),r.on(\"open-xhr-start\",v),s){var b=c&&c.resolve();if(!u&&!c){var y=1,w=document.createTextNode(y);new s(E).observe(w,{characterData:!0})}}else t.on(\"fn-end\",(function(e){e[0]&&e[0].type===f||E()}));function E(){for(var e=0;e<h.length;e++)v(0,h[e]);h.length&&(h=[])}function A(e,t){return t}return r}function we(e){const t=Ee(e);1==me[t.debugId]?(pe(t),a._A.XMLHttpRequest=K.Yu.XHR,be.forEach((e=>{p(a._A.XMLHttpRequest.prototype,e)})),me[t.debugId]=1/0):me[t.debugId]--}function Ee(e){return(e||n.ee).get(\"xhr\")}},8675:(e,t,r)=>{\"use strict\";r.d(t,{t:()=>n});const n=r(2325).D.ajax},948:(e,t,r)=>{\"use strict\";r.r(t),r.d(t,{Instrument:()=>j});var n=r(6562),i=r(9252),o=r(3916),a=r(2374),s=1,c=\"nr@id\";function u(e){var t=typeof e;return!e||\"object\"!==t&&\"function\"!==t?-1:e===a._A?0:(0,o.X)(e,c,(function(){return s++}))}var d=r(9071);function f(e){if(\"string\"==typeof e&&e.length)return e.length;if(\"object\"==typeof e){if(\"undefined\"!=typeof ArrayBuffer&&e instanceof ArrayBuffer&&e.byteLength)return e.byteLength;if(\"undefined\"!=typeof Blob&&e instanceof Blob&&e.size)return e.size;if(!(\"undefined\"!=typeof FormData&&e instanceof FormData))try{return JSON.stringify(e).length}catch(e){return}}}var l=r(8544),h=r(2053),p=r(7264),g=r(6368),v=r(5526);class m{constructor(e){this.agentIdentifier=e,this.generateTracePayload=this.generateTracePayload.bind(this),this.shouldGenerateTrace=this.shouldGenerateTrace.bind(this)}generateTracePayload(e){if(!this.shouldGenerateTrace(e))return null;var t=(0,n.DL)(this.agentIdentifier);if(!t)return null;var r=(t.accountID||\"\").toString()||null,i=(t.agentID||\"\").toString()||null,o=(t.trustKey||\"\").toString()||null;if(!r||!i)return null;var a=(0,v.M)(),s=(0,v.Ht)(),c=Date.now(),u={spanId:a,traceId:s,timestamp:c};return(e.sameOrigin||this.isAllowedOrigin(e)&&this.useTraceContextHeadersForCors())&&(u.traceContextParentHeader=this.generateTraceContextParentHeader(a,s),u.traceContextStateHeader=this.generateTraceContextStateHeader(a,c,r,i,o)),(e.sameOrigin&&!this.excludeNewrelicHeader()||!e.sameOrigin&&this.isAllowedOrigin(e)&&this.useNewrelicHeaderForCors())&&(u.newrelicHeader=this.generateTraceHeader(a,s,c,r,i,o)),u}generateTraceContextParentHeader(e,t){return\"00-\"+t+\"-\"+e+\"-01\"}generateTraceContextStateHeader(e,t,r,n,i){return i+\"@nr=0-1-\"+r+\"-\"+n+\"-\"+e+\"----\"+t}generateTraceHeader(e,t,r,n,i,o){if(!(\"function\"==typeof a._A?.btoa))return null;var s={v:[0,1],d:{ty:\"Browser\",ac:n,ap:i,id:e,tr:t,ti:r}};return o&&n!==o&&(s.d.tk=o),btoa(JSON.stringify(s))}shouldGenerateTrace(e){return this.isDtEnabled()&&this.isAllowedOrigin(e)}isAllowedOrigin(e){var t=!1,r={};if((0,n.Mt)(this.agentIdentifier,\"distributed_tracing\")&&(r=(0,n.P_)(this.agentIdentifier).distributed_tracing),e.sameOrigin)t=!0;else if(r.allowed_origins instanceof Array)for(var i=0;i<r.allowed_origins.length;i++){var o=(0,g.e)(r.allowed_origins[i]);if(e.hostname===o.hostname&&e.protocol===o.protocol&&e.port===o.port){t=!0;break}}return t}isDtEnabled(){var e=(0,n.Mt)(this.agentIdentifier,\"distributed_tracing\");return!!e&&!!e.enabled}excludeNewrelicHeader(){var e=(0,n.Mt)(this.agentIdentifier,\"distributed_tracing\");return!!e&&!!e.exclude_newrelic_header}useNewrelicHeaderForCors(){var e=(0,n.Mt)(this.agentIdentifier,\"distributed_tracing\");return!!e&&!1!==e.cors_use_newrelic_header}useTraceContextHeadersForCors(){var e=(0,n.Mt)(this.agentIdentifier,\"distributed_tracing\");return!!e&&!!e.cors_use_tracecontext_headers}}var b=r(6114),y=r(8675),w=r(2325);function E(e,t){!function(e,t){if(t.has(e))throw new TypeError(\"Cannot initialize the same private elements twice on an object\")}(e,t),t.add(e)}var A,x,O,T=[\"load\",\"error\",\"abort\",\"timeout\"],S=T.length,_=n.Yu.REQ,I=a._A.XMLHttpRequest,P=new WeakSet;class j extends b.S{constructor(e,t){let r=!(arguments.length>2&&void 0!==arguments[2])||arguments[2];super(e,t,y.t,r),E(this,P),(0,n.OP)(e).xhrWrappable&&(this.dt=new m(e),this.handler=(e,t,r,n)=>(0,i.p)(e,t,r,n,this.ee),(0,p.u5)(this.ee),(0,p.Kf)(this.ee),function(e,t,r,i){function o(e){var t=this;t.totalCbs=0,t.called=0,t.cbTime=0,t.end=D,t.ended=!1,t.xhrGuids={},t.lastSize=null,t.loadCaptureCalled=!1,t.params=this.params||{},t.metrics=this.metrics||{},e.addEventListener(\"load\",(function(r){N(t,e)}),(0,l.m$)(!1)),d.I||e.addEventListener(\"progress\",(function(e){t.lastSize=e.loaded}),(0,l.m$)(!1))}function s(e){this.params={method:e[0]},C(this,e[1]),this.metrics={}}function c(t,r){var o=(0,n.DL)(e);\"xpid\"in o&&this.sameOrigin&&r.setRequestHeader(\"X-NewRelic-ID\",o.xpid);var a=i.generateTracePayload(this.parsedOrigin);if(a){var s=!1;a.newrelicHeader&&(r.setRequestHeader(\"newrelic\",a.newrelicHeader),s=!0),a.traceContextParentHeader&&(r.setRequestHeader(\"traceparent\",a.traceContextParentHeader),a.traceContextStateHeader&&r.setRequestHeader(\"tracestate\",a.traceContextStateHeader),s=!0),s&&(this.dt=a)}}function p(e,r){var n=this.metrics,i=e[0],o=this;if(n&&i){var a=f(i);a&&(n.txSize=a)}this.startTime=(0,h.zO)(),this.listener=function(e){try{\"abort\"!==e.type||o.loadCaptureCalled||(o.params.aborted=!0),(\"load\"!==e.type||o.called===o.totalCbs&&(o.onloadCalled||\"function\"!=typeof r.onload)&&\"function\"==typeof o.end)&&o.end(r)}catch(e){try{t.emit(\"internal-error\",[e])}catch(e){}}};for(var s=0;s<S;s++)r.addEventListener(T[s],this.listener,(0,l.m$)(!1))}function v(e,t,r){this.cbTime+=e,t?this.onloadCalled=!0:this.called+=1,this.called!==this.totalCbs||!this.onloadCalled&&\"function\"==typeof r.onload||\"function\"!=typeof this.end||this.end(r)}function m(e,t){var r=\"\"+u(e)+!!t;this.xhrGuids&&!this.xhrGuids[r]&&(this.xhrGuids[r]=!0,this.totalCbs+=1)}function b(e,t){var r=\"\"+u(e)+!!t;this.xhrGuids&&this.xhrGuids[r]&&(delete this.xhrGuids[r],this.totalCbs-=1)}function y(){this.endTime=(0,h.zO)()}function E(e,r){r instanceof I&&\"load\"===e[0]&&t.emit(\"xhr-load-added\",[e[1],e[2]],r)}function A(e,r){r instanceof I&&\"load\"===e[0]&&t.emit(\"xhr-load-removed\",[e[1],e[2]],r)}function x(e,t,r){t instanceof I&&(\"onload\"===r&&(this.onload=!0),(\"load\"===(e[0]&&e[0].type)||this.onload)&&(this.xhrCbStart=(0,h.zO)()))}function O(e,r){this.xhrCbStart&&t.emit(\"xhr-cb-time\",[(0,h.zO)()-this.xhrCbStart,this.onload,r],r)}function P(e){var t,r=e[1]||{};\"string\"==typeof e[0]?t=e[0]:e[0]&&e[0].url?t=e[0].url:a._A?.URL&&e[0]&&e[0]instanceof URL&&(t=e[0].href),t&&(this.parsedOrigin=(0,g.e)(t),this.sameOrigin=this.parsedOrigin.sameOrigin);var n=i.generateTracePayload(this.parsedOrigin);if(n&&(n.newrelicHeader||n.traceContextParentHeader))if(\"string\"==typeof e[0]||a._A?.URL&&e[0]&&e[0]instanceof URL){var o={};for(var s in r)o[s]=r[s];o.headers=new Headers(r.headers||{}),c(o.headers,n)&&(this.dt=n),e.length>1?e[1]=o:e.push(o)}else e[0]&&e[0].headers&&c(e[0].headers,n)&&(this.dt=n);function c(e,t){var r=!1;return t.newrelicHeader&&(e.set(\"newrelic\",t.newrelicHeader),r=!0),t.traceContextParentHeader&&(e.set(\"traceparent\",t.traceContextParentHeader),t.traceContextStateHeader&&e.set(\"tracestate\",t.traceContextStateHeader),r=!0),r}}function j(e,t){this.params={},this.metrics={},this.startTime=(0,h.zO)(),this.dt=t,e.length>=1&&(this.target=e[0]),e.length>=2&&(this.opts=e[1]);var r,n=this.opts||{},i=this.target;\"string\"==typeof i?r=i:\"object\"==typeof i&&i instanceof _?r=i.url:a._A?.URL&&\"object\"==typeof i&&i instanceof URL&&(r=i.href),C(this,r);var o=(\"\"+(i&&i instanceof _&&i.method||n.method||\"GET\")).toUpperCase();this.params.method=o,this.txSize=f(n.body)||0}function R(e,t){var n;this.endTime=(0,h.zO)(),this.params||(this.params={}),this.params.status=t?t.status:0,\"string\"==typeof this.rxSize&&this.rxSize.length>0&&(n=+this.rxSize);var i={txSize:this.txSize,rxSize:n,duration:(0,h.zO)()-this.startTime};r(\"xhr\",[this.params,i,this.startTime,this.endTime,\"fetch\"],this,w.D.ajax)}function D(e){var t=this.params,n=this.metrics;if(!this.ended){this.ended=!0;for(var i=0;i<S;i++)e.removeEventListener(T[i],this.listener,!1);t.aborted||(n.duration=(0,h.zO)()-this.startTime,this.loadCaptureCalled||4!==e.readyState?null==t.status&&(t.status=0):N(this,e),n.cbTime=this.cbTime,r(\"xhr\",[t,n,this.startTime,this.endTime,\"xhr\"],this,w.D.ajax))}}function C(e,t){var r=(0,g.e)(t),n=e.params;n.hostname=r.hostname,n.port=r.port,n.protocol=r.protocol,n.host=r.hostname+\":\"+r.port,n.pathname=r.pathname,e.parsedOrigin=r,e.sameOrigin=r.sameOrigin}function N(e,t){e.params.status=t.status;var r=function(e,t){var r=e.responseType;return\"json\"===r&&null!==t?t:\"arraybuffer\"===r||\"blob\"===r||\"json\"===r?f(e.response):\"text\"===r||\"\"===r||void 0===r?f(e.responseText):void 0}(t,e.lastSize);if(r&&(e.metrics.rxSize=r),e.sameOrigin){var n=t.getResponseHeader(\"X-NewRelic-App-Data\");n&&(e.params.cat=n.split(\", \").pop())}e.loadCaptureCalled=!0}t.on(\"new-xhr\",o),t.on(\"open-xhr-start\",s),t.on(\"open-xhr-end\",c),t.on(\"send-xhr-start\",p),t.on(\"xhr-cb-time\",v),t.on(\"xhr-load-added\",m),t.on(\"xhr-load-removed\",b),t.on(\"xhr-resolved\",y),t.on(\"addEventListener-end\",E),t.on(\"removeEventListener-end\",A),t.on(\"fn-end\",O),t.on(\"fetch-before-start\",P),t.on(\"fetch-start\",j),t.on(\"fn-start\",x),t.on(\"fetch-done\",R)}(e,this.ee,this.handler,this.dt),this.abortHandler=function(e,t,r){if(!t.has(e))throw new TypeError(\"attempted to get private field on non-instance\");return r}(this,P,R),this.importAggregator())}}function R(){(0,p.Fp)(this.ee),(0,p.ig)(this.ee),this.abortHandler=void 0}A=j,x=\"featureName\",O=y.t,(x=function(e){var t=function(e,t){if(\"object\"!=typeof e||null===e)return e;var r=e[Symbol.toPrimitive];if(void 0!==r){var n=r.call(e,t||\"default\");if(\"object\"!=typeof n)return n;throw new TypeError(\"@@toPrimitive must return a primitive value.\")}return(\"string\"===t?String:Number)(e)}(e,\"string\");return\"symbol\"==typeof t?t:String(t)}(x))in A?Object.defineProperty(A,x,{value:O,enumerable:!0,configurable:!0,writable:!0}):A[x]=O},8322:(e,t,r)=>{\"use strict\";r.d(t,{A:()=>i,t:()=>n});const n=r(2325).D.jserrors,i=\"nr@seenError\"},9715:(e,t,r)=>{\"use strict\";r.r(t),r.d(t,{Instrument:()=>T});var n,i=r(9252),o=r(2053),a=r(3916),s=r(7264),c=r(8683),u=r.n(c),d=r(3752),f=r(7022),l={};try{n=localStorage.getItem(\"__nr_flags\").split(\",\"),console&&\"function\"==typeof console.log&&(l.console=!0,-1!==n.indexOf(\"dev\")&&(l.dev=!0),-1!==n.indexOf(\"nr_dev\")&&(l.nrDev=!0))}catch(e){}function h(e){try{l.console&&h(e)}catch(e){}}l.nrDev&&d.ee.on(\"internal-error\",(function(e){h(e.stack)})),l.dev&&d.ee.on(\"fn-err\",(function(e,t,r){h(r.stack)})),l.dev&&(h(\"NR AGENT IN DEVELOPMENT MODE\"),h(\"flags: \"+(0,f.D)(l,(function(e,t){return e})).join(\", \")));var p=r(6114),g=r(8322),v=r(2325),m=r(2374),b=r(8544),y=r(6562);function w(e,t){!function(e,t){if(t.has(e))throw new TypeError(\"Cannot initialize the same private elements twice on an object\")}(e,t),t.add(e)}var E,A,x,O=new WeakSet;class T extends p.S{constructor(e,t){var r;let n=!(arguments.length>2&&void 0!==arguments[2])||arguments[2];super(e,t,g.t,n),r=this,w(this,O),this.skipNext=0,this.origOnerror=m._A.onerror;try{this.removeOnAbort=new AbortController}catch(e){}const c=this;c.ee.on(\"fn-start\",(function(e,t,r){c.abortHandler&&(c.skipNext+=1)})),c.ee.on(\"fn-err\",(function(e,t,r){c.abortHandler&&!r[g.A]&&((0,a.X)(r,g.A,(function(){return!0})),this.thrown=!0,I(r,void 0,c.ee))})),c.ee.on(\"fn-end\",(function(){c.abortHandler&&!this.thrown&&c.skipNext>0&&(c.skipNext-=1)})),c.ee.on(\"internal-error\",(function(e){(0,i.p)(\"ierr\",[e,(0,o.zO)(),!0],void 0,v.D.jserrors,c.ee)})),m._A.onerror=function(){return r.origOnerror&&r.origOnerror(...arguments),r.onerrorHandler(...arguments),!1},m._A.addEventListener(\"unhandledrejection\",(e=>{const t=function(e){let t=\"Unhandled Promise Rejection: \";if(e instanceof Error)try{return e.message=t+e.message,e}catch(t){return e}if(void 0===e)return new Error(t);try{return new Error(t+JSON.stringify(e))}catch(e){return new Error(t)}}(e.reason);(0,i.p)(\"err\",[t,(0,o.zO)(),!1,{unhandledPromiseRejection:1}],void 0,v.D.jserrors,this.ee)}),(0,b.m$)(!1,this.removeOnAbort?.signal)),(0,s.gy)(this.ee),(0,s.BV)(this.ee),(0,s.em)(this.ee),(0,y.OP)(e).xhrWrappable&&(0,s.Kf)(this.ee),this.abortHandler=function(e,t,r){if(!t.has(e))throw new TypeError(\"attempted to get private field on non-instance\");return r}(this,O,S),this.importAggregator()}onerrorHandler(e,t,r,n,a){try{this.skipNext?this.skipNext-=1:I(a||new _(e,t,r),!0,this.ee)}catch(e){try{(0,i.p)(\"ierr\",[e,(0,o.zO)(),!0],void 0,v.D.jserrors,this.ee)}catch(e){}}return\"function\"==typeof this.origOnerror&&this.origOnerror.apply(this,u()(arguments))}}function S(){m._A.onerror=this.origOnerror,this.removeOnAbort?.abort(),(0,s.XV)(this.ee),(0,s.Zw)(this.ee),(0,s.hF)(this.ee),(0,y.OP)(this.agentIdentifier).xhrWrappable&&(0,s.ig)(this.ee),this.abortHandler=void 0}function _(e,t,r){this.message=e||\"Uncaught error with no additional information\",this.sourceURL=t,this.line=r}function I(e,t,r){var n=t?null:(0,o.zO)();(0,i.p)(\"err\",[e,n],void 0,v.D.jserrors,r)}E=T,A=\"featureName\",x=g.t,(A=function(e){var t=function(e,t){if(\"object\"!=typeof e||null===e)return e;var r=e[Symbol.toPrimitive];if(void 0!==r){var n=r.call(e,t||\"default\");if(\"object\"!=typeof n)return n;throw new TypeError(\"@@toPrimitive must return a primitive value.\")}return(\"string\"===t?String:Number)(e)}(e,\"string\");return\"symbol\"==typeof t?t:String(t)}(A))in E?Object.defineProperty(E,A,{value:x,enumerable:!0,configurable:!0,writable:!0}):E[A]=x},6034:(e,t,r)=>{\"use strict\";r.d(t,{t:()=>n});const n=r(2325).D.metrics},600:(e,t,r)=>{\"use strict\";r.r(t),r.d(t,{Instrument:()=>O,constants:()=>T});var n=r(9252),i=r(4045),o=r(6114),a=r(2374),s={REACT:\"React\",ANGULAR:\"Angular\",ANGULARJS:\"AngularJS\",BACKBONE:\"Backbone\",EMBER:\"Ember\",VUE:\"Vue\",METEOR:\"Meteor\",ZEPTO:\"Zepto\",JQUERY:\"Jquery\"};function c(){if(!a.il)return[];var e=[];try{(function(){try{if(window.React||window.ReactDOM||window.ReactRedux)return!0;if(document.querySelector(\"[data-reactroot], [data-reactid]\"))return!0;for(var e=document.querySelectorAll(\"body > div\"),t=0;t<e.length;t++)if(Object.keys(e[t]).indexOf(\"_reactRootContainer\")>=0)return!0;return!1}catch(e){return!1}})()&&e.push(s.REACT),function(){try{return!!window.angular||(!!document.querySelector(\".ng-binding, [ng-app], [data-ng-app], [ng-controller], [data-ng-controller], [ng-repeat], [data-ng-repeat]\")||!!document.querySelector(\\'script[src*=\"angular.js\"], script[src*=\"angular.min.js\"]\\'))}catch(e){return!1}}()&&e.push(s.ANGULARJS),function(){try{return!!(window.hasOwnProperty(\"ng\")&&window.ng.hasOwnProperty(\"coreTokens\")&&window.ng.coreTokens.hasOwnProperty(\"NgZone\"))||!!document.querySelectorAll(\"[ng-version]\").length}catch(e){return!1}}()&&e.push(s.ANGULAR),window.Backbone&&e.push(s.BACKBONE),window.Ember&&e.push(s.EMBER),window.Vue&&e.push(s.VUE),window.Meteor&&e.push(s.METEOR),window.Zepto&&e.push(s.ZEPTO),window.jQuery&&e.push(s.JQUERY)}catch(e){}return e}var u=r(9548),d=r(9226),f=r(8226),l=r(2650),h=r(8544),p=r(6562),g=r(8610);const v={dedicated:Boolean(a._A?.Worker),shared:Boolean(a._A?.SharedWorker),service:Boolean(a._A?.navigator?.serviceWorker)};let m,b,y;var w=r(6034);var E,A,x;class O extends o.S{constructor(e,t){var r;let n=!(arguments.length>2&&void 0!==arguments[2])||arguments[2];super(e,t,w.t,n),r=this,this.singleChecks(),this.eachSessionChecks(),(0,i.X)(\"record-supportability\",(function(){return r.recordSupportability(...arguments)}),this.featureName,this.ee),(0,i.X)(\"record-custom\",(function(){return r.recordCustom(...arguments)}),this.featureName,this.ee),this.importAggregator()}recordSupportability(e,t){var r=[\"sm\",e,{name:e},t];return(0,n.p)(\"storeMetric\",r,null,this.featureName,this.ee),r}recordCustom(e,t){var r=[\"cm\",e,{name:e},t];return(0,n.p)(\"storeEventMetrics\",r,null,this.featureName,this.ee),r}singleChecks(){this.recordSupportability(\"Generic/Version/\".concat(f.q,\"/Detected\"));const{loaderType:e}=(0,p.OP)(this.agentIdentifier);e&&this.recordSupportability(\"Generic/LoaderType/\".concat(e,\"/Detected\")),a.il&&(0,l.K)((()=>{c().forEach((e=>{this.recordSupportability(\"Framework/\"+e+\"/Detected\")}))})),u.T.isFileProtocol()&&(this.recordSupportability(\"Generic/FileProtocol/Detected\"),u.T.supportabilityMetricSent=!0);const t=(0,d.$c)(this.agentIdentifier);t.length>0&&this.recordSupportability(\"Generic/Obfuscate/Detected\"),t.length>0&&!(0,d.Ng)(t)&&this.recordSupportability(\"Generic/Obfuscate/Invalid\"),function(e){if(!m){if(v.dedicated){m=Worker;try{a._A.Worker=r(m,\"Dedicated\")}catch(e){o(e,\"Dedicated\")}if(v.shared){b=SharedWorker;try{a._A.SharedWorker=r(b,\"Shared\")}catch(e){o(e,\"Shared\")}}else n(\"Shared\");if(v.service){y=navigator.serviceWorker.register;try{a._A.navigator.serviceWorker.register=(t=y,function(){for(var e=arguments.length,r=new Array(e),n=0;n<e;n++)r[n]=arguments[n];return i(\"Service\",r[1]?.type),t.apply(navigator.serviceWorker,r)})}catch(e){o(e,\"Service\")}}else n(\"Service\");var t;return}n(\"All\")}function r(e,t){return\"undefined\"==typeof Proxy?e:new Proxy(e,{construct:(e,r)=>(i(t,r[1]?.type),new e(...r))})}function n(t){a.v6||e(\"Workers/\".concat(t,\"/Unavailable\"))}function i(t,r){e(\"Workers/\".concat(t,\"module\"===r?\"/Module\":\"/Classic\"))}function o(t,r){e(\"Workers/\".concat(r,\"/SM/Unsupported\")),(0,g.Z)(\"NR Agent: Unable to capture \".concat(r,\" workers.\"),t)}}(this.recordSupportability.bind(this))}eachSessionChecks(){a.il&&(0,h.bP)(\"pageshow\",(e=>{e.persisted&&this.recordSupportability(\"Generic/BFCache/PageRestored\")}))}}E=O,A=\"featureName\",x=w.t,(A=function(e){var t=function(e,t){if(\"object\"!=typeof e||null===e)return e;var r=e[Symbol.toPrimitive];if(void 0!==r){var n=r.call(e,t||\"default\");if(\"object\"!=typeof n)return n;throw new TypeError(\"@@toPrimitive must return a primitive value.\")}return(\"string\"===t?String:Number)(e)}(e,\"string\");return\"symbol\"==typeof t?t:String(t)}(A))in E?Object.defineProperty(E,A,{value:x,enumerable:!0,configurable:!0,writable:!0}):E[A]=x;var T={SUPPORTABILITY_METRIC:\"sm\",CUSTOM_METRIC:\"cm\"}},6486:(e,t,r)=>{\"use strict\";r.d(t,{t:()=>n});const n=r(2325).D.pageAction},488:(e,t,r)=>{\"use strict\";r.r(t),r.d(t,{Instrument:()=>c});var n,i,o,a=r(6114),s=r(6486);class c extends a.S{constructor(e,t){let r=!(arguments.length>2&&void 0!==arguments[2])||arguments[2];super(e,t,s.t,r),this.importAggregator()}}n=c,i=\"featureName\",o=s.t,(i=function(e){var t=function(e,t){if(\"object\"!=typeof e||null===e)return e;var r=e[Symbol.toPrimitive];if(void 0!==r){var n=r.call(e,t||\"default\");if(\"object\"!=typeof n)return n;throw new TypeError(\"@@toPrimitive must return a primitive value.\")}return(\"string\"===t?String:Number)(e)}(e,\"string\");return\"symbol\"==typeof t?t:String(t)}(i))in n?Object.defineProperty(n,i,{value:o,enumerable:!0,configurable:!0,writable:!0}):n[i]=o},2484:(e,t,r)=>{\"use strict\";r.d(t,{t:()=>n});const n=r(2325).D.pageViewEvent},5637:(e,t,r)=>{\"use strict\";r.r(t),r.d(t,{Instrument:()=>g});var n,i,o,a=r(9252),s=r(2053),c=r(8283),u=r(6625),d=r(6114),f=r(2650),l=r(2484),h=r(2325),p=r(2374);class g extends d.S{constructor(e,t){let r=!(arguments.length>2&&void 0!==arguments[2])||arguments[2];super(e,t,l.t,r),p.il&&((0,u.v)(e),(0,c.B)(e,\"firstbyte\",(0,s.yf)()),(0,f.K)((()=>this.measureDomContentLoaded())),(0,f.b)((()=>this.measureWindowLoaded()),!0),this.importAggregator())}measureWindowLoaded(){var e=(0,s.zO)();(0,c.B)(this.agentIdentifier,\"onload\",e+(0,s.os)()),(0,a.p)(\"timing\",[\"load\",e],void 0,h.D.pageViewTiming,this.ee)}measureDomContentLoaded(){(0,c.B)(this.agentIdentifier,\"domContent\",(0,s.zO)()+(0,s.os)())}}n=g,i=\"featureName\",o=l.t,(i=function(e){var t=function(e,t){if(\"object\"!=typeof e||null===e)return e;var r=e[Symbol.toPrimitive];if(void 0!==r){var n=r.call(e,t||\"default\");if(\"object\"!=typeof n)return n;throw new TypeError(\"@@toPrimitive must return a primitive value.\")}return(\"string\"===t?String:Number)(e)}(e,\"string\");return\"symbol\"==typeof t?t:String(t)}(i))in n?Object.defineProperty(n,i,{value:o,enumerable:!0,configurable:!0,writable:!0}):n[i]=o},6382:(e,t,r)=>{\"use strict\";r.d(t,{t:()=>n});const n=r(2325).D.pageViewTiming},7817:(e,t,r)=>{\"use strict\";r.r(t),r.d(t,{Instrument:()=>g});var n,i,o,a=r(9252),s=r(6998),c=r(8544),u=r(2053),d=r(6562),f=r(6114),l=r(6382),h=r(2325),p=r(2374);class g extends f.S{constructor(e,t){var r;let n=!(arguments.length>2&&void 0!==arguments[2])||arguments[2];if(super(e,t,l.t,n),r=this,p.il){if(this.pageHiddenTime=(0,s.e)(),this.performanceObserver,this.lcpPerformanceObserver,this.clsPerformanceObserver,this.fiRecorded=!1,\"PerformanceObserver\"in window&&\"function\"==typeof window.PerformanceObserver){this.performanceObserver=new PerformanceObserver((function(){return r.perfObserver(...arguments)}));try{this.performanceObserver.observe({entryTypes:[\"paint\"]})}catch(e){}this.lcpPerformanceObserver=new PerformanceObserver((function(){return r.lcpObserver(...arguments)}));try{this.lcpPerformanceObserver.observe({entryTypes:[\"largest-contentful-paint\"]})}catch(e){}this.clsPerformanceObserver=new PerformanceObserver((function(){return r.clsObserver(...arguments)}));try{this.clsPerformanceObserver.observe({type:\"layout-shift\",buffered:!0})}catch(e){}}this.fiRecorded=!1;[\"click\",\"keydown\",\"mousedown\",\"pointerdown\",\"touchstart\"].forEach((e=>{(0,c.iz)(e,(function(){return r.captureInteraction(...arguments)}))})),(0,s.N)((()=>{this.pageHiddenTime=(0,u.zO)(),(0,a.p)(\"docHidden\",[this.pageHiddenTime],void 0,h.D.pageViewTiming,this.ee)}),!0),(0,c.bP)(\"pagehide\",(()=>(0,a.p)(\"winPagehide\",[(0,u.zO)()],void 0,h.D.pageViewTiming,this.ee))),this.importAggregator()}}perfObserver(e,t){e.getEntries().forEach((e=>{\"first-paint\"===e.name?(0,a.p)(\"timing\",[\"fp\",Math.floor(e.startTime)],void 0,h.D.pageViewTiming,this.ee):\"first-contentful-paint\"===e.name&&(0,a.p)(\"timing\",[\"fcp\",Math.floor(e.startTime)],void 0,h.D.pageViewTiming,this.ee)}))}lcpObserver(e,t){var r=e.getEntries();if(r.length>0){var n=r[r.length-1];if(this.pageHiddenTime<n.startTime)return;var i=[n],o=this.addConnectionAttributes({});o&&i.push(o),(0,a.p)(\"lcp\",i,void 0,h.D.pageViewTiming,this.ee)}}clsObserver(e){e.getEntries().forEach((e=>{e.hadRecentInput||(0,a.p)(\"cls\",[e],void 0,h.D.pageViewTiming,this.ee)}))}addConnectionAttributes(e){var t=navigator.connection||navigator.mozConnection||navigator.webkitConnection;if(t)return t.type&&(e[\"net-type\"]=t.type),t.effectiveType&&(e[\"net-etype\"]=t.effectiveType),t.rtt&&(e[\"net-rtt\"]=t.rtt),t.downlink&&(e[\"net-dlink\"]=t.downlink),e}captureInteraction(e){if(e instanceof d.Yu.EV&&!this.fiRecorded){var t=Math.round(e.timeStamp),r={type:e.type};this.addConnectionAttributes(r),t<=(0,u.zO)()?r.fid=(0,u.zO)()-t:t>(0,u.os)()&&t<=Date.now()?(t-=(0,u.os)(),r.fid=(0,u.zO)()-t):t=(0,u.zO)(),this.fiRecorded=!0,(0,a.p)(\"timing\",[\"fi\",t,r],void 0,h.D.pageViewTiming,this.ee)}}}n=g,i=\"featureName\",o=l.t,(i=function(e){var t=function(e,t){if(\"object\"!=typeof e||null===e)return e;var r=e[Symbol.toPrimitive];if(void 0!==r){var n=r.call(e,t||\"default\");if(\"object\"!=typeof n)return n;throw new TypeError(\"@@toPrimitive must return a primitive value.\")}return(\"string\"===t?String:Number)(e)}(e,\"string\");return\"symbol\"==typeof t?t:String(t)}(i))in n?Object.defineProperty(n,i,{value:o,enumerable:!0,configurable:!0,writable:!0}):n[i]=o},2628:(e,t,r)=>{\"use strict\";r.r(t),r.d(t,{ADD_EVENT_LISTENER:()=>g,BST_RESOURCE:()=>a,BST_TIMER:()=>l,END:()=>u,FEATURE_NAME:()=>i,FN_END:()=>f,FN_START:()=>d,ORIG_EVENT:()=>p,PUSH_STATE:()=>h,RESOURCE:()=>s,RESOURCE_TIMING_BUFFER_FULL:()=>o,START:()=>c});var n=r(6562);const i=r(2325).D.sessionTrace,o=\"resourcetimingbufferfull\",a=\"bstResource\",s=\"resource\",c=\"-start\",u=\"-end\",d=\"fn\"+c,f=\"fn\"+u,l=\"bstTimer\",h=\"pushState\",p=n.Yu.EV,g=\"addEventListener\"},6649:(e,t,r)=>{\"use strict\";r.r(t),r.d(t,{Instrument:()=>j});var n=r(9252),i=r(7264),o=r(6408),a=r(8544),s=r(2053),c=r(6114),u=r(2628),d=r(2325),f=r(2374);function l(e,t){!function(e,t){if(t.has(e))throw new TypeError(\"Cannot initialize the same private elements twice on an object\")}(e,t),t.add(e)}const{BST_RESOURCE:h,BST_TIMER:p,END:g,FEATURE_NAME:v,FN_END:m,FN_START:b,ADD_EVENT_LISTENER:y,PUSH_STATE:w,RESOURCE:E,RESOURCE_TIMING_BUFFER_FULL:A,START:x,ORIG_EVENT:O}=u,T=\"clearResourceTimings\";var S,_,I,P=new WeakSet;class j extends c.S{constructor(e,t){if(super(e,t,v,!(arguments.length>2&&void 0!==arguments[2])||arguments[2]),l(this,P),!f.il)return;const r=this.ee;this.timerEE=(0,i.BV)(r),this.rafEE=(0,i.gy)(r),(0,i.QU)(r),(0,i.em)(r),r.on(b,(function(e,t){e[0]instanceof O&&(this.bstStart=(0,s.zO)())})),r.on(m,(function(e,t){var i=e[0];i instanceof O&&(0,n.p)(\"bst\",[i,t,this.bstStart,(0,s.zO)()],void 0,d.D.sessionTrace,r)})),this.timerEE.on(b,(function(e,t,r){this.bstStart=(0,s.zO)(),this.bstType=r})),this.timerEE.on(m,(function(e,t){(0,n.p)(p,[t,this.bstStart,(0,s.zO)(),this.bstType],void 0,d.D.sessionTrace,r)})),this.rafEE.on(b,(function(){this.bstStart=(0,s.zO)()})),this.rafEE.on(m,(function(e,t){(0,n.p)(p,[t,this.bstStart,(0,s.zO)(),\"requestAnimationFrame\"],void 0,d.D.sessionTrace,r)})),r.on(w+x,(function(e){this.time=(0,s.zO)(),this.startPath=location.pathname+location.hash})),r.on(w+g,(function(e){(0,n.p)(\"bstHist\",[location.pathname+location.hash,this.startPath,this.time],void 0,d.D.sessionTrace,r)})),(0,o.W)()?((0,n.p)(h,[window.performance.getEntriesByType(\"resource\")],void 0,d.D.sessionTrace,r),function(){var e=new PerformanceObserver(((e,t)=>{var i=e.getEntries();(0,n.p)(h,[i],void 0,d.D.sessionTrace,r)}));try{e.observe({entryTypes:[\"resource\"]})}catch(e){}}()):window.performance[T]&&window.performance[y]&&window.performance.addEventListener(A,this.onResourceTimingBufferFull,(0,a.m$)(!1)),document.addEventListener(\"scroll\",this.noOp,(0,a.m$)(!1)),document.addEventListener(\"keypress\",this.noOp,(0,a.m$)(!1)),document.addEventListener(\"click\",this.noOp,(0,a.m$)(!1)),this.abortHandler=function(e,t,r){if(!t.has(e))throw new TypeError(\"attempted to get private field on non-instance\");return r}(this,P,R),this.importAggregator()}noOp(e){}onResourceTimingBufferFull(e){if((0,n.p)(h,[window.performance.getEntriesByType(E)],void 0,d.D.sessionTrace,this.ee),window.performance[T])try{window.performance.removeEventListener(A,this.onResourceTimingBufferFull,!1)}catch(e){}}}function R(){window.performance.removeEventListener(A,this.onResourceTimingBufferFull,!1),(0,i.Zw)(this.ee),(0,i.XV)(this.ee),(0,i.lx)(this.ee),(0,i.hF)(this.ee),this.abortHandler=void 0}S=j,I=v,(_=function(e){var t=function(e,t){if(\"object\"!=typeof e||null===e)return e;var r=e[Symbol.toPrimitive];if(void 0!==r){var n=r.call(e,t||\"default\");if(\"object\"!=typeof n)return n;throw new TypeError(\"@@toPrimitive must return a primitive value.\")}return(\"string\"===t?String:Number)(e)}(e,\"string\");return\"symbol\"==typeof t?t:String(t)}(_=\"featureName\"))in S?Object.defineProperty(S,_,{value:I,enumerable:!0,configurable:!0,writable:!0}):S[_]=I},1509:(e,t,r)=>{\"use strict\";r.d(t,{W:()=>s});var n=r(6562),i=r(3752),o=r(2384),a=r(6797);class s{constructor(e,t,r){this.agentIdentifier=e,this.aggregator=t,this.ee=i.ee.get(e,(0,n.OP)(this.agentIdentifier).isolatedBacklog),this.featureName=r,this.blocked=!1,this.checkConfiguration()}checkConfiguration(){if(!(0,n.lF)(this.agentIdentifier)){let e={...(0,a.gG)().info?.jsAttributes};try{e={...e,...(0,n.C5)(this.agentIdentifier)?.jsAttributes}}catch(e){}(0,o.j)(this.agentIdentifier,{...(0,a.gG)(),info:{...(0,a.gG)().info,jsAttributes:e}})}}}},6114:(e,t,r)=>{\"use strict\";r.d(t,{S:()=>c});var n=r(4329),i=r(1509),o=r(2650),a=r(2374),s=r(8610);class c extends i.W{constructor(e,t,r){let i=!(arguments.length>3&&void 0!==arguments[3])||arguments[3];super(e,t,r),this.hasAggregator=!1,this.auto=i,this.abortHandler,i&&(0,n.R)(e,r)}importAggregator(){if(this.hasAggregator||!this.auto)return;this.hasAggregator=!0;const e=async()=>{try{const{lazyLoader:e}=await r.e(729).then(r.bind(r,8110)),{Aggregate:t}=await e(this.featureName,\"aggregate\");new t(this.agentIdentifier,this.aggregator)}catch(e){(0,s.Z)(\"Downloading \".concat(this.featureName,\" failed...\")),this.abortHandler?.()}};a.v6?e():(0,o.b)((()=>e()),!0)}}},2384:(e,t,r)=>{\"use strict\";r.d(t,{j:()=>y});var n=r(8683),i=r.n(n),o=r(2325),a=r(6562),s=r(9252),c=r(7022),u=r(3752),d=r(2053),f=r(4329),l=r(2650),h=r(2374),p=r(8610);function g(e){[\"setErrorHandler\",\"finished\",\"addToTrace\",\"inlineHit\",\"addRelease\",\"addPageAction\",\"setCurrentRouteName\",\"setPageViewName\",\"setCustomAttribute\",\"interaction\",\"noticeError\"].forEach((t=>{e[t]=function(){for(var r=arguments.length,n=new Array(r),i=0;i<r;i++)n[i]=arguments[i];return function(t){for(var r=arguments.length,n=new Array(r>1?r-1:0),i=1;i<r;i++)n[i-1]=arguments[i];Object.values(e.initializedAgents).forEach((e=>{e.exposed&&e.api[t]&&e.api[t](...n)}))}(t,...n)}}))}var v=r(6797);const m={stn:[o.D.sessionTrace],err:[o.D.jserrors,o.D.metrics],ins:[o.D.pageAction],spa:[o.D.spa]};const b={};function y(e){let t=arguments.length>1&&void 0!==arguments[1]?arguments[1]:{},n=arguments.length>2?arguments[2]:void 0,y=arguments.length>3?arguments[3]:void 0,{init:w,info:E,loader_config:A,runtime:x={loaderType:n},exposed:O=!0}=t;const T=(0,v.gG)();let S={};return E||(w=T.init,E=T.info,A=T.loader_config,S=T),h.v6&&(E.jsAttributes={...E.jsAttributes,isWorker:!0}),(0,a.CX)(e,E),(0,a.Dg)(e,w||{}),(0,a.GE)(e,A||{}),(0,a.sU)(e,x),function(e,t,n){n||(0,f.R)(e,\"api\"),g(t);var v=u.ee.get(e),m=v.get(\"tracer\"),b=\"api-\",y=b+\"ixn-\";function w(){}(0,c.D)([\"setErrorHandler\",\"finished\",\"addToTrace\",\"inlineHit\",\"addRelease\"],(function(e,r){t[r]=A(b,r,!0,\"api\")})),t.addPageAction=A(b,\"addPageAction\",!0,o.D.pageAction),t.setCurrentRouteName=A(b,\"routeName\",!0,o.D.spa),t.setPageViewName=function(t,r){if(\"string\"==typeof t)return\"/\"!==t.charAt(0)&&(t=\"/\"+t),(0,a.OP)(e).customTransaction=(r||\"http://custom.transaction\")+t,A(b,\"setPageViewName\",!0,\"api\")()},t.setCustomAttribute=function(t,r){const n=(0,a.C5)(e);return(0,a.CX)(e,{...n,jsAttributes:{...n.jsAttributes,[t]:r}}),A(b,\"setCustomAttribute\",!0,\"api\")()},t.interaction=function(){return(new w).get()};var E=w.prototype={createTracer:function(e,t){var r={},n=this,i=\"function\"==typeof t;return(0,s.p)(y+\"tracer\",[(0,d.zO)(),e,r],n,o.D.spa,v),function(){if(m.emit((i?\"\":\"no-\")+\"fn-start\",[(0,d.zO)(),n,i],r),i)try{return t.apply(this,arguments)}catch(e){throw m.emit(\"fn-err\",[arguments,this,\"string\"==typeof e?new Error(e):e],r),e}finally{m.emit(\"fn-end\",[(0,d.zO)()],r)}}}};function A(e,t,r,n){return function(){return(0,s.p)(\"record-supportability\",[\"API/\"+t+\"/called\"],void 0,o.D.metrics,v),(0,s.p)(e+t,[(0,d.zO)()].concat(i()(arguments)),r?null:this,n,v),r?void 0:this}}function x(){r.e(439).then(r.bind(r,5692)).then((t=>{let{setAPI:r}=t;r(e),(0,f.L)(e,\"api\")})).catch((()=>(0,p.Z)(\"Downloading runtime APIs failed...\")))}(0,c.D)(\"actionText,setName,setAttribute,save,ignore,onEnd,getContext,end,get\".split(\",\"),(function(e,t){E[t]=A(y,t,void 0,o.D.spa)})),t.noticeError=function(e,t){\"string\"==typeof e&&(e=new Error(e)),(0,s.p)(\"record-supportability\",[\"API/noticeError/called\"],void 0,o.D.metrics,v),(0,s.p)(\"err\",[e,(0,d.zO)(),!1,t],void 0,o.D.jserrors,v)},h.v6?x():(0,l.b)((()=>x()),!0)}(e,S,y),(0,v.Qy)(e,T,\"api\"),(0,v.Qy)(e,O,\"exposed\"),h.v6||((0,v.EZ)(\"activatedFeatures\",b),(0,v.EZ)(\"setToken\",(t=>function(e,t){var r=u.ee.get(t);e&&\"object\"==typeof e&&((0,c.D)(e,(function(e,t){if(!t)return(m[e]||[]).forEach((t=>{(0,s.p)(\"block-\"+e,[],void 0,t,r)}));b[e]||((0,s.p)(\"feat-\"+e,[],void 0,m[e],r),b[e]=!0)})),(0,f.L)(t,o.D.pageViewEvent))}(t,e)))),S}},909:(e,t,r)=>{\"use strict\";r.d(t,{Z:()=>i,q:()=>o});var n=r(2325);function i(e){switch(e){case n.D.ajax:return[n.D.jserrors];case n.D.sessionTrace:return[n.D.ajax,n.D.pageViewEvent];case n.D.pageViewTiming:return[n.D.pageViewEvent];default:return[]}}function o(e){return e===n.D.jserrors?[]:[\"auto\"]}},2325:(e,t,r)=>{\"use strict\";r.d(t,{D:()=>n,p:()=>i});const n={ajax:\"ajax\",jserrors:\"jserrors\",metrics:\"metrics\",pageAction:\"page_action\",pageViewEvent:\"page_view_event\",pageViewTiming:\"page_view_timing\",sessionTrace:\"session_trace\",spa:\"spa\"},i={[n.pageViewEvent]:1,[n.pageViewTiming]:2,[n.metrics]:3,[n.jserrors]:4,[n.ajax]:5,[n.sessionTrace]:6,[n.pageAction]:7,[n.spa]:8}},8683:e=>{e.exports=function(e,t,r){t||(t=0),void 0===r&&(r=e?e.length:0);for(var n=-1,i=r-t||0,o=Array(i<0?0:i);++n<i;)o[n]=e[t+n];return o}}},n={};function i(e){var t=n[e];if(void 0!==t)return t.exports;var o=n[e]={exports:{}};return r[e](o,o.exports,i),o.exports}i.m=r,i.n=e=>{var t=e&&e.__esModule?()=>e.default:()=>e;return i.d(t,{a:t}),t},i.d=(e,t)=>{for(var r in t)i.o(t,r)&&!i.o(e,r)&&Object.defineProperty(e,r,{enumerable:!0,get:t[r]})},i.f={},i.e=e=>Promise.all(Object.keys(i.f).reduce(((t,r)=>(i.f[r](e,t),t)),[])),i.u=e=>(({78:\"page_action-aggregate\",147:\"metrics-aggregate\",193:\"session_trace-aggregate\",225:\"ajax-instrument\",317:\"jserrors-aggregate\",348:\"page_view_timing-aggregate\",439:\"async-api\",578:\"jserrors-instrument\",729:\"lazy-loader\",757:\"session_trace-instrument\",786:\"page_view_event-aggregate\",873:\"spa-aggregate\",876:\"spa-instrument\",898:\"ajax-aggregate\",908:\"page_action-instrument\"}[e]||e)+\".\"+{78:\"92657d87\",118:\"34a59fa6\",147:\"7dcaee1b\",193:\"401d5d17\",225:\"25fe7245\",264:\"bcaf68fc\",317:\"d078b949\",348:\"6b3fec7f\",439:\"6bb277af\",578:\"c8f23c89\",729:\"48127245\",757:\"98d3280d\",786:\"29613e65\",873:\"58d1fc78\",876:\"364406a9\",898:\"178bdaa3\",908:\"64360627\"}[e]+\"-1226.min.js\"),i.o=(e,t)=>Object.prototype.hasOwnProperty.call(e,t),e={},t=\"NRBA:\",i.l=(r,n,o,a)=>{if(e[r])e[r].push(n);else{var s,c;if(void 0!==o)for(var u=document.getElementsByTagName(\"script\"),d=0;d<u.length;d++){var f=u[d];if(f.getAttribute(\"src\")==r||f.getAttribute(\"data-webpack\")==t+o){s=f;break}}s||(c=!0,(s=document.createElement(\"script\")).charset=\"utf-8\",s.timeout=120,i.nc&&s.setAttribute(\"nonce\",i.nc),s.setAttribute(\"data-webpack\",t+o),s.src=r),e[r]=[n];var l=(t,n)=>{s.onerror=s.onload=null,clearTimeout(h);var i=e[r];if(delete e[r],s.parentNode&&s.parentNode.removeChild(s),i&&i.forEach((e=>e(n))),t)return t(n)},h=setTimeout(l.bind(null,void 0,{type:\"timeout\",target:s}),12e4);s.onerror=l.bind(null,s.onerror),s.onload=l.bind(null,s.onload),c&&document.head.appendChild(s)}},i.r=e=>{\"undefined\"!=typeof Symbol&&Symbol.toStringTag&&Object.defineProperty(e,Symbol.toStringTag,{value:\"Module\"}),Object.defineProperty(e,\"__esModule\",{value:!0})},i.p=\"https://js-agent.newrelic.com/\",(()=>{var e={993:0,680:0,225:0,578:0,908:0,757:0,264:0};i.f.j=(t,r)=>{var n=i.o(e,t)?e[t]:void 0;if(0!==n)if(n)r.push(n[2]);else{var o=new Promise(((r,i)=>n=e[t]=[r,i]));r.push(n[2]=o);var a=i.p+i.u(t),s=new Error;i.l(a,(r=>{if(i.o(e,t)&&(0!==(n=e[t])&&(e[t]=void 0),n)){var o=r&&(\"load\"===r.type?\"missing\":r.type),a=r&&r.target&&r.target.src;s.message=\"Loading chunk \"+t+\" failed.\\\\n(\"+o+\": \"+a+\")\",s.name=\"ChunkLoadError\",s.type=o,s.request=a,n[1](s)}}),\"chunk-\"+t,t)}};var t=(t,r)=>{var n,o,[a,s,c]=r,u=0;if(a.some((t=>0!==e[t]))){for(n in s)i.o(s,n)&&(i.m[n]=s[n]);if(c)c(i)}for(t&&t(r);u<a.length;u++)o=a[u],i.o(e,o)&&e[o]&&e[o][0](),e[o]=0},r=window.webpackChunkNRBA=window.webpackChunkNRBA||[];r.forEach(t.bind(null,0)),r.push=t.bind(null,r.push.bind(r))})();var o={};(()=>{\"use strict\";i.r(o);var e=i(2325),t=i(6562);const r=Object.values(e.D);function n(e){const n={};return r.forEach((r=>{n[r]=function(e,r){return!1!==(0,t.Mt)(r,\"\".concat(e,\".enabled\"))}(r,e)})),n}var a=i(2384),s=i(909),c=i(9557),u=i(7022);class d extends c.w{constructor(e){super(e),this.aggregatedData={}}store(e,t,r,n,i){var o=this.getBucket(e,t,r,i);return o.metrics=function(e,t){t||(t={count:0});return t.count+=1,(0,u.D)(e,(function(e,r){t[e]=f(r,t[e])})),t}(n,o.metrics),o}merge(e,t,r,n,i){var o=this.getBucket(e,t,n,i);if(o.metrics){var a=o.metrics;a.count+=r.count,(0,u.D)(r,(function(e,t){if(\"count\"!==e){var n=a[e],i=r[e];i&&!i.c?a[e]=f(i.t,n):a[e]=function(e,t){if(!t)return e;t.c||(t=l(t.t));return t.min=Math.min(e.min,t.min),t.max=Math.max(e.max,t.max),t.t+=e.t,t.sos+=e.sos,t.c+=e.c,t}(i,a[e])}}))}else o.metrics=r}storeMetric(e,t,r,n){var i=this.getBucket(e,t,r);return i.stats=f(n,i.stats),i}getBucket(e,t,r,n){this.aggregatedData[e]||(this.aggregatedData[e]={});var i=this.aggregatedData[e][t];return i||(i=this.aggregatedData[e][t]={params:r||{}},n&&(i.custom=n)),i}get(e,t){return t?this.aggregatedData[e]&&this.aggregatedData[e][t]:this.aggregatedData[e]}take(e){for(var t={},r=\"\",n=!1,i=0;i<e.length;i++)t[r=e[i]]=h(this.aggregatedData[r]),t[r].length&&(n=!0),delete this.aggregatedData[r];return n?t:null}}function f(e,t){return null==e?function(e){e?e.c++:e={c:1};return e}(t):t?(t.c||(t=l(t.t)),t.c+=1,t.t+=e,t.sos+=e*e,e>t.max&&(t.max=e),e<t.min&&(t.min=e),t):{t:e}}function l(e){return{t:e,min:e,max:e,sos:e*e,c:1}}function h(e){return\"object\"!=typeof e?[]:(0,u.D)(e,p)}function p(e,t){return t}var g=i(6797),v=i(5526),m=i(8610);var b=i(5637),y=i(7817),w=i(600),E=i(9715),A=i(948),x=i(6649),O=i(488);new class{constructor(t){let r=arguments.length>1&&void 0!==arguments[1]?arguments[1]:(0,v.ky)(16);this.agentIdentifier=r,this.sharedAggregator=new d({agentIdentifier:this.agentIdentifier}),this.features={},this.desiredFeatures=t.features||[],this.desiredFeatures.sort(((t,r)=>e.p[t.featureName]-e.p[r.featureName])),Object.assign(this,(0,a.j)(this.agentIdentifier,t,t.loaderType||\"agent\")),this.start()}get config(){return{info:(0,t.C5)(this.agentIdentifier),init:(0,t.P_)(this.agentIdentifier),loader_config:(0,t.DL)(this.agentIdentifier),runtime:(0,t.OP)(this.agentIdentifier)}}start(){const e=\"features\";try{const t=n(this.agentIdentifier);this.desiredFeatures.forEach((e=>{if(t[e.featureName]){const r=(0,s.Z)(e.featureName);r.every((e=>t[e]))||(0,m.Z)(\"\".concat(e.featureName,\" is enabled but one or more dependent features has been disabled (\").concat(JSON.stringify(r),\"). This may cause unintended consequences or missing data...\")),this.features[e.featureName]=new e(this.agentIdentifier,this.sharedAggregator)}})),(0,g.Qy)(this.agentIdentifier,this.features,e)}catch(t){(0,m.Z)(\"Failed to initialize all enabled instrument classes (agent aborted) -\",t);for(const e in this.features)this.features[e].abortHandler?.();const r=(0,g.fP)();return delete r.initializedAgents[this.agentIdentifier]?.api,delete r.initializedAgents[this.agentIdentifier]?.[e],delete this.sharedAggregator,delete r.ee?.get(this.agentIdentifier),!1}}}({features:[b.Instrument,y.Instrument,x.Instrument,A.Instrument,w.Instrument,O.Instrument,E.Instrument],loaderType:\"pro\"})})(),window.NRBA=o})();</script><script type=\"text/javascript\">window.NREUM||(NREUM={});NREUM.info={\"beacon\":\"bam.nr-data.net\",\"errorBeacon\":\"bam.nr-data.net\",\"licenseKey\":\"8d5fb92f6e\",\"applicationID\":\"2098939\",\"transactionName\":\"ZwMAYEdSCktRWxZRXV5JJEFbUBBRX1ZNXFhRCAVbG1ALSlUWCllcVAoHRkYdE0tXUVhvYXcvKlVbVwhdQhYRXVxEFBtrRVIQW1hdBmdFQwELa11SClxcXRA=\",\"queueTime\":0,\"applicationTime\":43,\"agent\":\"\"}</script>\\n  <meta name=\"robots\" content=\"NONE,NOARCHIVE\">\\n  <title>403 Forbidden</title>\\n  <style type=\"text/css\">\\n    html * { padding:0; margin:0; }\\n    body * { padding:10px 20px; }\\n    body * * { padding:0; }\\n    body { font:small sans-serif; background:#eee; color:#000; }\\n    body>div { border-bottom:1px solid #ddd; }\\n    h1 { font-weight:normal; margin-bottom:.4em; }\\n    h1 span { font-size:60%; color:#666; font-weight:normal; }\\n    #info { background:#f6f6f6; }\\n    #info ul { margin: 0.5em 4em; }\\n    #info p, #summary p { padding-top:10px; }\\n    #summary { background: #ffc; }\\n    #explanation { background:#eee; border-bottom: 0px none; }\\n  </style>\\n</head>\\n<body>\\n<div id=\"summary\">\\n  <h1>Forbidden <span>(403)</span></h1>\\n  <p>CSRF verification failed. Request aborted.</p>\\n\\n  <p>You are seeing this message because this HTTPS site requires a “Referer header” to be sent by your Web browser, but none was sent. This header is required for security reasons, to ensure that your browser is not being hijacked by third parties.</p>\\n  <p>If you have configured your browser to disable “Referer” headers, please re-enable them, at least for this site, or for HTTPS connections, or for “same-origin” requests.</p>\\n  <p>If you are using the &lt;meta name=&quot;referrer&quot; content=&quot;no-referrer&quot;&gt; tag or including the “Referrer-Policy: no-referrer” header, please remove them. The CSRF protection requires the “Referer” header to do strict referer checking. If you’re concerned about privacy, use alternatives like &lt;a rel=&quot;noreferrer&quot; …&gt; for links to third-party sites.</p>\\n\\n\\n</div>\\n\\n<div id=\"explanation\">\\n  <p><small>More information is available with DEBUG=True.</small></p>\\n</div>\\n\\n</body>\\n</html>\\n'"
      ]
     },
     "execution_count": 55,
     "metadata": {},
     "output_type": "execute_result"
    }
   ],
   "source": [
    "re.text"
   ]
  },
  {
   "cell_type": "code",
   "execution_count": 41,
   "metadata": {
    "collapsed": false,
    "jupyter": {
     "outputs_hidden": false
    }
   },
   "outputs": [],
   "source": [
    "s2 = BeautifulSoup(re.content, 'html.parser')"
   ]
  },
  {
   "cell_type": "code",
   "execution_count": 38,
   "metadata": {
    "collapsed": false,
    "jupyter": {
     "outputs_hidden": false
    }
   },
   "outputs": [
    {
     "data": {
      "text/plain": [
       "[<div id=\"summary\">\n",
       " <h1>Forbidden <span>(403)</span></h1>\n",
       " <p>CSRF verification failed. Request aborted.</p>\n",
       " <p>You are seeing this message because this HTTPS site requires a “Referer header” to be sent by your Web browser, but none was sent. This header is required for security reasons, to ensure that your browser is not being hijacked by third parties.</p>\n",
       " <p>If you have configured your browser to disable “Referer” headers, please re-enable them, at least for this site, or for HTTPS connections, or for “same-origin” requests.</p>\n",
       " <p>If you are using the &lt;meta name=\"referrer\" content=\"no-referrer\"&gt; tag or including the “Referrer-Policy: no-referrer” header, please remove them. The CSRF protection requires the “Referer” header to do strict referer checking. If you’re concerned about privacy, use alternatives like &lt;a rel=\"noreferrer\" …&gt; for links to third-party sites.</p>\n",
       " </div>,\n",
       " <div id=\"explanation\">\n",
       " <p><small>More information is available with DEBUG=True.</small></p>\n",
       " </div>]"
      ]
     },
     "execution_count": 38,
     "metadata": {},
     "output_type": "execute_result"
    }
   ],
   "source": [
    "s2 = BeautifulSoup(re.content, 'html.parser')\n",
    "\n",
    "asa2.find_all('div')"
   ]
  },
  {
   "cell_type": "code",
   "execution_count": 62,
   "metadata": {
    "collapsed": false,
    "jupyter": {
     "outputs_hidden": false
    }
   },
   "outputs": [],
   "source": [
    "headers = [\n",
    "    \"Accept: text/html,application/xhtml+xml,application/xml;q=0.9,image/avif,image/webp,*/*;q=0.8\",\n",
    "    \"Accept-Encoding: gzip, deflate, br\",\n",
    "    \"Accept-Language: ru-RU,ru;q=0.8,en-US;q=0.5,en;q=0.3\",\n",
    "    \"Connection: keep-alive\",\n",
    "    \"Content-Length: 704\",\n",
    "    \"Content-Type: application/json\",\n",
    "    \"Host: leetcode.com\",\n",
    "    \"Origin: null\",\n",
    "    \"Sec-Fetch-Dest: document\",\n",
    "    \"Sec-Fetch-Mode: navigate\",\n",
    "    \"Sec-Fetch-Site: none\",\n",
    "    \"Sec-Fetch-User: ?1\",\n",
    "    \"Upgrade-Insecure-Requests: 1\",\n",
    "    \"User-Agent: Mozilla/5.0 (X11; Linux x86_64; rv:109.0) Gecko/20100101 Firefox/110.0\"\n",
    "]"
   ]
  },
  {
   "cell_type": "code",
   "execution_count": null,
   "metadata": {
    "collapsed": false,
    "jupyter": {
     "outputs_hidden": false
    }
   },
   "outputs": [],
   "source": []
  },
  {
   "cell_type": "code",
   "execution_count": 68,
   "metadata": {
    "collapsed": false,
    "jupyter": {
     "outputs_hidden": false
    }
   },
   "outputs": [],
   "source": [
    "import pycurl\n",
    "import json\n",
    "from io import StringIO\n",
    "\n",
    "url = 'https://leetcode.com/graphql/'\n",
    "# headers = ['Content-Type: application/json']\n",
    "data = {\n",
    "    \"variables\": {\n",
    "        \"categorySlug\": \"algorithms\",\n",
    "        \"filters\": {},\n",
    "        \"limit\": 50,\n",
    "        \"skip\": 0\n",
    "    }\n",
    "}\n",
    "c = pycurl.Curl()\n",
    "c.setopt(c.URL, url)\n",
    "c.setopt(c.HTTPHEADER, headers)\n",
    "c.setopt(c.POST, 1)\n",
    "c.setopt(c.POSTFIELDS, json.dumps(data))"
   ]
  },
  {
   "cell_type": "code",
   "execution_count": 71,
   "metadata": {
    "collapsed": false,
    "jupyter": {
     "outputs_hidden": false
    }
   },
   "outputs": [
    {
     "data": {
      "text/plain": [
       "b'<html>\\r\\n<head><title>400 Bad Request</title></head>\\r\\n<body>\\r\\n<center><h1>400 Bad Request</h1></center>\\r\\n<hr><center>cloudflare</center>\\r\\n</body>\\r\\n</html>\\r\\n'"
      ]
     },
     "execution_count": 71,
     "metadata": {},
     "output_type": "execute_result"
    }
   ],
   "source": [
    "c.perform_rb()"
   ]
  },
  {
   "cell_type": "code",
   "execution_count": null,
   "metadata": {
    "collapsed": false,
    "jupyter": {
     "outputs_hidden": false
    }
   },
   "outputs": [],
   "source": []
  }
 ],
 "metadata": {
  "kernelspec": {
   "display_name": "Python 3 (ipykernel)",
   "language": "python",
   "name": "python3"
  },
  "language_info": {
   "codemirror_mode": {
    "name": "ipython",
    "version": 3
   },
   "file_extension": ".py",
   "mimetype": "text/x-python",
   "name": "python",
   "nbconvert_exporter": "python",
   "pygments_lexer": "ipython3",
   "version": "3.8.16"
  },
  "widgets": {
   "application/vnd.jupyter.widget-state+json": {
    "state": {},
    "version_major": 2,
    "version_minor": 0
   }
  }
 },
 "nbformat": 4,
 "nbformat_minor": 4
}
