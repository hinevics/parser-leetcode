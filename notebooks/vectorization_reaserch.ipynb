{
 "cells": [
  {
   "cell_type": "code",
   "execution_count": 48,
   "id": "25744168-7f0e-4d20-b47f-ab27807c8985",
   "metadata": {
    "tags": []
   },
   "outputs": [],
   "source": [
    "import pandas as pd\n",
    "from gensim.models.doc2vec import Doc2Vec, TaggedDocument\n",
    "import re"
   ]
  },
  {
   "cell_type": "code",
   "execution_count": 49,
   "id": "357b2736-d73f-42cd-a957-f1d26882ca93",
   "metadata": {
    "tags": []
   },
   "outputs": [
    {
     "name": "stdout",
     "output_type": "stream",
     "text": [
      "(20620, 9)\n"
     ]
    }
   ],
   "source": [
    "data = pd.read_csv(r'/home/khinevich/myproject/projects/parsers/leetcode/parser-leetcode/data/sols/two-sum.csv')\n",
    "print(data.shape)"
   ]
  },
  {
   "cell_type": "code",
   "execution_count": 50,
   "id": "701cdd50-eb77-4496-9a81-c6749b95e18b",
   "metadata": {
    "tags": []
   },
   "outputs": [
    {
     "data": {
      "text/html": [
       "<div>\n",
       "<style scoped>\n",
       "    .dataframe tbody tr th:only-of-type {\n",
       "        vertical-align: middle;\n",
       "    }\n",
       "\n",
       "    .dataframe tbody tr th {\n",
       "        vertical-align: top;\n",
       "    }\n",
       "\n",
       "    .dataframe thead th {\n",
       "        text-align: right;\n",
       "    }\n",
       "</style>\n",
       "<table border=\"1\" class=\"dataframe\">\n",
       "  <thead>\n",
       "    <tr style=\"text-align: right;\">\n",
       "      <th></th>\n",
       "      <th>Unnamed: 0</th>\n",
       "      <th>id_sol</th>\n",
       "      <th>title_sol</th>\n",
       "      <th>commentCount</th>\n",
       "      <th>topLevelCommentCount</th>\n",
       "      <th>viewCount</th>\n",
       "      <th>solutionTags</th>\n",
       "      <th>post_id</th>\n",
       "      <th>post_content</th>\n",
       "    </tr>\n",
       "  </thead>\n",
       "  <tbody>\n",
       "    <tr>\n",
       "      <th>0</th>\n",
       "      <td>0</td>\n",
       "      <td>3619262</td>\n",
       "      <td>✅3 Method's || C++ || JAVA || PYTHON || Beginn...</td>\n",
       "      <td>22</td>\n",
       "      <td>12</td>\n",
       "      <td>63828</td>\n",
       "      <td>['C++', 'Java', 'Python3', 'Array', 'Hash Table']</td>\n",
       "      <td>5545248</td>\n",
       "      <td># Intuition\\n&lt;!-- Describe your first thoughts...</td>\n",
       "    </tr>\n",
       "    <tr>\n",
       "      <th>1</th>\n",
       "      <td>1</td>\n",
       "      <td>2990807</td>\n",
       "      <td>Solution  - C++/Java/Python  (Both Brute force...</td>\n",
       "      <td>111</td>\n",
       "      <td>67</td>\n",
       "      <td>314306</td>\n",
       "      <td>['C++', 'Java', 'Python', 'Hash Table', 'Two P...</td>\n",
       "      <td>4733461</td>\n",
       "      <td># Beginner doubt - Where is main function?\\n- ...</td>\n",
       "    </tr>\n",
       "    <tr>\n",
       "      <th>2</th>\n",
       "      <td>2</td>\n",
       "      <td>3675059</td>\n",
       "      <td>(VIDEO) Step-by-Step Visualization Using a Has...</td>\n",
       "      <td>0</td>\n",
       "      <td>0</td>\n",
       "      <td>607</td>\n",
       "      <td>['Python', 'Python3', 'Array', 'Hash Table']</td>\n",
       "      <td>5619788</td>\n",
       "      <td>https://www.youtube.com/watch?v=luicuNOBTAI\\n\\...</td>\n",
       "    </tr>\n",
       "    <tr>\n",
       "      <th>3</th>\n",
       "      <td>3</td>\n",
       "      <td>3662568</td>\n",
       "      <td>Python🔥Java🔥 C++🔥Simple Solution🔥Video Solution</td>\n",
       "      <td>0</td>\n",
       "      <td>0</td>\n",
       "      <td>6092</td>\n",
       "      <td>['C++', 'Java', 'Python3', 'Hash Table']</td>\n",
       "      <td>5603349</td>\n",
       "      <td># Please UPVOTE \\uD83D\\uDC4D\\n# !! BIG ANNOUNC...</td>\n",
       "    </tr>\n",
       "    <tr>\n",
       "      <th>4</th>\n",
       "      <td>4</td>\n",
       "      <td>3543160</td>\n",
       "      <td>Python🔥Java🔥 C++🔥|| Simple Solution</td>\n",
       "      <td>15</td>\n",
       "      <td>12</td>\n",
       "      <td>81557</td>\n",
       "      <td>['C++', 'Java', 'Python3', 'Array', 'Hash Table']</td>\n",
       "      <td>5445878</td>\n",
       "      <td># Please UPVOTE \\uD83D\\uDC4D\\n\\n# **!! BIG ANN...</td>\n",
       "    </tr>\n",
       "  </tbody>\n",
       "</table>\n",
       "</div>"
      ],
      "text/plain": [
       "   Unnamed: 0   id_sol                                          title_sol  \\\n",
       "0           0  3619262  ✅3 Method's || C++ || JAVA || PYTHON || Beginn...   \n",
       "1           1  2990807  Solution  - C++/Java/Python  (Both Brute force...   \n",
       "2           2  3675059  (VIDEO) Step-by-Step Visualization Using a Has...   \n",
       "3           3  3662568    Python🔥Java🔥 C++🔥Simple Solution🔥Video Solution   \n",
       "4           4  3543160                Python🔥Java🔥 C++🔥|| Simple Solution   \n",
       "\n",
       "   commentCount  topLevelCommentCount  viewCount  \\\n",
       "0            22                    12      63828   \n",
       "1           111                    67     314306   \n",
       "2             0                     0        607   \n",
       "3             0                     0       6092   \n",
       "4            15                    12      81557   \n",
       "\n",
       "                                        solutionTags  post_id  \\\n",
       "0  ['C++', 'Java', 'Python3', 'Array', 'Hash Table']  5545248   \n",
       "1  ['C++', 'Java', 'Python', 'Hash Table', 'Two P...  4733461   \n",
       "2       ['Python', 'Python3', 'Array', 'Hash Table']  5619788   \n",
       "3           ['C++', 'Java', 'Python3', 'Hash Table']  5603349   \n",
       "4  ['C++', 'Java', 'Python3', 'Array', 'Hash Table']  5445878   \n",
       "\n",
       "                                        post_content  \n",
       "0  # Intuition\\n<!-- Describe your first thoughts...  \n",
       "1  # Beginner doubt - Where is main function?\\n- ...  \n",
       "2  https://www.youtube.com/watch?v=luicuNOBTAI\\n\\...  \n",
       "3  # Please UPVOTE \\uD83D\\uDC4D\\n# !! BIG ANNOUNC...  \n",
       "4  # Please UPVOTE \\uD83D\\uDC4D\\n\\n# **!! BIG ANN...  "
      ]
     },
     "execution_count": 50,
     "metadata": {},
     "output_type": "execute_result"
    }
   ],
   "source": [
    "data.head()"
   ]
  },
  {
   "cell_type": "code",
   "execution_count": 52,
   "id": "75860afa-9aac-48b9-be32-6d582646aefd",
   "metadata": {
    "tags": []
   },
   "outputs": [],
   "source": [
    "data = data[['post_content']]"
   ]
  },
  {
   "cell_type": "code",
   "execution_count": 53,
   "id": "de6bb2e2-0e8a-4779-8f13-5dfa28976703",
   "metadata": {
    "tags": []
   },
   "outputs": [
    {
     "data": {
      "text/html": [
       "<div>\n",
       "<style scoped>\n",
       "    .dataframe tbody tr th:only-of-type {\n",
       "        vertical-align: middle;\n",
       "    }\n",
       "\n",
       "    .dataframe tbody tr th {\n",
       "        vertical-align: top;\n",
       "    }\n",
       "\n",
       "    .dataframe thead th {\n",
       "        text-align: right;\n",
       "    }\n",
       "</style>\n",
       "<table border=\"1\" class=\"dataframe\">\n",
       "  <thead>\n",
       "    <tr style=\"text-align: right;\">\n",
       "      <th></th>\n",
       "      <th>post_content</th>\n",
       "    </tr>\n",
       "  </thead>\n",
       "  <tbody>\n",
       "    <tr>\n",
       "      <th>0</th>\n",
       "      <td># Intuition\\n&lt;!-- Describe your first thoughts...</td>\n",
       "    </tr>\n",
       "    <tr>\n",
       "      <th>1</th>\n",
       "      <td># Beginner doubt - Where is main function?\\n- ...</td>\n",
       "    </tr>\n",
       "    <tr>\n",
       "      <th>2</th>\n",
       "      <td>https://www.youtube.com/watch?v=luicuNOBTAI\\n\\...</td>\n",
       "    </tr>\n",
       "    <tr>\n",
       "      <th>3</th>\n",
       "      <td># Please UPVOTE \\uD83D\\uDC4D\\n# !! BIG ANNOUNC...</td>\n",
       "    </tr>\n",
       "    <tr>\n",
       "      <th>4</th>\n",
       "      <td># Please UPVOTE \\uD83D\\uDC4D\\n\\n# **!! BIG ANN...</td>\n",
       "    </tr>\n",
       "  </tbody>\n",
       "</table>\n",
       "</div>"
      ],
      "text/plain": [
       "                                        post_content\n",
       "0  # Intuition\\n<!-- Describe your first thoughts...\n",
       "1  # Beginner doubt - Where is main function?\\n- ...\n",
       "2  https://www.youtube.com/watch?v=luicuNOBTAI\\n\\...\n",
       "3  # Please UPVOTE \\uD83D\\uDC4D\\n# !! BIG ANNOUNC...\n",
       "4  # Please UPVOTE \\uD83D\\uDC4D\\n\\n# **!! BIG ANN..."
      ]
     },
     "execution_count": 53,
     "metadata": {},
     "output_type": "execute_result"
    }
   ],
   "source": [
    "data.head() "
   ]
  },
  {
   "cell_type": "markdown",
   "id": "db952170-4499-445a-aafa-b564115eb7fd",
   "metadata": {
    "tags": []
   },
   "source": [
    "# Обработка данных"
   ]
  },
  {
   "cell_type": "markdown",
   "id": "06fb062f-15ba-482c-b0d4-3816bf262f1f",
   "metadata": {},
   "source": [
    "⭕ - надо выделить решения на разных зыках<br>\n",
    "⭕ - каждое решение использовать как отдельный объект<br>\n",
    "⭕ - почистить от лишнего: не нужные пробелы, точки, запятые и тд"
   ]
  },
  {
   "cell_type": "code",
   "execution_count": 54,
   "id": "3ae3fb3f-e306-40f4-96c2-95a2b9349325",
   "metadata": {
    "tags": []
   },
   "outputs": [
    {
     "data": {
      "text/plain": [
       "'# Intuition\\\\n<!-- Describe your first thoughts on how to solve this problem. -->\\\\nThe Two Sum problem asks us to find two numbers in an array that sum up to a given target value. We need to return the indices of these two numbers.\\\\n# Approach\\\\n<!-- Describe your approach to solving the problem. -->\\\\n1. One brute force approach is to consider every pair of elements and check if their sum equals the target. This can be done using nested loops, where the outer loop iterates from the first element to the second-to-last element, and the inner loop iterates from the next element to the last element. However, this approach has a time complexity of O(n^2).\\\\n2. A more efficient approach is to use a hash table (unordered_map in C++). We can iterate through the array once, and for each element, check if the target minus the current element exists in the hash table. If it does, we have found a valid pair of numbers. If not, we add the current element to the hash table.\\\\n\\\\n**Approach using a hash table:**\\\\n1. Create an empty hash table to store elements and their indices.\\\\n2. Iterate through the array from left to right.\\\\n3. For each element nums[i], calculate the complement by subtracting it from the target: complement = target - nums[i].\\\\n4. Check if the complement exists in the hash table. If it does, we have found a solution.\\\\n5. If the complement does not exist in the hash table, add the current element nums[i] to the hash table with its index as the value.\\\\n6. Repeat steps 3-5 until we find a solution or reach the end of the array.\\\\n7. If no solution is found, return an empty array or an appropriate indicator.\\\\n\\\\nThis approach has a time complexity of O(n) since hash table lookups take constant time on average. It allows us to solve the Two Sum problem efficiently by making just one pass through the array.\\\\n\\\\n# Code\\\\n# Solution 1: (Brute Force)\\\\n```C++ []\\\\nclass Solution {\\\\npublic:\\\\n    vector<int> twoSum(vector<int>& nums, int target) {\\\\n        int n = nums.size();\\\\n        for (int i = 0; i < n - 1; i++) {\\\\n            for (int j = i + 1; j < n; j++) {\\\\n                if (nums[i] + nums[j] == target) {\\\\n                    return {i, j};\\\\n                }\\\\n            }\\\\n        }\\\\n        return {}; // No solution found\\\\n    }\\\\n};\\\\n\\\\n```\\\\n```Java []\\\\nclass Solution {\\\\n    public int[] twoSum(int[] nums, int target) {\\\\n        int n = nums.length;\\\\n        for (int i = 0; i < n - 1; i++) {\\\\n            for (int j = i + 1; j < n; j++) {\\\\n                if (nums[i] + nums[j] == target) {\\\\n                    return new int[]{i, j};\\\\n                }\\\\n            }\\\\n        }\\\\n        return new int[]{}; // No solution found\\\\n    }\\\\n}\\\\n\\\\n```\\\\n```Python3 []\\\\nclass Solution:\\\\n    def twoSum(self, nums: List[int], target: int) -> List[int]:\\\\n        n = len(nums)\\\\n        for i in range(n - 1):\\\\n            for j in range(i + 1, n):\\\\n                if nums[i] + nums[j] == target:\\\\n                    return [i, j]\\\\n        return []  # No solution found\\\\n\\\\n```\\\\n\\\\n# Solution 2: (Two-pass Hash Table)\\\\n```C++ []\\\\nclass Solution {\\\\npublic:\\\\n    vector<int> twoSum(vector<int>& nums, int target) {\\\\n        unordered_map<int, int> numMap;\\\\n        int n = nums.size();\\\\n\\\\n        // Build the hash table\\\\n        for (int i = 0; i < n; i++) {\\\\n            numMap[nums[i]] = i;\\\\n        }\\\\n\\\\n        // Find the complement\\\\n        for (int i = 0; i < n; i++) {\\\\n            int complement = target - nums[i];\\\\n            if (numMap.count(complement) && numMap[complement] != i) {\\\\n                return {i, numMap[complement]};\\\\n            }\\\\n        }\\\\n\\\\n        return {}; // No solution found\\\\n    }\\\\n};\\\\n\\\\n```\\\\n```Java []\\\\nclass Solution {\\\\n    public int[] twoSum(int[] nums, int target) {\\\\n        Map<Integer, Integer> numMap = new HashMap<>();\\\\n        int n = nums.length;\\\\n\\\\n        // Build the hash table\\\\n        for (int i = 0; i < n; i++) {\\\\n            numMap.put(nums[i], i);\\\\n        }\\\\n\\\\n        // Find the complement\\\\n        for (int i = 0; i < n; i++) {\\\\n            int complement = target - nums[i];\\\\n            if (numMap.containsKey(complement) && numMap.get(complement) != i) {\\\\n                return new int[]{i, numMap.get(complement)};\\\\n            }\\\\n        }\\\\n\\\\n        return new int[]{}; // No solution found\\\\n    }\\\\n}\\\\n\\\\n```\\\\n```Python3 []\\\\nclass Solution:\\\\n    def twoSum(self, nums: List[int], target: int) -> List[int]:\\\\n        numMap = {}\\\\n        n = len(nums)\\\\n\\\\n        # Build the hash table\\\\n        for i in range(n):\\\\n            numMap[nums[i]] = i\\\\n\\\\n        # Find the complement\\\\n        for i in range(n):\\\\n            complement = target - nums[i]\\\\n            if complement in numMap and numMap[complement] != i:\\\\n                return [i, numMap[complement]]\\\\n\\\\n        return []  # No solution found\\\\n\\\\n```\\\\n# Solution 3: (One-pass Hash Table)\\\\n```C++ []\\\\nclass Solution {\\\\npublic:\\\\n    vector<int> twoSum(vector<int>& nums, int target) {\\\\n        unordered_map<int, int> numMap;\\\\n        int n = nums.size();\\\\n\\\\n        for (int i = 0; i < n; i++) {\\\\n            int complement = target - nums[i];\\\\n            if (numMap.count(complement)) {\\\\n                return {numMap[complement], i};\\\\n            }\\\\n            numMap[nums[i]] = i;\\\\n        }\\\\n\\\\n        return {}; // No solution found\\\\n    }\\\\n};\\\\n\\\\n```\\\\n```Java []\\\\nclass Solution {\\\\n    public int[] twoSum(int[] nums, int target) {\\\\n        Map<Integer, Integer> numMap = new HashMap<>();\\\\n        int n = nums.length;\\\\n\\\\n        for (int i = 0; i < n; i++) {\\\\n            int complement = target - nums[i];\\\\n            if (numMap.containsKey(complement)) {\\\\n                return new int[]{numMap.get(complement), i};\\\\n            }\\\\n            numMap.put(nums[i], i);\\\\n        }\\\\n\\\\n        return new int[]{}; // No solution found\\\\n    }\\\\n}\\\\n\\\\n```\\\\n```Python3 []\\\\nclass Solution:\\\\n    def twoSum(self, nums: List[int], target: int) -> List[int]:\\\\n        numMap = {}\\\\n        n = len(nums)\\\\n\\\\n        for i in range(n):\\\\n            complement = target - nums[i]\\\\n            if complement in numMap:\\\\n                return [numMap[complement], i]\\\\n            numMap[nums[i]] = i\\\\n\\\\n        return []  # No solution found\\\\n\\\\n```\\\\n![CUTE_CAT.png](https://assets.leetcode.com/users/images/9c6f9412-c860-47d6-9a2e-7fcf37ff3321_1686334926.180891.png)\\\\n\\\\n**If you are a beginner solve these problems which makes concepts clear for future coding:**\\\\n1. [Two Sum](https://leetcode.com/problems/two-sum/solutions/3619262/3-method-s-c-java-python-beginner-friendly/)\\\\n2. [Roman to Integer](https://leetcode.com/problems/roman-to-integer/solutions/3651672/best-method-c-java-python-beginner-friendly/)\\\\n3. [Palindrome Number](https://leetcode.com/problems/palindrome-number/solutions/3651712/2-method-s-c-java-python-beginner-friendly/)\\\\n4. [Maximum Subarray](https://leetcode.com/problems/maximum-subarray/solutions/3666304/beats-100-c-java-python-beginner-friendly/)\\\\n5. [Remove Element](https://leetcode.com/problems/remove-element/solutions/3670940/best-100-c-java-python-beginner-friendly/)\\\\n6. [Contains Duplicate](https://leetcode.com/problems/contains-duplicate/solutions/3672475/4-method-s-c-java-python-beginner-friendly/)\\\\n7. [Add Two Numbers](https://leetcode.com/problems/add-two-numbers/solutions/3675747/beats-100-c-java-python-beginner-friendly/)\\\\n8. [Majority Element](https://leetcode.com/problems/majority-element/solutions/3676530/3-methods-beats-100-c-java-python-beginner-friendly/)\\\\n9. [Remove Duplicates from Sorted Array](https://leetcode.com/problems/remove-duplicates-from-sorted-array/solutions/3676877/best-method-100-c-java-python-beginner-friendly/)\\\\n10. **Practice them in a row for better understanding and please Upvote for more questions.**\\\\n\\\\n**If you found my solution helpful, I would greatly appreciate your upvote, as it would motivate me to continue sharing more solutions.**\\\\n'"
      ]
     },
     "execution_count": 54,
     "metadata": {},
     "output_type": "execute_result"
    }
   ],
   "source": [
    "text = data.iloc[0].post_content\n",
    "text"
   ]
  },
  {
   "cell_type": "markdown",
   "id": "6523e663-ae3c-4c71-95d6-463b92b4a114",
   "metadata": {},
   "source": [
    "Нужно установить паттерны для написания решулярного выражения.\n",
    "\n",
    "паттерн старта решения задачи \\```C++ [] и паттерн конца решения \\```\\\\\\n```"
   ]
  },
  {
   "cell_type": "code",
   "execution_count": 57,
   "id": "782376d7-e061-4509-9cc2-5cbd2da0f74f",
   "metadata": {
    "tags": []
   },
   "outputs": [
    {
     "data": {
      "text/plain": [
       "9"
      ]
     },
     "execution_count": 57,
     "metadata": {},
     "output_type": "execute_result"
    }
   ],
   "source": [
    "reg_pattern = r'\\`\\`\\`.+? \\[\\]\\\\n.+?\\`\\`\\`\\\\n'\n",
    "\n",
    "find = re.findall(string=text, pattern=reg_pattern)\n",
    "len(find)"
   ]
  },
  {
   "cell_type": "code",
   "execution_count": null,
   "id": "ea851384-1585-4c56-8f7c-e0e19a6e26b0",
   "metadata": {},
   "outputs": [],
   "source": []
  },
  {
   "cell_type": "code",
   "execution_count": null,
   "id": "1e064701-237b-49d6-96e4-8c7cc6ce50a6",
   "metadata": {},
   "outputs": [],
   "source": []
  },
  {
   "cell_type": "code",
   "execution_count": null,
   "id": "cdab3c7e-3fad-4c19-bcbd-e0bb0e5a1f1a",
   "metadata": {},
   "outputs": [],
   "source": []
  },
  {
   "cell_type": "markdown",
   "id": "e0f94bb5-3b24-48fa-8da5-2cc994aa2e82",
   "metadata": {
    "tags": []
   },
   "source": [
    "---"
   ]
  },
  {
   "cell_type": "code",
   "execution_count": 4,
   "id": "74fbc842-326e-42cc-b64f-8e8c0a4eaa78",
   "metadata": {
    "tags": []
   },
   "outputs": [],
   "source": [
    "def clean_code(str_code: str, code_pattern: str = None):\n",
    "    str_code = re.sub(pattern=f'{code_pattern}', repl='', string=str_code) if code_pattern else str_code\n",
    "    str_code = re.sub(pattern=r'\\\\n', string=str_code, repl=' ')\n",
    "    str_code = re.sub(pattern=r'\\s+', string=str_code, repl=' ')\n",
    "    return str_code\n",
    "\n",
    "for i in range(data.shape[0]):\n",
    "    post_content = data.iloc[i, data.columns.get_loc('post_content')]\n",
    "    for t in tags:\n",
    "        codes = None\n",
    "        code_feature_name = f'code_{t}'\n",
    "        if code_feature_name not in data.columns:\n",
    "            data[code_feature_name] = None\n",
    "        if t in data.iloc[i, data.columns.get_loc('solutionTags')]:\n",
    "            code_pattern = re.escape(t)\n",
    "            code_pattern = 'Python' if code_pattern == r'Python3' else code_pattern\n",
    "            codes = re.findall(\n",
    "                pattern=r'```{code_pattern}.*?\\\\n\\\\n```'.format(code_pattern=code_pattern),\n",
    "                string=post_content\n",
    "            )\n",
    "            if codes:\n",
    "                codes = ' '.join(codes)\n",
    "                codes = clean_code(codes, code_pattern=code_pattern)\n",
    "            else:\n",
    "                codes = re.findall(pattern=r'\\# Code.*', string=post_content)\n",
    "                codes = ' '.join(codes)\n",
    "                codes = clean_code(codes)\n",
    "            data.iloc[i, data.columns.get_loc(code_feature_name)] = codes\n",
    "            codes = None"
   ]
  },
  {
   "cell_type": "code",
   "execution_count": 5,
   "id": "91fad470-c917-4977-bd96-0bf7a9b6f80f",
   "metadata": {
    "tags": []
   },
   "outputs": [
    {
     "data": {
      "text/plain": [
       "'# Intuition\\\\n<!-- Describe your first thoughts on how to solve this problem. -->\\\\nThe Two Sum problem asks us to find two numbers in an array that sum up to a given target value. We need to return the indices of these two numbers.\\\\n# Approach\\\\n<!-- Describe your approach to solving the problem. -->\\\\n1. One brute force approach is to consider every pair of elements and check if their sum equals the target. This can be done using nested loops, where the outer loop iterates from the first element to the second-to-last element, and the inner loop iterates from the next element to the last element. However, this approach has a time complexity of O(n^2).\\\\n2. A more efficient approach is to use a hash table (unordered_map in C++). We can iterate through the array once, and for each element, check if the target minus the current element exists in the hash table. If it does, we have found a valid pair of numbers. If not, we add the current element to the hash table.\\\\n\\\\n**Approach using a hash table:**\\\\n1. Create an empty hash table to store elements and their indices.\\\\n2. Iterate through the array from left to right.\\\\n3. For each element nums[i], calculate the complement by subtracting it from the target: complement = target - nums[i].\\\\n4. Check if the complement exists in the hash table. If it does, we have found a solution.\\\\n5. If the complement does not exist in the hash table, add the current element nums[i] to the hash table with its index as the value.\\\\n6. Repeat steps 3-5 until we find a solution or reach the end of the array.\\\\n7. If no solution is found, return an empty array or an appropriate indicator.\\\\n\\\\nThis approach has a time complexity of O(n) since hash table lookups take constant time on average. It allows us to solve the Two Sum problem efficiently by making just one pass through the array.\\\\n\\\\n# Code\\\\n# Solution 1: (Brute Force)\\\\n```C++ []\\\\nclass Solution {\\\\npublic:\\\\n    vector<int> twoSum(vector<int>& nums, int target) {\\\\n        int n = nums.size();\\\\n        for (int i = 0; i < n - 1; i++) {\\\\n            for (int j = i + 1; j < n; j++) {\\\\n                if (nums[i] + nums[j] == target) {\\\\n                    return {i, j};\\\\n                }\\\\n            }\\\\n        }\\\\n        return {}; // No solution found\\\\n    }\\\\n};\\\\n\\\\n```\\\\n```Java []\\\\nclass Solution {\\\\n    public int[] twoSum(int[] nums, int target) {\\\\n        int n = nums.length;\\\\n        for (int i = 0; i < n - 1; i++) {\\\\n            for (int j = i + 1; j < n; j++) {\\\\n                if (nums[i] + nums[j] == target) {\\\\n                    return new int[]{i, j};\\\\n                }\\\\n            }\\\\n        }\\\\n        return new int[]{}; // No solution found\\\\n    }\\\\n}\\\\n\\\\n```\\\\n```Python3 []\\\\nclass Solution:\\\\n    def twoSum(self, nums: List[int], target: int) -> List[int]:\\\\n        n = len(nums)\\\\n        for i in range(n - 1):\\\\n            for j in range(i + 1, n):\\\\n                if nums[i] + nums[j] == target:\\\\n                    return [i, j]\\\\n        return []  # No solution found\\\\n\\\\n```\\\\n\\\\n# Solution 2: (Two-pass Hash Table)\\\\n```C++ []\\\\nclass Solution {\\\\npublic:\\\\n    vector<int> twoSum(vector<int>& nums, int target) {\\\\n        unordered_map<int, int> numMap;\\\\n        int n = nums.size();\\\\n\\\\n        // Build the hash table\\\\n        for (int i = 0; i < n; i++) {\\\\n            numMap[nums[i]] = i;\\\\n        }\\\\n\\\\n        // Find the complement\\\\n        for (int i = 0; i < n; i++) {\\\\n            int complement = target - nums[i];\\\\n            if (numMap.count(complement) && numMap[complement] != i) {\\\\n                return {i, numMap[complement]};\\\\n            }\\\\n        }\\\\n\\\\n        return {}; // No solution found\\\\n    }\\\\n};\\\\n\\\\n```\\\\n```Java []\\\\nclass Solution {\\\\n    public int[] twoSum(int[] nums, int target) {\\\\n        Map<Integer, Integer> numMap = new HashMap<>();\\\\n        int n = nums.length;\\\\n\\\\n        // Build the hash table\\\\n        for (int i = 0; i < n; i++) {\\\\n            numMap.put(nums[i], i);\\\\n        }\\\\n\\\\n        // Find the complement\\\\n        for (int i = 0; i < n; i++) {\\\\n            int complement = target - nums[i];\\\\n            if (numMap.containsKey(complement) && numMap.get(complement) != i) {\\\\n                return new int[]{i, numMap.get(complement)};\\\\n            }\\\\n        }\\\\n\\\\n        return new int[]{}; // No solution found\\\\n    }\\\\n}\\\\n\\\\n```\\\\n```Python3 []\\\\nclass Solution:\\\\n    def twoSum(self, nums: List[int], target: int) -> List[int]:\\\\n        numMap = {}\\\\n        n = len(nums)\\\\n\\\\n        # Build the hash table\\\\n        for i in range(n):\\\\n            numMap[nums[i]] = i\\\\n\\\\n        # Find the complement\\\\n        for i in range(n):\\\\n            complement = target - nums[i]\\\\n            if complement in numMap and numMap[complement] != i:\\\\n                return [i, numMap[complement]]\\\\n\\\\n        return []  # No solution found\\\\n\\\\n```\\\\n# Solution 3: (One-pass Hash Table)\\\\n```C++ []\\\\nclass Solution {\\\\npublic:\\\\n    vector<int> twoSum(vector<int>& nums, int target) {\\\\n        unordered_map<int, int> numMap;\\\\n        int n = nums.size();\\\\n\\\\n        for (int i = 0; i < n; i++) {\\\\n            int complement = target - nums[i];\\\\n            if (numMap.count(complement)) {\\\\n                return {numMap[complement], i};\\\\n            }\\\\n            numMap[nums[i]] = i;\\\\n        }\\\\n\\\\n        return {}; // No solution found\\\\n    }\\\\n};\\\\n\\\\n```\\\\n```Java []\\\\nclass Solution {\\\\n    public int[] twoSum(int[] nums, int target) {\\\\n        Map<Integer, Integer> numMap = new HashMap<>();\\\\n        int n = nums.length;\\\\n\\\\n        for (int i = 0; i < n; i++) {\\\\n            int complement = target - nums[i];\\\\n            if (numMap.containsKey(complement)) {\\\\n                return new int[]{numMap.get(complement), i};\\\\n            }\\\\n            numMap.put(nums[i], i);\\\\n        }\\\\n\\\\n        return new int[]{}; // No solution found\\\\n    }\\\\n}\\\\n\\\\n```\\\\n```Python3 []\\\\nclass Solution:\\\\n    def twoSum(self, nums: List[int], target: int) -> List[int]:\\\\n        numMap = {}\\\\n        n = len(nums)\\\\n\\\\n        for i in range(n):\\\\n            complement = target - nums[i]\\\\n            if complement in numMap:\\\\n                return [numMap[complement], i]\\\\n            numMap[nums[i]] = i\\\\n\\\\n        return []  # No solution found\\\\n\\\\n```\\\\n![CUTE_CAT.png](https://assets.leetcode.com/users/images/9c6f9412-c860-47d6-9a2e-7fcf37ff3321_1686334926.180891.png)\\\\n\\\\n**If you found my solution helpful, I would greatly appreciate your upvote, as it would motivate me to continue sharing more solutions.**\\\\n'"
      ]
     },
     "execution_count": 5,
     "metadata": {},
     "output_type": "execute_result"
    }
   ],
   "source": [
    "data.iloc[0].post_content"
   ]
  },
  {
   "cell_type": "code",
   "execution_count": 6,
   "id": "e50e9fa7-c320-4493-9765-8128f696966f",
   "metadata": {
    "tags": []
   },
   "outputs": [
    {
     "data": {
      "text/plain": [
       "'``` [] class Solution { public: vector<int> twoSum(vector<int>& nums, int target) { int n = nums.size(); for (int i = 0; i < n - 1; i++) { for (int j = i + 1; j < n; j++) { if (nums[i] + nums[j] == target) { return {i, j}; } } } return {}; // No solution found } }; ``` ``` [] class Solution { public: vector<int> twoSum(vector<int>& nums, int target) { unordered_map<int, int> numMap; int n = nums.size(); // Build the hash table for (int i = 0; i < n; i++) { numMap[nums[i]] = i; } // Find the complement for (int i = 0; i < n; i++) { int complement = target - nums[i]; if (numMap.count(complement) && numMap[complement] != i) { return {i, numMap[complement]}; } } return {}; // No solution found } }; ``` ``` [] class Solution { public: vector<int> twoSum(vector<int>& nums, int target) { unordered_map<int, int> numMap; int n = nums.size(); for (int i = 0; i < n; i++) { int complement = target - nums[i]; if (numMap.count(complement)) { return {numMap[complement], i}; } numMap[nums[i]] = i; } return {}; // No solution found } }; ```'"
      ]
     },
     "execution_count": 6,
     "metadata": {},
     "output_type": "execute_result"
    }
   ],
   "source": [
    "data.iloc[0, data.columns.get_loc('code_C++')]"
   ]
  },
  {
   "cell_type": "code",
   "execution_count": 7,
   "id": "c249cd5a-b92b-488d-be04-331c2c087ace",
   "metadata": {
    "tags": []
   },
   "outputs": [
    {
     "data": {
      "text/html": [
       "<div>\n",
       "<style scoped>\n",
       "    .dataframe tbody tr th:only-of-type {\n",
       "        vertical-align: middle;\n",
       "    }\n",
       "\n",
       "    .dataframe tbody tr th {\n",
       "        vertical-align: top;\n",
       "    }\n",
       "\n",
       "    .dataframe thead th {\n",
       "        text-align: right;\n",
       "    }\n",
       "</style>\n",
       "<table border=\"1\" class=\"dataframe\">\n",
       "  <thead>\n",
       "    <tr style=\"text-align: right;\">\n",
       "      <th></th>\n",
       "      <th>Unnamed: 0</th>\n",
       "      <th>id_sol</th>\n",
       "      <th>title_sol</th>\n",
       "      <th>commentCount</th>\n",
       "      <th>topLevelCommentCount</th>\n",
       "      <th>viewCount</th>\n",
       "      <th>solutionTags</th>\n",
       "      <th>post_id</th>\n",
       "      <th>post_content</th>\n",
       "      <th>code_Java</th>\n",
       "      <th>code_Hash Table</th>\n",
       "      <th>code_C++</th>\n",
       "      <th>code_Array</th>\n",
       "      <th>code_Python3</th>\n",
       "    </tr>\n",
       "  </thead>\n",
       "  <tbody>\n",
       "    <tr>\n",
       "      <th>0</th>\n",
       "      <td>0</td>\n",
       "      <td>3619262</td>\n",
       "      <td>✅3 Method's || C++ || JAVA || PYTHON || Beginn...</td>\n",
       "      <td>6</td>\n",
       "      <td>5</td>\n",
       "      <td>10688</td>\n",
       "      <td>[C++, Java, Python3, Array, Hash Table]</td>\n",
       "      <td>5545248</td>\n",
       "      <td># Intuition\\n&lt;!-- Describe your first thoughts...</td>\n",
       "      <td>``` [] class Solution { public int[] twoSum(in...</td>\n",
       "      <td># Code # Solution 1: (Brute Force) ```C++ [] c...</td>\n",
       "      <td>``` [] class Solution { public: vector&lt;int&gt; tw...</td>\n",
       "      <td># Code # Solution 1: (Brute Force) ```C++ [] c...</td>\n",
       "      <td>```3 [] class Solution: def twoSum(self, nums:...</td>\n",
       "    </tr>\n",
       "    <tr>\n",
       "      <th>1</th>\n",
       "      <td>1</td>\n",
       "      <td>3543160</td>\n",
       "      <td>Python🔥Java🔥 C++🔥|| Simple Solution</td>\n",
       "      <td>11</td>\n",
       "      <td>8</td>\n",
       "      <td>70162</td>\n",
       "      <td>[C++, Java, Python3, Array, Hash Table]</td>\n",
       "      <td>5445878</td>\n",
       "      <td># Please UPVOTE \\uD83D\\uDC4D\\n\\n# **!! BIG ANN...</td>\n",
       "      <td>``` [] class Solution { public int[] twoSum(in...</td>\n",
       "      <td></td>\n",
       "      <td>``` [] class Solution { public: vector&lt;int&gt; tw...</td>\n",
       "      <td></td>\n",
       "      <td>``` [] class Solution: def twoSum(self, nums: ...</td>\n",
       "    </tr>\n",
       "    <tr>\n",
       "      <th>2</th>\n",
       "      <td>2</td>\n",
       "      <td>2990807</td>\n",
       "      <td>Solution  - C++/Java/Python  (Both Brute force...</td>\n",
       "      <td>107</td>\n",
       "      <td>64</td>\n",
       "      <td>293922</td>\n",
       "      <td>[C++, Java, Python3, Array, Hash Table]</td>\n",
       "      <td>4733461</td>\n",
       "      <td># Beginner doubt - Where is main function?\\n- ...</td>\n",
       "      <td>``` [] class Solution { public int[] twoSum(in...</td>\n",
       "      <td></td>\n",
       "      <td>``` [] class Solution { public: vector&lt;int&gt; tw...</td>\n",
       "      <td></td>\n",
       "      <td>``` [] class Solution: def twoSum(self, nums: ...</td>\n",
       "    </tr>\n",
       "    <tr>\n",
       "      <th>3</th>\n",
       "      <td>3</td>\n",
       "      <td>3631188</td>\n",
       "      <td>(VIDEO) Visualization of O(n) Solution Using a...</td>\n",
       "      <td>0</td>\n",
       "      <td>0</td>\n",
       "      <td>153</td>\n",
       "      <td>[C++, Java, Python3, Array, Hash Table]</td>\n",
       "      <td>5561824</td>\n",
       "      <td>https://www.youtube.com/watch?v=luicuNOBTAI\\n\\...</td>\n",
       "      <td># Code ``` class Solution(object): def twoSum(...</td>\n",
       "      <td># Code ``` class Solution(object): def twoSum(...</td>\n",
       "      <td># Code ``` class Solution(object): def twoSum(...</td>\n",
       "      <td># Code ``` class Solution(object): def twoSum(...</td>\n",
       "      <td># Code ``` class Solution(object): def twoSum(...</td>\n",
       "    </tr>\n",
       "    <tr>\n",
       "      <th>4</th>\n",
       "      <td>4</td>\n",
       "      <td>3556832</td>\n",
       "      <td>Two sums || 3 easy methods in Python</td>\n",
       "      <td>4</td>\n",
       "      <td>2</td>\n",
       "      <td>24309</td>\n",
       "      <td>[C++, Java, Python3, Array, Hash Table]</td>\n",
       "      <td>5463583</td>\n",
       "      <td># Intuition\\nMethod 1: A brute-force solution ...</td>\n",
       "      <td># Code Method 1: ``` class Solution: def twoSu...</td>\n",
       "      <td># Code Method 1: ``` class Solution: def twoSu...</td>\n",
       "      <td># Code Method 1: ``` class Solution: def twoSu...</td>\n",
       "      <td># Code Method 1: ``` class Solution: def twoSu...</td>\n",
       "      <td># Code Method 1: ``` class Solution: def twoSu...</td>\n",
       "    </tr>\n",
       "    <tr>\n",
       "      <th>...</th>\n",
       "      <td>...</td>\n",
       "      <td>...</td>\n",
       "      <td>...</td>\n",
       "      <td>...</td>\n",
       "      <td>...</td>\n",
       "      <td>...</td>\n",
       "      <td>...</td>\n",
       "      <td>...</td>\n",
       "      <td>...</td>\n",
       "      <td>...</td>\n",
       "      <td>...</td>\n",
       "      <td>...</td>\n",
       "      <td>...</td>\n",
       "      <td>...</td>\n",
       "    </tr>\n",
       "    <tr>\n",
       "      <th>95</th>\n",
       "      <td>95</td>\n",
       "      <td>2744523</td>\n",
       "      <td>Easy python</td>\n",
       "      <td>0</td>\n",
       "      <td>0</td>\n",
       "      <td>501</td>\n",
       "      <td>[C++, Java, Python3, Array, Hash Table]</td>\n",
       "      <td>4406867</td>\n",
       "      <td>```\\nclass Solution:\\n    def twoSum(self, num...</td>\n",
       "      <td></td>\n",
       "      <td></td>\n",
       "      <td></td>\n",
       "      <td></td>\n",
       "      <td></td>\n",
       "    </tr>\n",
       "    <tr>\n",
       "      <th>96</th>\n",
       "      <td>96</td>\n",
       "      <td>2825280</td>\n",
       "      <td>Plate form independent code run anywhere 😉</td>\n",
       "      <td>1</td>\n",
       "      <td>1</td>\n",
       "      <td>109</td>\n",
       "      <td>[C++, Java, Python3, Array, Hash Table]</td>\n",
       "      <td>4516318</td>\n",
       "      <td>import java.util.Scanner;\\n    class Solution ...</td>\n",
       "      <td></td>\n",
       "      <td></td>\n",
       "      <td></td>\n",
       "      <td></td>\n",
       "      <td></td>\n",
       "    </tr>\n",
       "    <tr>\n",
       "      <th>97</th>\n",
       "      <td>97</td>\n",
       "      <td>13</td>\n",
       "      <td>Accepted C++ O(n) Solution</td>\n",
       "      <td>243</td>\n",
       "      <td>128</td>\n",
       "      <td>315249</td>\n",
       "      <td>[C++, Java, Python3, Array, Hash Table]</td>\n",
       "      <td>13</td>\n",
       "      <td>vector&lt;int&gt; twoSum(vector&lt;int&gt; &amp;numbers, i...</td>\n",
       "      <td></td>\n",
       "      <td></td>\n",
       "      <td></td>\n",
       "      <td></td>\n",
       "      <td></td>\n",
       "    </tr>\n",
       "    <tr>\n",
       "      <th>98</th>\n",
       "      <td>98</td>\n",
       "      <td>2750671</td>\n",
       "      <td>Python fast</td>\n",
       "      <td>0</td>\n",
       "      <td>0</td>\n",
       "      <td>534</td>\n",
       "      <td>[C++, Java, Python3, Array, Hash Table]</td>\n",
       "      <td>4415463</td>\n",
       "      <td>```\\nclass Solution:\\n    def twoSum(self, num...</td>\n",
       "      <td></td>\n",
       "      <td></td>\n",
       "      <td></td>\n",
       "      <td></td>\n",
       "      <td></td>\n",
       "    </tr>\n",
       "    <tr>\n",
       "      <th>99</th>\n",
       "      <td>99</td>\n",
       "      <td>3135941</td>\n",
       "      <td>Simple C++ solution( 3 Line Code)</td>\n",
       "      <td>0</td>\n",
       "      <td>0</td>\n",
       "      <td>48</td>\n",
       "      <td>[C++, Java, Python3, Array, Hash Table]</td>\n",
       "      <td>4925226</td>\n",
       "      <td># Intuition\\n&lt;!-- Describe your first thoughts...</td>\n",
       "      <td># Code ``` class Solution { public: vector&lt;int...</td>\n",
       "      <td># Code ``` class Solution { public: vector&lt;int...</td>\n",
       "      <td># Code ``` class Solution { public: vector&lt;int...</td>\n",
       "      <td># Code ``` class Solution { public: vector&lt;int...</td>\n",
       "      <td># Code ``` class Solution { public: vector&lt;int...</td>\n",
       "    </tr>\n",
       "  </tbody>\n",
       "</table>\n",
       "<p>100 rows × 14 columns</p>\n",
       "</div>"
      ],
      "text/plain": [
       "    Unnamed: 0   id_sol                                          title_sol  \\\n",
       "0            0  3619262  ✅3 Method's || C++ || JAVA || PYTHON || Beginn...   \n",
       "1            1  3543160                Python🔥Java🔥 C++🔥|| Simple Solution   \n",
       "2            2  2990807  Solution  - C++/Java/Python  (Both Brute force...   \n",
       "3            3  3631188  (VIDEO) Visualization of O(n) Solution Using a...   \n",
       "4            4  3556832               Two sums || 3 easy methods in Python   \n",
       "..         ...      ...                                                ...   \n",
       "95          95  2744523                                        Easy python   \n",
       "96          96  2825280         Plate form independent code run anywhere 😉   \n",
       "97          97       13                         Accepted C++ O(n) Solution   \n",
       "98          98  2750671                                        Python fast   \n",
       "99          99  3135941                  Simple C++ solution( 3 Line Code)   \n",
       "\n",
       "    commentCount  topLevelCommentCount  viewCount  \\\n",
       "0              6                     5      10688   \n",
       "1             11                     8      70162   \n",
       "2            107                    64     293922   \n",
       "3              0                     0        153   \n",
       "4              4                     2      24309   \n",
       "..           ...                   ...        ...   \n",
       "95             0                     0        501   \n",
       "96             1                     1        109   \n",
       "97           243                   128     315249   \n",
       "98             0                     0        534   \n",
       "99             0                     0         48   \n",
       "\n",
       "                               solutionTags  post_id  \\\n",
       "0   [C++, Java, Python3, Array, Hash Table]  5545248   \n",
       "1   [C++, Java, Python3, Array, Hash Table]  5445878   \n",
       "2   [C++, Java, Python3, Array, Hash Table]  4733461   \n",
       "3   [C++, Java, Python3, Array, Hash Table]  5561824   \n",
       "4   [C++, Java, Python3, Array, Hash Table]  5463583   \n",
       "..                                      ...      ...   \n",
       "95  [C++, Java, Python3, Array, Hash Table]  4406867   \n",
       "96  [C++, Java, Python3, Array, Hash Table]  4516318   \n",
       "97  [C++, Java, Python3, Array, Hash Table]       13   \n",
       "98  [C++, Java, Python3, Array, Hash Table]  4415463   \n",
       "99  [C++, Java, Python3, Array, Hash Table]  4925226   \n",
       "\n",
       "                                         post_content  \\\n",
       "0   # Intuition\\n<!-- Describe your first thoughts...   \n",
       "1   # Please UPVOTE \\uD83D\\uDC4D\\n\\n# **!! BIG ANN...   \n",
       "2   # Beginner doubt - Where is main function?\\n- ...   \n",
       "3   https://www.youtube.com/watch?v=luicuNOBTAI\\n\\...   \n",
       "4   # Intuition\\nMethod 1: A brute-force solution ...   \n",
       "..                                                ...   \n",
       "95  ```\\nclass Solution:\\n    def twoSum(self, num...   \n",
       "96  import java.util.Scanner;\\n    class Solution ...   \n",
       "97      vector<int> twoSum(vector<int> &numbers, i...   \n",
       "98  ```\\nclass Solution:\\n    def twoSum(self, num...   \n",
       "99  # Intuition\\n<!-- Describe your first thoughts...   \n",
       "\n",
       "                                            code_Java  \\\n",
       "0   ``` [] class Solution { public int[] twoSum(in...   \n",
       "1   ``` [] class Solution { public int[] twoSum(in...   \n",
       "2   ``` [] class Solution { public int[] twoSum(in...   \n",
       "3   # Code ``` class Solution(object): def twoSum(...   \n",
       "4   # Code Method 1: ``` class Solution: def twoSu...   \n",
       "..                                                ...   \n",
       "95                                                      \n",
       "96                                                      \n",
       "97                                                      \n",
       "98                                                      \n",
       "99  # Code ``` class Solution { public: vector<int...   \n",
       "\n",
       "                                      code_Hash Table  \\\n",
       "0   # Code # Solution 1: (Brute Force) ```C++ [] c...   \n",
       "1                                                       \n",
       "2                                                       \n",
       "3   # Code ``` class Solution(object): def twoSum(...   \n",
       "4   # Code Method 1: ``` class Solution: def twoSu...   \n",
       "..                                                ...   \n",
       "95                                                      \n",
       "96                                                      \n",
       "97                                                      \n",
       "98                                                      \n",
       "99  # Code ``` class Solution { public: vector<int...   \n",
       "\n",
       "                                             code_C++  \\\n",
       "0   ``` [] class Solution { public: vector<int> tw...   \n",
       "1   ``` [] class Solution { public: vector<int> tw...   \n",
       "2   ``` [] class Solution { public: vector<int> tw...   \n",
       "3   # Code ``` class Solution(object): def twoSum(...   \n",
       "4   # Code Method 1: ``` class Solution: def twoSu...   \n",
       "..                                                ...   \n",
       "95                                                      \n",
       "96                                                      \n",
       "97                                                      \n",
       "98                                                      \n",
       "99  # Code ``` class Solution { public: vector<int...   \n",
       "\n",
       "                                           code_Array  \\\n",
       "0   # Code # Solution 1: (Brute Force) ```C++ [] c...   \n",
       "1                                                       \n",
       "2                                                       \n",
       "3   # Code ``` class Solution(object): def twoSum(...   \n",
       "4   # Code Method 1: ``` class Solution: def twoSu...   \n",
       "..                                                ...   \n",
       "95                                                      \n",
       "96                                                      \n",
       "97                                                      \n",
       "98                                                      \n",
       "99  # Code ``` class Solution { public: vector<int...   \n",
       "\n",
       "                                         code_Python3  \n",
       "0   ```3 [] class Solution: def twoSum(self, nums:...  \n",
       "1   ``` [] class Solution: def twoSum(self, nums: ...  \n",
       "2   ``` [] class Solution: def twoSum(self, nums: ...  \n",
       "3   # Code ``` class Solution(object): def twoSum(...  \n",
       "4   # Code Method 1: ``` class Solution: def twoSu...  \n",
       "..                                                ...  \n",
       "95                                                     \n",
       "96                                                     \n",
       "97                                                     \n",
       "98                                                     \n",
       "99  # Code ``` class Solution { public: vector<int...  \n",
       "\n",
       "[100 rows x 14 columns]"
      ]
     },
     "execution_count": 7,
     "metadata": {},
     "output_type": "execute_result"
    }
   ],
   "source": [
    "data"
   ]
  },
  {
   "cell_type": "code",
   "execution_count": 13,
   "id": "91c81471-3243-4a94-b16c-e3c1ed87a035",
   "metadata": {
    "tags": []
   },
   "outputs": [],
   "source": [
    "a = re.findall(\n",
    "    pattern=r'```Python.*?\\\\n\\\\n```',\n",
    "    string=train_post_content[1]\n",
    ")"
   ]
  },
  {
   "cell_type": "code",
   "execution_count": 14,
   "id": "e5cd7fc5-3669-45b8-84b9-0f3034284383",
   "metadata": {
    "tags": []
   },
   "outputs": [
    {
     "data": {
      "text/plain": [
       "['```Python []\\\\nclass Solution:\\\\n    def twoSum(self, nums: List[int], target: int) -> List[int]:\\\\n        \\\\n        d = {}\\\\n        for i, j in enumerate(nums):\\\\n            r = target - j\\\\n            if r in d: return [d[r], i]\\\\n            d[j] = i\\\\n\\\\t\\\\t\\\\n\\\\t\\\\t# An Upvote will be encouraging\\\\n```\\\\n```Java []\\\\nclass Solution {\\\\n    public int[] twoSum(int[] nums, int target) {\\\\n        Map<Integer, Integer> map = new HashMap<>();\\\\n        for (int i = 0; i < nums.length; i++) {\\\\n            int complement = target - nums[i];\\\\n            if (map.containsKey(complement)) {\\\\n                return new int[] { map.get(complement), i };\\\\n            }\\\\n            map.put(nums[i], i);\\\\n        }\\\\n        return new int[] {-1, -1};\\\\n    }\\\\n}\\\\n\\\\n```']"
      ]
     },
     "execution_count": 14,
     "metadata": {},
     "output_type": "execute_result"
    }
   ],
   "source": [
    "a"
   ]
  },
  {
   "cell_type": "code",
   "execution_count": 185,
   "id": "d3c25e39-1392-4f66-8fbf-7b95d19b2538",
   "metadata": {
    "tags": []
   },
   "outputs": [
    {
     "data": {
      "text/plain": [
       "Index(['Unnamed: 0', 'id_sol', 'title_sol', 'commentCount',\n",
       "       'topLevelCommentCount', 'viewCount', 'solutionTags', 'post_id',\n",
       "       'post_content', 'code_Java', 'code_Python3', 'code_Hash Table',\n",
       "       'code_C++', 'code_Array'],\n",
       "      dtype='object')"
      ]
     },
     "execution_count": 185,
     "metadata": {},
     "output_type": "execute_result"
    }
   ],
   "source": [
    "data.columns"
   ]
  },
  {
   "cell_type": "code",
   "execution_count": 189,
   "id": "c12733df-56e6-4b83-acb7-df0113e030a5",
   "metadata": {
    "tags": []
   },
   "outputs": [
    {
     "data": {
      "text/plain": [
       "<Axes: xlabel='post_content', ylabel='viewCount'>"
      ]
     },
     "execution_count": 189,
     "metadata": {},
     "output_type": "execute_result"
    },
    {
     "data": {
      "image/png": "[encoded data removed]",
      "text/plain": [
       "<Figure size 640x480 with 1 Axes>"
      ]
     },
     "metadata": {},
     "output_type": "display_data"
    }
   ],
   "source": [
    "import seaborn as sns\n",
    "import matplotlib.pyplot as plt\n",
    "\n",
    "sns.scatterplot(x=data.post_content.map(len), y=data.viewCount)"
   ]
  },
  {
   "cell_type": "code",
   "execution_count": 85,
   "id": "7126fed3-5668-4bc3-bc82-4d076533a356",
   "metadata": {
    "tags": []
   },
   "outputs": [
    {
     "data": {
      "text/plain": [
       "\"# Please UPVOTE \\\\uD83D\\\\uDC4D\\\\n\\\\n# **!! BIG ANNOUNCEMENT !!**\\\\nI am currently Giving away my premium content well-structured assignments and study materials to clear interviews at top companies related to computer science and data science to my current Subscribers this week. This is Only for first 10,000 subscribers. **DON\\\\'T FORGET** to Subscribe\\\\n\\\\n**Click this link to Subscribe \\\\uD83D\\\\uDC49https://www.youtube.com/@techwired8/?sub_confirmation=1**\\\\n\\\\nLet\\\\'s connect!\\\\n\\\\nDiscord \\\\uD83D\\\\uDC49 https://discord.gg/gJDCyeGh6X\\\\nTwitter \\\\uD83D\\\\uDC49 https://twitter.com/TechWired8\\\\n\\\\nHappy Learning, Cheers Guys \\\\uD83D\\\\uDE0A\\\\n\\\\nhttps://youtu.be/oadssnyJA90\\\\n\\\\n# Recursion Explained (How to think recursively)\\\\n\\\\nhttps://youtu.be/KjpmuPDQWcU\\\\n\\\\n```Python []\\\\nclass Solution:\\\\n    def twoSum(self, nums: List[int], target: int) -> List[int]:\\\\n        \\\\n        d = {}\\\\n        for i, j in enumerate(nums):\\\\n            r = target - j\\\\n            if r in d: return [d[r], i]\\\\n            d[j] = i\\\\n\\\\t\\\\t\\\\n\\\\t\\\\t# An Upvote will be encouraging\\\\n```\\\\n```Java []\\\\nclass Solution {\\\\n    public int[] twoSum(int[] nums, int target) {\\\\n        Map<Integer, Integer> map = new HashMap<>();\\\\n        for (int i = 0; i < nums.length; i++) {\\\\n            int complement = target - nums[i];\\\\n            if (map.containsKey(complement)) {\\\\n                return new int[] { map.get(complement), i };\\\\n            }\\\\n            map.put(nums[i], i);\\\\n        }\\\\n        return new int[] {-1, -1};\\\\n    }\\\\n}\\\\n\\\\n```\\\\n```C++ []\\\\nclass Solution {\\\\npublic:\\\\n    vector<int> twoSum(vector<int>& nums, int target) {\\\\n        unordered_map<int, int> map;\\\\n        for (int i = 0; i < nums.size(); i++) {\\\\n            int complement = target - nums[i];\\\\n            if (map.find(complement) != map.end()) {\\\\n                return { map[complement], i };\\\\n            }\\\\n            map[nums[i]] = i;\\\\n        }\\\\n        return {-1, -1}; // or return {};\\\\n    }\\\\n};\\\\n\\\\n```\\\\n![image.png](https://assets.leetcode.com/users/images/e2515d84-99cf-4499-80fb-fe458e1bbae2_1678932606.8004954.png)\\\\n\\\\n# Please UPVOTE \\\\uD83D\\\\uDC4D\\\\n\""
      ]
     },
     "execution_count": 85,
     "metadata": {},
     "output_type": "execute_result"
    }
   ],
   "source": [
    "train_post_content[1]"
   ]
  },
  {
   "cell_type": "code",
   "execution_count": 15,
   "id": "991d22a6-1335-4bbf-999c-6fa396fca186",
   "metadata": {
    "tags": []
   },
   "outputs": [],
   "source": [
    "def func_(x):\n",
    "    f = re.findall(pattern=r'\\# Code.*', string=x)\n",
    "    if f:\n",
    "        return f[0]\n",
    "    return None\n",
    "data['code'] = data.post_content.map(lambda x: func_(x))"
   ]
  },
  {
   "cell_type": "code",
   "execution_count": 16,
   "id": "f67798ee-981a-40af-a7f4-3be8b405f5b2",
   "metadata": {
    "tags": []
   },
   "outputs": [
    {
     "data": {
      "text/plain": [
       "0     # Code\\n# Solution 1: (Brute Force)\\n```C++ []...\n",
       "1                                                  None\n",
       "2                                                  None\n",
       "3     # Code\\n```\\nclass Solution(object):\\n    def ...\n",
       "4     # Code\\n\\nMethod 1: \\n```\\nclass Solution:\\n  ...\n",
       "                            ...                        \n",
       "95                                                 None\n",
       "96                                                 None\n",
       "97                                                 None\n",
       "98                                                 None\n",
       "99    # Code\\n```\\nclass Solution {\\npublic: \\nvecto...\n",
       "Name: code, Length: 100, dtype: object"
      ]
     },
     "execution_count": 16,
     "metadata": {},
     "output_type": "execute_result"
    }
   ],
   "source": [
    "data.code"
   ]
  },
  {
   "cell_type": "code",
   "execution_count": 48,
   "id": "9c197ba0-2eeb-4776-9c9b-7c458f339151",
   "metadata": {},
   "outputs": [
    {
     "name": "stdout",
     "output_type": "stream",
     "text": [
      "C\\+\\+\n"
     ]
    }
   ],
   "source": [
    "code_pattern = re.escape(\"C++\")\n",
    "print(code_pattern)"
   ]
  },
  {
   "cell_type": "code",
   "execution_count": 5,
   "id": "0f1c2af0-6079-4ee3-b6a5-04f4819c8361",
   "metadata": {
    "tags": []
   },
   "outputs": [],
   "source": [
    "tagged_documents = [TaggedDocument(words=doc.split(), tags=[str(i)]) for i, doc in enumerate(train_post_content)]"
   ]
  },
  {
   "cell_type": "code",
   "execution_count": 6,
   "id": "3f2a89a5-6622-4f78-afb8-6c757de57707",
   "metadata": {
    "tags": []
   },
   "outputs": [],
   "source": [
    "model = Doc2Vec(vector_size=100, window=5, min_count=1, workers=4)\n"
   ]
  },
  {
   "cell_type": "code",
   "execution_count": 7,
   "id": "e33f198c-3494-4963-bbcd-dd0f89d30ab4",
   "metadata": {
    "tags": []
   },
   "outputs": [],
   "source": [
    "model.build_vocab(tagged_documents)\n"
   ]
  },
  {
   "cell_type": "code",
   "execution_count": 8,
   "id": "2457f7cb-09d1-44d5-b2d0-31189bd40ca6",
   "metadata": {
    "tags": []
   },
   "outputs": [],
   "source": [
    "model.train(tagged_documents, total_examples=model.corpus_count, epochs=10)\n"
   ]
  },
  {
   "cell_type": "code",
   "execution_count": 9,
   "id": "97572e14-68b2-4a9c-ba81-40b24f211294",
   "metadata": {
    "tags": []
   },
   "outputs": [
    {
     "data": {
      "text/plain": [
       "array([-0.11421704, -0.16869329, -0.1311085 ,  0.15842183,  0.18068574,\n",
       "       -0.19690864,  0.1021701 ,  0.06621964, -0.21260694,  0.04671054,\n",
       "       -0.08010245, -0.18820822, -0.06973926, -0.09175146, -0.01389901,\n",
       "       -0.0824846 ,  0.11496942,  0.08236564,  0.01394969, -0.3581964 ,\n",
       "        0.05241404,  0.02847877,  0.05041759,  0.12069198, -0.13403825,\n",
       "       -0.02659732, -0.3440858 , -0.08170893, -0.23534492, -0.10075954,\n",
       "        0.1919182 ,  0.1322539 ,  0.04781409, -0.13219114, -0.23202437,\n",
       "        0.22904919, -0.06868764, -0.28719455, -0.00110642, -0.0405323 ,\n",
       "        0.32086462, -0.07599926,  0.18296228, -0.16250142,  0.06526873,\n",
       "       -0.18563323, -0.1129214 , -0.19862333,  0.14850083, -0.14120717,\n",
       "        0.09275218, -0.25915498,  0.06408664, -0.2766487 , -0.17290099,\n",
       "        0.26926693, -0.1038768 ,  0.18881367, -0.05006739,  0.05138966,\n",
       "        0.2687577 ,  0.14255452,  0.06991699, -0.01668646, -0.08940148,\n",
       "        0.23047729,  0.14064282,  0.09148346, -0.12077975,  0.23763563,\n",
       "       -0.27516845,  0.04107355, -0.08881348, -0.22655776,  0.2557604 ,\n",
       "        0.21962465, -0.01828306, -0.02998208, -0.20248114, -0.06236755,\n",
       "       -0.12862243,  0.14508918, -0.44142506,  0.3746516 , -0.19981314,\n",
       "        0.1422065 ,  0.1532294 ,  0.03545701,  0.01928897, -0.10010661,\n",
       "        0.09158667,  0.05128865, -0.32610574, -0.11679354,  0.22652751,\n",
       "       -0.13144095,  0.05898919,  0.02347884,  0.18333948,  0.04454163],\n",
       "      dtype=float32)"
      ]
     },
     "execution_count": 9,
     "metadata": {},
     "output_type": "execute_result"
    }
   ],
   "source": [
    "vector1 = model.infer_vector(test_post_content[0].split())\n",
    "vector1"
   ]
  },
  {
   "cell_type": "code",
   "execution_count": 10,
   "id": "c4769a30-cac2-4c6b-acda-0cec54cbd104",
   "metadata": {
    "tags": []
   },
   "outputs": [
    {
     "data": {
      "text/plain": [
       "array([-0.21409146, -0.0509858 , -0.34905195, -0.04936141,  0.196039  ,\n",
       "       -0.475825  , -0.08481397,  0.11673631, -0.27869532, -0.01147345,\n",
       "       -0.0827759 , -0.28975585, -0.13983968,  0.11030883,  0.02813417,\n",
       "       -0.03313323, -0.07666406, -0.2530936 , -0.10642164, -0.6034243 ,\n",
       "       -0.07883269,  0.16284156, -0.08857939, -0.04661525,  0.1319328 ,\n",
       "       -0.03665722, -0.3311591 , -0.23390451, -0.43417728, -0.3811227 ,\n",
       "        0.3806645 ,  0.4422239 ,  0.12889618, -0.10807559, -0.13987887,\n",
       "        0.4645881 , -0.11416044, -0.56327367, -0.0966622 , -0.50399953,\n",
       "        0.16300802, -0.02103984, -0.18911156, -0.40957296,  0.22976911,\n",
       "       -0.12720843, -0.29287967,  0.13122396,  0.26576966, -0.02582296,\n",
       "       -0.05488893, -0.3473022 , -0.22670072, -0.20146726, -0.0020639 ,\n",
       "        0.41452807, -0.05908921,  0.13091555, -0.44378757,  0.1969516 ,\n",
       "        0.4970227 ,  0.28294095,  0.15259339,  0.0470716 , -0.02767155,\n",
       "        0.14855595,  0.2500686 ,  0.09999102, -0.2904565 ,  0.29600102,\n",
       "       -0.31241724,  0.09345186, -0.05286122,  0.08273169,  0.28875154,\n",
       "        0.1622689 ,  0.1074102 , -0.35569096, -0.11775022,  0.11752044,\n",
       "        0.14179258,  0.22295026, -0.6652717 ,  0.26419735, -0.10556235,\n",
       "       -0.12003475,  0.29545087,  0.05672989,  0.10472845,  0.2697651 ,\n",
       "        0.01660011,  0.5001147 , -0.15658976,  0.10529695,  0.22558378,\n",
       "        0.38506925, -0.10030204, -0.09211674,  0.38332662, -0.1550011 ],\n",
       "      dtype=float32)"
      ]
     },
     "execution_count": 10,
     "metadata": {},
     "output_type": "execute_result"
    }
   ],
   "source": [
    "vector2 = model.infer_vector(test_post_content[1].split())\n",
    "vector2"
   ]
  },
  {
   "cell_type": "code",
   "execution_count": 11,
   "id": "0abbb904-f5b0-4aaa-8ecd-e4094bf27346",
   "metadata": {
    "tags": []
   },
   "outputs": [],
   "source": [
    "from sklearn.metrics.pairwise import cosine_similarity"
   ]
  },
  {
   "cell_type": "code",
   "execution_count": 12,
   "id": "f326d230-402d-45bc-8961-12848ba883f7",
   "metadata": {
    "tags": []
   },
   "outputs": [
    {
     "data": {
      "text/plain": [
       "0.66958266"
      ]
     },
     "execution_count": 12,
     "metadata": {},
     "output_type": "execute_result"
    }
   ],
   "source": [
    "similarity = cosine_similarity([vector1], [vector2])[0][0]\n",
    "similarity"
   ]
  },
  {
   "cell_type": "code",
   "execution_count": 13,
   "id": "d9dfa9f1-e6e7-4cff-a165-38a2afdd1c07",
   "metadata": {
    "tags": []
   },
   "outputs": [
    {
     "data": {
      "text/plain": [
       "(1.886379599571228, 0.34645477682441705)"
      ]
     },
     "execution_count": 13,
     "metadata": {},
     "output_type": "execute_result"
    }
   ],
   "source": [
    "from scipy.spatial.distance import euclidean\n",
    "distance = euclidean(vector1, vector2)\n",
    "similarity = 1 / (1 + distance)  # Можно также выразить схожесть через близость\n",
    "distance, similarity"
   ]
  },
  {
   "cell_type": "code",
   "execution_count": 14,
   "id": "7d73b75a-1a3d-43ae-b004-bc145c199c14",
   "metadata": {
    "tags": []
   },
   "outputs": [],
   "source": [
    "test_doc = \"\"\"\n",
    "Sure! Here's a solution to the problem using a dictionary to optimize the time complexity to O(n):\n",
    "\n",
    "python\n",
    "Copy code\n",
    "def twoSum(nums, target):\n",
    "    # Create a dictionary to store the complement of each number\n",
    "    complement_dict = {}\n",
    "\n",
    "    # Iterate through the array\n",
    "    for i, num in enumerate(nums):\n",
    "        # Check if the complement of the current number exists in the dictionary\n",
    "        if num in complement_dict:\n",
    "            # If it does, return the indices\n",
    "            return [complement_dict[num], i]\n",
    "        else:\n",
    "            # If it doesn't, add the current number and its index to the dictionary\n",
    "            complement = target - num\n",
    "            complement_dict[complement] = i\n",
    "\n",
    "    # If no solution is found, return an empty list\n",
    "    return []\n",
    "\n",
    "# Example usage:\n",
    "nums = [2, 7, 11, 15]\n",
    "target = 9\n",
    "result = twoSum(nums, target)\n",
    "print(result)\n",
    "The above code will output [0, 1] as the result, which corresponds to the indices of the two numbers in the array that add up to the target.\n",
    "\n",
    "The solution works by iterating through the array of numbers and for each number, checking if its complement (the difference between the target and the current number) exists in the dictionary. If the complement is found, it means we have found the two numbers that add up to the target, so we return their indices. If the complement is not found, we add the current number and its index to the dictionary for future lookups. If no solution is found after iterating through the entire array, an empty list is returned.\n",
    "\"\"\""
   ]
  },
  {
   "cell_type": "code",
   "execution_count": 15,
   "id": "5af2ac40-104f-46df-83d6-78fdc6e16d82",
   "metadata": {
    "tags": []
   },
   "outputs": [],
   "source": [
    "test_doc_other = \"\"\"\n",
    "Intuition\n",
    "Approach\n",
    "Complexity\n",
    "\n",
    "    Time complexity:O(max(l1,l2)).\n",
    "\n",
    "    Space complexity:O(n).\n",
    "\n",
    "Code\n",
    "\n",
    "/**\n",
    " * Definition for singly-linked list.\n",
    " * struct ListNode {\n",
    " *     int val;\n",
    " *     ListNode *next;\n",
    " *     ListNode() : val(0), next(nullptr) {}\n",
    " *     ListNode(int x) : val(x), next(nullptr) {}\n",
    " *     ListNode(int x, ListNode *next) : val(x), next(next) {}\n",
    " * };\n",
    " */\n",
    "class Solution {\n",
    "public:\n",
    "    ListNode* addTwoNumbers(ListNode* l1, ListNode* l2) {\n",
    "        ListNode* dummy=new ListNode();\n",
    "        ListNode* temp=dummy;\n",
    "        int carry=0;\n",
    "        while(l1!=NULL || l2!=NULL || carry){\n",
    "            int sum=0;\n",
    "            if(l1!=NULL){\n",
    "                sum+=l1->val;\n",
    "                l1=l1->next;\n",
    "            }\n",
    "            if(l2!=NULL){\n",
    "                sum+=l2->val;\n",
    "                l2=l2->next;\n",
    "            }\n",
    "            sum+=carry;\n",
    "            carry=sum/10;\n",
    "            ListNode* newnode=new ListNode(sum%10);\n",
    "            temp->next=newnode;\n",
    "            temp=temp->next;\n",
    "        }\n",
    "        return dummy->next;\n",
    "    }\n",
    "};\n",
    "if it helps plzz dont't forget to upvote it :)\n",
    "\"\"\""
   ]
  },
  {
   "cell_type": "code",
   "execution_count": 16,
   "id": "a839a1e8-cd3e-4476-9d79-6049dba5e22f",
   "metadata": {
    "tags": []
   },
   "outputs": [
    {
     "name": "stdout",
     "output_type": "stream",
     "text": [
      "10 0.8937745\n",
      "15 0.8534868\n",
      "25 0.8407126\n",
      "26 0.92114276\n",
      "33 0.9114044\n",
      "36 0.88035417\n",
      "41 0.73565114\n",
      "53 0.8515702\n",
      "55 0.881529\n",
      "56 0.9390649\n",
      "57 0.7338358\n",
      "60 0.88338226\n",
      "68 0.9293549\n",
      "69 0.8300905\n",
      "72 0.9366051\n",
      "76 0.9423258\n",
      "77 0.9101177\n",
      "80 0.9019828\n",
      "81 0.88483375\n",
      "85 0.9053195\n",
      "96 0.8657909\n"
     ]
    }
   ],
   "source": [
    "vec2 = model.infer_vector(test_doc.split())\n",
    "for i, doc in enumerate(post_content):\n",
    "    vec1 = model.infer_vector(doc[1].split())\n",
    "    cs = cosine_similarity([vec1], [vec2])[0][0]\n",
    "    if cs > 0.5:\n",
    "        print(i, cs)"
   ]
  },
  {
   "cell_type": "code",
   "execution_count": 17,
   "id": "87530fb2-e7d6-4ffd-a537-b2b25df3db69",
   "metadata": {
    "tags": []
   },
   "outputs": [
    {
     "name": "stdout",
     "output_type": "stream",
     "text": [
      "**using HASHMAP 3ms solution**\\n```\\nclass Solution {\\n    public int[] twoSum(int[] nums, int target) {\\n        HashMap<Integer,Integer> hash=new HashMap<Integer,Integer>();\\n        for(int i=0;i<nums.length;i++){\\n            Integer diff=(Integer)(target-nums[i]);\\n            if(hash.containsKey(diff)){\\n                int R[]={hash.get(diff),i};\\n                return R;\\n            }\\n            hash.put(nums[i],i);\\n        }\\n        return null;\\n            \\n        \\n    }\\n}\\n```\\n**BRUTE FORCE APPROACH\\n```\\nclass Solution {\\n    public int[] twoSum(int[] nums, int target) {\\n        for(int i=0;i<nums.length;i++)\\n        {\\n            for(int j=i+1;j<nums.length;j++){\\n                if(nums[i]+nums[j]==target)\\n                {\\n                    return new int[]{i,j};\\n                }\\n            }\\n                   \\n        }\\n        return nums;\\n        \\n    }\\n}\\n\\n```\n"
     ]
    }
   ],
   "source": [
    "print(post_content[72])"
   ]
  },
  {
   "cell_type": "code",
   "execution_count": 18,
   "id": "d9f2ece5-aedc-4c74-933f-7a7eda73afe4",
   "metadata": {
    "tags": []
   },
   "outputs": [
    {
     "name": "stdout",
     "output_type": "stream",
     "text": [
      "10 0.9270282\n",
      "15 0.9334644\n",
      "25 0.91926247\n",
      "26 0.82321703\n",
      "33 0.8193725\n",
      "36 0.95220125\n",
      "41 0.6376851\n",
      "53 0.90563744\n",
      "55 0.89302063\n",
      "56 0.91774595\n",
      "57 0.72997487\n",
      "60 0.92335653\n",
      "68 0.9244324\n",
      "69 0.84330106\n",
      "72 0.89371854\n",
      "76 0.9113062\n",
      "77 0.8300505\n",
      "80 0.93570983\n",
      "81 0.8904112\n",
      "85 0.9327634\n",
      "96 0.9463647\n"
     ]
    }
   ],
   "source": [
    "vec3_other = model.infer_vector(test_doc_other.split())\n",
    "for i, doc in enumerate(post_content):\n",
    "    vec1 = model.infer_vector(doc[1].split())\n",
    "    cs = cosine_similarity([vec1], [vec3_other])[0][0]\n",
    "    if cs > 0.5:\n",
    "        print(i, cs)"
   ]
  },
  {
   "cell_type": "code",
   "execution_count": 19,
   "id": "45498725-505a-4e5f-aae4-36aa1ae6a940",
   "metadata": {
    "tags": []
   },
   "outputs": [
    {
     "name": "stdout",
     "output_type": "stream",
     "text": [
      "class Solution {\\npublic:\\n    vector<int> twoSum(vector<int>& nums, int target) {\\n        \\n            vector<int>a;\\n        \\n        for(int i = 0; i<nums.size()-1; i++){\\n            for(int j = i+1; j<nums.size(); j++){\\n                if(nums[i] + nums[j] == target){\\n                    a.push_back(i);\\n                     a.push_back(j);\\n                }  \\n            }\\n        }\\n       return a; \\n    }\\n};\n"
     ]
    }
   ],
   "source": [
    "print(post_content[10])"
   ]
  },
  {
   "cell_type": "code",
   "execution_count": 20,
   "id": "1e7ab6e3-b398-4134-9d48-4501d3750bf6",
   "metadata": {
    "tags": []
   },
   "outputs": [],
   "source": [
    "test_doc_other2 = \"\"\"\n",
    "Approach\n",
    "\n",
    "    I am using Two pointers method\n",
    "    After shifting the val to the right side of the array.\n",
    "    Just return the value of k which is length of array excluding val.\n",
    "\n",
    "Complexity\n",
    "\n",
    "    Time complexity:O(n)\n",
    "\n",
    "    Space complexity:O(1)\n",
    "\n",
    "Code\n",
    "\n",
    "class Solution {\n",
    "    public int removeElement(int[] nums, int val) {\n",
    "        int i = 0;\n",
    "        for (int j = 0; j < nums.length; j++) {\n",
    "            if (nums[j] != val) {\n",
    "                int temp = nums[i];\n",
    "                nums[i] = nums[j];\n",
    "                nums[j] = temp;\n",
    "                i++;\n",
    "            }\n",
    "        }\n",
    "        return i;\n",
    "    }\n",
    "}\n",
    "\"\"\""
   ]
  },
  {
   "cell_type": "code",
   "execution_count": 21,
   "id": "27de21d4-7e94-49d6-8f1a-22af66e52418",
   "metadata": {
    "tags": []
   },
   "outputs": [
    {
     "name": "stdout",
     "output_type": "stream",
     "text": [
      "10 0.9403642\n",
      "15 0.94857836\n",
      "25 0.7489716\n",
      "26 0.9565167\n",
      "33 0.92835754\n",
      "36 0.9373391\n",
      "41 0.7472069\n",
      "53 0.9610308\n",
      "55 0.88455546\n",
      "56 0.9331061\n",
      "57 0.8815865\n",
      "60 0.901096\n",
      "68 0.89642924\n",
      "69 0.92372483\n",
      "72 0.8819122\n",
      "76 0.92275465\n",
      "77 0.8934142\n",
      "80 0.9639993\n",
      "81 0.91467255\n",
      "85 0.94582856\n",
      "96 0.8878387\n"
     ]
    }
   ],
   "source": [
    "vec4_other = model.infer_vector(test_doc_other2.split())\n",
    "for i, doc in enumerate(post_content):\n",
    "    vec1 = model.infer_vector(doc[1].split())\n",
    "    cs = cosine_similarity([vec1], [vec4_other])[0][0]\n",
    "    if cs > 0.5:\n",
    "        print(i, cs)"
   ]
  },
  {
   "cell_type": "code",
   "execution_count": 22,
   "id": "2cbae0b5-a626-48c4-bca2-1daff507f675",
   "metadata": {
    "tags": []
   },
   "outputs": [
    {
     "data": {
      "text/plain": [
       "'import java.util.Scanner;\\\\n    class Solution {\\\\n        public static int[] twoSum(int[] nums, int target) {\\\\n            int addOfIndex;\\\\n            // System.out.println(\"Number of elements in nums :\"+nums.length);\\\\n            for (int i = 0; i < nums.length; i++) {\\\\n                for (int j = i + 1; j < nums.length; j++) {\\\\n                    int[] add = new int[2];\\\\n                    addOfIndex = nums[i] + nums[j];\\\\n                    if (addOfIndex == target) {\\\\n                        add[0] = i;\\\\n                        add[1] = j;\\\\n                        return add;\\\\n                    }\\\\n                }\\\\n            }\\\\n\\\\n            return null;\\\\n        }\\\\n        public static void main(String []args){\\\\n            Scanner sc=new Scanner(System.in);\\\\n            // Solution s1=new Solution;\\\\n            System.out.println(\"Enter number of element :\");\\\\n            int n=sc.nextInt();\\\\n            System.out.println(\"Enter your elements :\");\\\\n            int [] nums=new int[n];\\\\n            for(int k=0; k<n; k++){\\\\n                nums[k]=sc.nextInt();\\\\n            }\\\\n            System.out.println(\"Enter your target :\");\\\\n            int target= sc.nextInt();\\\\n            int[] ret = new Solution().twoSum(nums, target);\\\\n//            System.out.println(ret);\\\\n            System.out.println(\"[\"+ret[0]+\",\"+ret[1]+\"]\");\\\\n        }\\\\n    }\\\\n\\\\n'"
      ]
     },
     "execution_count": 22,
     "metadata": {},
     "output_type": "execute_result"
    }
   ],
   "source": [
    "post_content[96]"
   ]
  },
  {
   "cell_type": "code",
   "execution_count": 25,
   "id": "0a8bb472-2817-469b-a72f-9e0c1b71e62a",
   "metadata": {},
   "outputs": [],
   "source": [
    "import seaborn as sns\n",
    "import matplotlib.pyplot as plt"
   ]
  },
  {
   "cell_type": "code",
   "execution_count": 26,
   "id": "c3cb0721-8f20-4cfa-871b-409aff2f40b1",
   "metadata": {
    "tags": []
   },
   "outputs": [
    {
     "data": {
      "text/html": [
       "<div>\n",
       "<style scoped>\n",
       "    .dataframe tbody tr th:only-of-type {\n",
       "        vertical-align: middle;\n",
       "    }\n",
       "\n",
       "    .dataframe tbody tr th {\n",
       "        vertical-align: top;\n",
       "    }\n",
       "\n",
       "    .dataframe thead th {\n",
       "        text-align: right;\n",
       "    }\n",
       "</style>\n",
       "<table border=\"1\" class=\"dataframe\">\n",
       "  <thead>\n",
       "    <tr style=\"text-align: right;\">\n",
       "      <th></th>\n",
       "      <th>Unnamed: 0</th>\n",
       "      <th>id_sol</th>\n",
       "      <th>title_sol</th>\n",
       "      <th>commentCount</th>\n",
       "      <th>topLevelCommentCount</th>\n",
       "      <th>viewCount</th>\n",
       "      <th>solutionTags</th>\n",
       "      <th>post_id</th>\n",
       "      <th>post_content</th>\n",
       "    </tr>\n",
       "  </thead>\n",
       "  <tbody>\n",
       "    <tr>\n",
       "      <th>0</th>\n",
       "      <td>0</td>\n",
       "      <td>3619262</td>\n",
       "      <td>✅3 Method's || C++ || JAVA || PYTHON || Beginn...</td>\n",
       "      <td>6</td>\n",
       "      <td>5</td>\n",
       "      <td>10688</td>\n",
       "      <td>['C++', 'Java', 'Python3', 'Array', 'Hash Table']</td>\n",
       "      <td>5545248</td>\n",
       "      <td># Intuition\\n&lt;!-- Describe your first thoughts...</td>\n",
       "    </tr>\n",
       "    <tr>\n",
       "      <th>1</th>\n",
       "      <td>1</td>\n",
       "      <td>3543160</td>\n",
       "      <td>Python🔥Java🔥 C++🔥|| Simple Solution</td>\n",
       "      <td>11</td>\n",
       "      <td>8</td>\n",
       "      <td>70162</td>\n",
       "      <td>['C++', 'Java', 'Python3', 'Array', 'Hash Table']</td>\n",
       "      <td>5445878</td>\n",
       "      <td># Please UPVOTE \\uD83D\\uDC4D\\n\\n# **!! BIG ANN...</td>\n",
       "    </tr>\n",
       "    <tr>\n",
       "      <th>2</th>\n",
       "      <td>2</td>\n",
       "      <td>2990807</td>\n",
       "      <td>Solution  - C++/Java/Python  (Both Brute force...</td>\n",
       "      <td>107</td>\n",
       "      <td>64</td>\n",
       "      <td>293922</td>\n",
       "      <td>['C++', 'Java', 'Python3', 'Array', 'Hash Table']</td>\n",
       "      <td>4733461</td>\n",
       "      <td># Beginner doubt - Where is main function?\\n- ...</td>\n",
       "    </tr>\n",
       "    <tr>\n",
       "      <th>3</th>\n",
       "      <td>3</td>\n",
       "      <td>3631188</td>\n",
       "      <td>(VIDEO) Visualization of O(n) Solution Using a...</td>\n",
       "      <td>0</td>\n",
       "      <td>0</td>\n",
       "      <td>153</td>\n",
       "      <td>['C++', 'Java', 'Python3', 'Array', 'Hash Table']</td>\n",
       "      <td>5561824</td>\n",
       "      <td>https://www.youtube.com/watch?v=luicuNOBTAI\\n\\...</td>\n",
       "    </tr>\n",
       "    <tr>\n",
       "      <th>4</th>\n",
       "      <td>4</td>\n",
       "      <td>3556832</td>\n",
       "      <td>Two sums || 3 easy methods in Python</td>\n",
       "      <td>4</td>\n",
       "      <td>2</td>\n",
       "      <td>24309</td>\n",
       "      <td>['C++', 'Java', 'Python3', 'Array', 'Hash Table']</td>\n",
       "      <td>5463583</td>\n",
       "      <td># Intuition\\nMethod 1: A brute-force solution ...</td>\n",
       "    </tr>\n",
       "    <tr>\n",
       "      <th>...</th>\n",
       "      <td>...</td>\n",
       "      <td>...</td>\n",
       "      <td>...</td>\n",
       "      <td>...</td>\n",
       "      <td>...</td>\n",
       "      <td>...</td>\n",
       "      <td>...</td>\n",
       "      <td>...</td>\n",
       "      <td>...</td>\n",
       "    </tr>\n",
       "    <tr>\n",
       "      <th>95</th>\n",
       "      <td>95</td>\n",
       "      <td>2744523</td>\n",
       "      <td>Easy python</td>\n",
       "      <td>0</td>\n",
       "      <td>0</td>\n",
       "      <td>501</td>\n",
       "      <td>['C++', 'Java', 'Python3', 'Array', 'Hash Table']</td>\n",
       "      <td>4406867</td>\n",
       "      <td>```\\nclass Solution:\\n    def twoSum(self, num...</td>\n",
       "    </tr>\n",
       "    <tr>\n",
       "      <th>96</th>\n",
       "      <td>96</td>\n",
       "      <td>2825280</td>\n",
       "      <td>Plate form independent code run anywhere 😉</td>\n",
       "      <td>1</td>\n",
       "      <td>1</td>\n",
       "      <td>109</td>\n",
       "      <td>['C++', 'Java', 'Python3', 'Array', 'Hash Table']</td>\n",
       "      <td>4516318</td>\n",
       "      <td>import java.util.Scanner;\\n    class Solution ...</td>\n",
       "    </tr>\n",
       "    <tr>\n",
       "      <th>97</th>\n",
       "      <td>97</td>\n",
       "      <td>13</td>\n",
       "      <td>Accepted C++ O(n) Solution</td>\n",
       "      <td>243</td>\n",
       "      <td>128</td>\n",
       "      <td>315249</td>\n",
       "      <td>['C++', 'Java', 'Python3', 'Array', 'Hash Table']</td>\n",
       "      <td>13</td>\n",
       "      <td>vector&lt;int&gt; twoSum(vector&lt;int&gt; &amp;numbers, i...</td>\n",
       "    </tr>\n",
       "    <tr>\n",
       "      <th>98</th>\n",
       "      <td>98</td>\n",
       "      <td>2750671</td>\n",
       "      <td>Python fast</td>\n",
       "      <td>0</td>\n",
       "      <td>0</td>\n",
       "      <td>534</td>\n",
       "      <td>['C++', 'Java', 'Python3', 'Array', 'Hash Table']</td>\n",
       "      <td>4415463</td>\n",
       "      <td>```\\nclass Solution:\\n    def twoSum(self, num...</td>\n",
       "    </tr>\n",
       "    <tr>\n",
       "      <th>99</th>\n",
       "      <td>99</td>\n",
       "      <td>3135941</td>\n",
       "      <td>Simple C++ solution( 3 Line Code)</td>\n",
       "      <td>0</td>\n",
       "      <td>0</td>\n",
       "      <td>48</td>\n",
       "      <td>['C++', 'Java', 'Python3', 'Array', 'Hash Table']</td>\n",
       "      <td>4925226</td>\n",
       "      <td># Intuition\\n&lt;!-- Describe your first thoughts...</td>\n",
       "    </tr>\n",
       "  </tbody>\n",
       "</table>\n",
       "<p>100 rows × 9 columns</p>\n",
       "</div>"
      ],
      "text/plain": [
       "    Unnamed: 0   id_sol                                          title_sol  \\\n",
       "0            0  3619262  ✅3 Method's || C++ || JAVA || PYTHON || Beginn...   \n",
       "1            1  3543160                Python🔥Java🔥 C++🔥|| Simple Solution   \n",
       "2            2  2990807  Solution  - C++/Java/Python  (Both Brute force...   \n",
       "3            3  3631188  (VIDEO) Visualization of O(n) Solution Using a...   \n",
       "4            4  3556832               Two sums || 3 easy methods in Python   \n",
       "..         ...      ...                                                ...   \n",
       "95          95  2744523                                        Easy python   \n",
       "96          96  2825280         Plate form independent code run anywhere 😉   \n",
       "97          97       13                         Accepted C++ O(n) Solution   \n",
       "98          98  2750671                                        Python fast   \n",
       "99          99  3135941                  Simple C++ solution( 3 Line Code)   \n",
       "\n",
       "    commentCount  topLevelCommentCount  viewCount  \\\n",
       "0              6                     5      10688   \n",
       "1             11                     8      70162   \n",
       "2            107                    64     293922   \n",
       "3              0                     0        153   \n",
       "4              4                     2      24309   \n",
       "..           ...                   ...        ...   \n",
       "95             0                     0        501   \n",
       "96             1                     1        109   \n",
       "97           243                   128     315249   \n",
       "98             0                     0        534   \n",
       "99             0                     0         48   \n",
       "\n",
       "                                         solutionTags  post_id  \\\n",
       "0   ['C++', 'Java', 'Python3', 'Array', 'Hash Table']  5545248   \n",
       "1   ['C++', 'Java', 'Python3', 'Array', 'Hash Table']  5445878   \n",
       "2   ['C++', 'Java', 'Python3', 'Array', 'Hash Table']  4733461   \n",
       "3   ['C++', 'Java', 'Python3', 'Array', 'Hash Table']  5561824   \n",
       "4   ['C++', 'Java', 'Python3', 'Array', 'Hash Table']  5463583   \n",
       "..                                                ...      ...   \n",
       "95  ['C++', 'Java', 'Python3', 'Array', 'Hash Table']  4406867   \n",
       "96  ['C++', 'Java', 'Python3', 'Array', 'Hash Table']  4516318   \n",
       "97  ['C++', 'Java', 'Python3', 'Array', 'Hash Table']       13   \n",
       "98  ['C++', 'Java', 'Python3', 'Array', 'Hash Table']  4415463   \n",
       "99  ['C++', 'Java', 'Python3', 'Array', 'Hash Table']  4925226   \n",
       "\n",
       "                                         post_content  \n",
       "0   # Intuition\\n<!-- Describe your first thoughts...  \n",
       "1   # Please UPVOTE \\uD83D\\uDC4D\\n\\n# **!! BIG ANN...  \n",
       "2   # Beginner doubt - Where is main function?\\n- ...  \n",
       "3   https://www.youtube.com/watch?v=luicuNOBTAI\\n\\...  \n",
       "4   # Intuition\\nMethod 1: A brute-force solution ...  \n",
       "..                                                ...  \n",
       "95  ```\\nclass Solution:\\n    def twoSum(self, num...  \n",
       "96  import java.util.Scanner;\\n    class Solution ...  \n",
       "97      vector<int> twoSum(vector<int> &numbers, i...  \n",
       "98  ```\\nclass Solution:\\n    def twoSum(self, num...  \n",
       "99  # Intuition\\n<!-- Describe your first thoughts...  \n",
       "\n",
       "[100 rows x 9 columns]"
      ]
     },
     "execution_count": 26,
     "metadata": {},
     "output_type": "execute_result"
    }
   ],
   "source": [
    "data"
   ]
  },
  {
   "cell_type": "code",
   "execution_count": 42,
   "id": "91ae9a6d-2750-453d-8a80-b8eb8d2cdf41",
   "metadata": {
    "tags": []
   },
   "outputs": [],
   "source": [
    "data['vec'] = data.post_content.map(lambda x: model.infer_vector(x.split(' ')))"
   ]
  },
  {
   "cell_type": "code",
   "execution_count": 1,
   "id": "7946e1c3-d0c3-482a-b3a9-f904f0999ef7",
   "metadata": {
    "tags": []
   },
   "outputs": [
    {
     "ename": "NameError",
     "evalue": "name 'pd' is not defined",
     "output_type": "error",
     "traceback": [
      "\u001b[0;31m---------------------------------------------------------------------------\u001b[0m",
      "\u001b[0;31mNameError\u001b[0m                                 Traceback (most recent call last)",
      "Cell \u001b[0;32mIn[1], line 1\u001b[0m\n\u001b[0;32m----> 1\u001b[0m \u001b[43mpd\u001b[49m\u001b[38;5;241m.\u001b[39mDataFrame(data[\u001b[38;5;124m'\u001b[39m\u001b[38;5;124mvec\u001b[39m\u001b[38;5;124m'\u001b[39m])\n",
      "\u001b[0;31mNameError\u001b[0m: name 'pd' is not defined"
     ]
    }
   ],
   "source": [
    "pd.DataFrame(data['vec'])"
   ]
  },
  {
   "cell_type": "code",
   "execution_count": null,
   "id": "253c79f7-c411-49ec-b3d9-05a6e42a1c7b",
   "metadata": {},
   "outputs": [],
   "source": []
  }
 ],
 "metadata": {
  "@deathbeds/jupyterlab-fonts": {
   "fontLicenses": {
    "DejaVu Sans Mono": {
     "holders": [
      "Copyright (c) 2003 by Bitstream, Inc. All Rights Reserved.",
      "Copyright (c) 2006 by Tavmjong Bah."
     ],
     "name": "DejaVu Font License",
     "spdx": "OTHER",
     "text": "Fonts are (c) Bitstream (see below). DejaVu changes are in public domain.\nGlyphs imported from Arev fonts are (c) Tavmjong Bah (see below)\n\n\nBitstream Vera Fonts Copyright\n------------------------------\n\nCopyright (c) 2003 by Bitstream, Inc. All Rights Reserved. Bitstream Vera is\na trademark of Bitstream, Inc.\n\nPermission is hereby granted, free of charge, to any person obtaining a copy\nof the fonts accompanying this license (\"Fonts\") and associated\ndocumentation files (the \"Font Software\"), to reproduce and distribute the\nFont Software, including without limitation the rights to use, copy, merge,\npublish, distribute, and/or sell copies of the Font Software, and to permit\npersons to whom the Font Software is furnished to do so, subject to the\nfollowing conditions:\n\nThe above copyright and trademark notices and this permission notice shall\nbe included in all copies of one or more of the Font Software typefaces.\n\nThe Font Software may be modified, altered, or added to, and in particular\nthe designs of glyphs or characters in the Fonts may be modified and\nadditional glyphs or characters may be added to the Fonts, only if the fonts\nare renamed to names not containing either the words \"Bitstream\" or the word\n\"Vera\".\n\nThis License becomes null and void to the extent applicable to Fonts or Font\nSoftware that has been modified and is distributed under the \"Bitstream\nVera\" names.\n\nThe Font Software may be sold as part of a larger software package but no\ncopy of one or more of the Font Software typefaces may be sold by itself.\n\nTHE FONT SOFTWARE IS PROVIDED \"AS IS\", WITHOUT WARRANTY OF ANY KIND, EXPRESS\nOR IMPLIED, INCLUDING BUT NOT LIMITED TO ANY WARRANTIES OF MERCHANTABILITY,\nFITNESS FOR A PARTICULAR PURPOSE AND NONINFRINGEMENT OF COPYRIGHT, PATENT,\nTRADEMARK, OR OTHER RIGHT. IN NO EVENT SHALL BITSTREAM OR THE GNOME\nFOUNDATION BE LIABLE FOR ANY CLAIM, DAMAGES OR OTHER LIABILITY, INCLUDING\nANY GENERAL, SPECIAL, INDIRECT, INCIDENTAL, OR CONSEQUENTIAL DAMAGES,\nWHETHER IN AN ACTION OF CONTRACT, TORT OR OTHERWISE, ARISING FROM, OUT OF\nTHE USE OR INABILITY TO USE THE FONT SOFTWARE OR FROM OTHER DEALINGS IN THE\nFONT SOFTWARE.\n\nExcept as contained in this notice, the names of Gnome, the Gnome\nFoundation, and Bitstream Inc., shall not be used in advertising or\notherwise to promote the sale, use or other dealings in this Font Software\nwithout prior written authorization from the Gnome Foundation or Bitstream\nInc., respectively. For further information, contact: fonts at gnome dot\norg.\n\nArev Fonts Copyright\n------------------------------\n\nCopyright (c) 2006 by Tavmjong Bah. All Rights Reserved.\n\nPermission is hereby granted, free of charge, to any person obtaining\na copy of the fonts accompanying this license (\"Fonts\") and\nassociated documentation files (the \"Font Software\"), to reproduce\nand distribute the modifications to the Bitstream Vera Font Software,\nincluding without limitation the rights to use, copy, merge, publish,\ndistribute, and/or sell copies of the Font Software, and to permit\npersons to whom the Font Software is furnished to do so, subject to\nthe following conditions:\n\nThe above copyright and trademark notices and this permission notice\nshall be included in all copies of one or more of the Font Software\ntypefaces.\n\nThe Font Software may be modified, altered, or added to, and in\nparticular the designs of glyphs or characters in the Fonts may be\nmodified and additional glyphs or characters may be added to the\nFonts, only if the fonts are renamed to names not containing either\nthe words \"Tavmjong Bah\" or the word \"Arev\".\n\nThis License becomes null and void to the extent applicable to Fonts\nor Font Software that has been modified and is distributed under the\n\"Tavmjong Bah Arev\" names.\n\nThe Font Software may be sold as part of a larger software package but\nno copy of one or more of the Font Software typefaces may be sold by\nitself.\n\nTHE FONT SOFTWARE IS PROVIDED \"AS IS\", WITHOUT WARRANTY OF ANY KIND,\nEXPRESS OR IMPLIED, INCLUDING BUT NOT LIMITED TO ANY WARRANTIES OF\nMERCHANTABILITY, FITNESS FOR A PARTICULAR PURPOSE AND NONINFRINGEMENT\nOF COPYRIGHT, PATENT, TRADEMARK, OR OTHER RIGHT. IN NO EVENT SHALL\nTAVMJONG BAH BE LIABLE FOR ANY CLAIM, DAMAGES OR OTHER LIABILITY,\nINCLUDING ANY GENERAL, SPECIAL, INDIRECT, INCIDENTAL, OR CONSEQUENTIAL\nDAMAGES, WHETHER IN AN ACTION OF CONTRACT, TORT OR OTHERWISE, ARISING\nFROM, OUT OF THE USE OR INABILITY TO USE THE FONT SOFTWARE OR FROM\nOTHER DEALINGS IN THE FONT SOFTWARE.\n\nExcept as contained in this notice, the name of Tavmjong Bah shall not\nbe used in advertising or otherwise to promote the sale, use or other\ndealings in this Font Software without prior written authorization\nfrom Tavmjong Bah. For further information, contact: tavmjong @ free\n. fr.\n\nTeX Gyre DJV Math\n-----------------\nFonts are (c) Bitstream (see below). DejaVu changes are in public domain.\n\nMath extensions done by B. Jackowski, P. Strzelczyk and P. Pianowski\n(on behalf of TeX users groups) are in public domain.\n\nLetters imported from Euler Fraktur from AMSfonts are (c) American\nMathematical Society (see below).\nBitstream Vera Fonts Copyright\nCopyright (c) 2003 by Bitstream, Inc. All Rights Reserved. Bitstream Vera\nis a trademark of Bitstream, Inc.\n\nPermission is hereby granted, free of charge, to any person obtaining a copy\nof the fonts accompanying this license (“Fonts”) and associated\ndocumentation\nfiles (the “Font Software”), to reproduce and distribute the Font Software,\nincluding without limitation the rights to use, copy, merge, publish,\ndistribute,\nand/or sell copies of the Font Software, and to permit persons  to whom\nthe Font Software is furnished to do so, subject to the following\nconditions:\n\nThe above copyright and trademark notices and this permission notice\nshall be\nincluded in all copies of one or more of the Font Software typefaces.\n\nThe Font Software may be modified, altered, or added to, and in particular\nthe designs of glyphs or characters in the Fonts may be modified and\nadditional\nglyphs or characters may be added to the Fonts, only if the fonts are\nrenamed\nto names not containing either the words “Bitstream” or the word “Vera”.\n\nThis License becomes null and void to the extent applicable to Fonts or\nFont Software\nthat has been modified and is distributed under the “Bitstream Vera”\nnames.\n\nThe Font Software may be sold as part of a larger software package but\nno copy\nof one or more of the Font Software typefaces may be sold by itself.\n\nTHE FONT SOFTWARE IS PROVIDED “AS IS”, WITHOUT WARRANTY OF ANY KIND, EXPRESS\nOR IMPLIED, INCLUDING BUT NOT LIMITED TO ANY WARRANTIES OF MERCHANTABILITY,\nFITNESS FOR A PARTICULAR PURPOSE AND NONINFRINGEMENT OF COPYRIGHT, PATENT,\nTRADEMARK, OR OTHER RIGHT. IN NO EVENT SHALL BITSTREAM OR THE GNOME\nFOUNDATION\nBE LIABLE FOR ANY CLAIM, DAMAGES OR OTHER LIABILITY, INCLUDING ANY GENERAL,\nSPECIAL, INDIRECT, INCIDENTAL, OR CONSEQUENTIAL DAMAGES, WHETHER IN AN\nACTION\nOF CONTRACT, TORT OR OTHERWISE, ARISING FROM, OUT OF THE USE OR\nINABILITY TO USE\nTHE FONT SOFTWARE OR FROM OTHER DEALINGS IN THE FONT SOFTWARE.\nExcept as contained in this notice, the names of GNOME, the GNOME\nFoundation,\nand Bitstream Inc., shall not be used in advertising or otherwise to promote\nthe sale, use or other dealings in this Font Software without prior written\nauthorization from the GNOME Foundation or Bitstream Inc., respectively.\nFor further information, contact: fonts at gnome dot org.\n\nAMSFonts (v. 2.2) copyright\n\nThe PostScript Type 1 implementation of the AMSFonts produced by and\npreviously distributed by Blue Sky Research and Y&Y, Inc. are now freely\navailable for general use. This has been accomplished through the\ncooperation\nof a consortium of scientific publishers with Blue Sky Research and Y&Y.\nMembers of this consortium include:\n\nElsevier Science IBM Corporation Society for Industrial and Applied\nMathematics (SIAM) Springer-Verlag American Mathematical Society (AMS)\n\nIn order to assure the authenticity of these fonts, copyright will be\nheld by\nthe American Mathematical Society. This is not meant to restrict in any way\nthe legitimate use of the fonts, such as (but not limited to) electronic\ndistribution of documents containing these fonts, inclusion of these fonts\ninto other public domain or commercial font collections or computer\napplications, use of the outline data to create derivative fonts and/or\nfaces, etc. However, the AMS does require that the AMS copyright notice be\nremoved from any derivative versions of the fonts which have been altered in\nany way. In addition, to ensure the fidelity of TeX documents using Computer\nModern fonts, Professor Donald Knuth, creator of the Computer Modern faces,\nhas requested that any alterations which yield different font metrics be\ngiven a different name.\n\n$Id$\n"
    }
   },
   "fonts": {
    "DejaVu Sans Mono": [
     {
      "fontFamily": "'DejaVu Sans Mono'",
      "src": "url('data:font/woff2;charset=utf-8;base64,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') format('woff2')"
     }
    ]
   },
   "styles": {
    ":root": {
     "--jp-content-font-family": "'DejaVu Sans Mono'"
    }
   }
  },
  "kernelspec": {
   "display_name": "Python 3 (ipykernel)",
   "language": "python",
   "name": "python3"
  },
  "language_info": {
   "codemirror_mode": {
    "name": "ipython",
    "version": 3
   },
   "file_extension": ".py",
   "mimetype": "text/x-python",
   "name": "python",
   "nbconvert_exporter": "python",
   "pygments_lexer": "ipython3",
   "version": "3.8.16"
  },
  "widgets": {
   "application/vnd.jupyter.widget-state+json": {
    "state": {},
    "version_major": 2,
    "version_minor": 0
   }
  }
 },
 "nbformat": 4,
 "nbformat_minor": 5
}
