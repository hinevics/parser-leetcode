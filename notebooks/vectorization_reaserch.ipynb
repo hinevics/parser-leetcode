{
 "cells": [
  {
   "cell_type": "code",
   "execution_count": 1,
   "id": "25744168-7f0e-4d20-b47f-ab27807c8985",
   "metadata": {
    "tags": []
   },
   "outputs": [],
   "source": [
    "import pandas as pd\n",
    "from gensim.models.doc2vec import Doc2Vec, TaggedDocument\n",
    "import re"
   ]
  },
  {
   "cell_type": "code",
   "execution_count": 2,
   "id": "357b2736-d73f-42cd-a957-f1d26882ca93",
   "metadata": {
    "tags": []
   },
   "outputs": [],
   "source": [
    "data = pd.read_csv(r'/home/khinevich/myproject/projects/parsers/leetcode/parser-leetcode/data/sols/two-sum.csv')\n",
    "post_content = list(data.post_content)\n",
    "train_post_content = post_content[:80]\n",
    "test_post_content = post_content[82:]"
   ]
  },
  {
   "cell_type": "markdown",
   "id": "db952170-4499-445a-aafa-b564115eb7fd",
   "metadata": {},
   "source": [
    "# Обработка данных"
   ]
  },
  {
   "cell_type": "code",
   "execution_count": 3,
   "id": "7b452ff8-319e-464e-bd67-cc5f62a90d91",
   "metadata": {
    "tags": []
   },
   "outputs": [],
   "source": [
    "data.solutionTags = data.solutionTags.map(eval)\n",
    "tags = set([t for tags in data.solutionTags for t in tags])"
   ]
  },
  {
   "cell_type": "code",
   "execution_count": 4,
   "id": "74fbc842-326e-42cc-b64f-8e8c0a4eaa78",
   "metadata": {
    "tags": []
   },
   "outputs": [],
   "source": [
    "def clean_code(str_code: str, code_pattern: str = None):\n",
    "    str_code = re.sub(pattern=f'{code_pattern}', repl='', string=str_code) if code_pattern else str_code\n",
    "    str_code = re.sub(pattern=r'\\\\n', string=str_code, repl=' ')\n",
    "    str_code = re.sub(pattern=r'\\s+', string=str_code, repl=' ')\n",
    "    return str_code\n",
    "\n",
    "for i in range(data.shape[0]):\n",
    "    post_content = data.iloc[i, data.columns.get_loc('post_content')]\n",
    "    for t in tags:\n",
    "        codes = None\n",
    "        code_feature_name = f'code_{t}'\n",
    "        if code_feature_name not in data.columns:\n",
    "            data[code_feature_name] = None\n",
    "        if t in data.iloc[i, data.columns.get_loc('solutionTags')]:\n",
    "            code_pattern = re.escape(t)\n",
    "            code_pattern = 'Python' if code_pattern == r'Python3' else code_pattern\n",
    "            codes = re.findall(\n",
    "                pattern=r'```{code_pattern}.*?\\\\n\\\\n```'.format(code_pattern=code_pattern),\n",
    "                string=post_content\n",
    "            )\n",
    "            if codes:\n",
    "                codes = ' '.join(codes)\n",
    "                codes = clean_code(codes, code_pattern=code_pattern)\n",
    "            else:\n",
    "                codes = re.findall(pattern=r'\\# Code.*', string=post_content)\n",
    "                codes = ' '.join(codes)\n",
    "                codes = clean_code(codes)\n",
    "            data.iloc[i, data.columns.get_loc(code_feature_name)] = codes\n",
    "            codes = None"
   ]
  },
  {
   "cell_type": "code",
   "execution_count": 5,
   "id": "91fad470-c917-4977-bd96-0bf7a9b6f80f",
   "metadata": {
    "tags": []
   },
   "outputs": [
    {
     "data": {
      "text/plain": [
       "'# Intuition\\\\n<!-- Describe your first thoughts on how to solve this problem. -->\\\\nThe Two Sum problem asks us to find two numbers in an array that sum up to a given target value. We need to return the indices of these two numbers.\\\\n# Approach\\\\n<!-- Describe your approach to solving the problem. -->\\\\n1. One brute force approach is to consider every pair of elements and check if their sum equals the target. This can be done using nested loops, where the outer loop iterates from the first element to the second-to-last element, and the inner loop iterates from the next element to the last element. However, this approach has a time complexity of O(n^2).\\\\n2. A more efficient approach is to use a hash table (unordered_map in C++). We can iterate through the array once, and for each element, check if the target minus the current element exists in the hash table. If it does, we have found a valid pair of numbers. If not, we add the current element to the hash table.\\\\n\\\\n**Approach using a hash table:**\\\\n1. Create an empty hash table to store elements and their indices.\\\\n2. Iterate through the array from left to right.\\\\n3. For each element nums[i], calculate the complement by subtracting it from the target: complement = target - nums[i].\\\\n4. Check if the complement exists in the hash table. If it does, we have found a solution.\\\\n5. If the complement does not exist in the hash table, add the current element nums[i] to the hash table with its index as the value.\\\\n6. Repeat steps 3-5 until we find a solution or reach the end of the array.\\\\n7. If no solution is found, return an empty array or an appropriate indicator.\\\\n\\\\nThis approach has a time complexity of O(n) since hash table lookups take constant time on average. It allows us to solve the Two Sum problem efficiently by making just one pass through the array.\\\\n\\\\n# Code\\\\n# Solution 1: (Brute Force)\\\\n```C++ []\\\\nclass Solution {\\\\npublic:\\\\n    vector<int> twoSum(vector<int>& nums, int target) {\\\\n        int n = nums.size();\\\\n        for (int i = 0; i < n - 1; i++) {\\\\n            for (int j = i + 1; j < n; j++) {\\\\n                if (nums[i] + nums[j] == target) {\\\\n                    return {i, j};\\\\n                }\\\\n            }\\\\n        }\\\\n        return {}; // No solution found\\\\n    }\\\\n};\\\\n\\\\n```\\\\n```Java []\\\\nclass Solution {\\\\n    public int[] twoSum(int[] nums, int target) {\\\\n        int n = nums.length;\\\\n        for (int i = 0; i < n - 1; i++) {\\\\n            for (int j = i + 1; j < n; j++) {\\\\n                if (nums[i] + nums[j] == target) {\\\\n                    return new int[]{i, j};\\\\n                }\\\\n            }\\\\n        }\\\\n        return new int[]{}; // No solution found\\\\n    }\\\\n}\\\\n\\\\n```\\\\n```Python3 []\\\\nclass Solution:\\\\n    def twoSum(self, nums: List[int], target: int) -> List[int]:\\\\n        n = len(nums)\\\\n        for i in range(n - 1):\\\\n            for j in range(i + 1, n):\\\\n                if nums[i] + nums[j] == target:\\\\n                    return [i, j]\\\\n        return []  # No solution found\\\\n\\\\n```\\\\n\\\\n# Solution 2: (Two-pass Hash Table)\\\\n```C++ []\\\\nclass Solution {\\\\npublic:\\\\n    vector<int> twoSum(vector<int>& nums, int target) {\\\\n        unordered_map<int, int> numMap;\\\\n        int n = nums.size();\\\\n\\\\n        // Build the hash table\\\\n        for (int i = 0; i < n; i++) {\\\\n            numMap[nums[i]] = i;\\\\n        }\\\\n\\\\n        // Find the complement\\\\n        for (int i = 0; i < n; i++) {\\\\n            int complement = target - nums[i];\\\\n            if (numMap.count(complement) && numMap[complement] != i) {\\\\n                return {i, numMap[complement]};\\\\n            }\\\\n        }\\\\n\\\\n        return {}; // No solution found\\\\n    }\\\\n};\\\\n\\\\n```\\\\n```Java []\\\\nclass Solution {\\\\n    public int[] twoSum(int[] nums, int target) {\\\\n        Map<Integer, Integer> numMap = new HashMap<>();\\\\n        int n = nums.length;\\\\n\\\\n        // Build the hash table\\\\n        for (int i = 0; i < n; i++) {\\\\n            numMap.put(nums[i], i);\\\\n        }\\\\n\\\\n        // Find the complement\\\\n        for (int i = 0; i < n; i++) {\\\\n            int complement = target - nums[i];\\\\n            if (numMap.containsKey(complement) && numMap.get(complement) != i) {\\\\n                return new int[]{i, numMap.get(complement)};\\\\n            }\\\\n        }\\\\n\\\\n        return new int[]{}; // No solution found\\\\n    }\\\\n}\\\\n\\\\n```\\\\n```Python3 []\\\\nclass Solution:\\\\n    def twoSum(self, nums: List[int], target: int) -> List[int]:\\\\n        numMap = {}\\\\n        n = len(nums)\\\\n\\\\n        # Build the hash table\\\\n        for i in range(n):\\\\n            numMap[nums[i]] = i\\\\n\\\\n        # Find the complement\\\\n        for i in range(n):\\\\n            complement = target - nums[i]\\\\n            if complement in numMap and numMap[complement] != i:\\\\n                return [i, numMap[complement]]\\\\n\\\\n        return []  # No solution found\\\\n\\\\n```\\\\n# Solution 3: (One-pass Hash Table)\\\\n```C++ []\\\\nclass Solution {\\\\npublic:\\\\n    vector<int> twoSum(vector<int>& nums, int target) {\\\\n        unordered_map<int, int> numMap;\\\\n        int n = nums.size();\\\\n\\\\n        for (int i = 0; i < n; i++) {\\\\n            int complement = target - nums[i];\\\\n            if (numMap.count(complement)) {\\\\n                return {numMap[complement], i};\\\\n            }\\\\n            numMap[nums[i]] = i;\\\\n        }\\\\n\\\\n        return {}; // No solution found\\\\n    }\\\\n};\\\\n\\\\n```\\\\n```Java []\\\\nclass Solution {\\\\n    public int[] twoSum(int[] nums, int target) {\\\\n        Map<Integer, Integer> numMap = new HashMap<>();\\\\n        int n = nums.length;\\\\n\\\\n        for (int i = 0; i < n; i++) {\\\\n            int complement = target - nums[i];\\\\n            if (numMap.containsKey(complement)) {\\\\n                return new int[]{numMap.get(complement), i};\\\\n            }\\\\n            numMap.put(nums[i], i);\\\\n        }\\\\n\\\\n        return new int[]{}; // No solution found\\\\n    }\\\\n}\\\\n\\\\n```\\\\n```Python3 []\\\\nclass Solution:\\\\n    def twoSum(self, nums: List[int], target: int) -> List[int]:\\\\n        numMap = {}\\\\n        n = len(nums)\\\\n\\\\n        for i in range(n):\\\\n            complement = target - nums[i]\\\\n            if complement in numMap:\\\\n                return [numMap[complement], i]\\\\n            numMap[nums[i]] = i\\\\n\\\\n        return []  # No solution found\\\\n\\\\n```\\\\n![CUTE_CAT.png](https://assets.leetcode.com/users/images/9c6f9412-c860-47d6-9a2e-7fcf37ff3321_1686334926.180891.png)\\\\n\\\\n**If you found my solution helpful, I would greatly appreciate your upvote, as it would motivate me to continue sharing more solutions.**\\\\n'"
      ]
     },
     "execution_count": 5,
     "metadata": {},
     "output_type": "execute_result"
    }
   ],
   "source": [
    "data.iloc[0].post_content"
   ]
  },
  {
   "cell_type": "code",
   "execution_count": 6,
   "id": "e50e9fa7-c320-4493-9765-8128f696966f",
   "metadata": {
    "tags": []
   },
   "outputs": [
    {
     "data": {
      "text/plain": [
       "'``` [] class Solution { public: vector<int> twoSum(vector<int>& nums, int target) { int n = nums.size(); for (int i = 0; i < n - 1; i++) { for (int j = i + 1; j < n; j++) { if (nums[i] + nums[j] == target) { return {i, j}; } } } return {}; // No solution found } }; ``` ``` [] class Solution { public: vector<int> twoSum(vector<int>& nums, int target) { unordered_map<int, int> numMap; int n = nums.size(); // Build the hash table for (int i = 0; i < n; i++) { numMap[nums[i]] = i; } // Find the complement for (int i = 0; i < n; i++) { int complement = target - nums[i]; if (numMap.count(complement) && numMap[complement] != i) { return {i, numMap[complement]}; } } return {}; // No solution found } }; ``` ``` [] class Solution { public: vector<int> twoSum(vector<int>& nums, int target) { unordered_map<int, int> numMap; int n = nums.size(); for (int i = 0; i < n; i++) { int complement = target - nums[i]; if (numMap.count(complement)) { return {numMap[complement], i}; } numMap[nums[i]] = i; } return {}; // No solution found } }; ```'"
      ]
     },
     "execution_count": 6,
     "metadata": {},
     "output_type": "execute_result"
    }
   ],
   "source": [
    "data.iloc[0, data.columns.get_loc('code_C++')]"
   ]
  },
  {
   "cell_type": "code",
   "execution_count": 7,
   "id": "c249cd5a-b92b-488d-be04-331c2c087ace",
   "metadata": {
    "tags": []
   },
   "outputs": [
    {
     "data": {
      "text/html": [
       "<div>\n",
       "<style scoped>\n",
       "    .dataframe tbody tr th:only-of-type {\n",
       "        vertical-align: middle;\n",
       "    }\n",
       "\n",
       "    .dataframe tbody tr th {\n",
       "        vertical-align: top;\n",
       "    }\n",
       "\n",
       "    .dataframe thead th {\n",
       "        text-align: right;\n",
       "    }\n",
       "</style>\n",
       "<table border=\"1\" class=\"dataframe\">\n",
       "  <thead>\n",
       "    <tr style=\"text-align: right;\">\n",
       "      <th></th>\n",
       "      <th>Unnamed: 0</th>\n",
       "      <th>id_sol</th>\n",
       "      <th>title_sol</th>\n",
       "      <th>commentCount</th>\n",
       "      <th>topLevelCommentCount</th>\n",
       "      <th>viewCount</th>\n",
       "      <th>solutionTags</th>\n",
       "      <th>post_id</th>\n",
       "      <th>post_content</th>\n",
       "      <th>code_Java</th>\n",
       "      <th>code_Hash Table</th>\n",
       "      <th>code_C++</th>\n",
       "      <th>code_Array</th>\n",
       "      <th>code_Python3</th>\n",
       "    </tr>\n",
       "  </thead>\n",
       "  <tbody>\n",
       "    <tr>\n",
       "      <th>0</th>\n",
       "      <td>0</td>\n",
       "      <td>3619262</td>\n",
       "      <td>✅3 Method's || C++ || JAVA || PYTHON || Beginn...</td>\n",
       "      <td>6</td>\n",
       "      <td>5</td>\n",
       "      <td>10688</td>\n",
       "      <td>[C++, Java, Python3, Array, Hash Table]</td>\n",
       "      <td>5545248</td>\n",
       "      <td># Intuition\\n&lt;!-- Describe your first thoughts...</td>\n",
       "      <td>``` [] class Solution { public int[] twoSum(in...</td>\n",
       "      <td># Code # Solution 1: (Brute Force) ```C++ [] c...</td>\n",
       "      <td>``` [] class Solution { public: vector&lt;int&gt; tw...</td>\n",
       "      <td># Code # Solution 1: (Brute Force) ```C++ [] c...</td>\n",
       "      <td>```3 [] class Solution: def twoSum(self, nums:...</td>\n",
       "    </tr>\n",
       "    <tr>\n",
       "      <th>1</th>\n",
       "      <td>1</td>\n",
       "      <td>3543160</td>\n",
       "      <td>Python🔥Java🔥 C++🔥|| Simple Solution</td>\n",
       "      <td>11</td>\n",
       "      <td>8</td>\n",
       "      <td>70162</td>\n",
       "      <td>[C++, Java, Python3, Array, Hash Table]</td>\n",
       "      <td>5445878</td>\n",
       "      <td># Please UPVOTE \\uD83D\\uDC4D\\n\\n# **!! BIG ANN...</td>\n",
       "      <td>``` [] class Solution { public int[] twoSum(in...</td>\n",
       "      <td></td>\n",
       "      <td>``` [] class Solution { public: vector&lt;int&gt; tw...</td>\n",
       "      <td></td>\n",
       "      <td>``` [] class Solution: def twoSum(self, nums: ...</td>\n",
       "    </tr>\n",
       "    <tr>\n",
       "      <th>2</th>\n",
       "      <td>2</td>\n",
       "      <td>2990807</td>\n",
       "      <td>Solution  - C++/Java/Python  (Both Brute force...</td>\n",
       "      <td>107</td>\n",
       "      <td>64</td>\n",
       "      <td>293922</td>\n",
       "      <td>[C++, Java, Python3, Array, Hash Table]</td>\n",
       "      <td>4733461</td>\n",
       "      <td># Beginner doubt - Where is main function?\\n- ...</td>\n",
       "      <td>``` [] class Solution { public int[] twoSum(in...</td>\n",
       "      <td></td>\n",
       "      <td>``` [] class Solution { public: vector&lt;int&gt; tw...</td>\n",
       "      <td></td>\n",
       "      <td>``` [] class Solution: def twoSum(self, nums: ...</td>\n",
       "    </tr>\n",
       "    <tr>\n",
       "      <th>3</th>\n",
       "      <td>3</td>\n",
       "      <td>3631188</td>\n",
       "      <td>(VIDEO) Visualization of O(n) Solution Using a...</td>\n",
       "      <td>0</td>\n",
       "      <td>0</td>\n",
       "      <td>153</td>\n",
       "      <td>[C++, Java, Python3, Array, Hash Table]</td>\n",
       "      <td>5561824</td>\n",
       "      <td>https://www.youtube.com/watch?v=luicuNOBTAI\\n\\...</td>\n",
       "      <td># Code ``` class Solution(object): def twoSum(...</td>\n",
       "      <td># Code ``` class Solution(object): def twoSum(...</td>\n",
       "      <td># Code ``` class Solution(object): def twoSum(...</td>\n",
       "      <td># Code ``` class Solution(object): def twoSum(...</td>\n",
       "      <td># Code ``` class Solution(object): def twoSum(...</td>\n",
       "    </tr>\n",
       "    <tr>\n",
       "      <th>4</th>\n",
       "      <td>4</td>\n",
       "      <td>3556832</td>\n",
       "      <td>Two sums || 3 easy methods in Python</td>\n",
       "      <td>4</td>\n",
       "      <td>2</td>\n",
       "      <td>24309</td>\n",
       "      <td>[C++, Java, Python3, Array, Hash Table]</td>\n",
       "      <td>5463583</td>\n",
       "      <td># Intuition\\nMethod 1: A brute-force solution ...</td>\n",
       "      <td># Code Method 1: ``` class Solution: def twoSu...</td>\n",
       "      <td># Code Method 1: ``` class Solution: def twoSu...</td>\n",
       "      <td># Code Method 1: ``` class Solution: def twoSu...</td>\n",
       "      <td># Code Method 1: ``` class Solution: def twoSu...</td>\n",
       "      <td># Code Method 1: ``` class Solution: def twoSu...</td>\n",
       "    </tr>\n",
       "    <tr>\n",
       "      <th>...</th>\n",
       "      <td>...</td>\n",
       "      <td>...</td>\n",
       "      <td>...</td>\n",
       "      <td>...</td>\n",
       "      <td>...</td>\n",
       "      <td>...</td>\n",
       "      <td>...</td>\n",
       "      <td>...</td>\n",
       "      <td>...</td>\n",
       "      <td>...</td>\n",
       "      <td>...</td>\n",
       "      <td>...</td>\n",
       "      <td>...</td>\n",
       "      <td>...</td>\n",
       "    </tr>\n",
       "    <tr>\n",
       "      <th>95</th>\n",
       "      <td>95</td>\n",
       "      <td>2744523</td>\n",
       "      <td>Easy python</td>\n",
       "      <td>0</td>\n",
       "      <td>0</td>\n",
       "      <td>501</td>\n",
       "      <td>[C++, Java, Python3, Array, Hash Table]</td>\n",
       "      <td>4406867</td>\n",
       "      <td>```\\nclass Solution:\\n    def twoSum(self, num...</td>\n",
       "      <td></td>\n",
       "      <td></td>\n",
       "      <td></td>\n",
       "      <td></td>\n",
       "      <td></td>\n",
       "    </tr>\n",
       "    <tr>\n",
       "      <th>96</th>\n",
       "      <td>96</td>\n",
       "      <td>2825280</td>\n",
       "      <td>Plate form independent code run anywhere 😉</td>\n",
       "      <td>1</td>\n",
       "      <td>1</td>\n",
       "      <td>109</td>\n",
       "      <td>[C++, Java, Python3, Array, Hash Table]</td>\n",
       "      <td>4516318</td>\n",
       "      <td>import java.util.Scanner;\\n    class Solution ...</td>\n",
       "      <td></td>\n",
       "      <td></td>\n",
       "      <td></td>\n",
       "      <td></td>\n",
       "      <td></td>\n",
       "    </tr>\n",
       "    <tr>\n",
       "      <th>97</th>\n",
       "      <td>97</td>\n",
       "      <td>13</td>\n",
       "      <td>Accepted C++ O(n) Solution</td>\n",
       "      <td>243</td>\n",
       "      <td>128</td>\n",
       "      <td>315249</td>\n",
       "      <td>[C++, Java, Python3, Array, Hash Table]</td>\n",
       "      <td>13</td>\n",
       "      <td>vector&lt;int&gt; twoSum(vector&lt;int&gt; &amp;numbers, i...</td>\n",
       "      <td></td>\n",
       "      <td></td>\n",
       "      <td></td>\n",
       "      <td></td>\n",
       "      <td></td>\n",
       "    </tr>\n",
       "    <tr>\n",
       "      <th>98</th>\n",
       "      <td>98</td>\n",
       "      <td>2750671</td>\n",
       "      <td>Python fast</td>\n",
       "      <td>0</td>\n",
       "      <td>0</td>\n",
       "      <td>534</td>\n",
       "      <td>[C++, Java, Python3, Array, Hash Table]</td>\n",
       "      <td>4415463</td>\n",
       "      <td>```\\nclass Solution:\\n    def twoSum(self, num...</td>\n",
       "      <td></td>\n",
       "      <td></td>\n",
       "      <td></td>\n",
       "      <td></td>\n",
       "      <td></td>\n",
       "    </tr>\n",
       "    <tr>\n",
       "      <th>99</th>\n",
       "      <td>99</td>\n",
       "      <td>3135941</td>\n",
       "      <td>Simple C++ solution( 3 Line Code)</td>\n",
       "      <td>0</td>\n",
       "      <td>0</td>\n",
       "      <td>48</td>\n",
       "      <td>[C++, Java, Python3, Array, Hash Table]</td>\n",
       "      <td>4925226</td>\n",
       "      <td># Intuition\\n&lt;!-- Describe your first thoughts...</td>\n",
       "      <td># Code ``` class Solution { public: vector&lt;int...</td>\n",
       "      <td># Code ``` class Solution { public: vector&lt;int...</td>\n",
       "      <td># Code ``` class Solution { public: vector&lt;int...</td>\n",
       "      <td># Code ``` class Solution { public: vector&lt;int...</td>\n",
       "      <td># Code ``` class Solution { public: vector&lt;int...</td>\n",
       "    </tr>\n",
       "  </tbody>\n",
       "</table>\n",
       "<p>100 rows × 14 columns</p>\n",
       "</div>"
      ],
      "text/plain": [
       "    Unnamed: 0   id_sol                                          title_sol  \\\n",
       "0            0  3619262  ✅3 Method's || C++ || JAVA || PYTHON || Beginn...   \n",
       "1            1  3543160                Python🔥Java🔥 C++🔥|| Simple Solution   \n",
       "2            2  2990807  Solution  - C++/Java/Python  (Both Brute force...   \n",
       "3            3  3631188  (VIDEO) Visualization of O(n) Solution Using a...   \n",
       "4            4  3556832               Two sums || 3 easy methods in Python   \n",
       "..         ...      ...                                                ...   \n",
       "95          95  2744523                                        Easy python   \n",
       "96          96  2825280         Plate form independent code run anywhere 😉   \n",
       "97          97       13                         Accepted C++ O(n) Solution   \n",
       "98          98  2750671                                        Python fast   \n",
       "99          99  3135941                  Simple C++ solution( 3 Line Code)   \n",
       "\n",
       "    commentCount  topLevelCommentCount  viewCount  \\\n",
       "0              6                     5      10688   \n",
       "1             11                     8      70162   \n",
       "2            107                    64     293922   \n",
       "3              0                     0        153   \n",
       "4              4                     2      24309   \n",
       "..           ...                   ...        ...   \n",
       "95             0                     0        501   \n",
       "96             1                     1        109   \n",
       "97           243                   128     315249   \n",
       "98             0                     0        534   \n",
       "99             0                     0         48   \n",
       "\n",
       "                               solutionTags  post_id  \\\n",
       "0   [C++, Java, Python3, Array, Hash Table]  5545248   \n",
       "1   [C++, Java, Python3, Array, Hash Table]  5445878   \n",
       "2   [C++, Java, Python3, Array, Hash Table]  4733461   \n",
       "3   [C++, Java, Python3, Array, Hash Table]  5561824   \n",
       "4   [C++, Java, Python3, Array, Hash Table]  5463583   \n",
       "..                                      ...      ...   \n",
       "95  [C++, Java, Python3, Array, Hash Table]  4406867   \n",
       "96  [C++, Java, Python3, Array, Hash Table]  4516318   \n",
       "97  [C++, Java, Python3, Array, Hash Table]       13   \n",
       "98  [C++, Java, Python3, Array, Hash Table]  4415463   \n",
       "99  [C++, Java, Python3, Array, Hash Table]  4925226   \n",
       "\n",
       "                                         post_content  \\\n",
       "0   # Intuition\\n<!-- Describe your first thoughts...   \n",
       "1   # Please UPVOTE \\uD83D\\uDC4D\\n\\n# **!! BIG ANN...   \n",
       "2   # Beginner doubt - Where is main function?\\n- ...   \n",
       "3   https://www.youtube.com/watch?v=luicuNOBTAI\\n\\...   \n",
       "4   # Intuition\\nMethod 1: A brute-force solution ...   \n",
       "..                                                ...   \n",
       "95  ```\\nclass Solution:\\n    def twoSum(self, num...   \n",
       "96  import java.util.Scanner;\\n    class Solution ...   \n",
       "97      vector<int> twoSum(vector<int> &numbers, i...   \n",
       "98  ```\\nclass Solution:\\n    def twoSum(self, num...   \n",
       "99  # Intuition\\n<!-- Describe your first thoughts...   \n",
       "\n",
       "                                            code_Java  \\\n",
       "0   ``` [] class Solution { public int[] twoSum(in...   \n",
       "1   ``` [] class Solution { public int[] twoSum(in...   \n",
       "2   ``` [] class Solution { public int[] twoSum(in...   \n",
       "3   # Code ``` class Solution(object): def twoSum(...   \n",
       "4   # Code Method 1: ``` class Solution: def twoSu...   \n",
       "..                                                ...   \n",
       "95                                                      \n",
       "96                                                      \n",
       "97                                                      \n",
       "98                                                      \n",
       "99  # Code ``` class Solution { public: vector<int...   \n",
       "\n",
       "                                      code_Hash Table  \\\n",
       "0   # Code # Solution 1: (Brute Force) ```C++ [] c...   \n",
       "1                                                       \n",
       "2                                                       \n",
       "3   # Code ``` class Solution(object): def twoSum(...   \n",
       "4   # Code Method 1: ``` class Solution: def twoSu...   \n",
       "..                                                ...   \n",
       "95                                                      \n",
       "96                                                      \n",
       "97                                                      \n",
       "98                                                      \n",
       "99  # Code ``` class Solution { public: vector<int...   \n",
       "\n",
       "                                             code_C++  \\\n",
       "0   ``` [] class Solution { public: vector<int> tw...   \n",
       "1   ``` [] class Solution { public: vector<int> tw...   \n",
       "2   ``` [] class Solution { public: vector<int> tw...   \n",
       "3   # Code ``` class Solution(object): def twoSum(...   \n",
       "4   # Code Method 1: ``` class Solution: def twoSu...   \n",
       "..                                                ...   \n",
       "95                                                      \n",
       "96                                                      \n",
       "97                                                      \n",
       "98                                                      \n",
       "99  # Code ``` class Solution { public: vector<int...   \n",
       "\n",
       "                                           code_Array  \\\n",
       "0   # Code # Solution 1: (Brute Force) ```C++ [] c...   \n",
       "1                                                       \n",
       "2                                                       \n",
       "3   # Code ``` class Solution(object): def twoSum(...   \n",
       "4   # Code Method 1: ``` class Solution: def twoSu...   \n",
       "..                                                ...   \n",
       "95                                                      \n",
       "96                                                      \n",
       "97                                                      \n",
       "98                                                      \n",
       "99  # Code ``` class Solution { public: vector<int...   \n",
       "\n",
       "                                         code_Python3  \n",
       "0   ```3 [] class Solution: def twoSum(self, nums:...  \n",
       "1   ``` [] class Solution: def twoSum(self, nums: ...  \n",
       "2   ``` [] class Solution: def twoSum(self, nums: ...  \n",
       "3   # Code ``` class Solution(object): def twoSum(...  \n",
       "4   # Code Method 1: ``` class Solution: def twoSu...  \n",
       "..                                                ...  \n",
       "95                                                     \n",
       "96                                                     \n",
       "97                                                     \n",
       "98                                                     \n",
       "99  # Code ``` class Solution { public: vector<int...  \n",
       "\n",
       "[100 rows x 14 columns]"
      ]
     },
     "execution_count": 7,
     "metadata": {},
     "output_type": "execute_result"
    }
   ],
   "source": [
    "data"
   ]
  },
  {
   "cell_type": "code",
   "execution_count": 13,
   "id": "91c81471-3243-4a94-b16c-e3c1ed87a035",
   "metadata": {
    "tags": []
   },
   "outputs": [],
   "source": [
    "a = re.findall(\n",
    "    pattern=r'```Python.*?\\\\n\\\\n```',\n",
    "    string=train_post_content[1]\n",
    ")"
   ]
  },
  {
   "cell_type": "code",
   "execution_count": 14,
   "id": "e5cd7fc5-3669-45b8-84b9-0f3034284383",
   "metadata": {
    "tags": []
   },
   "outputs": [
    {
     "data": {
      "text/plain": [
       "['```Python []\\\\nclass Solution:\\\\n    def twoSum(self, nums: List[int], target: int) -> List[int]:\\\\n        \\\\n        d = {}\\\\n        for i, j in enumerate(nums):\\\\n            r = target - j\\\\n            if r in d: return [d[r], i]\\\\n            d[j] = i\\\\n\\\\t\\\\t\\\\n\\\\t\\\\t# An Upvote will be encouraging\\\\n```\\\\n```Java []\\\\nclass Solution {\\\\n    public int[] twoSum(int[] nums, int target) {\\\\n        Map<Integer, Integer> map = new HashMap<>();\\\\n        for (int i = 0; i < nums.length; i++) {\\\\n            int complement = target - nums[i];\\\\n            if (map.containsKey(complement)) {\\\\n                return new int[] { map.get(complement), i };\\\\n            }\\\\n            map.put(nums[i], i);\\\\n        }\\\\n        return new int[] {-1, -1};\\\\n    }\\\\n}\\\\n\\\\n```']"
      ]
     },
     "execution_count": 14,
     "metadata": {},
     "output_type": "execute_result"
    }
   ],
   "source": [
    "a"
   ]
  },
  {
   "cell_type": "code",
   "execution_count": 185,
   "id": "d3c25e39-1392-4f66-8fbf-7b95d19b2538",
   "metadata": {
    "tags": []
   },
   "outputs": [
    {
     "data": {
      "text/plain": [
       "Index(['Unnamed: 0', 'id_sol', 'title_sol', 'commentCount',\n",
       "       'topLevelCommentCount', 'viewCount', 'solutionTags', 'post_id',\n",
       "       'post_content', 'code_Java', 'code_Python3', 'code_Hash Table',\n",
       "       'code_C++', 'code_Array'],\n",
       "      dtype='object')"
      ]
     },
     "execution_count": 185,
     "metadata": {},
     "output_type": "execute_result"
    }
   ],
   "source": [
    "data.columns"
   ]
  },
  {
   "cell_type": "code",
   "execution_count": 189,
   "id": "c12733df-56e6-4b83-acb7-df0113e030a5",
   "metadata": {
    "tags": []
   },
   "outputs": [
    {
     "data": {
      "text/plain": [
       "<Axes: xlabel='post_content', ylabel='viewCount'>"
      ]
     },
     "execution_count": 189,
     "metadata": {},
     "output_type": "execute_result"
    },
    {
     "data": {
      "image/png": "[encoded data removed]",
      "text/plain": [
       "<Figure size 640x480 with 1 Axes>"
      ]
     },
     "metadata": {},
     "output_type": "display_data"
    }
   ],
   "source": [
    "import seaborn as sns\n",
    "import matplotlib.pyplot as plt\n",
    "\n",
    "sns.scatterplot(x=data.post_content.map(len), y=data.viewCount)"
   ]
  },
  {
   "cell_type": "code",
   "execution_count": 85,
   "id": "7126fed3-5668-4bc3-bc82-4d076533a356",
   "metadata": {
    "tags": []
   },
   "outputs": [
    {
     "data": {
      "text/plain": [
       "\"# Please UPVOTE \\\\uD83D\\\\uDC4D\\\\n\\\\n# **!! BIG ANNOUNCEMENT !!**\\\\nI am currently Giving away my premium content well-structured assignments and study materials to clear interviews at top companies related to computer science and data science to my current Subscribers this week. This is Only for first 10,000 subscribers. **DON\\\\'T FORGET** to Subscribe\\\\n\\\\n**Click this link to Subscribe \\\\uD83D\\\\uDC49https://www.youtube.com/@techwired8/?sub_confirmation=1**\\\\n\\\\nLet\\\\'s connect!\\\\n\\\\nDiscord \\\\uD83D\\\\uDC49 https://discord.gg/gJDCyeGh6X\\\\nTwitter \\\\uD83D\\\\uDC49 https://twitter.com/TechWired8\\\\n\\\\nHappy Learning, Cheers Guys \\\\uD83D\\\\uDE0A\\\\n\\\\nhttps://youtu.be/oadssnyJA90\\\\n\\\\n# Recursion Explained (How to think recursively)\\\\n\\\\nhttps://youtu.be/KjpmuPDQWcU\\\\n\\\\n```Python []\\\\nclass Solution:\\\\n    def twoSum(self, nums: List[int], target: int) -> List[int]:\\\\n        \\\\n        d = {}\\\\n        for i, j in enumerate(nums):\\\\n            r = target - j\\\\n            if r in d: return [d[r], i]\\\\n            d[j] = i\\\\n\\\\t\\\\t\\\\n\\\\t\\\\t# An Upvote will be encouraging\\\\n```\\\\n```Java []\\\\nclass Solution {\\\\n    public int[] twoSum(int[] nums, int target) {\\\\n        Map<Integer, Integer> map = new HashMap<>();\\\\n        for (int i = 0; i < nums.length; i++) {\\\\n            int complement = target - nums[i];\\\\n            if (map.containsKey(complement)) {\\\\n                return new int[] { map.get(complement), i };\\\\n            }\\\\n            map.put(nums[i], i);\\\\n        }\\\\n        return new int[] {-1, -1};\\\\n    }\\\\n}\\\\n\\\\n```\\\\n```C++ []\\\\nclass Solution {\\\\npublic:\\\\n    vector<int> twoSum(vector<int>& nums, int target) {\\\\n        unordered_map<int, int> map;\\\\n        for (int i = 0; i < nums.size(); i++) {\\\\n            int complement = target - nums[i];\\\\n            if (map.find(complement) != map.end()) {\\\\n                return { map[complement], i };\\\\n            }\\\\n            map[nums[i]] = i;\\\\n        }\\\\n        return {-1, -1}; // or return {};\\\\n    }\\\\n};\\\\n\\\\n```\\\\n![image.png](https://assets.leetcode.com/users/images/e2515d84-99cf-4499-80fb-fe458e1bbae2_1678932606.8004954.png)\\\\n\\\\n# Please UPVOTE \\\\uD83D\\\\uDC4D\\\\n\""
      ]
     },
     "execution_count": 85,
     "metadata": {},
     "output_type": "execute_result"
    }
   ],
   "source": [
    "train_post_content[1]"
   ]
  },
  {
   "cell_type": "code",
   "execution_count": 15,
   "id": "991d22a6-1335-4bbf-999c-6fa396fca186",
   "metadata": {
    "tags": []
   },
   "outputs": [],
   "source": [
    "def func_(x):\n",
    "    f = re.findall(pattern=r'\\# Code.*', string=x)\n",
    "    if f:\n",
    "        return f[0]\n",
    "    return None\n",
    "data['code'] = data.post_content.map(lambda x: func_(x))"
   ]
  },
  {
   "cell_type": "code",
   "execution_count": 16,
   "id": "f67798ee-981a-40af-a7f4-3be8b405f5b2",
   "metadata": {
    "tags": []
   },
   "outputs": [
    {
     "data": {
      "text/plain": [
       "0     # Code\\n# Solution 1: (Brute Force)\\n```C++ []...\n",
       "1                                                  None\n",
       "2                                                  None\n",
       "3     # Code\\n```\\nclass Solution(object):\\n    def ...\n",
       "4     # Code\\n\\nMethod 1: \\n```\\nclass Solution:\\n  ...\n",
       "                            ...                        \n",
       "95                                                 None\n",
       "96                                                 None\n",
       "97                                                 None\n",
       "98                                                 None\n",
       "99    # Code\\n```\\nclass Solution {\\npublic: \\nvecto...\n",
       "Name: code, Length: 100, dtype: object"
      ]
     },
     "execution_count": 16,
     "metadata": {},
     "output_type": "execute_result"
    }
   ],
   "source": [
    "data.code"
   ]
  },
  {
   "cell_type": "code",
   "execution_count": 48,
   "id": "9c197ba0-2eeb-4776-9c9b-7c458f339151",
   "metadata": {},
   "outputs": [
    {
     "name": "stdout",
     "output_type": "stream",
     "text": [
      "C\\+\\+\n"
     ]
    }
   ],
   "source": [
    "code_pattern = re.escape(\"C++\")\n",
    "print(code_pattern)"
   ]
  },
  {
   "cell_type": "code",
   "execution_count": 5,
   "id": "0f1c2af0-6079-4ee3-b6a5-04f4819c8361",
   "metadata": {
    "tags": []
   },
   "outputs": [],
   "source": [
    "tagged_documents = [TaggedDocument(words=doc.split(), tags=[str(i)]) for i, doc in enumerate(train_post_content)]"
   ]
  },
  {
   "cell_type": "code",
   "execution_count": 6,
   "id": "3f2a89a5-6622-4f78-afb8-6c757de57707",
   "metadata": {
    "tags": []
   },
   "outputs": [],
   "source": [
    "model = Doc2Vec(vector_size=100, window=5, min_count=1, workers=4)\n"
   ]
  },
  {
   "cell_type": "code",
   "execution_count": 7,
   "id": "e33f198c-3494-4963-bbcd-dd0f89d30ab4",
   "metadata": {
    "tags": []
   },
   "outputs": [],
   "source": [
    "model.build_vocab(tagged_documents)\n"
   ]
  },
  {
   "cell_type": "code",
   "execution_count": 8,
   "id": "2457f7cb-09d1-44d5-b2d0-31189bd40ca6",
   "metadata": {
    "tags": []
   },
   "outputs": [],
   "source": [
    "model.train(tagged_documents, total_examples=model.corpus_count, epochs=10)\n"
   ]
  },
  {
   "cell_type": "code",
   "execution_count": 9,
   "id": "97572e14-68b2-4a9c-ba81-40b24f211294",
   "metadata": {
    "tags": []
   },
   "outputs": [
    {
     "data": {
      "text/plain": [
       "array([-0.11421704, -0.16869329, -0.1311085 ,  0.15842183,  0.18068574,\n",
       "       -0.19690864,  0.1021701 ,  0.06621964, -0.21260694,  0.04671054,\n",
       "       -0.08010245, -0.18820822, -0.06973926, -0.09175146, -0.01389901,\n",
       "       -0.0824846 ,  0.11496942,  0.08236564,  0.01394969, -0.3581964 ,\n",
       "        0.05241404,  0.02847877,  0.05041759,  0.12069198, -0.13403825,\n",
       "       -0.02659732, -0.3440858 , -0.08170893, -0.23534492, -0.10075954,\n",
       "        0.1919182 ,  0.1322539 ,  0.04781409, -0.13219114, -0.23202437,\n",
       "        0.22904919, -0.06868764, -0.28719455, -0.00110642, -0.0405323 ,\n",
       "        0.32086462, -0.07599926,  0.18296228, -0.16250142,  0.06526873,\n",
       "       -0.18563323, -0.1129214 , -0.19862333,  0.14850083, -0.14120717,\n",
       "        0.09275218, -0.25915498,  0.06408664, -0.2766487 , -0.17290099,\n",
       "        0.26926693, -0.1038768 ,  0.18881367, -0.05006739,  0.05138966,\n",
       "        0.2687577 ,  0.14255452,  0.06991699, -0.01668646, -0.08940148,\n",
       "        0.23047729,  0.14064282,  0.09148346, -0.12077975,  0.23763563,\n",
       "       -0.27516845,  0.04107355, -0.08881348, -0.22655776,  0.2557604 ,\n",
       "        0.21962465, -0.01828306, -0.02998208, -0.20248114, -0.06236755,\n",
       "       -0.12862243,  0.14508918, -0.44142506,  0.3746516 , -0.19981314,\n",
       "        0.1422065 ,  0.1532294 ,  0.03545701,  0.01928897, -0.10010661,\n",
       "        0.09158667,  0.05128865, -0.32610574, -0.11679354,  0.22652751,\n",
       "       -0.13144095,  0.05898919,  0.02347884,  0.18333948,  0.04454163],\n",
       "      dtype=float32)"
      ]
     },
     "execution_count": 9,
     "metadata": {},
     "output_type": "execute_result"
    }
   ],
   "source": [
    "vector1 = model.infer_vector(test_post_content[0].split())\n",
    "vector1"
   ]
  },
  {
   "cell_type": "code",
   "execution_count": 10,
   "id": "c4769a30-cac2-4c6b-acda-0cec54cbd104",
   "metadata": {
    "tags": []
   },
   "outputs": [
    {
     "data": {
      "text/plain": [
       "array([-0.21409146, -0.0509858 , -0.34905195, -0.04936141,  0.196039  ,\n",
       "       -0.475825  , -0.08481397,  0.11673631, -0.27869532, -0.01147345,\n",
       "       -0.0827759 , -0.28975585, -0.13983968,  0.11030883,  0.02813417,\n",
       "       -0.03313323, -0.07666406, -0.2530936 , -0.10642164, -0.6034243 ,\n",
       "       -0.07883269,  0.16284156, -0.08857939, -0.04661525,  0.1319328 ,\n",
       "       -0.03665722, -0.3311591 , -0.23390451, -0.43417728, -0.3811227 ,\n",
       "        0.3806645 ,  0.4422239 ,  0.12889618, -0.10807559, -0.13987887,\n",
       "        0.4645881 , -0.11416044, -0.56327367, -0.0966622 , -0.50399953,\n",
       "        0.16300802, -0.02103984, -0.18911156, -0.40957296,  0.22976911,\n",
       "       -0.12720843, -0.29287967,  0.13122396,  0.26576966, -0.02582296,\n",
       "       -0.05488893, -0.3473022 , -0.22670072, -0.20146726, -0.0020639 ,\n",
       "        0.41452807, -0.05908921,  0.13091555, -0.44378757,  0.1969516 ,\n",
       "        0.4970227 ,  0.28294095,  0.15259339,  0.0470716 , -0.02767155,\n",
       "        0.14855595,  0.2500686 ,  0.09999102, -0.2904565 ,  0.29600102,\n",
       "       -0.31241724,  0.09345186, -0.05286122,  0.08273169,  0.28875154,\n",
       "        0.1622689 ,  0.1074102 , -0.35569096, -0.11775022,  0.11752044,\n",
       "        0.14179258,  0.22295026, -0.6652717 ,  0.26419735, -0.10556235,\n",
       "       -0.12003475,  0.29545087,  0.05672989,  0.10472845,  0.2697651 ,\n",
       "        0.01660011,  0.5001147 , -0.15658976,  0.10529695,  0.22558378,\n",
       "        0.38506925, -0.10030204, -0.09211674,  0.38332662, -0.1550011 ],\n",
       "      dtype=float32)"
      ]
     },
     "execution_count": 10,
     "metadata": {},
     "output_type": "execute_result"
    }
   ],
   "source": [
    "vector2 = model.infer_vector(test_post_content[1].split())\n",
    "vector2"
   ]
  },
  {
   "cell_type": "code",
   "execution_count": 11,
   "id": "0abbb904-f5b0-4aaa-8ecd-e4094bf27346",
   "metadata": {
    "tags": []
   },
   "outputs": [],
   "source": [
    "from sklearn.metrics.pairwise import cosine_similarity"
   ]
  },
  {
   "cell_type": "code",
   "execution_count": 12,
   "id": "f326d230-402d-45bc-8961-12848ba883f7",
   "metadata": {
    "tags": []
   },
   "outputs": [
    {
     "data": {
      "text/plain": [
       "0.66958266"
      ]
     },
     "execution_count": 12,
     "metadata": {},
     "output_type": "execute_result"
    }
   ],
   "source": [
    "similarity = cosine_similarity([vector1], [vector2])[0][0]\n",
    "similarity"
   ]
  },
  {
   "cell_type": "code",
   "execution_count": 13,
   "id": "d9dfa9f1-e6e7-4cff-a165-38a2afdd1c07",
   "metadata": {
    "tags": []
   },
   "outputs": [
    {
     "data": {
      "text/plain": [
       "(1.886379599571228, 0.34645477682441705)"
      ]
     },
     "execution_count": 13,
     "metadata": {},
     "output_type": "execute_result"
    }
   ],
   "source": [
    "from scipy.spatial.distance import euclidean\n",
    "distance = euclidean(vector1, vector2)\n",
    "similarity = 1 / (1 + distance)  # Можно также выразить схожесть через близость\n",
    "distance, similarity"
   ]
  },
  {
   "cell_type": "code",
   "execution_count": 14,
   "id": "7d73b75a-1a3d-43ae-b004-bc145c199c14",
   "metadata": {
    "tags": []
   },
   "outputs": [],
   "source": [
    "test_doc = \"\"\"\n",
    "Sure! Here's a solution to the problem using a dictionary to optimize the time complexity to O(n):\n",
    "\n",
    "python\n",
    "Copy code\n",
    "def twoSum(nums, target):\n",
    "    # Create a dictionary to store the complement of each number\n",
    "    complement_dict = {}\n",
    "\n",
    "    # Iterate through the array\n",
    "    for i, num in enumerate(nums):\n",
    "        # Check if the complement of the current number exists in the dictionary\n",
    "        if num in complement_dict:\n",
    "            # If it does, return the indices\n",
    "            return [complement_dict[num], i]\n",
    "        else:\n",
    "            # If it doesn't, add the current number and its index to the dictionary\n",
    "            complement = target - num\n",
    "            complement_dict[complement] = i\n",
    "\n",
    "    # If no solution is found, return an empty list\n",
    "    return []\n",
    "\n",
    "# Example usage:\n",
    "nums = [2, 7, 11, 15]\n",
    "target = 9\n",
    "result = twoSum(nums, target)\n",
    "print(result)\n",
    "The above code will output [0, 1] as the result, which corresponds to the indices of the two numbers in the array that add up to the target.\n",
    "\n",
    "The solution works by iterating through the array of numbers and for each number, checking if its complement (the difference between the target and the current number) exists in the dictionary. If the complement is found, it means we have found the two numbers that add up to the target, so we return their indices. If the complement is not found, we add the current number and its index to the dictionary for future lookups. If no solution is found after iterating through the entire array, an empty list is returned.\n",
    "\"\"\""
   ]
  },
  {
   "cell_type": "code",
   "execution_count": 15,
   "id": "5af2ac40-104f-46df-83d6-78fdc6e16d82",
   "metadata": {
    "tags": []
   },
   "outputs": [],
   "source": [
    "test_doc_other = \"\"\"\n",
    "Intuition\n",
    "Approach\n",
    "Complexity\n",
    "\n",
    "    Time complexity:O(max(l1,l2)).\n",
    "\n",
    "    Space complexity:O(n).\n",
    "\n",
    "Code\n",
    "\n",
    "/**\n",
    " * Definition for singly-linked list.\n",
    " * struct ListNode {\n",
    " *     int val;\n",
    " *     ListNode *next;\n",
    " *     ListNode() : val(0), next(nullptr) {}\n",
    " *     ListNode(int x) : val(x), next(nullptr) {}\n",
    " *     ListNode(int x, ListNode *next) : val(x), next(next) {}\n",
    " * };\n",
    " */\n",
    "class Solution {\n",
    "public:\n",
    "    ListNode* addTwoNumbers(ListNode* l1, ListNode* l2) {\n",
    "        ListNode* dummy=new ListNode();\n",
    "        ListNode* temp=dummy;\n",
    "        int carry=0;\n",
    "        while(l1!=NULL || l2!=NULL || carry){\n",
    "            int sum=0;\n",
    "            if(l1!=NULL){\n",
    "                sum+=l1->val;\n",
    "                l1=l1->next;\n",
    "            }\n",
    "            if(l2!=NULL){\n",
    "                sum+=l2->val;\n",
    "                l2=l2->next;\n",
    "            }\n",
    "            sum+=carry;\n",
    "            carry=sum/10;\n",
    "            ListNode* newnode=new ListNode(sum%10);\n",
    "            temp->next=newnode;\n",
    "            temp=temp->next;\n",
    "        }\n",
    "        return dummy->next;\n",
    "    }\n",
    "};\n",
    "if it helps plzz dont't forget to upvote it :)\n",
    "\"\"\""
   ]
  },
  {
   "cell_type": "code",
   "execution_count": 16,
   "id": "a839a1e8-cd3e-4476-9d79-6049dba5e22f",
   "metadata": {
    "tags": []
   },
   "outputs": [
    {
     "name": "stdout",
     "output_type": "stream",
     "text": [
      "10 0.8937745\n",
      "15 0.8534868\n",
      "25 0.8407126\n",
      "26 0.92114276\n",
      "33 0.9114044\n",
      "36 0.88035417\n",
      "41 0.73565114\n",
      "53 0.8515702\n",
      "55 0.881529\n",
      "56 0.9390649\n",
      "57 0.7338358\n",
      "60 0.88338226\n",
      "68 0.9293549\n",
      "69 0.8300905\n",
      "72 0.9366051\n",
      "76 0.9423258\n",
      "77 0.9101177\n",
      "80 0.9019828\n",
      "81 0.88483375\n",
      "85 0.9053195\n",
      "96 0.8657909\n"
     ]
    }
   ],
   "source": [
    "vec2 = model.infer_vector(test_doc.split())\n",
    "for i, doc in enumerate(post_content):\n",
    "    vec1 = model.infer_vector(doc[1].split())\n",
    "    cs = cosine_similarity([vec1], [vec2])[0][0]\n",
    "    if cs > 0.5:\n",
    "        print(i, cs)"
   ]
  },
  {
   "cell_type": "code",
   "execution_count": 17,
   "id": "87530fb2-e7d6-4ffd-a537-b2b25df3db69",
   "metadata": {
    "tags": []
   },
   "outputs": [
    {
     "name": "stdout",
     "output_type": "stream",
     "text": [
      "**using HASHMAP 3ms solution**\\n```\\nclass Solution {\\n    public int[] twoSum(int[] nums, int target) {\\n        HashMap<Integer,Integer> hash=new HashMap<Integer,Integer>();\\n        for(int i=0;i<nums.length;i++){\\n            Integer diff=(Integer)(target-nums[i]);\\n            if(hash.containsKey(diff)){\\n                int R[]={hash.get(diff),i};\\n                return R;\\n            }\\n            hash.put(nums[i],i);\\n        }\\n        return null;\\n            \\n        \\n    }\\n}\\n```\\n**BRUTE FORCE APPROACH\\n```\\nclass Solution {\\n    public int[] twoSum(int[] nums, int target) {\\n        for(int i=0;i<nums.length;i++)\\n        {\\n            for(int j=i+1;j<nums.length;j++){\\n                if(nums[i]+nums[j]==target)\\n                {\\n                    return new int[]{i,j};\\n                }\\n            }\\n                   \\n        }\\n        return nums;\\n        \\n    }\\n}\\n\\n```\n"
     ]
    }
   ],
   "source": [
    "print(post_content[72])"
   ]
  },
  {
   "cell_type": "code",
   "execution_count": 18,
   "id": "d9f2ece5-aedc-4c74-933f-7a7eda73afe4",
   "metadata": {
    "tags": []
   },
   "outputs": [
    {
     "name": "stdout",
     "output_type": "stream",
     "text": [
      "10 0.9270282\n",
      "15 0.9334644\n",
      "25 0.91926247\n",
      "26 0.82321703\n",
      "33 0.8193725\n",
      "36 0.95220125\n",
      "41 0.6376851\n",
      "53 0.90563744\n",
      "55 0.89302063\n",
      "56 0.91774595\n",
      "57 0.72997487\n",
      "60 0.92335653\n",
      "68 0.9244324\n",
      "69 0.84330106\n",
      "72 0.89371854\n",
      "76 0.9113062\n",
      "77 0.8300505\n",
      "80 0.93570983\n",
      "81 0.8904112\n",
      "85 0.9327634\n",
      "96 0.9463647\n"
     ]
    }
   ],
   "source": [
    "vec3_other = model.infer_vector(test_doc_other.split())\n",
    "for i, doc in enumerate(post_content):\n",
    "    vec1 = model.infer_vector(doc[1].split())\n",
    "    cs = cosine_similarity([vec1], [vec3_other])[0][0]\n",
    "    if cs > 0.5:\n",
    "        print(i, cs)"
   ]
  },
  {
   "cell_type": "code",
   "execution_count": 19,
   "id": "45498725-505a-4e5f-aae4-36aa1ae6a940",
   "metadata": {
    "tags": []
   },
   "outputs": [
    {
     "name": "stdout",
     "output_type": "stream",
     "text": [
      "class Solution {\\npublic:\\n    vector<int> twoSum(vector<int>& nums, int target) {\\n        \\n            vector<int>a;\\n        \\n        for(int i = 0; i<nums.size()-1; i++){\\n            for(int j = i+1; j<nums.size(); j++){\\n                if(nums[i] + nums[j] == target){\\n                    a.push_back(i);\\n                     a.push_back(j);\\n                }  \\n            }\\n        }\\n       return a; \\n    }\\n};\n"
     ]
    }
   ],
   "source": [
    "print(post_content[10])"
   ]
  },
  {
   "cell_type": "code",
   "execution_count": 20,
   "id": "1e7ab6e3-b398-4134-9d48-4501d3750bf6",
   "metadata": {
    "tags": []
   },
   "outputs": [],
   "source": [
    "test_doc_other2 = \"\"\"\n",
    "Approach\n",
    "\n",
    "    I am using Two pointers method\n",
    "    After shifting the val to the right side of the array.\n",
    "    Just return the value of k which is length of array excluding val.\n",
    "\n",
    "Complexity\n",
    "\n",
    "    Time complexity:O(n)\n",
    "\n",
    "    Space complexity:O(1)\n",
    "\n",
    "Code\n",
    "\n",
    "class Solution {\n",
    "    public int removeElement(int[] nums, int val) {\n",
    "        int i = 0;\n",
    "        for (int j = 0; j < nums.length; j++) {\n",
    "            if (nums[j] != val) {\n",
    "                int temp = nums[i];\n",
    "                nums[i] = nums[j];\n",
    "                nums[j] = temp;\n",
    "                i++;\n",
    "            }\n",
    "        }\n",
    "        return i;\n",
    "    }\n",
    "}\n",
    "\"\"\""
   ]
  },
  {
   "cell_type": "code",
   "execution_count": 21,
   "id": "27de21d4-7e94-49d6-8f1a-22af66e52418",
   "metadata": {
    "tags": []
   },
   "outputs": [
    {
     "name": "stdout",
     "output_type": "stream",
     "text": [
      "10 0.9403642\n",
      "15 0.94857836\n",
      "25 0.7489716\n",
      "26 0.9565167\n",
      "33 0.92835754\n",
      "36 0.9373391\n",
      "41 0.7472069\n",
      "53 0.9610308\n",
      "55 0.88455546\n",
      "56 0.9331061\n",
      "57 0.8815865\n",
      "60 0.901096\n",
      "68 0.89642924\n",
      "69 0.92372483\n",
      "72 0.8819122\n",
      "76 0.92275465\n",
      "77 0.8934142\n",
      "80 0.9639993\n",
      "81 0.91467255\n",
      "85 0.94582856\n",
      "96 0.8878387\n"
     ]
    }
   ],
   "source": [
    "vec4_other = model.infer_vector(test_doc_other2.split())\n",
    "for i, doc in enumerate(post_content):\n",
    "    vec1 = model.infer_vector(doc[1].split())\n",
    "    cs = cosine_similarity([vec1], [vec4_other])[0][0]\n",
    "    if cs > 0.5:\n",
    "        print(i, cs)"
   ]
  },
  {
   "cell_type": "code",
   "execution_count": 22,
   "id": "2cbae0b5-a626-48c4-bca2-1daff507f675",
   "metadata": {
    "tags": []
   },
   "outputs": [
    {
     "data": {
      "text/plain": [
       "'import java.util.Scanner;\\\\n    class Solution {\\\\n        public static int[] twoSum(int[] nums, int target) {\\\\n            int addOfIndex;\\\\n            // System.out.println(\"Number of elements in nums :\"+nums.length);\\\\n            for (int i = 0; i < nums.length; i++) {\\\\n                for (int j = i + 1; j < nums.length; j++) {\\\\n                    int[] add = new int[2];\\\\n                    addOfIndex = nums[i] + nums[j];\\\\n                    if (addOfIndex == target) {\\\\n                        add[0] = i;\\\\n                        add[1] = j;\\\\n                        return add;\\\\n                    }\\\\n                }\\\\n            }\\\\n\\\\n            return null;\\\\n        }\\\\n        public static void main(String []args){\\\\n            Scanner sc=new Scanner(System.in);\\\\n            // Solution s1=new Solution;\\\\n            System.out.println(\"Enter number of element :\");\\\\n            int n=sc.nextInt();\\\\n            System.out.println(\"Enter your elements :\");\\\\n            int [] nums=new int[n];\\\\n            for(int k=0; k<n; k++){\\\\n                nums[k]=sc.nextInt();\\\\n            }\\\\n            System.out.println(\"Enter your target :\");\\\\n            int target= sc.nextInt();\\\\n            int[] ret = new Solution().twoSum(nums, target);\\\\n//            System.out.println(ret);\\\\n            System.out.println(\"[\"+ret[0]+\",\"+ret[1]+\"]\");\\\\n        }\\\\n    }\\\\n\\\\n'"
      ]
     },
     "execution_count": 22,
     "metadata": {},
     "output_type": "execute_result"
    }
   ],
   "source": [
    "post_content[96]"
   ]
  },
  {
   "cell_type": "code",
   "execution_count": 25,
   "id": "0a8bb472-2817-469b-a72f-9e0c1b71e62a",
   "metadata": {},
   "outputs": [],
   "source": [
    "import seaborn as sns\n",
    "import matplotlib.pyplot as plt"
   ]
  },
  {
   "cell_type": "code",
   "execution_count": 26,
   "id": "c3cb0721-8f20-4cfa-871b-409aff2f40b1",
   "metadata": {
    "tags": []
   },
   "outputs": [
    {
     "data": {
      "text/html": [
       "<div>\n",
       "<style scoped>\n",
       "    .dataframe tbody tr th:only-of-type {\n",
       "        vertical-align: middle;\n",
       "    }\n",
       "\n",
       "    .dataframe tbody tr th {\n",
       "        vertical-align: top;\n",
       "    }\n",
       "\n",
       "    .dataframe thead th {\n",
       "        text-align: right;\n",
       "    }\n",
       "</style>\n",
       "<table border=\"1\" class=\"dataframe\">\n",
       "  <thead>\n",
       "    <tr style=\"text-align: right;\">\n",
       "      <th></th>\n",
       "      <th>Unnamed: 0</th>\n",
       "      <th>id_sol</th>\n",
       "      <th>title_sol</th>\n",
       "      <th>commentCount</th>\n",
       "      <th>topLevelCommentCount</th>\n",
       "      <th>viewCount</th>\n",
       "      <th>solutionTags</th>\n",
       "      <th>post_id</th>\n",
       "      <th>post_content</th>\n",
       "    </tr>\n",
       "  </thead>\n",
       "  <tbody>\n",
       "    <tr>\n",
       "      <th>0</th>\n",
       "      <td>0</td>\n",
       "      <td>3619262</td>\n",
       "      <td>✅3 Method's || C++ || JAVA || PYTHON || Beginn...</td>\n",
       "      <td>6</td>\n",
       "      <td>5</td>\n",
       "      <td>10688</td>\n",
       "      <td>['C++', 'Java', 'Python3', 'Array', 'Hash Table']</td>\n",
       "      <td>5545248</td>\n",
       "      <td># Intuition\\n&lt;!-- Describe your first thoughts...</td>\n",
       "    </tr>\n",
       "    <tr>\n",
       "      <th>1</th>\n",
       "      <td>1</td>\n",
       "      <td>3543160</td>\n",
       "      <td>Python🔥Java🔥 C++🔥|| Simple Solution</td>\n",
       "      <td>11</td>\n",
       "      <td>8</td>\n",
       "      <td>70162</td>\n",
       "      <td>['C++', 'Java', 'Python3', 'Array', 'Hash Table']</td>\n",
       "      <td>5445878</td>\n",
       "      <td># Please UPVOTE \\uD83D\\uDC4D\\n\\n# **!! BIG ANN...</td>\n",
       "    </tr>\n",
       "    <tr>\n",
       "      <th>2</th>\n",
       "      <td>2</td>\n",
       "      <td>2990807</td>\n",
       "      <td>Solution  - C++/Java/Python  (Both Brute force...</td>\n",
       "      <td>107</td>\n",
       "      <td>64</td>\n",
       "      <td>293922</td>\n",
       "      <td>['C++', 'Java', 'Python3', 'Array', 'Hash Table']</td>\n",
       "      <td>4733461</td>\n",
       "      <td># Beginner doubt - Where is main function?\\n- ...</td>\n",
       "    </tr>\n",
       "    <tr>\n",
       "      <th>3</th>\n",
       "      <td>3</td>\n",
       "      <td>3631188</td>\n",
       "      <td>(VIDEO) Visualization of O(n) Solution Using a...</td>\n",
       "      <td>0</td>\n",
       "      <td>0</td>\n",
       "      <td>153</td>\n",
       "      <td>['C++', 'Java', 'Python3', 'Array', 'Hash Table']</td>\n",
       "      <td>5561824</td>\n",
       "      <td>https://www.youtube.com/watch?v=luicuNOBTAI\\n\\...</td>\n",
       "    </tr>\n",
       "    <tr>\n",
       "      <th>4</th>\n",
       "      <td>4</td>\n",
       "      <td>3556832</td>\n",
       "      <td>Two sums || 3 easy methods in Python</td>\n",
       "      <td>4</td>\n",
       "      <td>2</td>\n",
       "      <td>24309</td>\n",
       "      <td>['C++', 'Java', 'Python3', 'Array', 'Hash Table']</td>\n",
       "      <td>5463583</td>\n",
       "      <td># Intuition\\nMethod 1: A brute-force solution ...</td>\n",
       "    </tr>\n",
       "    <tr>\n",
       "      <th>...</th>\n",
       "      <td>...</td>\n",
       "      <td>...</td>\n",
       "      <td>...</td>\n",
       "      <td>...</td>\n",
       "      <td>...</td>\n",
       "      <td>...</td>\n",
       "      <td>...</td>\n",
       "      <td>...</td>\n",
       "      <td>...</td>\n",
       "    </tr>\n",
       "    <tr>\n",
       "      <th>95</th>\n",
       "      <td>95</td>\n",
       "      <td>2744523</td>\n",
       "      <td>Easy python</td>\n",
       "      <td>0</td>\n",
       "      <td>0</td>\n",
       "      <td>501</td>\n",
       "      <td>['C++', 'Java', 'Python3', 'Array', 'Hash Table']</td>\n",
       "      <td>4406867</td>\n",
       "      <td>```\\nclass Solution:\\n    def twoSum(self, num...</td>\n",
       "    </tr>\n",
       "    <tr>\n",
       "      <th>96</th>\n",
       "      <td>96</td>\n",
       "      <td>2825280</td>\n",
       "      <td>Plate form independent code run anywhere 😉</td>\n",
       "      <td>1</td>\n",
       "      <td>1</td>\n",
       "      <td>109</td>\n",
       "      <td>['C++', 'Java', 'Python3', 'Array', 'Hash Table']</td>\n",
       "      <td>4516318</td>\n",
       "      <td>import java.util.Scanner;\\n    class Solution ...</td>\n",
       "    </tr>\n",
       "    <tr>\n",
       "      <th>97</th>\n",
       "      <td>97</td>\n",
       "      <td>13</td>\n",
       "      <td>Accepted C++ O(n) Solution</td>\n",
       "      <td>243</td>\n",
       "      <td>128</td>\n",
       "      <td>315249</td>\n",
       "      <td>['C++', 'Java', 'Python3', 'Array', 'Hash Table']</td>\n",
       "      <td>13</td>\n",
       "      <td>vector&lt;int&gt; twoSum(vector&lt;int&gt; &amp;numbers, i...</td>\n",
       "    </tr>\n",
       "    <tr>\n",
       "      <th>98</th>\n",
       "      <td>98</td>\n",
       "      <td>2750671</td>\n",
       "      <td>Python fast</td>\n",
       "      <td>0</td>\n",
       "      <td>0</td>\n",
       "      <td>534</td>\n",
       "      <td>['C++', 'Java', 'Python3', 'Array', 'Hash Table']</td>\n",
       "      <td>4415463</td>\n",
       "      <td>```\\nclass Solution:\\n    def twoSum(self, num...</td>\n",
       "    </tr>\n",
       "    <tr>\n",
       "      <th>99</th>\n",
       "      <td>99</td>\n",
       "      <td>3135941</td>\n",
       "      <td>Simple C++ solution( 3 Line Code)</td>\n",
       "      <td>0</td>\n",
       "      <td>0</td>\n",
       "      <td>48</td>\n",
       "      <td>['C++', 'Java', 'Python3', 'Array', 'Hash Table']</td>\n",
       "      <td>4925226</td>\n",
       "      <td># Intuition\\n&lt;!-- Describe your first thoughts...</td>\n",
       "    </tr>\n",
       "  </tbody>\n",
       "</table>\n",
       "<p>100 rows × 9 columns</p>\n",
       "</div>"
      ],
      "text/plain": [
       "    Unnamed: 0   id_sol                                          title_sol  \\\n",
       "0            0  3619262  ✅3 Method's || C++ || JAVA || PYTHON || Beginn...   \n",
       "1            1  3543160                Python🔥Java🔥 C++🔥|| Simple Solution   \n",
       "2            2  2990807  Solution  - C++/Java/Python  (Both Brute force...   \n",
       "3            3  3631188  (VIDEO) Visualization of O(n) Solution Using a...   \n",
       "4            4  3556832               Two sums || 3 easy methods in Python   \n",
       "..         ...      ...                                                ...   \n",
       "95          95  2744523                                        Easy python   \n",
       "96          96  2825280         Plate form independent code run anywhere 😉   \n",
       "97          97       13                         Accepted C++ O(n) Solution   \n",
       "98          98  2750671                                        Python fast   \n",
       "99          99  3135941                  Simple C++ solution( 3 Line Code)   \n",
       "\n",
       "    commentCount  topLevelCommentCount  viewCount  \\\n",
       "0              6                     5      10688   \n",
       "1             11                     8      70162   \n",
       "2            107                    64     293922   \n",
       "3              0                     0        153   \n",
       "4              4                     2      24309   \n",
       "..           ...                   ...        ...   \n",
       "95             0                     0        501   \n",
       "96             1                     1        109   \n",
       "97           243                   128     315249   \n",
       "98             0                     0        534   \n",
       "99             0                     0         48   \n",
       "\n",
       "                                         solutionTags  post_id  \\\n",
       "0   ['C++', 'Java', 'Python3', 'Array', 'Hash Table']  5545248   \n",
       "1   ['C++', 'Java', 'Python3', 'Array', 'Hash Table']  5445878   \n",
       "2   ['C++', 'Java', 'Python3', 'Array', 'Hash Table']  4733461   \n",
       "3   ['C++', 'Java', 'Python3', 'Array', 'Hash Table']  5561824   \n",
       "4   ['C++', 'Java', 'Python3', 'Array', 'Hash Table']  5463583   \n",
       "..                                                ...      ...   \n",
       "95  ['C++', 'Java', 'Python3', 'Array', 'Hash Table']  4406867   \n",
       "96  ['C++', 'Java', 'Python3', 'Array', 'Hash Table']  4516318   \n",
       "97  ['C++', 'Java', 'Python3', 'Array', 'Hash Table']       13   \n",
       "98  ['C++', 'Java', 'Python3', 'Array', 'Hash Table']  4415463   \n",
       "99  ['C++', 'Java', 'Python3', 'Array', 'Hash Table']  4925226   \n",
       "\n",
       "                                         post_content  \n",
       "0   # Intuition\\n<!-- Describe your first thoughts...  \n",
       "1   # Please UPVOTE \\uD83D\\uDC4D\\n\\n# **!! BIG ANN...  \n",
       "2   # Beginner doubt - Where is main function?\\n- ...  \n",
       "3   https://www.youtube.com/watch?v=luicuNOBTAI\\n\\...  \n",
       "4   # Intuition\\nMethod 1: A brute-force solution ...  \n",
       "..                                                ...  \n",
       "95  ```\\nclass Solution:\\n    def twoSum(self, num...  \n",
       "96  import java.util.Scanner;\\n    class Solution ...  \n",
       "97      vector<int> twoSum(vector<int> &numbers, i...  \n",
       "98  ```\\nclass Solution:\\n    def twoSum(self, num...  \n",
       "99  # Intuition\\n<!-- Describe your first thoughts...  \n",
       "\n",
       "[100 rows x 9 columns]"
      ]
     },
     "execution_count": 26,
     "metadata": {},
     "output_type": "execute_result"
    }
   ],
   "source": [
    "data"
   ]
  },
  {
   "cell_type": "code",
   "execution_count": 42,
   "id": "91ae9a6d-2750-453d-8a80-b8eb8d2cdf41",
   "metadata": {
    "tags": []
   },
   "outputs": [],
   "source": [
    "data['vec'] = data.post_content.map(lambda x: model.infer_vector(x.split(' ')))"
   ]
  },
  {
   "cell_type": "code",
   "execution_count": 1,
   "id": "7946e1c3-d0c3-482a-b3a9-f904f0999ef7",
   "metadata": {
    "tags": []
   },
   "outputs": [
    {
     "ename": "NameError",
     "evalue": "name 'pd' is not defined",
     "output_type": "error",
     "traceback": [
      "\u001b[0;31m---------------------------------------------------------------------------\u001b[0m",
      "\u001b[0;31mNameError\u001b[0m                                 Traceback (most recent call last)",
      "Cell \u001b[0;32mIn[1], line 1\u001b[0m\n\u001b[0;32m----> 1\u001b[0m \u001b[43mpd\u001b[49m\u001b[38;5;241m.\u001b[39mDataFrame(data[\u001b[38;5;124m'\u001b[39m\u001b[38;5;124mvec\u001b[39m\u001b[38;5;124m'\u001b[39m])\n",
      "\u001b[0;31mNameError\u001b[0m: name 'pd' is not defined"
     ]
    }
   ],
   "source": [
    "pd.DataFrame(data['vec'])"
   ]
  },
  {
   "cell_type": "code",
   "execution_count": null,
   "id": "253c79f7-c411-49ec-b3d9-05a6e42a1c7b",
   "metadata": {},
   "outputs": [],
   "source": []
  }
 ],
 "metadata": {
  "kernelspec": {
   "display_name": "Python 3 (ipykernel)",
   "language": "python",
   "name": "python3"
  },
  "language_info": {
   "codemirror_mode": {
    "name": "ipython",
    "version": 3
   },
   "file_extension": ".py",
   "mimetype": "text/x-python",
   "name": "python",
   "nbconvert_exporter": "python",
   "pygments_lexer": "ipython3",
   "version": "3.8.16"
  },
  "widgets": {
   "application/vnd.jupyter.widget-state+json": {
    "state": {},
    "version_major": 2,
    "version_minor": 0
   }
  }
 },
 "nbformat": 4,
 "nbformat_minor": 5
}
